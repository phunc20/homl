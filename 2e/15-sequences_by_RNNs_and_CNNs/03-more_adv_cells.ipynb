{
 "cells": [
  {
   "cell_type": "markdown",
   "id": "critical-trance",
   "metadata": {},
   "source": [
    "# Forecasting Time Series"
   ]
  },
  {
   "cell_type": "code",
   "execution_count": 2,
   "id": "middle-bunny",
   "metadata": {},
   "outputs": [],
   "source": [
    "%matplotlib inline"
   ]
  },
  {
   "cell_type": "raw",
   "id": "09918df1",
   "metadata": {},
   "source": [
    "import sys\n",
    "sys.path.append(\".\")\n",
    "#from ...utils import dark_reader"
   ]
  },
  {
   "cell_type": "code",
   "execution_count": 3,
   "id": "noticed-maintenance",
   "metadata": {},
   "outputs": [],
   "source": [
    "import matplotlib as mpl\n",
    "import matplotlib.pyplot as plt\n",
    "\n",
    "mpl.rcParams[\"grid.color\"] = \"w\"\n",
    "mpl.rcParams[\"axes.facecolor\"] = \"w\"\n",
    "mpl.rcParams[\"axes.edgecolor\"] = \"w\"\n",
    "mpl.rcParams[\"axes.titlecolor\"] = \"w\"\n",
    "mpl.rcParams[\"axes.labelcolor\"] = \"w\"\n",
    "mpl.rcParams[\"text.color\"] = \"w\"\n",
    "mpl.rcParams[\"xtick.color\"] = \"w\"\n",
    "mpl.rcParams[\"ytick.color\"] = \"w\"\n",
    "\n",
    "mpl.rcParams[\"axes.facecolor\"] = \"k\"\n",
    "mpl.rcParams[\"figure.facecolor\"] = \"k\"\n",
    "mpl.rcParams[\"figure.figsize\"] = (8,6)\n",
    "mpl.rcParams[\"axes.grid\"] = False"
   ]
  },
  {
   "cell_type": "code",
   "execution_count": 4,
   "id": "standing-amber",
   "metadata": {},
   "outputs": [],
   "source": [
    "import numpy as np\n",
    "from tensorflow import keras"
   ]
  },
  {
   "cell_type": "code",
   "execution_count": 5,
   "id": "photographic-spanish",
   "metadata": {},
   "outputs": [],
   "source": [
    "def generate_time_series(batch_size, n_steps):\n",
    "    freq1, freq2, offsets1, offsets2 = np.random.rand(4, batch_size, 1)\n",
    "    time = np.linspace(0, 1, n_steps)\n",
    "    series = 0.5 * np.sin((time - offsets1) * (freq1 * 10 + 10))  # wave 1\n",
    "    series += 0.2 * np.sin((time - offsets2) * (freq2 * 20 + 20))  # + wave 2\n",
    "    series += 0.1 * (np.random.rand(batch_size, n_steps) - 0.5)  # + noise\n",
    "    return series[..., np.newaxis].astype(np.float32)"
   ]
  },
  {
   "cell_type": "code",
   "execution_count": 19,
   "id": "441e43c6",
   "metadata": {},
   "outputs": [],
   "source": [
    "np.random.seed(42)\n",
    "\n",
    "n_steps = 50\n",
    "series = generate_time_series(10000, n_steps + 10)\n",
    "\n",
    "X_train = series[:7000, :n_steps]\n",
    "X_val = series[7000:9000, :n_steps]\n",
    "X_test = series[9000:, :n_steps]\n",
    "\n",
    "Y = np.empty((10_000, n_steps, 10))  # each target is a seq of 10D vectors\n",
    "for step_ahead in range(1, 10+1):\n",
    "    Y[:, :, step_ahead-1] = series[:, step_ahead:step_ahead+n_steps, 0]\n",
    "Y_train = Y[:7_000]\n",
    "Y_val = Y[7_000:9_000]\n",
    "Y_test = Y[9_000:]"
   ]
  },
  {
   "cell_type": "code",
   "execution_count": 20,
   "id": "12bd2f89",
   "metadata": {},
   "outputs": [],
   "source": [
    "def last_time_step_mse(Y_true, Y_pred):\n",
    "    return keras.metrics.mean_squared_error(Y_true[:, -1], Y_pred[:, -1])"
   ]
  },
  {
   "cell_type": "code",
   "execution_count": null,
   "id": "e3bbe36a",
   "metadata": {},
   "outputs": [],
   "source": []
  },
  {
   "cell_type": "markdown",
   "id": "91cf4f6e",
   "metadata": {},
   "source": [
    "### Use 1D convolutional layers to _shorten_ input sequences\n",
    "Since we will be using `Conv1D()`, let's see what its output shape is like:"
   ]
  },
  {
   "cell_type": "code",
   "execution_count": 21,
   "id": "87340c5c",
   "metadata": {},
   "outputs": [
    {
     "data": {
      "text/plain": [
       "TensorShape([1, 24, 20])"
      ]
     },
     "execution_count": 21,
     "metadata": {},
     "output_type": "execute_result"
    }
   ],
   "source": [
    "keras.layers.Conv1D(filters=20, kernel_size=4, strides=2, padding=\"valid\")(np.zeros((1,50,1))).shape"
   ]
  },
  {
   "cell_type": "code",
   "execution_count": 22,
   "id": "99779df3",
   "metadata": {},
   "outputs": [
    {
     "data": {
      "text/plain": [
       "(7000, 24, 10)"
      ]
     },
     "execution_count": 22,
     "metadata": {},
     "output_type": "execute_result"
    }
   ],
   "source": [
    "Y_train[:, 3::2].shape"
   ]
  },
  {
   "cell_type": "code",
   "execution_count": 23,
   "id": "b16e43d7",
   "metadata": {},
   "outputs": [
    {
     "name": "stdout",
     "output_type": "stream",
     "text": [
      "Model: \"sequential_5\"\n",
      "_________________________________________________________________\n",
      "Layer (type)                 Output Shape              Param #   \n",
      "=================================================================\n",
      "conv1d_8 (Conv1D)            (None, None, 20)          100       \n",
      "_________________________________________________________________\n",
      "gru_10 (GRU)                 (None, None, 20)          2520      \n",
      "_________________________________________________________________\n",
      "gru_11 (GRU)                 (None, None, 20)          2520      \n",
      "_________________________________________________________________\n",
      "time_distributed_5 (TimeDist (None, None, 10)          210       \n",
      "=================================================================\n",
      "Total params: 5,350\n",
      "Trainable params: 5,350\n",
      "Non-trainable params: 0\n",
      "_________________________________________________________________\n"
     ]
    }
   ],
   "source": [
    "model_Conv1D = keras.models.Sequential([\n",
    "    keras.layers.Conv1D(filters=20, kernel_size=4, strides=2, padding=\"valid\", input_shape=[None, 1]),\n",
    "    keras.layers.GRU(20, return_sequences=True),\n",
    "    keras.layers.GRU(20, return_sequences=True),\n",
    "    keras.layers.TimeDistributed(keras.layers.Dense(10)),\n",
    "])\n",
    "model_Conv1D.summary()"
   ]
  },
  {
   "cell_type": "code",
   "execution_count": 24,
   "id": "c141be1d",
   "metadata": {},
   "outputs": [
    {
     "name": "stdout",
     "output_type": "stream",
     "text": [
      "Epoch 1/20\n",
      "219/219 [==============================] - 22s 80ms/step - loss: 0.0950 - last_time_step_mse: 0.0902 - val_loss: 0.0463 - val_last_time_step_mse: 0.0387\n",
      "Epoch 2/20\n",
      "219/219 [==============================] - 16s 73ms/step - loss: 0.0416 - last_time_step_mse: 0.0344 - val_loss: 0.0331 - val_last_time_step_mse: 0.0247\n",
      "Epoch 3/20\n",
      "219/219 [==============================] - 14s 65ms/step - loss: 0.0318 - last_time_step_mse: 0.0240 - val_loss: 0.0276 - val_last_time_step_mse: 0.0182\n",
      "Epoch 4/20\n",
      "219/219 [==============================] - 12s 54ms/step - loss: 0.0268 - last_time_step_mse: 0.0174 - val_loss: 0.0243 - val_last_time_step_mse: 0.0137\n",
      "Epoch 5/20\n",
      "219/219 [==============================] - 15s 69ms/step - loss: 0.0241 - last_time_step_mse: 0.0135 - val_loss: 0.0227 - val_last_time_step_mse: 0.0120\n",
      "Epoch 6/20\n",
      "219/219 [==============================] - 14s 65ms/step - loss: 0.0226 - last_time_step_mse: 0.0119 - val_loss: 0.0220 - val_last_time_step_mse: 0.0112\n",
      "Epoch 7/20\n",
      "219/219 [==============================] - 15s 67ms/step - loss: 0.0219 - last_time_step_mse: 0.0113 - val_loss: 0.0215 - val_last_time_step_mse: 0.0109\n",
      "Epoch 8/20\n",
      "219/219 [==============================] - 15s 67ms/step - loss: 0.0215 - last_time_step_mse: 0.0110 - val_loss: 0.0218 - val_last_time_step_mse: 0.0113\n",
      "Epoch 9/20\n",
      "219/219 [==============================] - 15s 68ms/step - loss: 0.0212 - last_time_step_mse: 0.0104 - val_loss: 0.0207 - val_last_time_step_mse: 0.0101\n",
      "Epoch 10/20\n",
      "219/219 [==============================] - 14s 65ms/step - loss: 0.0208 - last_time_step_mse: 0.0105 - val_loss: 0.0204 - val_last_time_step_mse: 0.0098\n",
      "Epoch 11/20\n",
      "219/219 [==============================] - 15s 68ms/step - loss: 0.0205 - last_time_step_mse: 0.0100 - val_loss: 0.0205 - val_last_time_step_mse: 0.0102\n",
      "Epoch 12/20\n",
      "219/219 [==============================] - 15s 69ms/step - loss: 0.0203 - last_time_step_mse: 0.0100 - val_loss: 0.0201 - val_last_time_step_mse: 0.0097\n",
      "Epoch 13/20\n",
      "219/219 [==============================] - 15s 67ms/step - loss: 0.0200 - last_time_step_mse: 0.0095 - val_loss: 0.0200 - val_last_time_step_mse: 0.0096\n",
      "Epoch 14/20\n",
      "219/219 [==============================] - 15s 67ms/step - loss: 0.0198 - last_time_step_mse: 0.0095 - val_loss: 0.0198 - val_last_time_step_mse: 0.0095\n",
      "Epoch 15/20\n",
      "219/219 [==============================] - 15s 71ms/step - loss: 0.0197 - last_time_step_mse: 0.0095 - val_loss: 0.0198 - val_last_time_step_mse: 0.0096\n",
      "Epoch 16/20\n",
      "219/219 [==============================] - 15s 68ms/step - loss: 0.0193 - last_time_step_mse: 0.0093 - val_loss: 0.0194 - val_last_time_step_mse: 0.0091\n",
      "Epoch 17/20\n",
      "219/219 [==============================] - 16s 71ms/step - loss: 0.0193 - last_time_step_mse: 0.0092 - val_loss: 0.0193 - val_last_time_step_mse: 0.0090\n",
      "Epoch 18/20\n",
      "219/219 [==============================] - 15s 71ms/step - loss: 0.0193 - last_time_step_mse: 0.0091 - val_loss: 0.0191 - val_last_time_step_mse: 0.0088\n",
      "Epoch 19/20\n",
      "219/219 [==============================] - 15s 70ms/step - loss: 0.0191 - last_time_step_mse: 0.0091 - val_loss: 0.0190 - val_last_time_step_mse: 0.0089\n",
      "Epoch 20/20\n",
      "219/219 [==============================] - 16s 71ms/step - loss: 0.0188 - last_time_step_mse: 0.0088 - val_loss: 0.0190 - val_last_time_step_mse: 0.0090\n"
     ]
    }
   ],
   "source": [
    "model_Conv1D.compile(loss=\"mse\", optimizer=\"adam\", metrics=[last_time_step_mse])\n",
    "history = model_Conv1D.fit(X_train, Y_train[:, 3::2], epochs=20,\n",
    "                    validation_data=(X_val, Y_val[:, 3::2]))"
   ]
  },
  {
   "cell_type": "code",
   "execution_count": null,
   "id": "a5dcaa7d",
   "metadata": {},
   "outputs": [],
   "source": []
  },
  {
   "cell_type": "code",
   "execution_count": null,
   "id": "b9d039ef",
   "metadata": {},
   "outputs": [],
   "source": []
  },
  {
   "cell_type": "code",
   "execution_count": null,
   "id": "0f9f00aa",
   "metadata": {},
   "outputs": [],
   "source": []
  },
  {
   "cell_type": "code",
   "execution_count": null,
   "id": "826e8298",
   "metadata": {},
   "outputs": [],
   "source": []
  },
  {
   "cell_type": "code",
   "execution_count": null,
   "id": "f5efa1ad",
   "metadata": {},
   "outputs": [],
   "source": []
  },
  {
   "cell_type": "code",
   "execution_count": 106,
   "id": "delayed-desert",
   "metadata": {},
   "outputs": [],
   "source": [
    "np.random.seed(42)\n",
    "\n",
    "n_steps = 50\n",
    "series = generate_time_series(10_000, n_steps + 1)\n",
    "X_train, y_train = series[:7000, :n_steps], series[:7000, -1]\n",
    "X_valid, y_valid = series[7000:9000, :n_steps], series[7000:9000, -1]\n",
    "X_test, y_test = series[9000:, :n_steps], series[9000:, -1]"
   ]
  },
  {
   "cell_type": "markdown",
   "id": "quiet-decade",
   "metadata": {},
   "source": [
    "A few words about broadcasting and the way Mr. Geron took `X_train, y_train`:\n",
    "- Each `X` instance is `series[k, :n_steps]` for some `k`\n",
    "- Each `y` instance is `series[k, -1]` (i.e. `series[k, n_steps]`) for some `k`\n",
    "- To be able to do this, we must ensure that `series[k]` is generated by the same `offsets, freq` for all `k`"
   ]
  },
  {
   "cell_type": "code",
   "execution_count": 107,
   "id": "correct-billion",
   "metadata": {},
   "outputs": [],
   "source": [
    "def plot_series(series, y=None, y_pred=None, x_label=\"$t$\", y_label=\"$x(t)$\"):\n",
    "    plt.plot(series, \".-\")\n",
    "    if y is not None:\n",
    "        plt.plot(n_steps, y, \"gx\", markersize=10, mew=3)\n",
    "    if y_pred is not None:\n",
    "        plt.plot(n_steps, y_pred, \"ro\")\n",
    "    plt.grid(True)\n",
    "    if x_label:\n",
    "        plt.xlabel(x_label, fontsize=16)\n",
    "    if y_label:\n",
    "        plt.ylabel(y_label, fontsize=16, rotation=0)\n",
    "    plt.hlines(0, 0, 100, linewidth=1)\n",
    "    plt.axis([0, n_steps + 1, -1, 1])"
   ]
  },
  {
   "cell_type": "code",
   "execution_count": 108,
   "id": "pleased-island",
   "metadata": {},
   "outputs": [
    {
     "data": {
      "image/png": "[encoded data removed]",
      "text/plain": [
       "<Figure size 864x288 with 3 Axes>"
      ]
     },
     "metadata": {},
     "output_type": "display_data"
    }
   ],
   "source": [
    "fig, axes = plt.subplots(nrows=1, ncols=3, sharey=True, figsize=(12, 4))\n",
    "for col in range(3):\n",
    "    plt.sca(axes[col])\n",
    "    #plot_series(X_valid[col, :, 0], y=y_valid[col, 0],\n",
    "    plot_series(X_valid[col, :, 0], y_valid[col, 0],\n",
    "                y_label=(\"$x(t)$\" if col==0 else None))\n",
    "\n",
    "#plt.show()"
   ]
  },
  {
   "cell_type": "markdown",
   "id": "excess-rebate",
   "metadata": {},
   "source": [
    "## Baseline Metrics\n",
    "- Naive forecasting: For each `X` instance, we will take its last value `X[-1]` as our prediction\n",
    "- Linear regression: Just ordinary linear regression"
   ]
  },
  {
   "cell_type": "code",
   "execution_count": 109,
   "id": "separated-scoop",
   "metadata": {},
   "outputs": [],
   "source": [
    "y_pred = X_valid[:, -1]"
   ]
  },
  {
   "cell_type": "markdown",
   "id": "living-photographer",
   "metadata": {},
   "source": [
    "**(?1)** Did you notice that in this part in the book the author took mean twice (`np.mean(keras.losses.mean_squared_error(y_valid, y_pred))`)? Why was that?<br>\n",
    "**(R1)** See below."
   ]
  },
  {
   "cell_type": "code",
   "execution_count": 110,
   "id": "spatial-hepatitis",
   "metadata": {},
   "outputs": [
    {
     "data": {
      "text/plain": [
       "<tf.Tensor: shape=(2000,), dtype=float32, numpy=\n",
       "array([0.02696938, 0.0300572 , 0.00259067, ..., 0.00443125, 0.00961478,\n",
       "       0.04232119], dtype=float32)>"
      ]
     },
     "execution_count": 110,
     "metadata": {},
     "output_type": "execute_result"
    }
   ],
   "source": [
    "keras.losses.mean_squared_error(y_valid, y_pred)"
   ]
  },
  {
   "cell_type": "code",
   "execution_count": 111,
   "id": "improved-driving",
   "metadata": {},
   "outputs": [
    {
     "data": {
      "text/plain": [
       "0.020211367"
      ]
     },
     "execution_count": 111,
     "metadata": {},
     "output_type": "execute_result"
    }
   ],
   "source": [
    "np.mean(keras.losses.mean_squared_error(y_valid, y_pred))"
   ]
  },
  {
   "cell_type": "markdown",
   "id": "intensive-mining",
   "metadata": {},
   "source": [
    "The `keras.losses.mean_squared_error()` is really quite crooked. Its mean part probably means that it will take the mean across the dimension of each instance, i.e across the feature values.\n",
    "\n",
    "Or `keras.losses.mean_squared_error()` expects tensors of shape `(n,)`, but we feeded it `y_pred` and `y_valid` both of\n",
    "shape `(2000, 1)`"
   ]
  },
  {
   "cell_type": "code",
   "execution_count": 112,
   "id": "indonesian-mixer",
   "metadata": {},
   "outputs": [
    {
     "data": {
      "text/plain": [
       "0.020211365"
      ]
     },
     "execution_count": 112,
     "metadata": {},
     "output_type": "execute_result"
    }
   ],
   "source": [
    "keras.losses.mean_squared_error(np.squeeze(y_valid),\n",
    "                                np.squeeze(y_pred)).numpy()"
   ]
  },
  {
   "cell_type": "markdown",
   "id": "silent-phone",
   "metadata": {},
   "source": [
    "We could have opted to use `sklearn.metrics`' `mean_squared_error()`, whose usage is more intuitive for our situation here."
   ]
  },
  {
   "cell_type": "code",
   "execution_count": 113,
   "id": "macro-alloy",
   "metadata": {},
   "outputs": [],
   "source": [
    "from sklearn.metrics import mean_squared_error"
   ]
  },
  {
   "cell_type": "code",
   "execution_count": 114,
   "id": "skilled-absolute",
   "metadata": {},
   "outputs": [
    {
     "data": {
      "text/plain": [
       "0.020211367"
      ]
     },
     "execution_count": 114,
     "metadata": {},
     "output_type": "execute_result"
    }
   ],
   "source": [
    "mean_squared_error(y_valid, y_pred)"
   ]
  },
  {
   "cell_type": "code",
   "execution_count": 115,
   "id": "phantom-greene",
   "metadata": {},
   "outputs": [
    {
     "data": {
      "image/png": "[encoded data removed]",
      "text/plain": [
       "<Figure size 864x288 with 3 Axes>"
      ]
     },
     "metadata": {},
     "output_type": "display_data"
    }
   ],
   "source": [
    "fig, axes = plt.subplots(nrows=1, ncols=3, sharey=True, figsize=(12, 4))\n",
    "for col in range(3):\n",
    "    plt.sca(axes[col])\n",
    "    plot_series(X_valid[col, :, 0], y=y_valid[col, 0], y_pred=y_pred[col],\n",
    "                y_label=(\"$x(t)$\" if col==0 else None))"
   ]
  },
  {
   "cell_type": "code",
   "execution_count": 116,
   "id": "warming-refund",
   "metadata": {},
   "outputs": [
    {
     "data": {
      "text/plain": [
       "((2000, 1), (2000, 1))"
      ]
     },
     "execution_count": 116,
     "metadata": {},
     "output_type": "execute_result"
    }
   ],
   "source": [
    "y_valid.shape, y_pred.shape"
   ]
  },
  {
   "cell_type": "markdown",
   "id": "oriented-diana",
   "metadata": {},
   "source": [
    "### Linear regression using `sklearn`"
   ]
  },
  {
   "cell_type": "code",
   "execution_count": 117,
   "id": "invisible-music",
   "metadata": {},
   "outputs": [],
   "source": [
    "from sklearn.linear_model import LinearRegression"
   ]
  },
  {
   "cell_type": "raw",
   "id": "center-actor",
   "metadata": {},
   "source": [
    "reg = LinearRegression()\n",
    "reg.fit(X_train, y_train)"
   ]
  },
  {
   "cell_type": "raw",
   "id": "bridal-surge",
   "metadata": {},
   "source": [
    "ValueError: Found array with dim 3. Estimator expected <= 2."
   ]
  },
  {
   "cell_type": "code",
   "execution_count": 118,
   "id": "alive-valuation",
   "metadata": {},
   "outputs": [
    {
     "data": {
      "text/plain": [
       "((7000, 50, 1), (7000, 1))"
      ]
     },
     "execution_count": 118,
     "metadata": {},
     "output_type": "execute_result"
    }
   ],
   "source": [
    "X_train.shape, y_train.shape"
   ]
  },
  {
   "cell_type": "code",
   "execution_count": 119,
   "id": "intelligent-mixer",
   "metadata": {},
   "outputs": [
    {
     "data": {
      "text/plain": [
       "((7000, 50), (7000,))"
      ]
     },
     "execution_count": 119,
     "metadata": {},
     "output_type": "execute_result"
    }
   ],
   "source": [
    "np.squeeze(X_train, axis=-1).shape, np.squeeze(y_train, axis=-1).shape"
   ]
  },
  {
   "cell_type": "code",
   "execution_count": 120,
   "id": "dedicated-comment",
   "metadata": {},
   "outputs": [
    {
     "data": {
      "text/plain": [
       "LinearRegression()"
      ]
     },
     "execution_count": 120,
     "metadata": {},
     "output_type": "execute_result"
    }
   ],
   "source": [
    "reg = LinearRegression()\n",
    "reg.fit(np.squeeze(X_train, axis=-1), np.squeeze(y_train, axis=-1))"
   ]
  },
  {
   "cell_type": "code",
   "execution_count": 121,
   "id": "incoming-relationship",
   "metadata": {},
   "outputs": [],
   "source": [
    "y_pred = reg.predict(np.squeeze(X_valid, axis=-1))"
   ]
  },
  {
   "cell_type": "code",
   "execution_count": 122,
   "id": "conventional-decimal",
   "metadata": {},
   "outputs": [
    {
     "data": {
      "text/plain": [
       "0.0029311462"
      ]
     },
     "execution_count": 122,
     "metadata": {},
     "output_type": "execute_result"
    }
   ],
   "source": [
    "mean_squared_error(y_valid, y_pred)"
   ]
  },
  {
   "cell_type": "code",
   "execution_count": 123,
   "id": "tight-personal",
   "metadata": {},
   "outputs": [
    {
     "data": {
      "image/png": "[encoded data removed]",
      "text/plain": [
       "<Figure size 864x288 with 3 Axes>"
      ]
     },
     "metadata": {},
     "output_type": "display_data"
    }
   ],
   "source": [
    "fig, axes = plt.subplots(nrows=1, ncols=3, sharey=True, figsize=(12, 4))\n",
    "for col in range(3):\n",
    "    plt.sca(axes[col])\n",
    "    plot_series(X_valid[col, :, 0], y=y_valid[col, 0], y_pred=y_pred[col],\n",
    "                y_label=(\"$x(t)$\" if col==0 else None))"
   ]
  },
  {
   "cell_type": "markdown",
   "id": "embedded-collective",
   "metadata": {},
   "source": [
    "### Linear regression using `keras`"
   ]
  },
  {
   "cell_type": "code",
   "execution_count": 124,
   "id": "legislative-injury",
   "metadata": {},
   "outputs": [],
   "source": [
    "model = keras.models.Sequential([\n",
    "    keras.layers.Flatten(input_shape=[50, 1]),\n",
    "    keras.layers.Dense(1),\n",
    "])"
   ]
  },
  {
   "cell_type": "code",
   "execution_count": 125,
   "id": "determined-killing",
   "metadata": {},
   "outputs": [
    {
     "name": "stdout",
     "output_type": "stream",
     "text": [
      "CPU times: user 4.42 s, sys: 466 ms, total: 4.89 s\n",
      "Wall time: 2.83 s\n"
     ]
    },
    {
     "data": {
      "text/plain": [
       "<tensorflow.python.keras.callbacks.History at 0x7fc811744590>"
      ]
     },
     "execution_count": 125,
     "metadata": {},
     "output_type": "execute_result"
    }
   ],
   "source": [
    "%%time\n",
    "model.compile(optimizer=\"adam\", loss=\"mse\")\n",
    "model.fit(X_train, y_train, epochs=20, verbose=0)"
   ]
  },
  {
   "cell_type": "code",
   "execution_count": 126,
   "id": "unnecessary-cuisine",
   "metadata": {},
   "outputs": [],
   "source": [
    "# For future ref.\n",
    "linear_model = model"
   ]
  },
  {
   "cell_type": "code",
   "execution_count": 54,
   "id": "decent-serial",
   "metadata": {},
   "outputs": [
    {
     "name": "stdout",
     "output_type": "stream",
     "text": [
      "63/63 [==============================] - 0s 847us/step - loss: 0.0039\n"
     ]
    },
    {
     "data": {
      "text/plain": [
       "0.0039059557020664215"
      ]
     },
     "execution_count": 54,
     "metadata": {},
     "output_type": "execute_result"
    }
   ],
   "source": [
    "model.evaluate(X_valid, y_valid)"
   ]
  },
  {
   "cell_type": "code",
   "execution_count": 55,
   "id": "overall-efficiency",
   "metadata": {},
   "outputs": [
    {
     "data": {
      "text/plain": [
       "(2000, 1)"
      ]
     },
     "execution_count": 55,
     "metadata": {},
     "output_type": "execute_result"
    }
   ],
   "source": [
    "# double check our calculations.\n",
    "y_pred = model.predict(X_valid)\n",
    "y_pred.shape"
   ]
  },
  {
   "cell_type": "code",
   "execution_count": 56,
   "id": "soviet-vision",
   "metadata": {},
   "outputs": [
    {
     "data": {
      "text/plain": [
       "0.0039059562"
      ]
     },
     "execution_count": 56,
     "metadata": {},
     "output_type": "execute_result"
    }
   ],
   "source": [
    "mean_squared_error(y_valid, y_pred)"
   ]
  },
  {
   "cell_type": "code",
   "execution_count": 57,
   "id": "annual-flooring",
   "metadata": {},
   "outputs": [
    {
     "data": {
      "image/png": "[encoded data removed]",
      "text/plain": [
       "<Figure size 864x288 with 3 Axes>"
      ]
     },
     "metadata": {},
     "output_type": "display_data"
    }
   ],
   "source": [
    "fig, axes = plt.subplots(nrows=1, ncols=3, sharey=True, figsize=(12, 4))\n",
    "for col in range(3):\n",
    "    plt.sca(axes[col])\n",
    "    plot_series(X_valid[col, :, 0], y=y_valid[col, 0], y_pred=y_pred[col],\n",
    "                y_label=(\"$x(t)$\" if col==0 else None))"
   ]
  },
  {
   "cell_type": "markdown",
   "id": "tired-warrior",
   "metadata": {},
   "source": [
    "## The simplest possible RNN"
   ]
  },
  {
   "cell_type": "code",
   "execution_count": 58,
   "id": "greek-christmas",
   "metadata": {},
   "outputs": [],
   "source": [
    "import tensorflow as tf"
   ]
  },
  {
   "cell_type": "code",
   "execution_count": 59,
   "id": "oriental-numbers",
   "metadata": {},
   "outputs": [
    {
     "name": "stdout",
     "output_type": "stream",
     "text": [
      "CPU times: user 1min 44s, sys: 9.21 s, total: 1min 53s\n",
      "Wall time: 58.1 s\n"
     ]
    },
    {
     "data": {
      "text/plain": [
       "<tensorflow.python.keras.callbacks.History at 0x7fc8280b9ed0>"
      ]
     },
     "execution_count": 59,
     "metadata": {},
     "output_type": "execute_result"
    }
   ],
   "source": [
    "%%time\n",
    "np.random.seed(42)\n",
    "tf.random.set_seed(42)\n",
    "\n",
    "model = keras.models.Sequential([\n",
    "    keras.layers.SimpleRNN(1, input_shape=(None, 1)),\n",
    "])\n",
    "optimizer = keras.optimizers.Adam(lr=0.005)\n",
    "#model.compile(optimizer=\"adam\", loss=\"mse\")\n",
    "model.compile(optimizer=optimizer, loss=\"mse\")\n",
    "model.fit(X_train, y_train, epochs=20, verbose=0);"
   ]
  },
  {
   "cell_type": "markdown",
   "id": "colored-salvation",
   "metadata": {},
   "source": [
    "It seems that **RNN takes longer to train**."
   ]
  },
  {
   "cell_type": "code",
   "execution_count": 60,
   "id": "lined-banking",
   "metadata": {
    "scrolled": true
   },
   "outputs": [
    {
     "name": "stdout",
     "output_type": "stream",
     "text": [
      "63/63 [==============================] - 1s 4ms/step - loss: 0.0109\n"
     ]
    },
    {
     "data": {
      "text/plain": [
       "0.010881561785936356"
      ]
     },
     "execution_count": 60,
     "metadata": {},
     "output_type": "execute_result"
    }
   ],
   "source": [
    "model.evaluate(X_valid, y_valid)"
   ]
  },
  {
   "cell_type": "markdown",
   "id": "organic-documentary",
   "metadata": {},
   "source": [
    "**(?)** The result of our experiment is worse than that in the book. Why is that? Just because of the random seed? Or it's because we have used `adam` optimizer with the default learning rate?<br>\n",
    "**(R)** Yes, those two factors count for the performance diff."
   ]
  },
  {
   "cell_type": "raw",
   "id": "minus-sensitivity",
   "metadata": {},
   "source": [
    "model.reset_states()"
   ]
  },
  {
   "cell_type": "code",
   "execution_count": 61,
   "id": "colonial-excitement",
   "metadata": {},
   "outputs": [
    {
     "data": {
      "image/png": "[encoded data removed]",
      "text/plain": [
       "<Figure size 864x288 with 3 Axes>"
      ]
     },
     "metadata": {},
     "output_type": "display_data"
    }
   ],
   "source": [
    "y_pred = model.predict(X_valid)\n",
    "\n",
    "fig, axes = plt.subplots(nrows=1, ncols=3, sharey=True, figsize=(12, 4))\n",
    "for col in range(3):\n",
    "    plt.sca(axes[col])\n",
    "    plot_series(X_valid[col, :, 0], y=y_valid[col, 0], y_pred=y_pred[col],\n",
    "                y_label=(\"$x(t)$\" if col==0 else None))"
   ]
  },
  {
   "cell_type": "markdown",
   "id": "nasty-gardening",
   "metadata": {},
   "source": [
    "## Deeper RNN"
   ]
  },
  {
   "cell_type": "code",
   "execution_count": 62,
   "id": "hollow-turner",
   "metadata": {},
   "outputs": [
    {
     "name": "stdout",
     "output_type": "stream",
     "text": [
      "CPU times: user 4min 52s, sys: 26.4 s, total: 5min 19s\n",
      "Wall time: 2min 5s\n"
     ]
    },
    {
     "data": {
      "text/plain": [
       "<tensorflow.python.keras.callbacks.History at 0x7fc829d62110>"
      ]
     },
     "execution_count": 62,
     "metadata": {},
     "output_type": "execute_result"
    }
   ],
   "source": [
    "%%time\n",
    "np.random.seed(42)\n",
    "tf.random.set_seed(42)\n",
    "\n",
    "model = keras.models.Sequential([\n",
    "    keras.layers.SimpleRNN(20, return_sequences=True, input_shape=(None, 1)),\n",
    "    keras.layers.SimpleRNN(20, return_sequences=True),\n",
    "    keras.layers.SimpleRNN(1),\n",
    "])\n",
    "optimizer = keras.optimizers.Adam(lr=0.005)\n",
    "#model.compile(optimizer=\"adam\", loss=\"mse\")\n",
    "model.compile(optimizer=optimizer, loss=\"mse\")\n",
    "model.fit(X_train, y_train, epochs=20, verbose=0);"
   ]
  },
  {
   "cell_type": "code",
   "execution_count": 63,
   "id": "fewer-saskatchewan",
   "metadata": {
    "scrolled": false
   },
   "outputs": [
    {
     "name": "stdout",
     "output_type": "stream",
     "text": [
      "63/63 [==============================] - 1s 11ms/step - loss: 0.0030\n"
     ]
    },
    {
     "data": {
      "text/plain": [
       "0.0030256707686930895"
      ]
     },
     "execution_count": 63,
     "metadata": {},
     "output_type": "execute_result"
    }
   ],
   "source": [
    "model.evaluate(X_valid, y_valid)"
   ]
  },
  {
   "cell_type": "code",
   "execution_count": 64,
   "id": "architectural-botswana",
   "metadata": {},
   "outputs": [
    {
     "data": {
      "image/png": "[encoded data removed]",
      "text/plain": [
       "<Figure size 864x288 with 3 Axes>"
      ]
     },
     "metadata": {},
     "output_type": "display_data"
    }
   ],
   "source": [
    "y_pred = model.predict(X_valid)\n",
    "\n",
    "fig, axes = plt.subplots(nrows=1, ncols=3, sharey=True, figsize=(12, 4))\n",
    "for col in range(3):\n",
    "    plt.sca(axes[col])\n",
    "    plot_series(X_valid[col, :, 0], y=y_valid[col, 0], y_pred=y_pred[col],\n",
    "                y_label=(\"$x(t)$\" if col==0 else None))"
   ]
  },
  {
   "cell_type": "code",
   "execution_count": 65,
   "id": "experimental-modification",
   "metadata": {},
   "outputs": [
    {
     "name": "stdout",
     "output_type": "stream",
     "text": [
      "CPU times: user 3min 44s, sys: 23.1 s, total: 4min 7s\n",
      "Wall time: 1min 35s\n"
     ]
    },
    {
     "data": {
      "text/plain": [
       "<tensorflow.python.keras.callbacks.History at 0x7fc828898910>"
      ]
     },
     "execution_count": 65,
     "metadata": {},
     "output_type": "execute_result"
    }
   ],
   "source": [
    "%%time\n",
    "np.random.seed(42)\n",
    "tf.random.set_seed(42)\n",
    "\n",
    "model = keras.models.Sequential([\n",
    "    keras.layers.SimpleRNN(20, return_sequences=True, input_shape=(None, 1)),\n",
    "    keras.layers.SimpleRNN(20),\n",
    "    keras.layers.Dense(1),\n",
    "])\n",
    "optimizer = keras.optimizers.Adam(lr=0.005)\n",
    "#model.compile(optimizer=\"adam\", loss=\"mse\")\n",
    "model.compile(optimizer=optimizer, loss=\"mse\")\n",
    "model.fit(X_train, y_train, epochs=20, verbose=0);"
   ]
  },
  {
   "cell_type": "code",
   "execution_count": 66,
   "id": "duplicate-bangladesh",
   "metadata": {
    "scrolled": false
   },
   "outputs": [
    {
     "name": "stdout",
     "output_type": "stream",
     "text": [
      "63/63 [==============================] - 1s 7ms/step - loss: 0.0034\n"
     ]
    },
    {
     "data": {
      "text/plain": [
       "0.003420464927330613"
      ]
     },
     "execution_count": 66,
     "metadata": {},
     "output_type": "execute_result"
    }
   ],
   "source": [
    "model.evaluate(X_valid, y_valid)"
   ]
  },
  {
   "cell_type": "code",
   "execution_count": 67,
   "id": "worse-knowing",
   "metadata": {},
   "outputs": [
    {
     "data": {
      "image/png": "[encoded data removed]",
      "text/plain": [
       "<Figure size 864x288 with 3 Axes>"
      ]
     },
     "metadata": {},
     "output_type": "display_data"
    }
   ],
   "source": [
    "y_pred = model.predict(X_valid)\n",
    "\n",
    "fig, axes = plt.subplots(nrows=1, ncols=3, sharey=True, figsize=(12, 4))\n",
    "for col in range(3):\n",
    "    plt.sca(axes[col])\n",
    "    plot_series(X_valid[col, :, 0], y=y_valid[col, 0], y_pred=y_pred[col],\n",
    "                y_label=(\"$x(t)$\" if col==0 else None))"
   ]
  },
  {
   "cell_type": "markdown",
   "id": "tested-appraisal",
   "metadata": {},
   "source": [
    "**(?)** Try to show that RNN can be trained on sequences of different lengths and can infer on sequences of different lengths as well."
   ]
  },
  {
   "cell_type": "markdown",
   "id": "swiss-information",
   "metadata": {},
   "source": [
    "**(R)**\n",
    "- Inference on diff lengths:"
   ]
  },
  {
   "cell_type": "code",
   "execution_count": 68,
   "id": "italic-circular",
   "metadata": {},
   "outputs": [
    {
     "data": {
      "text/plain": [
       "(array([[ 0.3827113 ],\n",
       "        [ 0.4091605 ],\n",
       "        [-0.04432844],\n",
       "        [-0.16831078],\n",
       "        [-0.15816103]], dtype=float32),\n",
       " array([[ 0.4271963 ],\n",
       "        [ 0.45035878],\n",
       "        [-0.04466605],\n",
       "        [-0.11022653],\n",
       "        [-0.1420354 ]], dtype=float32))"
      ]
     },
     "execution_count": 68,
     "metadata": {},
     "output_type": "execute_result"
    }
   ],
   "source": [
    "series_new = generate_time_series(5, 2*n_steps + 1)\n",
    "X_new, y_new = series_new[:, :2*n_steps], series_new[:, -1]\n",
    "pred_new = model.predict(X_new)\n",
    "pred_new, y_new"
   ]
  },
  {
   "cell_type": "code",
   "execution_count": 69,
   "id": "tested-method",
   "metadata": {},
   "outputs": [
    {
     "data": {
      "text/plain": [
       "((5, 1), (5, 1))"
      ]
     },
     "execution_count": 69,
     "metadata": {},
     "output_type": "execute_result"
    }
   ],
   "source": [
    "pred_new.shape, y_new.shape"
   ]
  },
  {
   "cell_type": "code",
   "execution_count": 70,
   "id": "terminal-disney",
   "metadata": {},
   "outputs": [
    {
     "data": {
      "text/plain": [
       "(array([[ 0.33671108],\n",
       "        [ 0.4279328 ],\n",
       "        [-0.3840771 ],\n",
       "        [ 0.5868537 ],\n",
       "        [-0.30674204],\n",
       "        [ 0.40953076],\n",
       "        [-0.12390067]], dtype=float32),\n",
       " array([[-0.03891728],\n",
       "        [ 0.12232426],\n",
       "        [-0.64657253],\n",
       "        [ 0.56462204],\n",
       "        [-0.29136884],\n",
       "        [ 0.17011051],\n",
       "        [ 0.20251296]], dtype=float32))"
      ]
     },
     "execution_count": 70,
     "metadata": {},
     "output_type": "execute_result"
    }
   ],
   "source": [
    "series_new = generate_time_series(7, n_steps // 2 + 1)\n",
    "X_new, y_new = series_new[:, :n_steps // 2], series_new[:, -1]\n",
    "pred_new = model.predict(X_new)\n",
    "pred_new, y_new"
   ]
  },
  {
   "cell_type": "code",
   "execution_count": 71,
   "id": "needed-candy",
   "metadata": {},
   "outputs": [
    {
     "data": {
      "text/plain": [
       "((7, 1), (7, 1))"
      ]
     },
     "execution_count": 71,
     "metadata": {},
     "output_type": "execute_result"
    }
   ],
   "source": [
    "pred_new.shape, y_new.shape"
   ]
  },
  {
   "cell_type": "markdown",
   "id": "collective-toyota",
   "metadata": {},
   "source": [
    "- Training on diff lengths is harder to code, because the `X` as an ndarray must have fixed shape; still, one can separate into two `X`'s and conduct the training in two phases. I think it's doable, but it is not very interesting to do so."
   ]
  },
  {
   "cell_type": "markdown",
   "id": "interested-airplane",
   "metadata": {},
   "source": [
    "## Forecasting Several Time Steps Ahead"
   ]
  },
  {
   "cell_type": "markdown",
   "id": "realistic-horizon",
   "metadata": {},
   "source": [
    "`10` steps ahead, stepping `1` step at a time."
   ]
  },
  {
   "cell_type": "code",
   "execution_count": 127,
   "id": "closed-sustainability",
   "metadata": {},
   "outputs": [
    {
     "data": {
      "text/plain": [
       "(7000, 10, 1)"
      ]
     },
     "execution_count": 127,
     "metadata": {},
     "output_type": "execute_result"
    }
   ],
   "source": [
    "np.random.seed(43)\n",
    "series = generate_time_series(10_000, n_steps+10)\n",
    "# next line: wrongly written on purpose\n",
    "X_train, Y_train = series[:7_000, :n_steps], series[:7_000, n_steps:]\n",
    "Y_train.shape"
   ]
  },
  {
   "cell_type": "code",
   "execution_count": 128,
   "id": "satisfactory-secretariat",
   "metadata": {},
   "outputs": [
    {
     "data": {
      "text/plain": [
       "(7000, 10)"
      ]
     },
     "execution_count": 128,
     "metadata": {},
     "output_type": "execute_result"
    }
   ],
   "source": [
    "X_train, Y_train = series[:7_000, :n_steps], series[:7_000, n_steps:, 0]\n",
    "Y_train.shape"
   ]
  },
  {
   "cell_type": "code",
   "execution_count": 129,
   "id": "correct-administrator",
   "metadata": {},
   "outputs": [],
   "source": [
    "X_val, Y_val = series[7_000:9_000, :n_steps], series[7_000:9_000, n_steps:, 0]\n",
    "X_test, Y_test = series[9_000:, :n_steps], series[9_000:, n_steps:, 0]"
   ]
  },
  {
   "cell_type": "code",
   "execution_count": 130,
   "id": "damaged-reservation",
   "metadata": {},
   "outputs": [],
   "source": [
    "one_step_model = model"
   ]
  },
  {
   "cell_type": "raw",
   "id": "wicked-danish",
   "metadata": {},
   "source": [
    "series = generate_time_series(10_000, n_steps+10)\n",
    "X_val, Y_val = series[7_000:9_000, :n_steps], series[7_000:9_000, n_steps:, 0]\n",
    "X_test, Y_test = series[9_000:, :n_steps], series[9_000:, n_steps:, 0]"
   ]
  },
  {
   "cell_type": "code",
   "execution_count": 131,
   "id": "mighty-species",
   "metadata": {},
   "outputs": [
    {
     "data": {
      "text/plain": [
       "<tf.Tensor: shape=(), dtype=float32, numpy=0.07512527>"
      ]
     },
     "execution_count": 131,
     "metadata": {},
     "output_type": "execute_result"
    }
   ],
   "source": [
    "X = X_val\n",
    "for step_ahead in range(10):\n",
    "    y_pred_one = one_step_model.predict(X[:, step_ahead:])[:, np.newaxis, :]\n",
    "    X = np.concatenate([X, y_pred_one], axis=1)\n",
    "\n",
    "Y_pred = X[:, n_steps:, 0]\n",
    "keras.metrics.mse(Y_pred.ravel(), Y_val.ravel())"
   ]
  },
  {
   "cell_type": "code",
   "execution_count": 132,
   "id": "dirty-joyce",
   "metadata": {},
   "outputs": [
    {
     "data": {
      "text/plain": [
       "((20000,), (2000, 10))"
      ]
     },
     "execution_count": 132,
     "metadata": {},
     "output_type": "execute_result"
    }
   ],
   "source": [
    "Y_pred.ravel().shape, Y_pred.shape"
   ]
  },
  {
   "cell_type": "code",
   "execution_count": 133,
   "id": "hearing-brave",
   "metadata": {},
   "outputs": [
    {
     "data": {
      "text/plain": [
       "<tf.Tensor: shape=(), dtype=float32, numpy=0.07512527>"
      ]
     },
     "execution_count": 133,
     "metadata": {},
     "output_type": "execute_result"
    }
   ],
   "source": [
    "X = X_val\n",
    "for step_ahead in range(10):\n",
    "    y_pred_one = linear_model.predict(X[:, step_ahead:])[:, np.newaxis, :]\n",
    "    X = np.concatenate([X, y_pred_one], axis=1)\n",
    "\n",
    "Y_pred = X[:, n_steps:, 0]\n",
    "keras.metrics.mse(Y_pred.ravel(), Y_val.ravel())"
   ]
  },
  {
   "cell_type": "code",
   "execution_count": null,
   "id": "ordinary-government",
   "metadata": {},
   "outputs": [],
   "source": []
  },
  {
   "cell_type": "code",
   "execution_count": null,
   "id": "needed-regard",
   "metadata": {},
   "outputs": [],
   "source": []
  },
  {
   "cell_type": "code",
   "execution_count": null,
   "id": "global-orlando",
   "metadata": {},
   "outputs": [],
   "source": []
  },
  {
   "cell_type": "code",
   "execution_count": 56,
   "id": "marked-forth",
   "metadata": {},
   "outputs": [],
   "source": [
    "np.random.seed(43)\n",
    "\n",
    "series = generate_time_series(1, n_steps + 10)\n",
    "X_new, Y_new = series[:, :n_steps], series[:, n_steps:]\n",
    "X = X_new"
   ]
  },
  {
   "cell_type": "code",
   "execution_count": 57,
   "id": "sophisticated-dinner",
   "metadata": {},
   "outputs": [
    {
     "data": {
      "text/plain": [
       "array([[0.5292703]], dtype=float32)"
      ]
     },
     "execution_count": 57,
     "metadata": {},
     "output_type": "execute_result"
    }
   ],
   "source": [
    "y_pred_one = model.predict(X[:, :])\n",
    "y_pred_one"
   ]
  },
  {
   "cell_type": "code",
   "execution_count": 58,
   "id": "iraqi-stanford",
   "metadata": {},
   "outputs": [
    {
     "data": {
      "text/plain": [
       "array([[[0.5292703]]], dtype=float32)"
      ]
     },
     "execution_count": 58,
     "metadata": {},
     "output_type": "execute_result"
    }
   ],
   "source": [
    "y_pred_one = model.predict(X[:, :])[:, np.newaxis, :]\n",
    "y_pred_one"
   ]
  },
  {
   "cell_type": "code",
   "execution_count": 59,
   "id": "pursuant-dylan",
   "metadata": {},
   "outputs": [],
   "source": [
    "for step_ahead in range(10):\n",
    "    y_pred_one = model.predict(X[:, step_ahead:])[:, np.newaxis, :]\n",
    "    X = np.concatenate([X, y_pred_one], axis=1)\n",
    "Y_pred = X[:, n_steps:]"
   ]
  },
  {
   "cell_type": "code",
   "execution_count": 60,
   "id": "liable-recipe",
   "metadata": {},
   "outputs": [
    {
     "data": {
      "text/plain": [
       "((1, 10, 1), (1, 10, 1))"
      ]
     },
     "execution_count": 60,
     "metadata": {},
     "output_type": "execute_result"
    }
   ],
   "source": [
    "Y_pred.shape, Y_new.shape"
   ]
  },
  {
   "cell_type": "code",
   "execution_count": 67,
   "id": "satisfactory-beatles",
   "metadata": {},
   "outputs": [],
   "source": [
    "def plot_multiple_forecasts(X, Y, Y_pred):\n",
    "    n_steps = X.shape[1]\n",
    "    ahead = Y.shape[1]\n",
    "    plot_series(X[0, :, 0])\n",
    "    #plt.plot(np.arange(n_steps, n_steps + ahead), Y[0, :, 0], \"go-\", label=\"Actual\")\n",
    "    plt.plot(np.arange(n_steps, n_steps + ahead), Y[0, :, 0], \"gx-\", label=\"Actual\", markersize=10, mew=3)\n",
    "    #plt.plot(np.arange(n_steps, n_steps + ahead), Y_pred[0, :, 0], \"rx-\", label=\"Forecast\", markersize=10, mew=3)\n",
    "    plt.plot(np.arange(n_steps, n_steps + ahead), Y_pred[0, :, 0], \"ro-\", label=\"Forecast\")\n",
    "    plt.axis([0, n_steps + ahead, -1, 1])\n",
    "    plt.legend(fontsize=14)"
   ]
  },
  {
   "cell_type": "code",
   "execution_count": 68,
   "id": "wound-bolivia",
   "metadata": {},
   "outputs": [
    {
     "data": {
      "image/png": "[encoded data removed]",
      "text/plain": [
       "<Figure size 576x432 with 1 Axes>"
      ]
     },
     "metadata": {},
     "output_type": "display_data"
    }
   ],
   "source": [
    "plot_multiple_forecasts(X_new, Y_new, Y_pred)"
   ]
  },
  {
   "cell_type": "markdown",
   "id": "fixed-scottish",
   "metadata": {},
   "source": [
    "Let's try to measure the mse of this."
   ]
  },
  {
   "cell_type": "code",
   "execution_count": 69,
   "id": "coordinate-shooting",
   "metadata": {},
   "outputs": [],
   "source": [
    "np.random.seed(42)\n",
    "\n",
    "n_steps = 50\n",
    "series = generate_time_series(10000, n_steps + 10)\n",
    "X_train, Y_train = series[:7000, :n_steps], series[:7000, -10:, 0]\n",
    "X_valid, Y_valid = series[7000:9000, :n_steps], series[7000:9000, -10:, 0]\n",
    "X_test, Y_test = series[9000:, :n_steps], series[9000:, -10:, 0]"
   ]
  },
  {
   "cell_type": "code",
   "execution_count": 70,
   "id": "parliamentary-hybrid",
   "metadata": {},
   "outputs": [
    {
     "data": {
      "text/plain": [
       "(2000, 1)"
      ]
     },
     "execution_count": 70,
     "metadata": {},
     "output_type": "execute_result"
    }
   ],
   "source": [
    "X = X_valid\n",
    "y_pred_one = model.predict(X)\n",
    "y_pred_one.shape"
   ]
  },
  {
   "cell_type": "code",
   "execution_count": 71,
   "id": "demanding-timing",
   "metadata": {},
   "outputs": [
    {
     "data": {
      "text/plain": [
       "(2000, 50, 1)"
      ]
     },
     "execution_count": 71,
     "metadata": {},
     "output_type": "execute_result"
    }
   ],
   "source": [
    "X.shape"
   ]
  },
  {
   "cell_type": "code",
   "execution_count": 72,
   "id": "particular-society",
   "metadata": {},
   "outputs": [
    {
     "data": {
      "text/plain": [
       "(2000, 60, 1)"
      ]
     },
     "execution_count": 72,
     "metadata": {},
     "output_type": "execute_result"
    }
   ],
   "source": [
    "X = X_valid\n",
    "for step_ahead in range(10):\n",
    "    y_pred_one = model.predict(X)[:, np.newaxis, :]\n",
    "    X = np.concatenate([X, y_pred_one], axis=1)\n",
    "X.shape"
   ]
  },
  {
   "cell_type": "code",
   "execution_count": 73,
   "id": "included-release",
   "metadata": {},
   "outputs": [
    {
     "data": {
      "text/plain": [
       "(2000, 10)"
      ]
     },
     "execution_count": 73,
     "metadata": {},
     "output_type": "execute_result"
    }
   ],
   "source": [
    "Y_pred = X[:, n_steps:, 0]\n",
    "Y_pred.shape"
   ]
  },
  {
   "cell_type": "code",
   "execution_count": 74,
   "id": "warming-virgin",
   "metadata": {},
   "outputs": [
    {
     "data": {
      "text/plain": [
       "(2000, 10)"
      ]
     },
     "execution_count": 74,
     "metadata": {},
     "output_type": "execute_result"
    }
   ],
   "source": [
    "Y_valid.shape"
   ]
  },
  {
   "cell_type": "code",
   "execution_count": 75,
   "id": "musical-retail",
   "metadata": {},
   "outputs": [
    {
     "data": {
      "text/plain": [
       "0.03279805"
      ]
     },
     "execution_count": 75,
     "metadata": {},
     "output_type": "execute_result"
    }
   ],
   "source": [
    "mean_squared_error(Y_valid, Y_pred)"
   ]
  },
  {
   "cell_type": "code",
   "execution_count": 76,
   "id": "ambient-shame",
   "metadata": {},
   "outputs": [
    {
     "data": {
      "text/plain": [
       "((2000, 1), (2000, 10))"
      ]
     },
     "execution_count": 76,
     "metadata": {},
     "output_type": "execute_result"
    }
   ],
   "source": [
    "Y_naive_pred = Y_valid[:, -1:]\n",
    "Y_naive_pred.shape, Y_valid.shape"
   ]
  },
  {
   "cell_type": "raw",
   "id": "stopped-costs",
   "metadata": {},
   "source": [
    "mean_squared_error(Y_naive_pred, Y_valid)"
   ]
  },
  {
   "cell_type": "raw",
   "id": "cross-monte",
   "metadata": {},
   "source": [
    "ValueError: y_true and y_pred have different number of output (1!=10)"
   ]
  },
  {
   "cell_type": "code",
   "execution_count": 78,
   "id": "strong-contribution",
   "metadata": {},
   "outputs": [
    {
     "name": "stdout",
     "output_type": "stream",
     "text": [
      "Epoch 1/20\n",
      "219/219 [==============================] - 1s 2ms/step - loss: 0.2186 - val_loss: 0.0606\n",
      "Epoch 2/20\n",
      "219/219 [==============================] - 0s 2ms/step - loss: 0.0535 - val_loss: 0.0425\n",
      "Epoch 3/20\n",
      "219/219 [==============================] - 0s 2ms/step - loss: 0.0406 - val_loss: 0.0353\n",
      "Epoch 4/20\n",
      "219/219 [==============================] - 0s 2ms/step - loss: 0.0343 - val_loss: 0.0311\n",
      "Epoch 5/20\n",
      "219/219 [==============================] - 0s 2ms/step - loss: 0.0300 - val_loss: 0.0283\n",
      "Epoch 6/20\n",
      "219/219 [==============================] - 0s 2ms/step - loss: 0.0278 - val_loss: 0.0264\n",
      "Epoch 7/20\n",
      "219/219 [==============================] - 0s 2ms/step - loss: 0.0262 - val_loss: 0.0249\n",
      "Epoch 8/20\n",
      "219/219 [==============================] - 0s 2ms/step - loss: 0.0246 - val_loss: 0.0237\n",
      "Epoch 9/20\n",
      "219/219 [==============================] - 0s 2ms/step - loss: 0.0236 - val_loss: 0.0229\n",
      "Epoch 10/20\n",
      "219/219 [==============================] - 0s 2ms/step - loss: 0.0228 - val_loss: 0.0222\n",
      "Epoch 11/20\n",
      "219/219 [==============================] - 1s 2ms/step - loss: 0.0220 - val_loss: 0.0216\n",
      "Epoch 12/20\n",
      "219/219 [==============================] - 0s 2ms/step - loss: 0.0214 - val_loss: 0.0212\n",
      "Epoch 13/20\n",
      "219/219 [==============================] - 0s 2ms/step - loss: 0.0212 - val_loss: 0.0208\n",
      "Epoch 14/20\n",
      "219/219 [==============================] - 0s 2ms/step - loss: 0.0207 - val_loss: 0.0207\n",
      "Epoch 15/20\n",
      "219/219 [==============================] - 0s 2ms/step - loss: 0.0207 - val_loss: 0.0202\n",
      "Epoch 16/20\n",
      "219/219 [==============================] - 0s 2ms/step - loss: 0.0199 - val_loss: 0.0199\n",
      "Epoch 17/20\n",
      "219/219 [==============================] - 0s 2ms/step - loss: 0.0197 - val_loss: 0.0195\n",
      "Epoch 18/20\n",
      "219/219 [==============================] - 0s 2ms/step - loss: 0.0190 - val_loss: 0.0192\n",
      "Epoch 19/20\n",
      "219/219 [==============================] - 0s 2ms/step - loss: 0.0189 - val_loss: 0.0189\n",
      "Epoch 20/20\n",
      "219/219 [==============================] - 0s 2ms/step - loss: 0.0188 - val_loss: 0.0187\n"
     ]
    }
   ],
   "source": [
    "np.random.seed(42)\n",
    "tf.random.set_seed(42)\n",
    "\n",
    "model = keras.models.Sequential([\n",
    "    keras.layers.Flatten(input_shape=[50, 1]),\n",
    "    keras.layers.Dense(10)\n",
    "])\n",
    "\n",
    "model.compile(loss=\"mse\", optimizer=\"adam\")\n",
    "history = model.fit(X_train, Y_train, epochs=20,\n",
    "                    validation_data=(X_valid, Y_valid))"
   ]
  },
  {
   "cell_type": "code",
   "execution_count": 79,
   "id": "stupid-dover",
   "metadata": {},
   "outputs": [
    {
     "name": "stdout",
     "output_type": "stream",
     "text": [
      "Epoch 1/20\n",
      "219/219 [==============================] - 6s 23ms/step - loss: 0.1216 - val_loss: 0.0317\n",
      "Epoch 2/20\n",
      "219/219 [==============================] - 5s 25ms/step - loss: 0.0294 - val_loss: 0.0200\n",
      "Epoch 3/20\n",
      "219/219 [==============================] - 5s 25ms/step - loss: 0.0198 - val_loss: 0.0160\n",
      "Epoch 4/20\n",
      "219/219 [==============================] - 5s 24ms/step - loss: 0.0162 - val_loss: 0.0144\n",
      "Epoch 5/20\n",
      "219/219 [==============================] - 6s 29ms/step - loss: 0.0144 - val_loss: 0.0118\n",
      "Epoch 6/20\n",
      "219/219 [==============================] - 6s 26ms/step - loss: 0.0127 - val_loss: 0.0112\n",
      "Epoch 7/20\n",
      "219/219 [==============================] - 5s 24ms/step - loss: 0.0119 - val_loss: 0.0110\n",
      "Epoch 8/20\n",
      "219/219 [==============================] - 6s 25ms/step - loss: 0.0114 - val_loss: 0.0103\n",
      "Epoch 9/20\n",
      "219/219 [==============================] - 5s 24ms/step - loss: 0.0110 - val_loss: 0.0112\n",
      "Epoch 10/20\n",
      "219/219 [==============================] - 5s 23ms/step - loss: 0.0118 - val_loss: 0.0100\n",
      "Epoch 11/20\n",
      "219/219 [==============================] - 5s 24ms/step - loss: 0.0109 - val_loss: 0.0103\n",
      "Epoch 12/20\n",
      "219/219 [==============================] - 7s 30ms/step - loss: 0.0104 - val_loss: 0.0096\n",
      "Epoch 13/20\n",
      "219/219 [==============================] - 5s 25ms/step - loss: 0.0103 - val_loss: 0.0100\n",
      "Epoch 14/20\n",
      "219/219 [==============================] - 5s 25ms/step - loss: 0.0101 - val_loss: 0.0103\n",
      "Epoch 15/20\n",
      "219/219 [==============================] - 5s 24ms/step - loss: 0.0095 - val_loss: 0.0107\n",
      "Epoch 16/20\n",
      "219/219 [==============================] - 5s 25ms/step - loss: 0.0095 - val_loss: 0.0089\n",
      "Epoch 17/20\n",
      "219/219 [==============================] - 6s 26ms/step - loss: 0.0092 - val_loss: 0.0111\n",
      "Epoch 18/20\n",
      "219/219 [==============================] - 5s 25ms/step - loss: 0.0098 - val_loss: 0.0094\n",
      "Epoch 19/20\n",
      "219/219 [==============================] - 5s 25ms/step - loss: 0.0090 - val_loss: 0.0083\n",
      "Epoch 20/20\n",
      "219/219 [==============================] - 5s 25ms/step - loss: 0.0092 - val_loss: 0.0085\n"
     ]
    }
   ],
   "source": [
    "np.random.seed(42)\n",
    "tf.random.set_seed(42)\n",
    "\n",
    "model = keras.models.Sequential([\n",
    "    keras.layers.SimpleRNN(20, return_sequences=True, input_shape=[None, 1]),\n",
    "    keras.layers.SimpleRNN(20),\n",
    "    keras.layers.Dense(10)\n",
    "])\n",
    "\n",
    "model.compile(loss=\"mse\", optimizer=\"adam\")\n",
    "history = model.fit(X_train, Y_train, epochs=20,\n",
    "                    validation_data=(X_valid, Y_valid))"
   ]
  },
  {
   "cell_type": "markdown",
   "id": "marked-tourism",
   "metadata": {},
   "source": [
    "## Todo\n",
    "01. Try _exponential moving average_ in the **Baseline Metrics** part."
   ]
  }
 ],
 "metadata": {
  "kernelspec": {
   "display_name": "Python 3",
   "language": "python",
   "name": "python3"
  },
  "language_info": {
   "codemirror_mode": {
    "name": "ipython",
    "version": 3
   },
   "file_extension": ".py",
   "mimetype": "text/x-python",
   "name": "python",
   "nbconvert_exporter": "python",
   "pygments_lexer": "ipython3",
   "version": "3.7.10"
  }
 },
 "nbformat": 4,
 "nbformat_minor": 5
}
