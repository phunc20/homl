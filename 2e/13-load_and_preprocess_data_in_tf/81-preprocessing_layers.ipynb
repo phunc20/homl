{
 "cells": [
  {
   "cell_type": "code",
   "execution_count": 4,
   "id": "c8d1785b",
   "metadata": {},
   "outputs": [],
   "source": [
    "import tensorflow as tf\n",
    "import tensorflow.keras as keras"
   ]
  },
  {
   "cell_type": "markdown",
   "id": "c9e7ebbf",
   "metadata": {},
   "source": [
    "## One-Hot Encoding"
   ]
  },
  {
   "cell_type": "code",
   "execution_count": 10,
   "id": "7ae2e22d",
   "metadata": {},
   "outputs": [
    {
     "data": {
      "text/plain": [
       "<tensorflow.python.ops.lookup_ops.KeyValueTensorInitializer at 0x7f4025743e50>"
      ]
     },
     "execution_count": 10,
     "metadata": {},
     "output_type": "execute_result"
    }
   ],
   "source": [
    "vocab = [\"<1H OCEAN\", \"INLAND\", \"NEAR OCEAN\", \"NEAR BAY\", \"ISLAND\"]\n",
    "indices = tf.range(len(vocab), dtype=tf.int64)\n",
    "table_init = tf.lookup.KeyValueTensorInitializer(vocab, indices)\n",
    "table_init"
   ]
  },
  {
   "cell_type": "raw",
   "id": "b38c7837",
   "metadata": {},
   "source": [
    "table_init()"
   ]
  },
  {
   "cell_type": "raw",
   "id": "01f999e4",
   "metadata": {},
   "source": [
    "TypeError: 'KeyValueTensorInitializer' object is not callable"
   ]
  },
  {
   "cell_type": "code",
   "execution_count": 13,
   "id": "317b6170",
   "metadata": {},
   "outputs": [
    {
     "name": "stdout",
     "output_type": "stream",
     "text": [
      "initialize\n",
      "key_dtype\n",
      "value_dtype\n"
     ]
    }
   ],
   "source": [
    "for s in dir(table_init):\n",
    "    if not s.startswith(\"_\"):\n",
    "        print(s)"
   ]
  },
  {
   "cell_type": "code",
   "execution_count": 14,
   "id": "bcd8567d",
   "metadata": {},
   "outputs": [
    {
     "data": {
      "text/plain": [
       "<tensorflow.python.ops.lookup_ops.StaticVocabularyTable at 0x7f403431f150>"
      ]
     },
     "execution_count": 14,
     "metadata": {},
     "output_type": "execute_result"
    }
   ],
   "source": [
    "n_oov_buckets = 2\n",
    "table = tf.lookup.StaticVocabularyTable(table_init, n_oov_buckets)\n",
    "table"
   ]
  },
  {
   "cell_type": "code",
   "execution_count": 15,
   "id": "472ff1df",
   "metadata": {},
   "outputs": [
    {
     "name": "stdout",
     "output_type": "stream",
     "text": [
      "key_dtype\n",
      "lookup\n",
      "name\n",
      "resource_handle\n",
      "size\n",
      "value_dtype\n"
     ]
    }
   ],
   "source": [
    "for s in dir(table):\n",
    "    if not s.startswith(\"_\"):\n",
    "        print(s)"
   ]
  },
  {
   "cell_type": "code",
   "execution_count": null,
   "id": "00980ff1",
   "metadata": {},
   "outputs": [],
   "source": []
  },
  {
   "cell_type": "code",
   "execution_count": 7,
   "id": "7380091f",
   "metadata": {},
   "outputs": [],
   "source": []
  },
  {
   "cell_type": "markdown",
   "id": "acce906e",
   "metadata": {},
   "source": [
    "## Embeddings\n"
   ]
  },
  {
   "cell_type": "markdown",
   "id": "ecee8762",
   "metadata": {},
   "source": [
    "### Manually\n",
    "- randomly initialized\n",
    "- one row per category and per oov bucket\n",
    "- one column per embedding dimension"
   ]
  },
  {
   "cell_type": "code",
   "execution_count": 8,
   "id": "cea57391",
   "metadata": {},
   "outputs": [
    {
     "data": {
      "text/plain": [
       "<tf.Tensor: shape=(7, 2), dtype=float32, numpy=\n",
       "array([[0.25670135, 0.9297389 ],\n",
       "       [0.7387067 , 0.45911717],\n",
       "       [0.04919159, 0.49531627],\n",
       "       [0.03997183, 0.7775849 ],\n",
       "       [0.24492908, 0.6916243 ],\n",
       "       [0.78538704, 0.30175245],\n",
       "       [0.9321128 , 0.6056347 ]], dtype=float32)>"
      ]
     },
     "execution_count": 8,
     "metadata": {},
     "output_type": "execute_result"
    }
   ],
   "source": [
    "embedding_dim = 2\n",
    "embedding_init = tf.random.uniform([len(vocab) + n_oov_buckets, embedding_dim])\n",
    "embedding_init"
   ]
  },
  {
   "cell_type": "code",
   "execution_count": 9,
   "id": "47122dad",
   "metadata": {},
   "outputs": [
    {
     "data": {
      "text/plain": [
       "<tf.Variable 'Variable:0' shape=(7, 2) dtype=float32, numpy=\n",
       "array([[0.25670135, 0.9297389 ],\n",
       "       [0.7387067 , 0.45911717],\n",
       "       [0.04919159, 0.49531627],\n",
       "       [0.03997183, 0.7775849 ],\n",
       "       [0.24492908, 0.6916243 ],\n",
       "       [0.78538704, 0.30175245],\n",
       "       [0.9321128 , 0.6056347 ]], dtype=float32)>"
      ]
     },
     "execution_count": 9,
     "metadata": {},
     "output_type": "execute_result"
    }
   ],
   "source": [
    "embedding_matrix = tf.Variable(embedding_init)\n",
    "embedding_matrix"
   ]
  },
  {
   "cell_type": "code",
   "execution_count": null,
   "id": "4a8cd37c",
   "metadata": {},
   "outputs": [],
   "source": []
  }
 ],
 "metadata": {
  "kernelspec": {
   "display_name": "Python 3",
   "language": "python",
   "name": "python3"
  },
  "language_info": {
   "codemirror_mode": {
    "name": "ipython",
    "version": 3
   },
   "file_extension": ".py",
   "mimetype": "text/x-python",
   "name": "python",
   "nbconvert_exporter": "python",
   "pygments_lexer": "ipython3",
   "version": "3.7.8"
  }
 },
 "nbformat": 4,
 "nbformat_minor": 5
}
