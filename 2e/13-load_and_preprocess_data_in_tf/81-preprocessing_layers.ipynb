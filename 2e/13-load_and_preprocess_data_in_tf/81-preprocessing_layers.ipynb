{
 "cells": [
  {
   "cell_type": "code",
   "execution_count": 4,
   "id": "7e249210",
   "metadata": {},
   "outputs": [],
   "source": [
    "import tensorflow as tf\n",
    "import tensorflow.keras as keras"
   ]
  },
  {
   "cell_type": "markdown",
   "id": "29cf39bf",
   "metadata": {},
   "source": [
    "## One-Hot Encoding"
   ]
  },
  {
   "cell_type": "code",
   "execution_count": 10,
   "id": "b805df5f",
   "metadata": {},
   "outputs": [
    {
     "data": {
      "text/plain": [
       "<tensorflow.python.ops.lookup_ops.KeyValueTensorInitializer at 0x7f4025743e50>"
      ]
     },
     "execution_count": 10,
     "metadata": {},
     "output_type": "execute_result"
    }
   ],
   "source": [
    "vocab = [\"<1H OCEAN\", \"INLAND\", \"NEAR OCEAN\", \"NEAR BAY\", \"ISLAND\"]\n",
    "indices = tf.range(len(vocab), dtype=tf.int64)\n",
    "table_init = tf.lookup.KeyValueTensorInitializer(vocab, indices)\n",
    "table_init"
   ]
  },
  {
   "cell_type": "raw",
   "id": "ee0a6f4c",
   "metadata": {},
   "source": [
    "table_init()"
   ]
  },
  {
   "cell_type": "raw",
   "id": "5c73d7b8",
   "metadata": {},
   "source": [
    "TypeError: 'KeyValueTensorInitializer' object is not callable"
   ]
  },
  {
   "cell_type": "code",
   "execution_count": 13,
   "id": "5eb52e16",
   "metadata": {},
   "outputs": [
    {
     "name": "stdout",
     "output_type": "stream",
     "text": [
      "initialize\n",
      "key_dtype\n",
      "value_dtype\n"
     ]
    }
   ],
   "source": [
    "for s in dir(table_init):\n",
    "    if not s.startswith(\"_\"):\n",
    "        print(s)"
   ]
  },
  {
   "cell_type": "code",
   "execution_count": 14,
   "id": "823842c0",
   "metadata": {},
   "outputs": [
    {
     "data": {
      "text/plain": [
       "<tensorflow.python.ops.lookup_ops.StaticVocabularyTable at 0x7f403431f150>"
      ]
     },
     "execution_count": 14,
     "metadata": {},
     "output_type": "execute_result"
    }
   ],
   "source": [
    "n_oov_buckets = 2\n",
    "table = tf.lookup.StaticVocabularyTable(table_init, n_oov_buckets)\n",
    "table"
   ]
  },
  {
   "cell_type": "code",
   "execution_count": 15,
   "id": "8d25586f",
   "metadata": {},
   "outputs": [
    {
     "name": "stdout",
     "output_type": "stream",
     "text": [
      "key_dtype\n",
      "lookup\n",
      "name\n",
      "resource_handle\n",
      "size\n",
      "value_dtype\n"
     ]
    }
   ],
   "source": [
    "for s in dir(table):\n",
    "    if not s.startswith(\"_\"):\n",
    "        print(s)"
   ]
  },
  {
   "cell_type": "code",
   "execution_count": 16,
   "id": "c578b34d",
   "metadata": {},
   "outputs": [
    {
     "data": {
      "text/plain": [
       "<tf.Tensor: shape=(5,), dtype=int64, numpy=array([3, 6, 5, 1, 1])>"
      ]
     },
     "execution_count": 16,
     "metadata": {},
     "output_type": "execute_result"
    }
   ],
   "source": [
    "categories = tf.constant([\"NEAR BAY\", \"near bay\", \"DESERT\", \"INLAND\", \"INLAND\"])\n",
    "cat_indices = table.lookup(categories)\n",
    "cat_indices"
   ]
  },
  {
   "cell_type": "markdown",
   "id": "5236feb7",
   "metadata": {},
   "source": [
    "Note that it's **case-sensitive**."
   ]
  },
  {
   "cell_type": "code",
   "execution_count": 17,
   "id": "b3d5c0ac",
   "metadata": {},
   "outputs": [
    {
     "data": {
      "text/plain": [
       "<tf.Tensor: shape=(5, 7), dtype=float32, numpy=\n",
       "array([[0., 0., 0., 1., 0., 0., 0.],\n",
       "       [0., 0., 0., 0., 0., 0., 1.],\n",
       "       [0., 0., 0., 0., 0., 1., 0.],\n",
       "       [0., 1., 0., 0., 0., 0., 0.],\n",
       "       [0., 1., 0., 0., 0., 0., 0.]], dtype=float32)>"
      ]
     },
     "execution_count": 17,
     "metadata": {},
     "output_type": "execute_result"
    }
   ],
   "source": [
    "cat_one_hot = tf.one_hot(cat_indices, depth=len(vocab)+n_oov_buckets)\n",
    "cat_one_hot"
   ]
  },
  {
   "cell_type": "markdown",
   "id": "aaf936ce",
   "metadata": {},
   "source": [
    "**(?)** Is there `keras.layers.TextVectorization` yet?"
   ]
  },
  {
   "cell_type": "code",
   "execution_count": 20,
   "id": "f8a5fef7",
   "metadata": {},
   "outputs": [
    {
     "data": {
      "text/plain": [
       "'2.4.1'"
      ]
     },
     "execution_count": 20,
     "metadata": {},
     "output_type": "execute_result"
    }
   ],
   "source": [
    "tf.__version__"
   ]
  },
  {
   "cell_type": "code",
   "execution_count": 21,
   "id": "78cf460a",
   "metadata": {},
   "outputs": [
    {
     "data": {
      "text/plain": [
       "['ThresholdedReLU', 'TimeDistributed']"
      ]
     },
     "execution_count": 21,
     "metadata": {},
     "output_type": "execute_result"
    }
   ],
   "source": [
    "[ s for s in dir(keras.layers) if s.startswith(\"T\")]"
   ]
  },
  {
   "cell_type": "code",
   "execution_count": 22,
   "id": "60e812cb",
   "metadata": {},
   "outputs": [
    {
     "data": {
      "text/plain": [
       "['TextVectorization']"
      ]
     },
     "execution_count": 22,
     "metadata": {},
     "output_type": "execute_result"
    }
   ],
   "source": [
    "[ s for s in dir(keras.layers.experimental.preprocessing) if s.startswith(\"T\")]"
   ]
  },
  {
   "cell_type": "markdown",
   "id": "ae037b86",
   "metadata": {},
   "source": [
    "**(?)** Try the `adapt`, `call` methods of `TextVectorization`.<br>\n"
   ]
  },
  {
   "cell_type": "code",
   "execution_count": 23,
   "id": "13c783eb",
   "metadata": {},
   "outputs": [],
   "source": [
    "tv_layer = keras.layers.experimental.preprocessing.TextVectorization()"
   ]
  },
  {
   "cell_type": "code",
   "execution_count": 24,
   "id": "fa30a24a",
   "metadata": {},
   "outputs": [
    {
     "data": {
      "text/plain": [
       "<bound method TextVectorization.adapt of <tensorflow.python.keras.layers.preprocessing.text_vectorization.TextVectorization object at 0x7f40244c0dd0>>"
      ]
     },
     "execution_count": 24,
     "metadata": {},
     "output_type": "execute_result"
    }
   ],
   "source": [
    "tv_layer.adapt"
   ]
  },
  {
   "cell_type": "code",
   "execution_count": null,
   "id": "bfd3d819",
   "metadata": {},
   "outputs": [],
   "source": []
  },
  {
   "cell_type": "markdown",
   "id": "8aad06ff",
   "metadata": {},
   "source": [
    "## Embeddings\n"
   ]
  },
  {
   "cell_type": "markdown",
   "id": "8d2f98b0",
   "metadata": {},
   "source": [
    "### Manually\n",
    "- randomly initialized\n",
    "- one row per category and per oov bucket\n",
    "- one column per embedding dimension"
   ]
  },
  {
   "cell_type": "code",
   "execution_count": 28,
   "id": "ecae1baf",
   "metadata": {},
   "outputs": [
    {
     "data": {
      "text/plain": [
       "<tf.Tensor: shape=(7, 2), dtype=float32, numpy=\n",
       "array([[0.6645621 , 0.44100678],\n",
       "       [0.3528825 , 0.46448255],\n",
       "       [0.03366041, 0.68467236],\n",
       "       [0.74011743, 0.8724445 ],\n",
       "       [0.22632635, 0.22319686],\n",
       "       [0.3103881 , 0.7223358 ],\n",
       "       [0.13318717, 0.5480639 ]], dtype=float32)>"
      ]
     },
     "execution_count": 28,
     "metadata": {},
     "output_type": "execute_result"
    }
   ],
   "source": [
    "tf.random.set_seed(42)\n",
    "embedding_dim = 2\n",
    "embedding_init = tf.random.uniform([len(vocab) + n_oov_buckets, embedding_dim])\n",
    "embedding_init"
   ]
  },
  {
   "cell_type": "code",
   "execution_count": 29,
   "id": "d55ee010",
   "metadata": {},
   "outputs": [
    {
     "data": {
      "text/plain": [
       "<tf.Variable 'Variable:0' shape=(7, 2) dtype=float32, numpy=\n",
       "array([[0.6645621 , 0.44100678],\n",
       "       [0.3528825 , 0.46448255],\n",
       "       [0.03366041, 0.68467236],\n",
       "       [0.74011743, 0.8724445 ],\n",
       "       [0.22632635, 0.22319686],\n",
       "       [0.3103881 , 0.7223358 ],\n",
       "       [0.13318717, 0.5480639 ]], dtype=float32)>"
      ]
     },
     "execution_count": 29,
     "metadata": {},
     "output_type": "execute_result"
    }
   ],
   "source": [
    "embedding_matrix = tf.Variable(embedding_init)\n",
    "embedding_matrix"
   ]
  },
  {
   "cell_type": "code",
   "execution_count": 30,
   "id": "63faee63",
   "metadata": {},
   "outputs": [
    {
     "data": {
      "text/plain": [
       "<tf.Tensor: shape=(5,), dtype=string, numpy=\n",
       "array([b'NEAR BAY', b'near bay', b'DESERT', b'INLAND', b'INLAND'],\n",
       "      dtype=object)>"
      ]
     },
     "execution_count": 30,
     "metadata": {},
     "output_type": "execute_result"
    }
   ],
   "source": [
    "categories"
   ]
  },
  {
   "cell_type": "code",
   "execution_count": 31,
   "id": "b52cddeb",
   "metadata": {},
   "outputs": [
    {
     "data": {
      "text/plain": [
       "<tf.Tensor: shape=(5,), dtype=int64, numpy=array([3, 6, 5, 1, 1])>"
      ]
     },
     "execution_count": 31,
     "metadata": {},
     "output_type": "execute_result"
    }
   ],
   "source": [
    "cat_indices"
   ]
  },
  {
   "cell_type": "code",
   "execution_count": 32,
   "id": "dc9d468e",
   "metadata": {},
   "outputs": [
    {
     "data": {
      "text/plain": [
       "<tf.Tensor: shape=(5, 2), dtype=float32, numpy=\n",
       "array([[0.74011743, 0.8724445 ],\n",
       "       [0.13318717, 0.5480639 ],\n",
       "       [0.3103881 , 0.7223358 ],\n",
       "       [0.3528825 , 0.46448255],\n",
       "       [0.3528825 , 0.46448255]], dtype=float32)>"
      ]
     },
     "execution_count": 32,
     "metadata": {},
     "output_type": "execute_result"
    }
   ],
   "source": [
    "tf.nn.embedding_lookup(embedding_matrix, cat_indices)"
   ]
  },
  {
   "cell_type": "markdown",
   "id": "943259db",
   "metadata": {},
   "source": [
    "### Using `keras`\n",
    "More precisely, `keras.layers.Embedding`."
   ]
  },
  {
   "cell_type": "code",
   "execution_count": 35,
   "id": "e7846b1a",
   "metadata": {},
   "outputs": [
    {
     "data": {
      "text/plain": [
       "<tf.Tensor: shape=(5, 2), dtype=float32, numpy=\n",
       "array([[ 0.02401174,  0.03724445],\n",
       "       [-0.03668128,  0.00480639],\n",
       "       [-0.01896119,  0.02223358],\n",
       "       [-0.01471175, -0.00355174],\n",
       "       [-0.01471175, -0.00355174]], dtype=float32)>"
      ]
     },
     "execution_count": 35,
     "metadata": {},
     "output_type": "execute_result"
    }
   ],
   "source": [
    "tf.random.set_seed(42)\n",
    "embedding = keras.layers.Embedding(input_dim=len(vocab)+n_oov_buckets,\n",
    "                                   output_dim=embedding_dim)\n",
    "embedding(cat_indices)"
   ]
  },
  {
   "cell_type": "code",
   "execution_count": null,
   "id": "493f9210",
   "metadata": {},
   "outputs": [],
   "source": []
  }
 ],
 "metadata": {
  "kernelspec": {
   "display_name": "Python 3",
   "language": "python",
   "name": "python3"
  },
  "language_info": {
   "codemirror_mode": {
    "name": "ipython",
    "version": 3
   },
   "file_extension": ".py",
   "mimetype": "text/x-python",
   "name": "python",
   "nbconvert_exporter": "python",
   "pygments_lexer": "ipython3",
   "version": "3.7.8"
  }
 },
 "nbformat": 4,
 "nbformat_minor": 5
}
