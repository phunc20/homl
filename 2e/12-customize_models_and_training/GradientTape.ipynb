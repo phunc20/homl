{
 "cells": [
  {
   "cell_type": "markdown",
   "metadata": {},
   "source": [
    "## Autodiff in `tf`\n",
    "An toy function\n",
    "$$\n",
    "\\begin{align}\n",
    "  f(w_{1}, w_{2}) &= 3 w_{1}^2 + 2w_{1}w_{2} \\\\\n",
    "  \\nabla f(w_{1}, w_{2}) &= \\begin{pmatrix}\n",
    "    6w_{1} + 2w_{2} \\\\\n",
    "    2w_{1}\n",
    "  \\end{pmatrix} \\\\\n",
    "  \\nabla f(5, 3) &= \\begin{pmatrix}\n",
    "    36 \\\\\n",
    "    10\n",
    "  \\end{pmatrix} \\\\\n",
    "\\end{align}\n",
    "$$"
   ]
  },
  {
   "cell_type": "markdown",
   "metadata": {},
   "source": [
    "### Partial Derivatives by Definition"
   ]
  },
  {
   "cell_type": "code",
   "execution_count": 1,
   "metadata": {},
   "outputs": [],
   "source": [
    "def f(w1, w2):\n",
    "    return 3*w1**2 + 2*w1*w2"
   ]
  },
  {
   "cell_type": "code",
   "execution_count": 2,
   "metadata": {},
   "outputs": [],
   "source": [
    "w1, w2 = 5, 3\n",
    "eps = 1e-6"
   ]
  },
  {
   "cell_type": "code",
   "execution_count": 3,
   "metadata": {},
   "outputs": [
    {
     "data": {
      "text/plain": [
       "36.000003007075065"
      ]
     },
     "execution_count": 3,
     "metadata": {},
     "output_type": "execute_result"
    }
   ],
   "source": [
    "(f(w1 + eps, w2) - f(w1, w2)) / eps"
   ]
  },
  {
   "cell_type": "code",
   "execution_count": 4,
   "metadata": {},
   "outputs": [
    {
     "data": {
      "text/plain": [
       "10.000000003174137"
      ]
     },
     "execution_count": 4,
     "metadata": {},
     "output_type": "execute_result"
    }
   ],
   "source": [
    "(f(w1, w2 + eps) - f(w1, w2)) / eps"
   ]
  },
  {
   "cell_type": "markdown",
   "metadata": {},
   "source": [
    "One drawback of this approach, as indicated by Aurelien, is that, for each partial derivative, say w.r.t. $w_{j}$, we need to evalution the function once at $f(w_{1}, \\ldots, w_{j} + \\epsilon, \\ldots, w_{n})\\,.$\n",
    "\n",
    "Usually for a deep neural network, the number of parameters $w_{j}$ can be large, which means that we need to evaluate some function $f$ many many times. (In the most cases of DNN, $f$ is the cost function $J\\,.$) This can quickly become expensive."
   ]
  },
  {
   "cell_type": "markdown",
   "metadata": {},
   "source": [
    "### Partial Derivatives by `tf.GradientTape`\n",
    "Let's see how we can do this in `tf`."
   ]
  },
  {
   "cell_type": "code",
   "execution_count": 5,
   "metadata": {},
   "outputs": [],
   "source": [
    "import tensorflow as tf"
   ]
  },
  {
   "cell_type": "code",
   "execution_count": 6,
   "metadata": {},
   "outputs": [
    {
     "data": {
      "text/plain": [
       "[<tf.Tensor: shape=(), dtype=float32, numpy=36.0>,\n",
       " <tf.Tensor: shape=(), dtype=float32, numpy=10.0>]"
      ]
     },
     "execution_count": 6,
     "metadata": {},
     "output_type": "execute_result"
    }
   ],
   "source": [
    "# Notice the points after the numbers, they tell tf that these should be recognized as float, not int\n",
    "w1, w2 = tf.Variable(5.), tf.Variable(3.)\n",
    "with tf.GradientTape() as tape:\n",
    "    z = f(w1, w2)\n",
    "\n",
    "gradient = tape.gradient(z, [w1, w2])\n",
    "gradient"
   ]
  },
  {
   "cell_type": "markdown",
   "metadata": {},
   "source": [
    "Wow, numerically `tf` gives closer results than our calculation by definition. A few of Aurelien's comments on this:\n",
    "\n",
    "> - The precision is only limited by floating-point errors\n",
    "> - only goes through the recoreded computation **once** (in reverse order), no matter how many independant variables there are\n",
    "> - To save memory, only put the strict minimum inside the `with tf.GradientTape() as tape` block. Alternatively, pause recording by creating a `with tape.stop_recording()` block inside the `with tf.GradientTape() as tape` block."
   ]
  },
  {
   "cell_type": "markdown",
   "metadata": {},
   "source": [
    "Let's use `%%timeit` magic to measure the time for running both methods."
   ]
  },
  {
   "cell_type": "code",
   "execution_count": 7,
   "metadata": {},
   "outputs": [
    {
     "name": "stdout",
     "output_type": "stream",
     "text": [
      "1.2 ms ± 29.7 µs per loop (mean ± std. dev. of 7 runs, 1000 loops each)\n"
     ]
    }
   ],
   "source": [
    "%%timeit\n",
    "(f(w1 + eps, w2) - f(w1, w2)) / eps\n",
    "(f(w1, w2 + eps) - f(w1, w2)) / eps"
   ]
  },
  {
   "cell_type": "code",
   "execution_count": 8,
   "metadata": {},
   "outputs": [
    {
     "name": "stdout",
     "output_type": "stream",
     "text": [
      "697 µs ± 11.8 µs per loop (mean ± std. dev. of 7 runs, 1000 loops each)\n"
     ]
    }
   ],
   "source": [
    "%%timeit\n",
    "with tf.GradientTape() as tape:\n",
    "    z = f(w1, w2)\n",
    "\n",
    "gradient = tape.gradient(z, [w1, w2])\n",
    "gradient"
   ]
  },
  {
   "cell_type": "markdown",
   "metadata": {},
   "source": [
    "The tape is automatically erased after you call its `gradient()` method, so you will get an exception if you try\n",
    "to call `gradient()` twice:"
   ]
  },
  {
   "cell_type": "code",
   "execution_count": 9,
   "metadata": {},
   "outputs": [
    {
     "name": "stdout",
     "output_type": "stream",
     "text": [
      "dz_dw1 = 36.0\n",
      "type(dz_dw1) = <class 'tensorflow.python.framework.ops.EagerTensor'>\n",
      "RuntimeError: GradientTape.gradient can only be called once on non-persistent tapes.\n"
     ]
    }
   ],
   "source": [
    "with tf.GradientTape() as tape:\n",
    "    z = f(w1, w2)\n",
    "\n",
    "dz_dw1 = tape.gradient(z, w1)\n",
    "print(f\"dz_dw1 = {dz_dw1}\")\n",
    "print(f\"type(dz_dw1) = {type(dz_dw1)}\")\n",
    "try:\n",
    "    dz_dw2 = tape.gradient(z, w2)\n",
    "    print(f\"dz_dw2 = {dz_dw2}\")\n",
    "    print(f\"type(dz_dw2) = {type(dz_dw2)}\")\n",
    "except RuntimeError as err:\n",
    "    #print(f\"{err.__class__}: {err}\")\n",
    "    print(f\"RuntimeError: {err}\")"
   ]
  },
  {
   "cell_type": "markdown",
   "metadata": {},
   "source": [
    "As the error message above suggested, and as Aurelien further explained, if we need to call `gradient()` more than\n",
    "once, we must make the tape persistent and **_delete it after we are done_** to **_free resources_**."
   ]
  },
  {
   "cell_type": "code",
   "execution_count": 10,
   "metadata": {},
   "outputs": [
    {
     "name": "stdout",
     "output_type": "stream",
     "text": [
      "dz_dw1 = [<tf.Tensor: shape=(), dtype=float32, numpy=36.0>]\n",
      "dz_dw2 = [<tf.Tensor: shape=(), dtype=float32, numpy=10.0>]\n"
     ]
    }
   ],
   "source": [
    "with tf.GradientTape(persistent=True) as tape:\n",
    "    z = f(w1, w2)\n",
    "\n",
    "dz_dw1 = tape.gradient(z, [w1])\n",
    "print(f\"dz_dw1 = {dz_dw1}\")\n",
    "dz_dw2 = tape.gradient(z, [w2])\n",
    "print(f\"dz_dw2 = {dz_dw2}\")\n",
    "del tape"
   ]
  },
  {
   "cell_type": "markdown",
   "metadata": {},
   "source": [
    "By default, the tape will only track operations involving `tf.Variable`'s."
   ]
  },
  {
   "cell_type": "code",
   "execution_count": 11,
   "metadata": {},
   "outputs": [
    {
     "data": {
      "text/plain": [
       "[None, None]"
      ]
     },
     "execution_count": 11,
     "metadata": {},
     "output_type": "execute_result"
    }
   ],
   "source": [
    "c1, c2 = tf.constant(5.), tf.constant(3.)\n",
    "with tf.GradientTape() as tape:\n",
    "    z = f(c1, c2)\n",
    "\n",
    "gradient = tape.gradient(z, [c1, c2])\n",
    "gradient"
   ]
  },
  {
   "cell_type": "markdown",
   "metadata": {},
   "source": [
    "However, we can force the tape to **_watch_** any tensors, enabling gradient calculations in this situation:"
   ]
  },
  {
   "cell_type": "code",
   "execution_count": 12,
   "metadata": {},
   "outputs": [
    {
     "data": {
      "text/plain": [
       "[<tf.Tensor: shape=(), dtype=float32, numpy=36.0>,\n",
       " <tf.Tensor: shape=(), dtype=float32, numpy=10.0>]"
      ]
     },
     "execution_count": 12,
     "metadata": {},
     "output_type": "execute_result"
    }
   ],
   "source": [
    "c1, c2 = tf.constant(5.), tf.constant(3.)\n",
    "with tf.GradientTape() as tape:\n",
    "    tape.watch(c1)\n",
    "    tape.watch(c2)\n",
    "    z = f(c1, c2)\n",
    "\n",
    "gradient = tape.gradient(z, [c1, c2])\n",
    "gradient"
   ]
  },
  {
   "cell_type": "markdown",
   "metadata": {},
   "source": [
    "The `tf.GradientTape()` thing we just experiencde is called **_reverse-mode autodiff_**. It only needs to do **_one forward pass_** and **_one backward pass_** in order to get all the gradients."
   ]
  },
  {
   "cell_type": "markdown",
   "metadata": {},
   "source": [
    "#### Gradient, Jacobian, Hessian\n",
    "If our `f` is a vector-valued function instead of a scalar-valued function, i.e.\n",
    "\n",
    "$$\n",
    "  f: w \\in \\mathbb{R}^n \\mapsto \\left(f_{1}(w), \\ldots, f_{m}(w)\\right) \\in \\mathbb{R}^m\\,,\n",
    "$$\n",
    "\n",
    "then\n",
    "\n",
    "- `tape.gradient()` will compute the gradient of the sum $\\sum_{i=1}^{m} f_{i}$ w.r.t. the $w_{j}$'s\n",
    "- There is a `tape.jacobian()` method which will compute the Jacobian of $f$, i.e. the gradients of the $f_{i}$'s, **_in parallel_**\n",
    "- It is even possible to compute the Hessian of a scalar-valued function."
   ]
  },
  {
   "cell_type": "markdown",
   "metadata": {},
   "source": [
    "Let's do the above-mentioned computations in `tf` for the following vector-valued function $g\\,,$ and scalar-valued functions $h$:\n",
    "$$\n",
    "\\begin{align}\n",
    "  g:\n",
    "  \\begin{pmatrix}\n",
    "    w_1 \\\\\n",
    "    w_2\n",
    "  \\end{pmatrix} &\\mapsto\n",
    "  \\begin{pmatrix}\n",
    "    z_1 \\\\\n",
    "    z_2 \\\\\n",
    "    z_3\n",
    "  \\end{pmatrix} =\n",
    "  \\begin{pmatrix}\n",
    "    f(w_1, w_2 + 2) \\\\\n",
    "    f(w_1, w_2 + 5) \\\\\n",
    "    f(w_1, w_2 + 7)\n",
    "  \\end{pmatrix} \\\\\n",
    "  h:\n",
    "  \\begin{pmatrix}\n",
    "    w_1 \\\\\n",
    "    w_2\n",
    "  \\end{pmatrix} &\\mapsto\n",
    "  z_1 + z_2 + z_3 =\n",
    "  f(w_1, w_2 + 2) +\n",
    "  f(w_1, w_2 + 5) +\n",
    "  f(w_1, w_2 + 7) \\\\\n",
    "  \\text{Jacobian}(g):\n",
    "  \\begin{pmatrix}\n",
    "    w_1 \\\\\n",
    "    w_2\n",
    "  \\end{pmatrix} &\\mapsto\n",
    "  \\begin{pmatrix}\n",
    "    6w_1 + 2(w_2 + 2) & 2w_1 \\\\\n",
    "    6w_1 + 2(w_2 + 5) & 2w_1 \\\\\n",
    "    6w_1 + 2(w_2 + 7) & 2w_1 \\\\\n",
    "  \\end{pmatrix} \\\\\n",
    "  \\nabla h:\n",
    "  \\begin{pmatrix}\n",
    "    w_1 \\\\\n",
    "    w_2\n",
    "  \\end{pmatrix} &\\mapsto\n",
    "  \\begin{pmatrix}\n",
    "    18w_1 + 6w_2 + 2(2+5+7) \\\\\n",
    "    6w_1\n",
    "  \\end{pmatrix} \\\\\n",
    "  \\begin{pmatrix}\n",
    "    5 \\\\\n",
    "    3\n",
    "  \\end{pmatrix} &\\mapsto\n",
    "  \\begin{pmatrix}\n",
    "    136 \\\\\n",
    "    30\n",
    "  \\end{pmatrix}\n",
    "\\end{align}\n",
    "$$"
   ]
  },
  {
   "cell_type": "code",
   "execution_count": 13,
   "metadata": {},
   "outputs": [
    {
     "data": {
      "text/plain": [
       "[<tf.Tensor: shape=(), dtype=float32, numpy=136.0>,\n",
       " <tf.Tensor: shape=(), dtype=float32, numpy=30.0>]"
      ]
     },
     "execution_count": 13,
     "metadata": {},
     "output_type": "execute_result"
    }
   ],
   "source": [
    "with tf.GradientTape() as tape:\n",
    "    z1 = f(w1, w2 + 2.)\n",
    "    z2 = f(w1, w2 + 5.)\n",
    "    z3 = f(w1, w2 + 7.)\n",
    "\n",
    "# This should correspond to the promised gradient of the sum (z1 + z2 + z3)\n",
    "gradient = tape.gradient([z1, z2, z3], [w1, w2])\n",
    "gradient"
   ]
  },
  {
   "cell_type": "code",
   "execution_count": 14,
   "metadata": {},
   "outputs": [
    {
     "name": "stdout",
     "output_type": "stream",
     "text": [
      "jacobian =\n",
      "[[40. 10.]\n",
      " [46. 10.]\n",
      " [50. 10.]]\n",
      "gradient = [136.  30.]\n"
     ]
    }
   ],
   "source": [
    "# Let's also verify this numerically\n",
    "with tf.GradientTape(persistent=True) as tape:\n",
    "    z1 = f(w1, w2 + 2.)\n",
    "    z2 = f(w1, w2 + 5.)\n",
    "    z3 = f(w1, w2 + 7.)\n",
    "\n",
    "jacobian = tf.stack([tape.gradient(z, [w1, w2]) for z in (z1, z2, z3)])\n",
    "gradient = tf.reduce_sum(jacobian, axis=0)\n",
    "del tape\n",
    "print(f\"jacobian =\\n{jacobian}\")\n",
    "print(f\"gradient = {gradient}\")"
   ]
  },
  {
   "cell_type": "code",
   "execution_count": 15,
   "metadata": {},
   "outputs": [
    {
     "name": "stdout",
     "output_type": "stream",
     "text": [
      "gradient =\n",
      "[<tf.Tensor: shape=(), dtype=float32, numpy=36.0>, <tf.Tensor: shape=(), dtype=float32, numpy=10.0>]\n",
      "hessian =\n",
      "[[<tf.Tensor: shape=(), dtype=float32, numpy=6.0>, <tf.Tensor: shape=(), dtype=float32, numpy=2.0>], [<tf.Tensor: shape=(), dtype=float32, numpy=2.0>, None]]\n"
     ]
    }
   ],
   "source": [
    "with tf.GradientTape(persistent=True) as hessian_tape:\n",
    "    with tf.GradientTape() as gradient_tape:\n",
    "        z = f(w1, w2)\n",
    "    gradient = gradient_tape.gradient(z, [w1, w2])\n",
    "hessian = [hessian_tape.gradient(partial_derivative, [w1, w2])\n",
    "           for partial_derivative in gradient]\n",
    "del hessian_tape\n",
    "print(f\"gradient =\\n{gradient}\")\n",
    "print(f\"hessian =\\n{hessian}\")"
   ]
  },
  {
   "cell_type": "markdown",
   "metadata": {},
   "source": [
    "$$\n",
    "\\begin{align}\n",
    "  \\text{Hessain}(f):\n",
    "  \\begin{pmatrix}\n",
    "    w_1 \\\\\n",
    "    w_2\n",
    "  \\end{pmatrix} &\\mapsto\n",
    "  \\begin{pmatrix}\n",
    "    6 & 2 \\\\\n",
    "    2 & 0 \\\\\n",
    "  \\end{pmatrix} \\\\\n",
    "\\end{align}\n",
    "$$\n",
    "\n",
    "**Rmk.** Just like in Julia, the **_partial derivative of a constant function_** gives **`None`** in `tf`."
   ]
  },
  {
   "cell_type": "code",
   "execution_count": 16,
   "metadata": {},
   "outputs": [
    {
     "data": {
      "text/plain": [
       "True"
      ]
     },
     "execution_count": 16,
     "metadata": {},
     "output_type": "execute_result"
    }
   ],
   "source": [
    "with tf.GradientTape() as tape:\n",
    "    z = (lambda x: tf.constant(3.14159))(w1)\n",
    "\n",
    "tape.gradient(z, w1) is None"
   ]
  },
  {
   "cell_type": "markdown",
   "metadata": {},
   "source": [
    "We can ask `tf` to stop tracking gradient from some part of our neural network by using the `tf.stop_gradient()`.\n",
    "\n",
    "During the forward pass, it still computes the part inside `tf.stop_gradient()`, whereas, during the backward\n",
    "pass, it does not let gradient through. (It is **_as if that part equals some constant_**. Note that a constant's derivative equals `None` in `tf`.)"
   ]
  },
  {
   "cell_type": "code",
   "execution_count": 17,
   "metadata": {},
   "outputs": [
    {
     "name": "stdout",
     "output_type": "stream",
     "text": [
      "z = 105.0\n",
      "gradient = [<tf.Tensor: shape=(), dtype=float32, numpy=30.0>, None]\n"
     ]
    }
   ],
   "source": [
    "def ff(w1, w2):\n",
    "    return 3*w1**2 + tf.stop_gradient(2*w1*w2)\n",
    "\n",
    "with tf.GradientTape() as tape:\n",
    "    z = ff(w1, w2)\n",
    "\n",
    "gradient = tape.gradient(z, [w1, w2])\n",
    "print(f\"z = {z}\")\n",
    "print(f\"gradient = {gradient}\")"
   ]
  },
  {
   "cell_type": "code",
   "execution_count": 18,
   "metadata": {},
   "outputs": [
    {
     "name": "stdout",
     "output_type": "stream",
     "text": [
      "z = 105.0\n",
      "gradient = [<tf.Tensor: shape=(), dtype=float32, numpy=36.0>, <tf.Tensor: shape=(), dtype=float32, numpy=10.0>]\n"
     ]
    }
   ],
   "source": [
    "with tf.GradientTape() as tape:\n",
    "    z = f(w1, w2)\n",
    "\n",
    "gradient = tape.gradient(z, [w1, w2])\n",
    "print(f\"z = {z}\")\n",
    "print(f\"gradient = {gradient}\")"
   ]
  },
  {
   "cell_type": "markdown",
   "metadata": {},
   "source": [
    "#### Numerical Errors"
   ]
  },
  {
   "cell_type": "code",
   "execution_count": 19,
   "metadata": {},
   "outputs": [],
   "source": [
    "%matplotlib inline\n",
    "import matplotlib as mpl\n",
    "import matplotlib.pyplot as plt\n",
    "\n",
    "mpl.rc('axes', labelsize=14)\n",
    "mpl.rc('xtick', labelsize=12)\n",
    "mpl.rc('ytick', labelsize=12)\n",
    "\n",
    "plt.rcParams.update({\n",
    "    \"lines.color\": \"white\",\n",
    "    \"patch.edgecolor\": \"white\",\n",
    "    \"text.color\": \"black\",\n",
    "    \"axes.facecolor\": \"black\",\n",
    "    \"axes.edgecolor\": \"lightgray\",\n",
    "    \"axes.labelcolor\": \"white\",\n",
    "    \"axes.titlecolor\": \"white\",\n",
    "    \"xtick.color\": \"white\",\n",
    "    \"ytick.color\": \"white\",\n",
    "    \"grid.color\": \"lightgray\",\n",
    "    \"figure.facecolor\": \"black\",\n",
    "    \"figure.edgecolor\": \"black\",\n",
    "    \"savefig.facecolor\": \"black\",\n",
    "    \"savefig.edgecolor\": \"black\",\n",
    "    \"legend.edgecolor\": \"white\",\n",
    "    \"legend.facecolor\": \"white\",\n",
    "})"
   ]
  },
  {
   "cell_type": "code",
   "execution_count": 20,
   "metadata": {},
   "outputs": [],
   "source": [
    "def my_softplus(z):\n",
    "    return tf.math.log(tf.exp(z) + 1.0)"
   ]
  },
  {
   "cell_type": "markdown",
   "metadata": {},
   "source": [
    "`softplus` funciton is\n",
    "\n",
    "- quite similar to `relu`, except that\n",
    "  - it's smoother -- its derivative $z \\mapsto \\frac{e^z}{e^z + 1}$ is continuous on $\\mathbb{R}\\,.$\n",
    "  - `softplus(0)` is not equal to `relu(0)`"
   ]
  },
  {
   "cell_type": "code",
   "execution_count": 21,
   "metadata": {},
   "outputs": [
    {
     "data": {
      "text/plain": [
       "<tf.Tensor: shape=(), dtype=float32, numpy=0.6931472>"
      ]
     },
     "execution_count": 21,
     "metadata": {},
     "output_type": "execute_result"
    }
   ],
   "source": [
    "my_softplus(0.)  # N.B. my_softplus(0) will produce error because of dtype inconsistency"
   ]
  },
  {
   "cell_type": "code",
   "execution_count": 22,
   "metadata": {},
   "outputs": [],
   "source": [
    "import numpy as np"
   ]
  },
  {
   "cell_type": "code",
   "execution_count": 23,
   "metadata": {},
   "outputs": [
    {
     "data": {
      "image/png": "[encoded data removed]",
      "text/plain": [
       "<Figure size 432x288 with 1 Axes>"
      ]
     },
     "metadata": {},
     "output_type": "display_data"
    }
   ],
   "source": [
    "width = 10\n",
    "n_points = 9_000\n",
    "x = np.linspace(-width, width, n_points)\n",
    "y = my_softplus(x).numpy()\n",
    "yy = tf.keras.activations.relu(x).numpy()\n",
    "\n",
    "alpha = 0.5\n",
    "plt.plot(x, y, alpha=alpha, label=\"y = softplus(x)\");\n",
    "plt.plot(x, yy, alpha=alpha, label=\"y = relu(x)\");\n",
    "#plt.title(\"y = my_softplus(x)\")\n",
    "plt.legend()\n",
    "plt.xlabel(\"x\")\n",
    "plt.ylabel(\"y\");"
   ]
  },
  {
   "cell_type": "markdown",
   "metadata": {},
   "source": [
    "Note that the curve of `relu` is the asymptotics of that of `softplus`. Indeed, $\\text{softplus}'(z) = \\frac{e^z}{e^z + 1}$ is an increasing function from $\\frac{1}{2}$ to $1$ as $z$ goes from $0$ to $\\infty\\,.$"
   ]
  },
  {
   "cell_type": "markdown",
   "metadata": {},
   "source": [
    "Let's calculate `softplus`' gradient."
   ]
  },
  {
   "cell_type": "code",
   "execution_count": 24,
   "metadata": {},
   "outputs": [
    {
     "data": {
      "text/plain": [
       "<tf.Tensor: shape=(), dtype=float32, numpy=nan>"
      ]
     },
     "execution_count": 24,
     "metadata": {},
     "output_type": "execute_result"
    }
   ],
   "source": [
    "z = tf.Variable(100.)\n",
    "with tf.GradientTape() as tape:\n",
    "    xi = my_softplus(z)\n",
    "\n",
    "tape.gradient(xi, z)"
   ]
  },
  {
   "cell_type": "markdown",
   "metadata": {},
   "source": [
    "`nan`? What happened?\n",
    "\n",
    "Aurelien said,\n",
    "> Autodiff in the above case ends up computing infinity divided by infinity (which returns NaN).\n",
    "\n",
    "Let's use Numpy to verify this."
   ]
  },
  {
   "cell_type": "code",
   "execution_count": 25,
   "metadata": {},
   "outputs": [
    {
     "data": {
      "text/plain": [
       "2.6881171418161356e+43"
      ]
     },
     "execution_count": 25,
     "metadata": {},
     "output_type": "execute_result"
    }
   ],
   "source": [
    "np.exp(100.)"
   ]
  },
  {
   "cell_type": "code",
   "execution_count": 26,
   "metadata": {},
   "outputs": [
    {
     "data": {
      "text/plain": [
       "1.0"
      ]
     },
     "execution_count": 26,
     "metadata": {},
     "output_type": "execute_result"
    }
   ],
   "source": [
    "np.exp(100.) / np.exp(100.)"
   ]
  },
  {
   "cell_type": "code",
   "execution_count": 27,
   "metadata": {},
   "outputs": [
    {
     "name": "stderr",
     "output_type": "stream",
     "text": [
      "/home/phunc20/.virtualenvs/tf2.2.0-torch1.6.0-py3.7/lib/python3.7/site-packages/ipykernel_launcher.py:1: RuntimeWarning: overflow encountered in exp\n",
      "  \"\"\"Entry point for launching an IPython kernel.\n"
     ]
    },
    {
     "data": {
      "text/plain": [
       "inf"
      ]
     },
     "execution_count": 27,
     "metadata": {},
     "output_type": "execute_result"
    }
   ],
   "source": [
    "np.exp(100., dtype=np.float32)"
   ]
  },
  {
   "cell_type": "code",
   "execution_count": 28,
   "metadata": {},
   "outputs": [
    {
     "name": "stderr",
     "output_type": "stream",
     "text": [
      "/home/phunc20/.virtualenvs/tf2.2.0-torch1.6.0-py3.7/lib/python3.7/site-packages/ipykernel_launcher.py:1: RuntimeWarning: overflow encountered in exp\n",
      "  \"\"\"Entry point for launching an IPython kernel.\n",
      "/home/phunc20/.virtualenvs/tf2.2.0-torch1.6.0-py3.7/lib/python3.7/site-packages/ipykernel_launcher.py:1: RuntimeWarning: invalid value encountered in float_scalars\n",
      "  \"\"\"Entry point for launching an IPython kernel.\n"
     ]
    },
    {
     "data": {
      "text/plain": [
       "nan"
      ]
     },
     "execution_count": 28,
     "metadata": {},
     "output_type": "execute_result"
    }
   ],
   "source": [
    "np.exp(100., dtype=np.float32) / np.exp(100., dtype=np.float32)"
   ]
  },
  {
   "cell_type": "code",
   "execution_count": 29,
   "metadata": {},
   "outputs": [
    {
     "data": {
      "text/plain": [
       "2.6881171418161356e+43"
      ]
     },
     "execution_count": 29,
     "metadata": {},
     "output_type": "execute_result"
    }
   ],
   "source": [
    "np.exp(100., dtype=np.float64)"
   ]
  },
  {
   "cell_type": "code",
   "execution_count": 30,
   "metadata": {},
   "outputs": [
    {
     "data": {
      "text/plain": [
       "1.0"
      ]
     },
     "execution_count": 30,
     "metadata": {},
     "output_type": "execute_result"
    }
   ],
   "source": [
    "np.exp(100., dtype=np.float64) / np.exp(100., dtype=np.float64)"
   ]
  },
  {
   "cell_type": "code",
   "execution_count": 31,
   "metadata": {},
   "outputs": [
    {
     "data": {
      "text/plain": [
       "(tf.float64, tf.float16, tf.float32)"
      ]
     },
     "execution_count": 31,
     "metadata": {},
     "output_type": "execute_result"
    }
   ],
   "source": [
    "tf.float64, tf.float16, tf.float32"
   ]
  },
  {
   "cell_type": "code",
   "execution_count": 32,
   "metadata": {},
   "outputs": [
    {
     "data": {
      "text/plain": [
       "<tf.Tensor: shape=(), dtype=float64, numpy=1.0>"
      ]
     },
     "execution_count": 32,
     "metadata": {},
     "output_type": "execute_result"
    }
   ],
   "source": [
    "z = tf.Variable(100., dtype=tf.float64)\n",
    "with tf.GradientTape() as tape:\n",
    "    xi = my_softplus(z)\n",
    "\n",
    "tape.gradient(xi, z)"
   ]
  },
  {
   "cell_type": "markdown",
   "metadata": {},
   "source": [
    "So, more precisely speaking, this happens due to **`float32` _overflow_**."
   ]
  },
  {
   "cell_type": "markdown",
   "metadata": {},
   "source": [
    "### Workaround\n",
    "Another, better, workaround for this is to find a more numerically stable formula for the derivative and then tell `tf` to use the found formula instead. Let's see closer how this is done."
   ]
  },
  {
   "cell_type": "markdown",
   "metadata": {},
   "source": [
    "If $\\frac{e^z}{e^z + 1}$ causes overflow, its equivalent $\\frac{e^z}{e^z + 1} = \\frac{1}{1 + e^{-z}}$ won't cause overflow. Let's use this formula.\n",
    "\n",
    "To inform `tf` of this, we\n",
    "\n",
    "- rewrite the `softplus` function\n",
    "- have the new function return\n",
    "  - both the old return value of `softplus`\n",
    "  - as well as a function whose input is $\\frac{\\partial J}{\\partial (\\text{so far})}$ and whose output is $\\frac{\\partial J}{\\partial (\\text{so far})} \\cdot \\frac{1}{1 + e^{-z}}\\,,$ as if we are guiding `tf` through the differentiation of this part\n",
    "- finally, we decorate the function with `@tf.custom_gradient`"
   ]
  },
  {
   "cell_type": "code",
   "execution_count": 33,
   "metadata": {},
   "outputs": [],
   "source": [
    "@tf.custom_gradient\n",
    "def my_better_softplus(z):\n",
    "    exp = tf.exp(z)\n",
    "    def my_softplus_gradient(grad):\n",
    "        return grad / (1 + 1/exp)\n",
    "    return tf.math.log(exp + 1), my_softplus_gradient"
   ]
  },
  {
   "cell_type": "code",
   "execution_count": 34,
   "metadata": {},
   "outputs": [
    {
     "data": {
      "text/plain": [
       "<tf.Tensor: shape=(), dtype=float32, numpy=1.0>"
      ]
     },
     "execution_count": 34,
     "metadata": {},
     "output_type": "execute_result"
    }
   ],
   "source": [
    "z = tf.Variable(100.)\n",
    "with tf.GradientTape() as tape:\n",
    "    xi = my_better_softplus(z)\n",
    "\n",
    "tape.gradient(xi, z)"
   ]
  },
  {
   "cell_type": "code",
   "execution_count": 35,
   "metadata": {},
   "outputs": [
    {
     "data": {
      "text/plain": [
       "<tf.Tensor: shape=(), dtype=float32, numpy=0.9999546>"
      ]
     },
     "execution_count": 35,
     "metadata": {},
     "output_type": "execute_result"
    }
   ],
   "source": [
    "z = tf.Variable(10.)\n",
    "with tf.GradientTape() as tape:\n",
    "    xi = my_better_softplus(z)\n",
    "\n",
    "tape.gradient(xi, z)"
   ]
  },
  {
   "cell_type": "code",
   "execution_count": 36,
   "metadata": {},
   "outputs": [
    {
     "data": {
      "text/plain": [
       "<tf.Tensor: shape=(), dtype=float32, numpy=0.99995464>"
      ]
     },
     "execution_count": 36,
     "metadata": {},
     "output_type": "execute_result"
    }
   ],
   "source": [
    "z = tf.Variable(10.)\n",
    "with tf.GradientTape() as tape:\n",
    "    xi = my_softplus(z)\n",
    "\n",
    "tape.gradient(xi, z)"
   ]
  },
  {
   "cell_type": "markdown",
   "metadata": {},
   "source": [
    "It seems that overflow takes place at `89.` already."
   ]
  },
  {
   "cell_type": "code",
   "execution_count": 37,
   "metadata": {},
   "outputs": [
    {
     "data": {
      "text/plain": [
       "<tf.Tensor: shape=(), dtype=float32, numpy=nan>"
      ]
     },
     "execution_count": 37,
     "metadata": {},
     "output_type": "execute_result"
    }
   ],
   "source": [
    "z = tf.Variable(89.)\n",
    "with tf.GradientTape() as tape:\n",
    "    xi = my_softplus(z)\n",
    "\n",
    "tape.gradient(xi, z)"
   ]
  },
  {
   "cell_type": "code",
   "execution_count": 38,
   "metadata": {},
   "outputs": [
    {
     "data": {
      "text/plain": [
       "<tf.Tensor: shape=(), dtype=float32, numpy=1.0>"
      ]
     },
     "execution_count": 38,
     "metadata": {},
     "output_type": "execute_result"
    }
   ],
   "source": [
    "z = tf.Variable(89.)\n",
    "with tf.GradientTape() as tape:\n",
    "    xi = my_better_softplus(z)\n",
    "\n",
    "tape.gradient(xi, z)"
   ]
  },
  {
   "cell_type": "markdown",
   "metadata": {},
   "source": [
    "One benefit of changing to this formula is that it even allows way larger `z` without ever worrying about overflow."
   ]
  },
  {
   "cell_type": "code",
   "execution_count": 39,
   "metadata": {},
   "outputs": [
    {
     "data": {
      "text/plain": [
       "tf.float32"
      ]
     },
     "execution_count": 39,
     "metadata": {},
     "output_type": "execute_result"
    }
   ],
   "source": [
    "z = tf.Variable(1e38)\n",
    "z.dtype"
   ]
  },
  {
   "cell_type": "code",
   "execution_count": 40,
   "metadata": {},
   "outputs": [
    {
     "data": {
      "text/plain": [
       "<tf.Tensor: shape=(), dtype=float32, numpy=1.0>"
      ]
     },
     "execution_count": 40,
     "metadata": {},
     "output_type": "execute_result"
    }
   ],
   "source": [
    "with tf.GradientTape() as tape:\n",
    "    xi = my_better_softplus(z)\n",
    "\n",
    "tape.gradient(xi, z)"
   ]
  },
  {
   "cell_type": "code",
   "execution_count": 41,
   "metadata": {},
   "outputs": [
    {
     "name": "stdout",
     "output_type": "stream",
     "text": [
      "Can't convert Python sequence with a value out of range for a double-precision float.\n"
     ]
    }
   ],
   "source": [
    "try:\n",
    "    z = tf.Variable(1e39)\n",
    "except ValueError as err:\n",
    "    print(err)"
   ]
  },
  {
   "cell_type": "markdown",
   "metadata": {},
   "source": [
    "**(?)** Could you explain/review the reason for the above error?"
   ]
  },
  {
   "cell_type": "code",
   "execution_count": null,
   "metadata": {},
   "outputs": [],
   "source": []
  },
  {
   "cell_type": "raw",
   "metadata": {},
   "source": [
    "help(tf.where)"
   ]
  },
  {
   "cell_type": "code",
   "execution_count": 43,
   "metadata": {},
   "outputs": [],
   "source": [
    "def my_cheat_softplus(z):\n",
    "    # one can think of tf.where() below as (in C/Julia)\n",
    "    # z > 30.? z : tf.math.log(tf.exp(z) + 1.)\n",
    "    return tf.where(z > 30., z, tf.math.log(tf.exp(z) + 1.))"
   ]
  },
  {
   "cell_type": "code",
   "execution_count": 44,
   "metadata": {},
   "outputs": [
    {
     "data": {
      "text/plain": [
       "<tf.Tensor: shape=(), dtype=float32, numpy=nan>"
      ]
     },
     "execution_count": 44,
     "metadata": {},
     "output_type": "execute_result"
    }
   ],
   "source": [
    "z = tf.Variable(100.)\n",
    "with tf.GradientTape() as tape:\n",
    "    xi = my_cheat_softplus(z)\n",
    "\n",
    "tape.gradient(xi, z)"
   ]
  },
  {
   "cell_type": "code",
   "execution_count": 45,
   "metadata": {},
   "outputs": [
    {
     "data": {
      "text/plain": [
       "(<tf.Tensor: shape=(), dtype=float32, numpy=100.0>,\n",
       " <tf.Tensor: shape=(), dtype=float32, numpy=inf>)"
      ]
     },
     "execution_count": 45,
     "metadata": {},
     "output_type": "execute_result"
    }
   ],
   "source": [
    "xi, my_softplus(100.)"
   ]
  },
  {
   "cell_type": "code",
   "execution_count": 46,
   "metadata": {},
   "outputs": [
    {
     "data": {
      "text/plain": [
       "<tf.Tensor: shape=(), dtype=float32, numpy=1.0>"
      ]
     },
     "execution_count": 46,
     "metadata": {},
     "output_type": "execute_result"
    }
   ],
   "source": [
    "z = tf.Variable(100.)\n",
    "with tf.GradientTape() as tape:\n",
    "    xi = (lambda t: t)(z)\n",
    "\n",
    "tape.gradient(xi, z)"
   ]
  },
  {
   "cell_type": "markdown",
   "metadata": {},
   "source": [
    "**(?)** Could you explain why `my_cheat_softplus()` is not helping?"
   ]
  },
  {
   "cell_type": "code",
   "execution_count": null,
   "metadata": {},
   "outputs": [],
   "source": []
  }
 ],
 "metadata": {
  "kernelspec": {
   "display_name": "Python 3",
   "language": "python",
   "name": "python3"
  },
  "language_info": {
   "codemirror_mode": {
    "name": "ipython",
    "version": 3
   },
   "file_extension": ".py",
   "mimetype": "text/x-python",
   "name": "python",
   "nbconvert_exporter": "python",
   "pygments_lexer": "ipython3",
   "version": "3.7.8"
  }
 },
 "nbformat": 4,
 "nbformat_minor": 4
}
