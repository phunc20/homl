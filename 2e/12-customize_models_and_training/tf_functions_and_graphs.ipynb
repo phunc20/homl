{
 "cells": [
  {
   "cell_type": "code",
   "execution_count": 1,
   "id": "339c61a8",
   "metadata": {},
   "outputs": [],
   "source": [
    "def cube(x):\n",
    "    return x**3"
   ]
  },
  {
   "cell_type": "code",
   "execution_count": 2,
   "id": "6a2a8d41",
   "metadata": {},
   "outputs": [
    {
     "data": {
      "text/plain": [
       "(8, 8.0)"
      ]
     },
     "execution_count": 2,
     "metadata": {},
     "output_type": "execute_result"
    }
   ],
   "source": [
    "cube(2), cube(2.0)"
   ]
  },
  {
   "cell_type": "code",
   "execution_count": 5,
   "id": "4687af73",
   "metadata": {},
   "outputs": [
    {
     "data": {
      "text/html": [
       "\n",
       "    <style>\n",
       "    body { font-feature-settings: \"liga\" 0; }\n",
       "    </style>\n"
      ],
      "text/plain": [
       "<IPython.core.display.HTML object>"
      ]
     },
     "execution_count": 5,
     "metadata": {},
     "output_type": "execute_result"
    }
   ],
   "source": [
    "from IPython.core.display import HTML\n",
    "# Prevent ligatures like \"ff\", etc\n",
    "HTML(\"\"\"\n",
    "    <style>\n",
    "    body { font-feature-settings: \"liga\" 0; }\n",
    "    </style>\n",
    "\"\"\")"
   ]
  },
  {
   "cell_type": "code",
   "execution_count": 6,
   "id": "2384461b",
   "metadata": {},
   "outputs": [],
   "source": [
    "import tensorflow as tf"
   ]
  },
  {
   "cell_type": "code",
   "execution_count": 7,
   "id": "9ba228ac",
   "metadata": {},
   "outputs": [
    {
     "data": {
      "text/plain": [
       "<tf.Tensor: shape=(), dtype=float32, numpy=8.0>"
      ]
     },
     "execution_count": 7,
     "metadata": {},
     "output_type": "execute_result"
    }
   ],
   "source": [
    "cube(tf.constant(2.0))"
   ]
  },
  {
   "cell_type": "code",
   "execution_count": 8,
   "id": "7a41b9d4",
   "metadata": {},
   "outputs": [
    {
     "data": {
      "text/plain": [
       "<tensorflow.python.eager.def_function.Function at 0x7fdfb0b2d8d0>"
      ]
     },
     "execution_count": 8,
     "metadata": {},
     "output_type": "execute_result"
    }
   ],
   "source": [
    "tf_cube_ = tf.function(cube)\n",
    "tf_cube_"
   ]
  },
  {
   "cell_type": "code",
   "execution_count": 11,
   "id": "e87d558f",
   "metadata": {},
   "outputs": [
    {
     "data": {
      "text/plain": [
       "(<tf.Tensor: shape=(), dtype=int32, numpy=8>,\n",
       " <tf.Tensor: shape=(), dtype=int32, numpy=8>,\n",
       " <tf.Tensor: shape=(), dtype=int32, numpy=8>,\n",
       " <tf.Tensor: shape=(), dtype=int32, numpy=8>,\n",
       " <tf.Tensor: shape=(), dtype=float32, numpy=9.261>)"
      ]
     },
     "execution_count": 11,
     "metadata": {},
     "output_type": "execute_result"
    }
   ],
   "source": [
    "tf_cube_(2), tf_cube_(2.0), tf_cube_(2.), tf_cube_(2.00), tf_cube_(2.1)"
   ]
  },
  {
   "cell_type": "markdown",
   "id": "e8f126a9",
   "metadata": {},
   "source": [
    "**Rmk.** This seems to be bad: The `dtype` is not loyally or easily reflected."
   ]
  },
  {
   "cell_type": "code",
   "execution_count": 12,
   "id": "c599e664",
   "metadata": {},
   "outputs": [
    {
     "data": {
      "text/plain": [
       "(<tf.Tensor: shape=(), dtype=int32, numpy=8>,\n",
       " <tf.Tensor: shape=(), dtype=float32, numpy=8.0>)"
      ]
     },
     "execution_count": 12,
     "metadata": {},
     "output_type": "execute_result"
    }
   ],
   "source": [
    "tf_cube_(tf.constant(2)), tf_cube_(tf.constant(2.0))"
   ]
  },
  {
   "cell_type": "code",
   "execution_count": 15,
   "id": "f1d3a4f9",
   "metadata": {},
   "outputs": [
    {
     "data": {
      "text/plain": [
       "['experimental_get_compiler_ir',\n",
       " 'experimental_get_tracing_count',\n",
       " 'function_spec',\n",
       " 'get_concrete_function',\n",
       " 'get_initialization_function',\n",
       " 'input_signature',\n",
       " 'pretty_printed_concrete_signatures',\n",
       " 'python_function']"
      ]
     },
     "execution_count": 15,
     "metadata": {},
     "output_type": "execute_result"
    }
   ],
   "source": [
    "[attr for attr in dir(tf_cube_) if not attr.startswith(\"_\")]"
   ]
  },
  {
   "cell_type": "code",
   "execution_count": 17,
   "id": "ae7ff7b4",
   "metadata": {},
   "outputs": [
    {
     "data": {
      "text/plain": [
       "(8, 8.0)"
      ]
     },
     "execution_count": 17,
     "metadata": {},
     "output_type": "execute_result"
    }
   ],
   "source": [
    "tf_cube_.python_function(2), tf_cube_.python_function(2.0)"
   ]
  },
  {
   "cell_type": "code",
   "execution_count": 18,
   "id": "560186d5",
   "metadata": {},
   "outputs": [],
   "source": [
    "@tf.function\n",
    "def tf_cube(x):\n",
    "    return x**3"
   ]
  },
  {
   "cell_type": "code",
   "execution_count": 22,
   "id": "219c670f",
   "metadata": {},
   "outputs": [
    {
     "data": {
      "text/plain": [
       "<tensorflow.python.eager.def_function.Function at 0x7fdfac482410>"
      ]
     },
     "execution_count": 22,
     "metadata": {},
     "output_type": "execute_result"
    }
   ],
   "source": [
    "tf_cube"
   ]
  },
  {
   "cell_type": "code",
   "execution_count": 19,
   "id": "89b6ae47",
   "metadata": {},
   "outputs": [
    {
     "data": {
      "text/plain": [
       "(<tf.Tensor: shape=(), dtype=int32, numpy=8>,\n",
       " <tf.Tensor: shape=(), dtype=int32, numpy=8>,\n",
       " <tf.Tensor: shape=(), dtype=int32, numpy=8>,\n",
       " <tf.Tensor: shape=(), dtype=int32, numpy=8>,\n",
       " <tf.Tensor: shape=(), dtype=float32, numpy=9.261>)"
      ]
     },
     "execution_count": 19,
     "metadata": {},
     "output_type": "execute_result"
    }
   ],
   "source": [
    "tf_cube(2), tf_cube(2.0), tf_cube(2.), tf_cube(2.00), tf_cube(2.1)"
   ]
  },
  {
   "cell_type": "code",
   "execution_count": 20,
   "id": "2ca17b0d",
   "metadata": {},
   "outputs": [
    {
     "data": {
      "text/plain": [
       "<tf.Tensor: shape=(), dtype=int32, numpy=8>"
      ]
     },
     "execution_count": 20,
     "metadata": {},
     "output_type": "execute_result"
    }
   ],
   "source": [
    "tf_cube(float(2.0))"
   ]
  },
  {
   "cell_type": "markdown",
   "id": "6aef7d34",
   "metadata": {},
   "source": [
    "Hmmm, so, it's the same problem of `dtype` whether we use a decorator `@tf.funtion` or we use `tf.function()`."
   ]
  },
  {
   "cell_type": "code",
   "execution_count": 21,
   "id": "09e2666c",
   "metadata": {},
   "outputs": [
    {
     "data": {
      "text/plain": [
       "'2.4.1'"
      ]
     },
     "execution_count": 21,
     "metadata": {},
     "output_type": "execute_result"
    }
   ],
   "source": [
    "tf.__version__"
   ]
  },
  {
   "cell_type": "code",
   "execution_count": null,
   "id": "8722a6f1",
   "metadata": {},
   "outputs": [],
   "source": []
  }
 ],
 "metadata": {
  "kernelspec": {
   "display_name": "Python 3",
   "language": "python",
   "name": "python3"
  },
  "language_info": {
   "codemirror_mode": {
    "name": "ipython",
    "version": 3
   },
   "file_extension": ".py",
   "mimetype": "text/x-python",
   "name": "python",
   "nbconvert_exporter": "python",
   "pygments_lexer": "ipython3",
   "version": "3.7.8"
  }
 },
 "nbformat": 4,
 "nbformat_minor": 5
}
