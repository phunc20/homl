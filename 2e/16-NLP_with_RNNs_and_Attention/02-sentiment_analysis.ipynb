{
 "cells": [
  {
   "cell_type": "code",
   "execution_count": 1,
   "id": "e026daa0",
   "metadata": {},
   "outputs": [],
   "source": [
    "import tensorflow as tf\n",
    "import tensorflow.keras as keras"
   ]
  },
  {
   "cell_type": "code",
   "execution_count": 4,
   "id": "a4253806",
   "metadata": {},
   "outputs": [
    {
     "data": {
      "text/plain": [
       "[1, 14, 22, 16, 43, 530, 973, 1622, 1385, 65]"
      ]
     },
     "execution_count": 4,
     "metadata": {},
     "output_type": "execute_result"
    }
   ],
   "source": [
    "(X_train, y_train), (X_test, y_test) = keras.datasets.imdb.load_data()\n",
    "X_train[0][:10]  # the 1st review, its first 10 words"
   ]
  },
  {
   "cell_type": "markdown",
   "id": "147e438a",
   "metadata": {},
   "source": [
    "**(?)** How to get rid of the `VisibleDeprecationWarning`?"
   ]
  },
  {
   "cell_type": "code",
   "execution_count": 5,
   "id": "de1ed5b9",
   "metadata": {},
   "outputs": [
    {
     "data": {
      "text/plain": [
       "tuple"
      ]
     },
     "execution_count": 5,
     "metadata": {},
     "output_type": "execute_result"
    }
   ],
   "source": [
    "imdb_data = keras.datasets.imdb.load_data()\n",
    "type(imdb_data)"
   ]
  },
  {
   "cell_type": "code",
   "execution_count": 6,
   "id": "e3612811",
   "metadata": {},
   "outputs": [
    {
     "data": {
      "text/plain": [
       "2"
      ]
     },
     "execution_count": 6,
     "metadata": {},
     "output_type": "execute_result"
    }
   ],
   "source": [
    "len(imdb_data)"
   ]
  },
  {
   "cell_type": "code",
   "execution_count": 7,
   "id": "f9a68c1b",
   "metadata": {},
   "outputs": [
    {
     "name": "stdout",
     "output_type": "stream",
     "text": [
      "0 <class 'tuple'> 2\n",
      "1 <class 'tuple'> 2\n"
     ]
    }
   ],
   "source": [
    "for i in range(2):\n",
    "    print(i, type(imdb_data[i]), len(imdb_data[i]))"
   ]
  },
  {
   "cell_type": "code",
   "execution_count": 8,
   "id": "56733941",
   "metadata": {},
   "outputs": [
    {
     "name": "stdout",
     "output_type": "stream",
     "text": [
      "0 <class 'numpy.ndarray'> <class 'numpy.ndarray'>\n",
      "1 <class 'numpy.ndarray'> <class 'numpy.ndarray'>\n"
     ]
    }
   ],
   "source": [
    "for i in range(2):\n",
    "    print(i, type(imdb_data[0][i]), type(imdb_data[1][i]))"
   ]
  },
  {
   "cell_type": "code",
   "execution_count": 22,
   "id": "e0ba104a",
   "metadata": {},
   "outputs": [
    {
     "name": "stdout",
     "output_type": "stream",
     "text": [
      "0 (25000,) (25000,)\n",
      "1 (25000,) (25000,)\n"
     ]
    }
   ],
   "source": [
    "for i in range(2):\n",
    "    print(i, imdb_data[1][i].shape, imdb_data[1][i].shape)"
   ]
  },
  {
   "cell_type": "markdown",
   "id": "551c3e2c",
   "metadata": {},
   "source": [
    "## Decode a Review"
   ]
  },
  {
   "cell_type": "code",
   "execution_count": 9,
   "id": "921c14c2",
   "metadata": {},
   "outputs": [
    {
     "name": "stdout",
     "output_type": "stream",
     "text": [
      "Downloading data from https://storage.googleapis.com/tensorflow/tf-keras-datasets/imdb_word_index.json\n",
      "1646592/1641221 [==============================] - 0s 0us/step\n"
     ]
    },
    {
     "data": {
      "text/plain": [
       "dict"
      ]
     },
     "execution_count": 9,
     "metadata": {},
     "output_type": "execute_result"
    }
   ],
   "source": [
    "word_index = keras.datasets.imdb.get_word_index()\n",
    "type(word_index)"
   ]
  },
  {
   "cell_type": "code",
   "execution_count": 24,
   "id": "d2759b4f",
   "metadata": {},
   "outputs": [
    {
     "data": {
      "text/plain": [
       "88584"
      ]
     },
     "execution_count": 24,
     "metadata": {},
     "output_type": "execute_result"
    }
   ],
   "source": [
    "len(word_index)"
   ]
  },
  {
   "cell_type": "code",
   "execution_count": 26,
   "id": "8c07cda0",
   "metadata": {},
   "outputs": [
    {
     "data": {
      "text/plain": [
       "(17, 4223)"
      ]
     },
     "execution_count": 26,
     "metadata": {},
     "output_type": "execute_result"
    }
   ],
   "source": [
    "word_index[\"movie\"], word_index[\"montage\"] "
   ]
  },
  {
   "cell_type": "markdown",
   "id": "80c0e405",
   "metadata": {},
   "source": [
    "`word_index` is a dictionary whose keys are words (i.e. strings) and whose values are the encoded indices."
   ]
  },
  {
   "cell_type": "code",
   "execution_count": 32,
   "id": "20c21d64",
   "metadata": {},
   "outputs": [],
   "source": [
    "# id_to_word is a dictionary being nearly the opposite of word_index\n",
    "id_to_word = {index + 3: word for word, index in word_index.items()}\n",
    "for id_, token in enumerate((\"<pad>\", \"<sos>\", \"<unk>\")):\n",
    "    id_to_word[id_] = token"
   ]
  },
  {
   "cell_type": "markdown",
   "id": "29faf294",
   "metadata": {},
   "source": [
    "**(?)** Why `index + 3`?<br>\n",
    "**(R)** Note the diff btw two entities\n",
    "\n",
    "01. `index`\n",
    "  - `index` is what `keras.datasets.imdb.get_word_index()` gave us.\n",
    "02. `id_`\n",
    "  - `id_` is index shifted to the right by 3 integers to allow spaces for the 3 special tokens `\"<pad>\", \"<sos>\", \"<unk>\"`"
   ]
  },
  {
   "cell_type": "code",
   "execution_count": 33,
   "id": "aa5631bd",
   "metadata": {},
   "outputs": [
    {
     "data": {
      "text/plain": [
       "'<sos> this film was just brilliant casting location scenery story'"
      ]
     },
     "execution_count": 33,
     "metadata": {},
     "output_type": "execute_result"
    }
   ],
   "source": [
    "example_review = \" \".join([id_to_word[id_] for id_ in X_train[0][:10]])\n",
    "example_review"
   ]
  },
  {
   "cell_type": "markdown",
   "id": "9f3bd305",
   "metadata": {},
   "source": [
    "```python\n",
    "[word_index[word]+3 for word in example_review.split(\" \")]\n",
    "```\n",
    "<br>\n",
    "\n",
    "```\n",
    "KeyError: '<sos>'\n",
    "```"
   ]
  },
  {
   "cell_type": "code",
   "execution_count": 39,
   "id": "8f4b5662",
   "metadata": {},
   "outputs": [
    {
     "name": "stdout",
     "output_type": "stream",
     "text": [
      "[1, 14, 22, 16, 43, 530, 973, 1622, 1385, 65]\n",
      "[1, 14, 22, 16, 43, 530, 973, 1622, 1385, 65]\n",
      "[14, 22, 16, 43, 530, 973, 1622, 1385, 65]\n"
     ]
    }
   ],
   "source": [
    "word_to_id = {word: id_ for id_, word in id_to_word.items()}\n",
    "print([word_to_id[word] for word in example_review.split(\" \")])\n",
    "print(X_train[0][:10])\n",
    "print([word_index[word]+3 for word in\n",
    "\"this film was just brilliant casting location scenery story\".split(\" \")])"
   ]
  },
  {
   "cell_type": "markdown",
   "id": "eea89b60",
   "metadata": {},
   "source": [
    "Let's handle the preprocessing exclusively in tensorflow, so that the entiring processing is inside the model and thus can be shifted outside Python, to mobile devices and web browsers."
   ]
  },
  {
   "cell_type": "code",
   "execution_count": 1,
   "id": "b1a2050e",
   "metadata": {
    "scrolled": true
   },
   "outputs": [],
   "source": [
    "import tensorflow_datasets as tfds"
   ]
  },
  {
   "cell_type": "code",
   "execution_count": 2,
   "id": "f9f8dc85",
   "metadata": {
    "scrolled": true
   },
   "outputs": [
    {
     "name": "stdout",
     "output_type": "stream",
     "text": [
      "\u001b[1mDownloading and preparing dataset imdb_reviews (80.23 MiB) to /home/phunc20/tensorflow_datasets/imdb_reviews/plain_text/0.1.0...\u001b[0m\n"
     ]
    },
    {
     "data": {
      "application/vnd.jupyter.widget-view+json": {
       "model_id": "2c76496c8d144d98862ce1fcf56e2d1c",
       "version_major": 2,
       "version_minor": 0
      },
      "text/plain": [
       "Dl Completed...: 0 url [00:00, ? url/s]"
      ]
     },
     "metadata": {},
     "output_type": "display_data"
    },
    {
     "data": {
      "application/vnd.jupyter.widget-view+json": {
       "model_id": "05d49f03be234158b23a6c2e1b6af617",
       "version_major": 2,
       "version_minor": 0
      },
      "text/plain": [
       "Dl Size...: 0 MiB [00:00, ? MiB/s]"
      ]
     },
     "metadata": {},
     "output_type": "display_data"
    },
    {
     "name": "stdout",
     "output_type": "stream",
     "text": [
      "\n",
      "\n"
     ]
    },
    {
     "data": {
      "application/vnd.jupyter.widget-view+json": {
       "model_id": "",
       "version_major": 2,
       "version_minor": 0
      },
      "text/plain": [
       "0 examples [00:00, ? examples/s]"
      ]
     },
     "metadata": {},
     "output_type": "display_data"
    },
    {
     "data": {
      "application/vnd.jupyter.widget-view+json": {
       "model_id": "",
       "version_major": 2,
       "version_minor": 0
      },
      "text/plain": [
       "Shuffling...:   0%|          | 0/10 [00:00<?, ? shard/s]"
      ]
     },
     "metadata": {},
     "output_type": "display_data"
    },
    {
     "name": "stdout",
     "output_type": "stream",
     "text": [
      "WARNING:tensorflow:From /home/phunc20/.config/miniconda3/envs/homl2e/lib/python3.7/site-packages/tensorflow_datasets/core/file_format_adapter.py:209: tf_record_iterator (from tensorflow.python.lib.io.tf_record) is deprecated and will be removed in a future version.\n",
      "Instructions for updating:\n",
      "Use eager execution and: \n",
      "`tf.data.TFRecordDataset(path)`\n"
     ]
    },
    {
     "name": "stderr",
     "output_type": "stream",
     "text": [
      "WARNING:tensorflow:From /home/phunc20/.config/miniconda3/envs/homl2e/lib/python3.7/site-packages/tensorflow_datasets/core/file_format_adapter.py:209: tf_record_iterator (from tensorflow.python.lib.io.tf_record) is deprecated and will be removed in a future version.\n",
      "Instructions for updating:\n",
      "Use eager execution and: \n",
      "`tf.data.TFRecordDataset(path)`\n"
     ]
    },
    {
     "data": {
      "application/vnd.jupyter.widget-view+json": {
       "model_id": "",
       "version_major": 2,
       "version_minor": 0
      },
      "text/plain": [
       "Reading...: 0 examples [00:00, ? examples/s]"
      ]
     },
     "metadata": {},
     "output_type": "display_data"
    },
    {
     "data": {
      "application/vnd.jupyter.widget-view+json": {
       "model_id": "",
       "version_major": 2,
       "version_minor": 0
      },
      "text/plain": [
       "Writing...:   0%|          | 0/2500 [00:00<?, ? examples/s]"
      ]
     },
     "metadata": {},
     "output_type": "display_data"
    },
    {
     "data": {
      "application/vnd.jupyter.widget-view+json": {
       "model_id": "",
       "version_major": 2,
       "version_minor": 0
      },
      "text/plain": [
       "Reading...: 0 examples [00:00, ? examples/s]"
      ]
     },
     "metadata": {},
     "output_type": "display_data"
    },
    {
     "data": {
      "application/vnd.jupyter.widget-view+json": {
       "model_id": "",
       "version_major": 2,
       "version_minor": 0
      },
      "text/plain": [
       "Writing...:   0%|          | 0/2500 [00:00<?, ? examples/s]"
      ]
     },
     "metadata": {},
     "output_type": "display_data"
    },
    {
     "data": {
      "application/vnd.jupyter.widget-view+json": {
       "model_id": "",
       "version_major": 2,
       "version_minor": 0
      },
      "text/plain": [
       "Reading...: 0 examples [00:00, ? examples/s]"
      ]
     },
     "metadata": {},
     "output_type": "display_data"
    },
    {
     "data": {
      "application/vnd.jupyter.widget-view+json": {
       "model_id": "",
       "version_major": 2,
       "version_minor": 0
      },
      "text/plain": [
       "Writing...:   0%|          | 0/2500 [00:00<?, ? examples/s]"
      ]
     },
     "metadata": {},
     "output_type": "display_data"
    },
    {
     "data": {
      "application/vnd.jupyter.widget-view+json": {
       "model_id": "",
       "version_major": 2,
       "version_minor": 0
      },
      "text/plain": [
       "Reading...: 0 examples [00:00, ? examples/s]"
      ]
     },
     "metadata": {},
     "output_type": "display_data"
    },
    {
     "data": {
      "application/vnd.jupyter.widget-view+json": {
       "model_id": "",
       "version_major": 2,
       "version_minor": 0
      },
      "text/plain": [
       "Writing...:   0%|          | 0/2500 [00:00<?, ? examples/s]"
      ]
     },
     "metadata": {},
     "output_type": "display_data"
    },
    {
     "data": {
      "application/vnd.jupyter.widget-view+json": {
       "model_id": "",
       "version_major": 2,
       "version_minor": 0
      },
      "text/plain": [
       "Reading...: 0 examples [00:00, ? examples/s]"
      ]
     },
     "metadata": {},
     "output_type": "display_data"
    },
    {
     "data": {
      "application/vnd.jupyter.widget-view+json": {
       "model_id": "",
       "version_major": 2,
       "version_minor": 0
      },
      "text/plain": [
       "Writing...:   0%|          | 0/2500 [00:00<?, ? examples/s]"
      ]
     },
     "metadata": {},
     "output_type": "display_data"
    },
    {
     "data": {
      "application/vnd.jupyter.widget-view+json": {
       "model_id": "",
       "version_major": 2,
       "version_minor": 0
      },
      "text/plain": [
       "Reading...: 0 examples [00:00, ? examples/s]"
      ]
     },
     "metadata": {},
     "output_type": "display_data"
    },
    {
     "data": {
      "application/vnd.jupyter.widget-view+json": {
       "model_id": "",
       "version_major": 2,
       "version_minor": 0
      },
      "text/plain": [
       "Writing...:   0%|          | 0/2500 [00:00<?, ? examples/s]"
      ]
     },
     "metadata": {},
     "output_type": "display_data"
    },
    {
     "data": {
      "application/vnd.jupyter.widget-view+json": {
       "model_id": "",
       "version_major": 2,
       "version_minor": 0
      },
      "text/plain": [
       "Reading...: 0 examples [00:00, ? examples/s]"
      ]
     },
     "metadata": {},
     "output_type": "display_data"
    },
    {
     "data": {
      "application/vnd.jupyter.widget-view+json": {
       "model_id": "",
       "version_major": 2,
       "version_minor": 0
      },
      "text/plain": [
       "Writing...:   0%|          | 0/2500 [00:00<?, ? examples/s]"
      ]
     },
     "metadata": {},
     "output_type": "display_data"
    },
    {
     "data": {
      "application/vnd.jupyter.widget-view+json": {
       "model_id": "",
       "version_major": 2,
       "version_minor": 0
      },
      "text/plain": [
       "Reading...: 0 examples [00:00, ? examples/s]"
      ]
     },
     "metadata": {},
     "output_type": "display_data"
    },
    {
     "data": {
      "application/vnd.jupyter.widget-view+json": {
       "model_id": "",
       "version_major": 2,
       "version_minor": 0
      },
      "text/plain": [
       "Writing...:   0%|          | 0/2500 [00:00<?, ? examples/s]"
      ]
     },
     "metadata": {},
     "output_type": "display_data"
    },
    {
     "data": {
      "application/vnd.jupyter.widget-view+json": {
       "model_id": "",
       "version_major": 2,
       "version_minor": 0
      },
      "text/plain": [
       "Reading...: 0 examples [00:00, ? examples/s]"
      ]
     },
     "metadata": {},
     "output_type": "display_data"
    },
    {
     "data": {
      "application/vnd.jupyter.widget-view+json": {
       "model_id": "",
       "version_major": 2,
       "version_minor": 0
      },
      "text/plain": [
       "Writing...:   0%|          | 0/2500 [00:00<?, ? examples/s]"
      ]
     },
     "metadata": {},
     "output_type": "display_data"
    },
    {
     "data": {
      "application/vnd.jupyter.widget-view+json": {
       "model_id": "",
       "version_major": 2,
       "version_minor": 0
      },
      "text/plain": [
       "Reading...: 0 examples [00:00, ? examples/s]"
      ]
     },
     "metadata": {},
     "output_type": "display_data"
    },
    {
     "data": {
      "application/vnd.jupyter.widget-view+json": {
       "model_id": "",
       "version_major": 2,
       "version_minor": 0
      },
      "text/plain": [
       "Writing...:   0%|          | 0/2500 [00:00<?, ? examples/s]"
      ]
     },
     "metadata": {},
     "output_type": "display_data"
    },
    {
     "data": {
      "application/vnd.jupyter.widget-view+json": {
       "model_id": "",
       "version_major": 2,
       "version_minor": 0
      },
      "text/plain": [
       "0 examples [00:00, ? examples/s]"
      ]
     },
     "metadata": {},
     "output_type": "display_data"
    },
    {
     "data": {
      "application/vnd.jupyter.widget-view+json": {
       "model_id": "",
       "version_major": 2,
       "version_minor": 0
      },
      "text/plain": [
       "Shuffling...:   0%|          | 0/10 [00:00<?, ? shard/s]"
      ]
     },
     "metadata": {},
     "output_type": "display_data"
    },
    {
     "data": {
      "application/vnd.jupyter.widget-view+json": {
       "model_id": "",
       "version_major": 2,
       "version_minor": 0
      },
      "text/plain": [
       "Reading...: 0 examples [00:00, ? examples/s]"
      ]
     },
     "metadata": {},
     "output_type": "display_data"
    },
    {
     "data": {
      "application/vnd.jupyter.widget-view+json": {
       "model_id": "",
       "version_major": 2,
       "version_minor": 0
      },
      "text/plain": [
       "Writing...:   0%|          | 0/2500 [00:00<?, ? examples/s]"
      ]
     },
     "metadata": {},
     "output_type": "display_data"
    },
    {
     "data": {
      "application/vnd.jupyter.widget-view+json": {
       "model_id": "",
       "version_major": 2,
       "version_minor": 0
      },
      "text/plain": [
       "Reading...: 0 examples [00:00, ? examples/s]"
      ]
     },
     "metadata": {},
     "output_type": "display_data"
    },
    {
     "data": {
      "application/vnd.jupyter.widget-view+json": {
       "model_id": "",
       "version_major": 2,
       "version_minor": 0
      },
      "text/plain": [
       "Writing...:   0%|          | 0/2500 [00:00<?, ? examples/s]"
      ]
     },
     "metadata": {},
     "output_type": "display_data"
    },
    {
     "data": {
      "application/vnd.jupyter.widget-view+json": {
       "model_id": "",
       "version_major": 2,
       "version_minor": 0
      },
      "text/plain": [
       "Reading...: 0 examples [00:00, ? examples/s]"
      ]
     },
     "metadata": {},
     "output_type": "display_data"
    },
    {
     "data": {
      "application/vnd.jupyter.widget-view+json": {
       "model_id": "",
       "version_major": 2,
       "version_minor": 0
      },
      "text/plain": [
       "Writing...:   0%|          | 0/2500 [00:00<?, ? examples/s]"
      ]
     },
     "metadata": {},
     "output_type": "display_data"
    },
    {
     "data": {
      "application/vnd.jupyter.widget-view+json": {
       "model_id": "",
       "version_major": 2,
       "version_minor": 0
      },
      "text/plain": [
       "Reading...: 0 examples [00:00, ? examples/s]"
      ]
     },
     "metadata": {},
     "output_type": "display_data"
    },
    {
     "data": {
      "application/vnd.jupyter.widget-view+json": {
       "model_id": "",
       "version_major": 2,
       "version_minor": 0
      },
      "text/plain": [
       "Writing...:   0%|          | 0/2500 [00:00<?, ? examples/s]"
      ]
     },
     "metadata": {},
     "output_type": "display_data"
    },
    {
     "data": {
      "application/vnd.jupyter.widget-view+json": {
       "model_id": "",
       "version_major": 2,
       "version_minor": 0
      },
      "text/plain": [
       "Reading...: 0 examples [00:00, ? examples/s]"
      ]
     },
     "metadata": {},
     "output_type": "display_data"
    },
    {
     "data": {
      "application/vnd.jupyter.widget-view+json": {
       "model_id": "",
       "version_major": 2,
       "version_minor": 0
      },
      "text/plain": [
       "Writing...:   0%|          | 0/2500 [00:00<?, ? examples/s]"
      ]
     },
     "metadata": {},
     "output_type": "display_data"
    },
    {
     "data": {
      "application/vnd.jupyter.widget-view+json": {
       "model_id": "",
       "version_major": 2,
       "version_minor": 0
      },
      "text/plain": [
       "Reading...: 0 examples [00:00, ? examples/s]"
      ]
     },
     "metadata": {},
     "output_type": "display_data"
    },
    {
     "data": {
      "application/vnd.jupyter.widget-view+json": {
       "model_id": "",
       "version_major": 2,
       "version_minor": 0
      },
      "text/plain": [
       "Writing...:   0%|          | 0/2500 [00:00<?, ? examples/s]"
      ]
     },
     "metadata": {},
     "output_type": "display_data"
    },
    {
     "data": {
      "application/vnd.jupyter.widget-view+json": {
       "model_id": "",
       "version_major": 2,
       "version_minor": 0
      },
      "text/plain": [
       "Reading...: 0 examples [00:00, ? examples/s]"
      ]
     },
     "metadata": {},
     "output_type": "display_data"
    },
    {
     "data": {
      "application/vnd.jupyter.widget-view+json": {
       "model_id": "",
       "version_major": 2,
       "version_minor": 0
      },
      "text/plain": [
       "Writing...:   0%|          | 0/2500 [00:00<?, ? examples/s]"
      ]
     },
     "metadata": {},
     "output_type": "display_data"
    },
    {
     "data": {
      "application/vnd.jupyter.widget-view+json": {
       "model_id": "",
       "version_major": 2,
       "version_minor": 0
      },
      "text/plain": [
       "Reading...: 0 examples [00:00, ? examples/s]"
      ]
     },
     "metadata": {},
     "output_type": "display_data"
    },
    {
     "data": {
      "application/vnd.jupyter.widget-view+json": {
       "model_id": "",
       "version_major": 2,
       "version_minor": 0
      },
      "text/plain": [
       "Writing...:   0%|          | 0/2500 [00:00<?, ? examples/s]"
      ]
     },
     "metadata": {},
     "output_type": "display_data"
    },
    {
     "data": {
      "application/vnd.jupyter.widget-view+json": {
       "model_id": "",
       "version_major": 2,
       "version_minor": 0
      },
      "text/plain": [
       "Reading...: 0 examples [00:00, ? examples/s]"
      ]
     },
     "metadata": {},
     "output_type": "display_data"
    },
    {
     "data": {
      "application/vnd.jupyter.widget-view+json": {
       "model_id": "",
       "version_major": 2,
       "version_minor": 0
      },
      "text/plain": [
       "Writing...:   0%|          | 0/2500 [00:00<?, ? examples/s]"
      ]
     },
     "metadata": {},
     "output_type": "display_data"
    },
    {
     "data": {
      "application/vnd.jupyter.widget-view+json": {
       "model_id": "",
       "version_major": 2,
       "version_minor": 0
      },
      "text/plain": [
       "Reading...: 0 examples [00:00, ? examples/s]"
      ]
     },
     "metadata": {},
     "output_type": "display_data"
    },
    {
     "data": {
      "application/vnd.jupyter.widget-view+json": {
       "model_id": "",
       "version_major": 2,
       "version_minor": 0
      },
      "text/plain": [
       "Writing...:   0%|          | 0/2500 [00:00<?, ? examples/s]"
      ]
     },
     "metadata": {},
     "output_type": "display_data"
    },
    {
     "data": {
      "application/vnd.jupyter.widget-view+json": {
       "model_id": "",
       "version_major": 2,
       "version_minor": 0
      },
      "text/plain": [
       "0 examples [00:00, ? examples/s]"
      ]
     },
     "metadata": {},
     "output_type": "display_data"
    },
    {
     "data": {
      "application/vnd.jupyter.widget-view+json": {
       "model_id": "",
       "version_major": 2,
       "version_minor": 0
      },
      "text/plain": [
       "Shuffling...:   0%|          | 0/20 [00:00<?, ? shard/s]"
      ]
     },
     "metadata": {},
     "output_type": "display_data"
    },
    {
     "data": {
      "application/vnd.jupyter.widget-view+json": {
       "model_id": "",
       "version_major": 2,
       "version_minor": 0
      },
      "text/plain": [
       "Reading...: 0 examples [00:00, ? examples/s]"
      ]
     },
     "metadata": {},
     "output_type": "display_data"
    },
    {
     "data": {
      "application/vnd.jupyter.widget-view+json": {
       "model_id": "",
       "version_major": 2,
       "version_minor": 0
      },
      "text/plain": [
       "Writing...:   0%|          | 0/2500 [00:00<?, ? examples/s]"
      ]
     },
     "metadata": {},
     "output_type": "display_data"
    },
    {
     "data": {
      "application/vnd.jupyter.widget-view+json": {
       "model_id": "",
       "version_major": 2,
       "version_minor": 0
      },
      "text/plain": [
       "Reading...: 0 examples [00:00, ? examples/s]"
      ]
     },
     "metadata": {},
     "output_type": "display_data"
    },
    {
     "data": {
      "application/vnd.jupyter.widget-view+json": {
       "model_id": "",
       "version_major": 2,
       "version_minor": 0
      },
      "text/plain": [
       "Writing...:   0%|          | 0/2500 [00:00<?, ? examples/s]"
      ]
     },
     "metadata": {},
     "output_type": "display_data"
    },
    {
     "data": {
      "application/vnd.jupyter.widget-view+json": {
       "model_id": "",
       "version_major": 2,
       "version_minor": 0
      },
      "text/plain": [
       "Reading...: 0 examples [00:00, ? examples/s]"
      ]
     },
     "metadata": {},
     "output_type": "display_data"
    },
    {
     "data": {
      "application/vnd.jupyter.widget-view+json": {
       "model_id": "",
       "version_major": 2,
       "version_minor": 0
      },
      "text/plain": [
       "Writing...:   0%|          | 0/2500 [00:00<?, ? examples/s]"
      ]
     },
     "metadata": {},
     "output_type": "display_data"
    },
    {
     "data": {
      "application/vnd.jupyter.widget-view+json": {
       "model_id": "",
       "version_major": 2,
       "version_minor": 0
      },
      "text/plain": [
       "Reading...: 0 examples [00:00, ? examples/s]"
      ]
     },
     "metadata": {},
     "output_type": "display_data"
    },
    {
     "data": {
      "application/vnd.jupyter.widget-view+json": {
       "model_id": "",
       "version_major": 2,
       "version_minor": 0
      },
      "text/plain": [
       "Writing...:   0%|          | 0/2500 [00:00<?, ? examples/s]"
      ]
     },
     "metadata": {},
     "output_type": "display_data"
    },
    {
     "data": {
      "application/vnd.jupyter.widget-view+json": {
       "model_id": "",
       "version_major": 2,
       "version_minor": 0
      },
      "text/plain": [
       "Reading...: 0 examples [00:00, ? examples/s]"
      ]
     },
     "metadata": {},
     "output_type": "display_data"
    },
    {
     "data": {
      "application/vnd.jupyter.widget-view+json": {
       "model_id": "",
       "version_major": 2,
       "version_minor": 0
      },
      "text/plain": [
       "Writing...:   0%|          | 0/2500 [00:00<?, ? examples/s]"
      ]
     },
     "metadata": {},
     "output_type": "display_data"
    },
    {
     "data": {
      "application/vnd.jupyter.widget-view+json": {
       "model_id": "",
       "version_major": 2,
       "version_minor": 0
      },
      "text/plain": [
       "Reading...: 0 examples [00:00, ? examples/s]"
      ]
     },
     "metadata": {},
     "output_type": "display_data"
    },
    {
     "data": {
      "application/vnd.jupyter.widget-view+json": {
       "model_id": "",
       "version_major": 2,
       "version_minor": 0
      },
      "text/plain": [
       "Writing...:   0%|          | 0/2500 [00:00<?, ? examples/s]"
      ]
     },
     "metadata": {},
     "output_type": "display_data"
    },
    {
     "data": {
      "application/vnd.jupyter.widget-view+json": {
       "model_id": "",
       "version_major": 2,
       "version_minor": 0
      },
      "text/plain": [
       "Reading...: 0 examples [00:00, ? examples/s]"
      ]
     },
     "metadata": {},
     "output_type": "display_data"
    },
    {
     "data": {
      "application/vnd.jupyter.widget-view+json": {
       "model_id": "",
       "version_major": 2,
       "version_minor": 0
      },
      "text/plain": [
       "Writing...:   0%|          | 0/2500 [00:00<?, ? examples/s]"
      ]
     },
     "metadata": {},
     "output_type": "display_data"
    },
    {
     "data": {
      "application/vnd.jupyter.widget-view+json": {
       "model_id": "",
       "version_major": 2,
       "version_minor": 0
      },
      "text/plain": [
       "Reading...: 0 examples [00:00, ? examples/s]"
      ]
     },
     "metadata": {},
     "output_type": "display_data"
    },
    {
     "data": {
      "application/vnd.jupyter.widget-view+json": {
       "model_id": "",
       "version_major": 2,
       "version_minor": 0
      },
      "text/plain": [
       "Writing...:   0%|          | 0/2500 [00:00<?, ? examples/s]"
      ]
     },
     "metadata": {},
     "output_type": "display_data"
    },
    {
     "data": {
      "application/vnd.jupyter.widget-view+json": {
       "model_id": "",
       "version_major": 2,
       "version_minor": 0
      },
      "text/plain": [
       "Reading...: 0 examples [00:00, ? examples/s]"
      ]
     },
     "metadata": {},
     "output_type": "display_data"
    },
    {
     "data": {
      "application/vnd.jupyter.widget-view+json": {
       "model_id": "",
       "version_major": 2,
       "version_minor": 0
      },
      "text/plain": [
       "Writing...:   0%|          | 0/2500 [00:00<?, ? examples/s]"
      ]
     },
     "metadata": {},
     "output_type": "display_data"
    },
    {
     "data": {
      "application/vnd.jupyter.widget-view+json": {
       "model_id": "",
       "version_major": 2,
       "version_minor": 0
      },
      "text/plain": [
       "Reading...: 0 examples [00:00, ? examples/s]"
      ]
     },
     "metadata": {},
     "output_type": "display_data"
    },
    {
     "data": {
      "application/vnd.jupyter.widget-view+json": {
       "model_id": "",
       "version_major": 2,
       "version_minor": 0
      },
      "text/plain": [
       "Writing...:   0%|          | 0/2500 [00:00<?, ? examples/s]"
      ]
     },
     "metadata": {},
     "output_type": "display_data"
    },
    {
     "data": {
      "application/vnd.jupyter.widget-view+json": {
       "model_id": "",
       "version_major": 2,
       "version_minor": 0
      },
      "text/plain": [
       "Reading...: 0 examples [00:00, ? examples/s]"
      ]
     },
     "metadata": {},
     "output_type": "display_data"
    },
    {
     "data": {
      "application/vnd.jupyter.widget-view+json": {
       "model_id": "",
       "version_major": 2,
       "version_minor": 0
      },
      "text/plain": [
       "Writing...:   0%|          | 0/2500 [00:00<?, ? examples/s]"
      ]
     },
     "metadata": {},
     "output_type": "display_data"
    },
    {
     "data": {
      "application/vnd.jupyter.widget-view+json": {
       "model_id": "",
       "version_major": 2,
       "version_minor": 0
      },
      "text/plain": [
       "Reading...: 0 examples [00:00, ? examples/s]"
      ]
     },
     "metadata": {},
     "output_type": "display_data"
    },
    {
     "data": {
      "application/vnd.jupyter.widget-view+json": {
       "model_id": "",
       "version_major": 2,
       "version_minor": 0
      },
      "text/plain": [
       "Writing...:   0%|          | 0/2500 [00:00<?, ? examples/s]"
      ]
     },
     "metadata": {},
     "output_type": "display_data"
    },
    {
     "data": {
      "application/vnd.jupyter.widget-view+json": {
       "model_id": "",
       "version_major": 2,
       "version_minor": 0
      },
      "text/plain": [
       "Reading...: 0 examples [00:00, ? examples/s]"
      ]
     },
     "metadata": {},
     "output_type": "display_data"
    },
    {
     "data": {
      "application/vnd.jupyter.widget-view+json": {
       "model_id": "",
       "version_major": 2,
       "version_minor": 0
      },
      "text/plain": [
       "Writing...:   0%|          | 0/2500 [00:00<?, ? examples/s]"
      ]
     },
     "metadata": {},
     "output_type": "display_data"
    },
    {
     "data": {
      "application/vnd.jupyter.widget-view+json": {
       "model_id": "",
       "version_major": 2,
       "version_minor": 0
      },
      "text/plain": [
       "Reading...: 0 examples [00:00, ? examples/s]"
      ]
     },
     "metadata": {},
     "output_type": "display_data"
    },
    {
     "data": {
      "application/vnd.jupyter.widget-view+json": {
       "model_id": "",
       "version_major": 2,
       "version_minor": 0
      },
      "text/plain": [
       "Writing...:   0%|          | 0/2500 [00:00<?, ? examples/s]"
      ]
     },
     "metadata": {},
     "output_type": "display_data"
    },
    {
     "data": {
      "application/vnd.jupyter.widget-view+json": {
       "model_id": "",
       "version_major": 2,
       "version_minor": 0
      },
      "text/plain": [
       "Reading...: 0 examples [00:00, ? examples/s]"
      ]
     },
     "metadata": {},
     "output_type": "display_data"
    },
    {
     "data": {
      "application/vnd.jupyter.widget-view+json": {
       "model_id": "",
       "version_major": 2,
       "version_minor": 0
      },
      "text/plain": [
       "Writing...:   0%|          | 0/2500 [00:00<?, ? examples/s]"
      ]
     },
     "metadata": {},
     "output_type": "display_data"
    },
    {
     "data": {
      "application/vnd.jupyter.widget-view+json": {
       "model_id": "",
       "version_major": 2,
       "version_minor": 0
      },
      "text/plain": [
       "Reading...: 0 examples [00:00, ? examples/s]"
      ]
     },
     "metadata": {},
     "output_type": "display_data"
    },
    {
     "data": {
      "application/vnd.jupyter.widget-view+json": {
       "model_id": "",
       "version_major": 2,
       "version_minor": 0
      },
      "text/plain": [
       "Writing...:   0%|          | 0/2500 [00:00<?, ? examples/s]"
      ]
     },
     "metadata": {},
     "output_type": "display_data"
    },
    {
     "data": {
      "application/vnd.jupyter.widget-view+json": {
       "model_id": "",
       "version_major": 2,
       "version_minor": 0
      },
      "text/plain": [
       "Reading...: 0 examples [00:00, ? examples/s]"
      ]
     },
     "metadata": {},
     "output_type": "display_data"
    },
    {
     "data": {
      "application/vnd.jupyter.widget-view+json": {
       "model_id": "",
       "version_major": 2,
       "version_minor": 0
      },
      "text/plain": [
       "Writing...:   0%|          | 0/2500 [00:00<?, ? examples/s]"
      ]
     },
     "metadata": {},
     "output_type": "display_data"
    },
    {
     "data": {
      "application/vnd.jupyter.widget-view+json": {
       "model_id": "",
       "version_major": 2,
       "version_minor": 0
      },
      "text/plain": [
       "Reading...: 0 examples [00:00, ? examples/s]"
      ]
     },
     "metadata": {},
     "output_type": "display_data"
    },
    {
     "data": {
      "application/vnd.jupyter.widget-view+json": {
       "model_id": "",
       "version_major": 2,
       "version_minor": 0
      },
      "text/plain": [
       "Writing...:   0%|          | 0/2500 [00:00<?, ? examples/s]"
      ]
     },
     "metadata": {},
     "output_type": "display_data"
    },
    {
     "data": {
      "application/vnd.jupyter.widget-view+json": {
       "model_id": "",
       "version_major": 2,
       "version_minor": 0
      },
      "text/plain": [
       "Reading...: 0 examples [00:00, ? examples/s]"
      ]
     },
     "metadata": {},
     "output_type": "display_data"
    },
    {
     "data": {
      "application/vnd.jupyter.widget-view+json": {
       "model_id": "",
       "version_major": 2,
       "version_minor": 0
      },
      "text/plain": [
       "Writing...:   0%|          | 0/2500 [00:00<?, ? examples/s]"
      ]
     },
     "metadata": {},
     "output_type": "display_data"
    },
    {
     "data": {
      "application/vnd.jupyter.widget-view+json": {
       "model_id": "",
       "version_major": 2,
       "version_minor": 0
      },
      "text/plain": [
       "Reading...: 0 examples [00:00, ? examples/s]"
      ]
     },
     "metadata": {},
     "output_type": "display_data"
    },
    {
     "data": {
      "application/vnd.jupyter.widget-view+json": {
       "model_id": "",
       "version_major": 2,
       "version_minor": 0
      },
      "text/plain": [
       "Writing...:   0%|          | 0/2500 [00:00<?, ? examples/s]"
      ]
     },
     "metadata": {},
     "output_type": "display_data"
    },
    {
     "name": "stderr",
     "output_type": "stream",
     "text": [
      "WARNING:absl:Warning: Setting shuffle_files=True because split=TRAIN and shuffle_files=None. This behavior will be deprecated on 2019-08-06, at which point shuffle_files=False will be the default for all splits.\n"
     ]
    },
    {
     "name": "stdout",
     "output_type": "stream",
     "text": [
      "\u001b[1mDataset imdb_reviews downloaded and prepared to /home/phunc20/tensorflow_datasets/imdb_reviews/plain_text/0.1.0. Subsequent calls will reuse this data.\u001b[0m\n"
     ]
    },
    {
     "data": {
      "text/plain": [
       "(dict, tensorflow_datasets.core.dataset_info.DatasetInfo)"
      ]
     },
     "execution_count": 2,
     "metadata": {},
     "output_type": "execute_result"
    }
   ],
   "source": [
    "datasets, info = tfds.load(\"imdb_reviews\", as_supervised=True, with_info=True)\n",
    "type(datasets), type(info)"
   ]
  },
  {
   "cell_type": "code",
   "execution_count": 3,
   "id": "38a94540",
   "metadata": {
    "scrolled": true
   },
   "outputs": [
    {
     "data": {
      "text/plain": [
       "3"
      ]
     },
     "execution_count": 3,
     "metadata": {},
     "output_type": "execute_result"
    }
   ],
   "source": [
    "len(datasets)"
   ]
  },
  {
   "cell_type": "code",
   "execution_count": 4,
   "id": "eba026dd",
   "metadata": {},
   "outputs": [
    {
     "data": {
      "text/plain": [
       "{'test': <_OptionsDataset shapes: ((), ()), types: (tf.string, tf.int64)>,\n",
       " 'train': <_OptionsDataset shapes: ((), ()), types: (tf.string, tf.int64)>,\n",
       " 'unsupervised': <_OptionsDataset shapes: ((), ()), types: (tf.string, tf.int64)>}"
      ]
     },
     "execution_count": 4,
     "metadata": {},
     "output_type": "execute_result"
    }
   ],
   "source": [
    "datasets"
   ]
  },
  {
   "cell_type": "code",
   "execution_count": 5,
   "id": "297584f0",
   "metadata": {},
   "outputs": [
    {
     "data": {
      "text/plain": [
       "25000"
      ]
     },
     "execution_count": 5,
     "metadata": {},
     "output_type": "execute_result"
    }
   ],
   "source": [
    "train_size = info.splits[\"train\"].num_examples\n",
    "train_size"
   ]
  },
  {
   "cell_type": "code",
   "execution_count": 6,
   "id": "27fa78a0",
   "metadata": {},
   "outputs": [],
   "source": [
    "def preprocess(X_batch, y_batch):\n",
    "    X_batch = tf.strings.substr(X_batch, 0, 300)\n",
    "    X_batch = tf.strings.regex_replace(X_batch, b\"<br\\\\s*/?>\", b\" \")\n",
    "    X_batch = tf.strings.regex_replace(X_batch, b\"[^a-zA-Z']\", b\" \")\n",
    "    X_batch = tf.strings.split(X_batch)\n",
    "    return X_batch.to_tensor(default_value=b\"<pad>\"), y_batch"
   ]
  },
  {
   "cell_type": "markdown",
   "id": "0970a2e8",
   "metadata": {},
   "source": [
    "**(?)** Try to dig deeper into why the choices of these functions such as `tf.strings.substr`, etc. In particular, what kind of form does the `X_batch` take before entering this function of `preprocess`?"
   ]
  },
  {
   "cell_type": "raw",
   "id": "a1d9d1b9",
   "metadata": {},
   "source": [
    "next(datasets[\"train\"].batch(32))"
   ]
  },
  {
   "cell_type": "raw",
   "id": "e8a34cff",
   "metadata": {},
   "source": [
    "TypeError: 'BatchDataset' object is not an iterator"
   ]
  },
  {
   "cell_type": "code",
   "execution_count": 7,
   "id": "334d85de",
   "metadata": {},
   "outputs": [
    {
     "data": {
      "text/plain": [
       "tensorflow.python.data.ops.dataset_ops.BatchDataset"
      ]
     },
     "execution_count": 7,
     "metadata": {},
     "output_type": "execute_result"
    }
   ],
   "source": [
    "type(datasets[\"train\"].batch(32))"
   ]
  },
  {
   "cell_type": "markdown",
   "id": "84219b26",
   "metadata": {},
   "source": [
    "**(?)** We are not modifying `y_batch`. Why not just use input arg `X_batch` and return `X_batch` alone?<br>\n",
    "**(R)** Later on, there will be a line of code\n",
    "```python\n",
    "for X_batch, y_batch in datasets[\"train\"].batch(32).map(preprocess):\n",
    "```\n",
    "This line shows how we would like to use our function `preprocess` and also the reason why it cannot be a function of `X_batch` alone (i.e. must include `y_batch` as input arg as well.)"
   ]
  },
  {
   "cell_type": "markdown",
   "id": "8fcd3eb6",
   "metadata": {},
   "source": [
    "### Construct the vocabulary\n",
    "01. going thru the whole training set\n",
    "02. applying our `preprocess()` function\n",
    "03. using a `Counter` (in `collections` module) to count the number of occurrences of each word"
   ]
  },
  {
   "cell_type": "code",
   "execution_count": 19,
   "id": "b8df8926",
   "metadata": {},
   "outputs": [],
   "source": [
    "from collections import Counter\n",
    "vocabulary = Counter()\n",
    "for X_batch, y_batch in datasets[\"train\"].batch(32).map(preprocess):\n",
    "    for review in X_batch:\n",
    "        vocabulary.update(list(review.numpy()))"
   ]
  },
  {
   "cell_type": "markdown",
   "id": "42e42070",
   "metadata": {},
   "source": [
    "**(?)** Try to understand and explain the convoluted line `vocabulary.update(list(review.numpy()))`."
   ]
  },
  {
   "cell_type": "code",
   "execution_count": 17,
   "id": "f99ef042",
   "metadata": {},
   "outputs": [
    {
     "name": "stdout",
     "output_type": "stream",
     "text": [
      "type(review) = <class 'tensorflow.python.framework.ops.EagerTensor'>\n",
      "type(review.numpy()) = <class 'numpy.ndarray'>\n",
      "review.numpy().dtype = object\n",
      "review.numpy() = [b'This' b'is' b'the' b'most' b'depressing' b'film' b'I' b'have' b'ever'\n",
      " b'seen' b'I' b'first' b'saw' b'it' b'as' b'a' b'child' b'and' b'even'\n",
      " b'thinking' b'about' b'it' b'now' b'really' b'upsets' b'me' b'I' b'know'\n",
      " b'it' b'was' b'set' b'in' b'a' b'time' b'when' b'life' b'was' b'hard'\n",
      " b'and' b'I' b'know' b'these' b'people' b'were' b'poor' b'and' b'the'\n",
      " b'crops' b'were' b'vital' b'Yes' b'I' b'get' b'all' b'that' b'What' b'I'\n",
      " b'find' b'hard' b'to' b'take' b'is' b'I' b\"can't\" b'remember' b'o']\n"
     ]
    }
   ],
   "source": [
    "for X_batch, y_batch in datasets[\"train\"].batch(32).map(preprocess).take(1):\n",
    "    k = np.random.randint(0, len(X_batch))\n",
    "    review = X_batch[k]\n",
    "    print(f\"type(review) = {type(review)}\")\n",
    "    print(f\"type(review.numpy()) = {type(review.numpy())}\")\n",
    "    print(f\"review.numpy().dtype = {review.numpy().dtype}\")\n",
    "    print(f\"review.numpy() = {review.numpy()}\")"
   ]
  },
  {
   "cell_type": "markdown",
   "id": "52a0698c",
   "metadata": {},
   "source": [
    "**(?)** Must we convert the ndarray `review.numpy()` (of data type `object`) into a list before feeding it into the `Counter`'s `update()` method?<br>\n",
    "**(R)** Not necessarily, it seems."
   ]
  },
  {
   "cell_type": "code",
   "execution_count": 20,
   "id": "c3852f60",
   "metadata": {},
   "outputs": [],
   "source": [
    "vocabulary2 = Counter()\n",
    "for X_batch, y_batch in datasets[\"train\"].batch(32).map(preprocess):\n",
    "    for review in X_batch:\n",
    "        vocabulary2.update(review.numpy())"
   ]
  },
  {
   "cell_type": "code",
   "execution_count": 21,
   "id": "81688bb8",
   "metadata": {},
   "outputs": [
    {
     "data": {
      "text/plain": [
       "Counter({b'This': 6672,\n",
       "         b'was': 14950,\n",
       "         b'a': 38564,\n",
       "         b'wonderfully': 78,\n",
       "         b'clever': 132,\n",
       "         b'and': 33431,\n",
       "         b'entertaining': 418,\n",
       "         b'movie': 14945,\n",
       "         b'that': 14752,\n",
       "         b'I': 27019,\n",
       "         b'shall': 27,\n",
       "         b'never': 1416,\n",
       "         b'tire': 13,\n",
       "         b'of': 33983,\n",
       "         b'watching': 1437,\n",
       "         b'many': 1630,\n",
       "         b'times': 792,\n",
       "         b'The': 11879,\n",
       "         b'casting': 148,\n",
       "         b'magnificent': 41,\n",
       "         b'in': 18966,\n",
       "         b'matching': 5,\n",
       "         b'up': 2508,\n",
       "         b'the': 61137,\n",
       "         b'young': 846,\n",
       "         b'with': 9073,\n",
       "         b'older': 134,\n",
       "         b'characters': 1371,\n",
       "         b'There': 1230,\n",
       "         b'are': 5665,\n",
       "         b'those': 1035,\n",
       "         b'us': 575,\n",
       "         b'out': 3376,\n",
       "         b'here': 919,\n",
       "         b'who': 4266,\n",
       "         b'really': 2924,\n",
       "         b'do': 1593,\n",
       "         b'appreciate': 118,\n",
       "         b'good': 3727,\n",
       "         b'actors': 1087,\n",
       "         b'an': 5183,\n",
       "         b'intelligent': 131,\n",
       "         b'story': 3211,\n",
       "         b'format': 50,\n",
       "         b'As': 850,\n",
       "         b'for': 8660,\n",
       "         b'Judi': 6,\n",
       "         b'<pad>': 214157,\n",
       "         b'saw': 1676,\n",
       "         b'this': 18490,\n",
       "         b'film': 10668,\n",
       "         b'on': 7817,\n",
       "         b'True': 43,\n",
       "         b'Movies': 78,\n",
       "         b'which': 2178,\n",
       "         b'automatically': 20,\n",
       "         b'made': 2422,\n",
       "         b'me': 2923,\n",
       "         b'sceptical': 8,\n",
       "         b'but': 7724,\n",
       "         b'actually': 898,\n",
       "         b'it': 17690,\n",
       "         b'Why': 293,\n",
       "         b'Not': 550,\n",
       "         b'because': 2072,\n",
       "         b'amazing': 343,\n",
       "         b'plot': 1979,\n",
       "         b'twists': 89,\n",
       "         b'or': 3302,\n",
       "         b'breathtaking': 36,\n",
       "         b'dialogue': 308,\n",
       "         b'there': 2107,\n",
       "         b'is': 25719,\n",
       "         b'little': 1337,\n",
       "         b'despite': 159,\n",
       "         b'what': 2805,\n",
       "         b'people': 2086,\n",
       "         b'say': 1569,\n",
       "         b'thought': 1269,\n",
       "         b'accurate': 90,\n",
       "         b\"it's\": 2476,\n",
       "         b'depiction': 47,\n",
       "         b'teenag': 1,\n",
       "         b'Just': 297,\n",
       "         b'someone': 419,\n",
       "         b'under': 248,\n",
       "         b'age': 247,\n",
       "         b'does': 962,\n",
       "         b'not': 6325,\n",
       "         b'mean': 405,\n",
       "         b'they': 3008,\n",
       "         b'stupid': 395,\n",
       "         b'If': 1282,\n",
       "         b'your': 991,\n",
       "         b'child': 274,\n",
       "         b'likes': 98,\n",
       "         b\"you'd\": 71,\n",
       "         b'better': 1169,\n",
       "         b'have': 7031,\n",
       "         b'him': 952,\n",
       "         b'her': 2322,\n",
       "         b'tested': 5,\n",
       "         b'am': 1094,\n",
       "         b'continually': 9,\n",
       "         b'amazed': 78,\n",
       "         b'at': 4814,\n",
       "         b'how': 1791,\n",
       "         b'so': 4521,\n",
       "         b'can': 2337,\n",
       "         b'be': 5888,\n",
       "         b'involved': 240,\n",
       "         b'something': 979,\n",
       "         b'turns': 185,\n",
       "         b'bad': 2650,\n",
       "         b'showcase': 23,\n",
       "         b'digital': 32,\n",
       "         b'wizardry': 2,\n",
       "         b'AND': 67,\n",
       "         b'NOTHING': 33,\n",
       "         b'ELSE': 3,\n",
       "         b'Brian': 89,\n",
       "         b'De': 102,\n",
       "         b\"Palma's\": 6,\n",
       "         b'undeniable': 4,\n",
       "         b'virtuosity': 1,\n",
       "         b\"can't\": 843,\n",
       "         b'camouflage': 1,\n",
       "         b'fact': 736,\n",
       "         b'his': 4625,\n",
       "         b'thinly': 7,\n",
       "         b'disguised': 12,\n",
       "         b'Psycho': 15,\n",
       "         b'carbon': 4,\n",
       "         b'copy': 140,\n",
       "         b'he': 3096,\n",
       "         b'provide': 52,\n",
       "         b'genuinely': 35,\n",
       "         b'terrifying': 29,\n",
       "         b'climax': 28,\n",
       "         b'His': 278,\n",
       "         b'Blow': 10,\n",
       "         b'Out': 42,\n",
       "         b'next': 230,\n",
       "         b'year': 733,\n",
       "         b'improvement': 21,\n",
       "         b'Several': 25,\n",
       "         b'Iranian': 17,\n",
       "         b'women': 355,\n",
       "         b'dress': 19,\n",
       "         b'as': 8578,\n",
       "         b'boys': 99,\n",
       "         b'try': 330,\n",
       "         b'to': 27707,\n",
       "         b'get': 1827,\n",
       "         b'into': 1794,\n",
       "         b'World': 142,\n",
       "         b'Cup': 8,\n",
       "         b'qualifying': 5,\n",
       "         b'match': 79,\n",
       "         b'between': 590,\n",
       "         b'Iran': 18,\n",
       "         b'Bahrain': 3,\n",
       "         b'When': 804,\n",
       "         b\"they're\": 147,\n",
       "         b'caught': 168,\n",
       "         b'penned': 10,\n",
       "         b'area': 64,\n",
       "         b'where': 1117,\n",
       "         b'remains': 75,\n",
       "         b'within': 125,\n",
       "         b'earshot': 1,\n",
       "         b'sight': 53,\n",
       "         b'prisoners': 18,\n",
       "         b'plead': 2,\n",
       "         b'let': 304,\n",
       "         b'go': 991,\n",
       "         b'rules': 37,\n",
       "         b'Given': 33,\n",
       "         b'pe': 23,\n",
       "         b'our': 458,\n",
       "         b'lives': 285,\n",
       "         b'we': 1451,\n",
       "         b'meet': 121,\n",
       "         b'only': 2507,\n",
       "         b'once': 386,\n",
       "         b'lifetime': 29,\n",
       "         b'some': 3197,\n",
       "         b'reason': 543,\n",
       "         b'another': 768,\n",
       "         b'remember': 588,\n",
       "         b'persons': 15,\n",
       "         b'rest': 245,\n",
       "         b'These': 118,\n",
       "         b'friendships': 8,\n",
       "         b'occur': 8,\n",
       "         b'long': 802,\n",
       "         b'distances': 1,\n",
       "         b'always': 753,\n",
       "         b'natural': 65,\n",
       "         b'reasons': 180,\n",
       "         b'why': 870,\n",
       "         b'worst': 1101,\n",
       "         b'ever': 2105,\n",
       "         b'seen': 2562,\n",
       "         b'Michael': 332,\n",
       "         b'Vartan': 5,\n",
       "         b'hot': 122,\n",
       "         b'woman': 522,\n",
       "         b'And': 1063,\n",
       "         b'she': 1277,\n",
       "         b'looks': 418,\n",
       "         b'absolutely': 460,\n",
       "         b'awful': 597,\n",
       "         b'through': 1089,\n",
       "         b'whole': 621,\n",
       "         b'hair': 76,\n",
       "         b'They': 610,\n",
       "         b'talk': 145,\n",
       "         b'like': 4428,\n",
       "         b'monotone': 4,\n",
       "         b'voices': 29,\n",
       "         b'nooo': 1,\n",
       "         b'chemistry': 84,\n",
       "         b'cover': 165,\n",
       "         b'DVD': 697,\n",
       "         b'even': 2158,\n",
       "         b'remotely': 44,\n",
       "         b'come': 645,\n",
       "         b'close': 241,\n",
       "         b'th': 634,\n",
       "         b'Vanilla': 14,\n",
       "         b'Sky': 58,\n",
       "         b'remake': 225,\n",
       "         b'Abre': 4,\n",
       "         b'Los': 45,\n",
       "         b'Ojos': 4,\n",
       "         b'Open': 9,\n",
       "         b'Your': 41,\n",
       "         b'Eyes': 32,\n",
       "         b'my': 3662,\n",
       "         b'opinion': 246,\n",
       "         b'much': 2080,\n",
       "         b'more': 2436,\n",
       "         b'human': 265,\n",
       "         b'emotional': 92,\n",
       "         b'version': 571,\n",
       "         b'Tom': 212,\n",
       "         b'Cruise': 17,\n",
       "         b'plays': 560,\n",
       "         b'David': 264,\n",
       "         b'Aames': 3,\n",
       "         b'selfish': 12,\n",
       "         b'egomaniac': 1,\n",
       "         b'takes': 496,\n",
       "         b'other': 1709,\n",
       "         b\"people's\": 25,\n",
       "         b'emotions': 65,\n",
       "         b'granted': 15,\n",
       "         b'thinks': 77,\n",
       "         b'himself': 292,\n",
       "         b'Jason': 93,\n",
       "         b'Lee': 181,\n",
       "         b'Shelby': 4,\n",
       "         b\"David'\": 1,\n",
       "         b'Black': 126,\n",
       "         b'guy': 486,\n",
       "         b'becomes': 200,\n",
       "         b'rich': 124,\n",
       "         b'white': 213,\n",
       "         b'seems': 668,\n",
       "         b'embrace': 8,\n",
       "         b'hip': 41,\n",
       "         b'hop': 26,\n",
       "         b'culture': 117,\n",
       "         b'most': 2038,\n",
       "         b'funny': 1213,\n",
       "         b'moments': 284,\n",
       "         b'play': 489,\n",
       "         b'off': 1249,\n",
       "         b'problem': 299,\n",
       "         b\"doesn't\": 750,\n",
       "         b'work': 927,\n",
       "         b'almost': 632,\n",
       "         b'works': 269,\n",
       "         b'OK': 316,\n",
       "         b'no': 2305,\n",
       "         b'one': 6475,\n",
       "         b'would': 2451,\n",
       "         b'expect': 320,\n",
       "         b'Lance': 11,\n",
       "         b'grab': 17,\n",
       "         b'body': 162,\n",
       "         b'suddenly': 70,\n",
       "         b's': 1219,\n",
       "         b'What': 939,\n",
       "         b'F': 75,\n",
       "         b'just': 3636,\n",
       "         b'watched': 1124,\n",
       "         b'Steven': 89,\n",
       "         b'STOP': 2,\n",
       "         b'Please': 70,\n",
       "         b'insatiably': 1,\n",
       "         b'silly': 217,\n",
       "         b'In': 1423,\n",
       "         b'bizarre': 112,\n",
       "         b'departure': 10,\n",
       "         b'from': 4321,\n",
       "         b'action': 762,\n",
       "         b'adventure': 144,\n",
       "         b'Mr': 272,\n",
       "         b'Seagal': 38,\n",
       "         b'now': 815,\n",
       "         b'fighting': 116,\n",
       "         b'obviously': 212,\n",
       "         b'wish': 189,\n",
       "         b'were': 2481,\n",
       "         b'vampire': 80,\n",
       "         b\"'like'\": 2,\n",
       "         b'creatures': 32,\n",
       "         b'super': 104,\n",
       "         b'strength': 25,\n",
       "         b'Oh': 199,\n",
       "         b'their': 1817,\n",
       "         b'eyes': 205,\n",
       "         b'blink': 4,\n",
       "         b'sideways': 4,\n",
       "         b'Friday': 72,\n",
       "         b'Apr': 1,\n",
       "         b\"didn't\": 1056,\n",
       "         b'see': 2620,\n",
       "         b'last': 744,\n",
       "         b'scene': 683,\n",
       "         b'cos': 8,\n",
       "         b'talking': 176,\n",
       "         b'bro': 4,\n",
       "         b'n': 95,\n",
       "         b'Mom': 16,\n",
       "         b'law': 56,\n",
       "         b'same': 829,\n",
       "         b'time': 3126,\n",
       "         b'Anyone': 90,\n",
       "         b'tell': 374,\n",
       "         b'happened': 217,\n",
       "         b'slightly': 100,\n",
       "         b'husband': 192,\n",
       "         b'hearing': 49,\n",
       "         b'wife': 402,\n",
       "         b'bedroom': 14,\n",
       "         b'then': 1274,\n",
       "         b'opened': 42,\n",
       "         b'door': 45,\n",
       "         b'Great': 161,\n",
       "         b'fun': 651,\n",
       "         b'went': 477,\n",
       "         b'friends': 426,\n",
       "         b'sneak': 23,\n",
       "         b'preview': 56,\n",
       "         b'viewing': 196,\n",
       "         b'We': 435,\n",
       "         b'came': 587,\n",
       "         b'different': 521,\n",
       "         b'after': 1479,\n",
       "         b'minutes': 712,\n",
       "         b'wondering': 78,\n",
       "         b'heck': 33,\n",
       "         b'got': 1055,\n",
       "         b'ourselves': 16,\n",
       "         b'jokes': 260,\n",
       "         b'became': 166,\n",
       "         b'stayed': 53,\n",
       "         b'throughout': 235,\n",
       "         b'first': 2791,\n",
       "         b'part': 766,\n",
       "         b'you': 5500,\n",
       "         b'keep': 260,\n",
       "         b'asking': 29,\n",
       "         b'yourself': 118,\n",
       "         b'about': 4799,\n",
       "         b'While': 396,\n",
       "         b'frustrated': 23,\n",
       "         b'distracted': 16,\n",
       "         b'by': 4717,\n",
       "         b'end': 812,\n",
       "         b'wanted': 403,\n",
       "         b'give': 612,\n",
       "         b'solid': 121,\n",
       "         b'animation': 218,\n",
       "         b'random': 48,\n",
       "         b'all': 4655,\n",
       "         b'over': 1295,\n",
       "         b'place': 446,\n",
       "         b'too': 1352,\n",
       "         b'going': 938,\n",
       "         b'Even': 348,\n",
       "         b'A': 2257,\n",
       "         b'D': 155,\n",
       "         b\"couldn't\": 429,\n",
       "         b'It': 4038,\n",
       "         b'felt': 380,\n",
       "         b'slight': 31,\n",
       "         b'acid': 22,\n",
       "         b'trip': 114,\n",
       "         b'Everything': 92,\n",
       "         b'looked': 284,\n",
       "         b'flat': 112,\n",
       "         b'huge': 271,\n",
       "         b'Woody': 68,\n",
       "         b'Allen': 81,\n",
       "         b'fan': 818,\n",
       "         b'when': 2812,\n",
       "         b'playing': 291,\n",
       "         b'cinema': 381,\n",
       "         b'help': 271,\n",
       "         b'myself': 369,\n",
       "         b'follow': 165,\n",
       "         b'Match': 13,\n",
       "         b'Point': 30,\n",
       "         b'seeing': 604,\n",
       "         b'films': 2121,\n",
       "         b'shot': 378,\n",
       "         b'G': 98,\n",
       "         b'B': 327,\n",
       "         b'unique': 175,\n",
       "         b'among': 189,\n",
       "         b\"Allen's\": 19,\n",
       "         b'along': 323,\n",
       "         b'b': 322,\n",
       "         b'By': 148,\n",
       "         b'Hook': 2,\n",
       "         b'Crook': 1,\n",
       "         b'tremendously': 10,\n",
       "         b'innovative': 31,\n",
       "         b'pair': 45,\n",
       "         b'immensely': 23,\n",
       "         b'smart': 76,\n",
       "         b'talented': 141,\n",
       "         b'filmmakers': 100,\n",
       "         b'Harry': 80,\n",
       "         b'Dodge': 4,\n",
       "         b'Silas': 2,\n",
       "         b'Howard': 57,\n",
       "         b'manage': 37,\n",
       "         b'original': 933,\n",
       "         b'distinctive': 10,\n",
       "         b'cinematic': 120,\n",
       "         b'style': 301,\n",
       "         b'beautifully': 112,\n",
       "         b'Ann': 49,\n",
       "         b'T': 173,\n",
       "         b'Rosetti': 1,\n",
       "         b'written': 436,\n",
       "         b'truly': 397,\n",
       "         b'poetic': 24,\n",
       "         b'yeah': 46,\n",
       "         b'Jenna': 16,\n",
       "         b'Jameson': 13,\n",
       "         b'did': 1349,\n",
       "         b'again': 772,\n",
       "         b'Yeah': 63,\n",
       "         b'Baby': 47,\n",
       "         b'rocks': 32,\n",
       "         b'st': 128,\n",
       "         b'movies': 2754,\n",
       "         b'i': 2330,\n",
       "         b'feel': 600,\n",
       "         b'love': 1539,\n",
       "         b'great': 2407,\n",
       "         b'move': 145,\n",
       "         b'Her': 130,\n",
       "         b'performance': 568,\n",
       "         b'outstanding': 108,\n",
       "         b'liked': 503,\n",
       "         b'scenery': 92,\n",
       "         b'wardrobe': 7,\n",
       "         b'acts': 54,\n",
       "         b'satire': 71,\n",
       "         b'during': 426,\n",
       "         b\"women's\": 17,\n",
       "         b'rights': 30,\n",
       "         b'movement': 32,\n",
       "         b'era': 152,\n",
       "         b'Of': 293,\n",
       "         b'course': 405,\n",
       "         b'COACH': 1,\n",
       "         b'wonderful': 482,\n",
       "         b'experience': 214,\n",
       "         b'behold': 14,\n",
       "         b'runs': 85,\n",
       "         b'vein': 15,\n",
       "         b'FASTBREAK': 1,\n",
       "         b'still': 1112,\n",
       "         b'tame': 17,\n",
       "         b'basically': 176,\n",
       "         b'standard': 101,\n",
       "         b'fare': 51,\n",
       "         b'fluff': 25,\n",
       "         b'being': 1269,\n",
       "         b'uni': 6,\n",
       "         b'indie': 55,\n",
       "         b'list': 164,\n",
       "         b'talent': 214,\n",
       "         b'way': 1517,\n",
       "         b'reminded': 91,\n",
       "         b'very': 3571,\n",
       "         b'churned': 5,\n",
       "         b'home': 376,\n",
       "         b'video': 526,\n",
       "         b'market': 47,\n",
       "         b\"'s\": 790,\n",
       "         b'given': 329,\n",
       "         b'brief': 61,\n",
       "         b'could': 1658,\n",
       "         b'straining': 5,\n",
       "         b't': 716,\n",
       "         b'hardly': 114,\n",
       "         b'aware': 57,\n",
       "         b'history': 339,\n",
       "         b'depicted': 33,\n",
       "         b'Brazilian': 11,\n",
       "         b'black': 326,\n",
       "         b'comedy': 993,\n",
       "         b'however': 323,\n",
       "         b\"wasn't\": 638,\n",
       "         b'accessible': 17,\n",
       "         b'makes': 813,\n",
       "         b'clear': 136,\n",
       "         b\"It's\": 1699,\n",
       "         b'set': 584,\n",
       "         b'century': 117,\n",
       "         b'Brazil': 18,\n",
       "         b'rival': 29,\n",
       "         b'French': 205,\n",
       "         b'Portuguese': 17,\n",
       "         b'settlers': 4,\n",
       "         b'exploiting': 3,\n",
       "         b'indigineous': 1,\n",
       "         b'co': 178,\n",
       "         b'Well': 573,\n",
       "         b'know': 1487,\n",
       "         b'important': 153,\n",
       "         b'piece': 442,\n",
       "         b'executed': 42,\n",
       "         b'Julia': 44,\n",
       "         b'Stiles': 11,\n",
       "         b'favorite': 473,\n",
       "         b'actress': 258,\n",
       "         b\"'\": 393,\n",
       "         b'own': 547,\n",
       "         b'box': 199,\n",
       "         b'suggest': 53,\n",
       "         b'l': 112,\n",
       "         b'reflecting': 4,\n",
       "         b'think': 1746,\n",
       "         b'two': 1522,\n",
       "         b'others': 310,\n",
       "         b'put': 510,\n",
       "         b'perspective': 68,\n",
       "         b'One': 598,\n",
       "         b'relatively': 45,\n",
       "         b'forgettable': 25,\n",
       "         b'covering': 10,\n",
       "         b'geography': 6,\n",
       "         b'Coup': 1,\n",
       "         b'de': 103,\n",
       "         b'Torchon': 1,\n",
       "         b'thousands': 37,\n",
       "         b'miles': 24,\n",
       "         b'away': 433,\n",
       "         b'larger': 18,\n",
       "         b'scope': 8,\n",
       "         b'unforgettable': 28,\n",
       "         b'Indochine': 1,\n",
       "         b'Claire': 37,\n",
       "         b'Denis': 9,\n",
       "         b'has': 4178,\n",
       "         b'produced': 176,\n",
       "         b'Another': 122,\n",
       "         b'example': 280,\n",
       "         b'talents': 57,\n",
       "         b'Cary': 34,\n",
       "         b'Grant': 51,\n",
       "         b'worthy': 76,\n",
       "         b'Oscar': 192,\n",
       "         b'consideration': 17,\n",
       "         b'yet': 502,\n",
       "         b'shunned': 3,\n",
       "         b'Academy': 83,\n",
       "         b'gamut': 5,\n",
       "         b'tender': 21,\n",
       "         b'marvelous': 46,\n",
       "         b'man': 950,\n",
       "         b'decides': 104,\n",
       "         b'big': 804,\n",
       "         b'city': 130,\n",
       "         b'pitfalls': 5,\n",
       "         b'building': 65,\n",
       "         b'wel': 10,\n",
       "         b'tourist': 9,\n",
       "         b'season': 198,\n",
       "         b'ended': 131,\n",
       "         b'remote': 43,\n",
       "         b'island': 75,\n",
       "         b'coast': 12,\n",
       "         b'Scotland': 21,\n",
       "         b'winter': 25,\n",
       "         b'beginning': 368,\n",
       "         b'inhabitants': 11,\n",
       "         b'both': 575,\n",
       "         b'humans': 46,\n",
       "         b'sheep': 5,\n",
       "         b'alike': 32,\n",
       "         b'settling': 3,\n",
       "         b'down': 684,\n",
       "         b'quieter': 2,\n",
       "         b'ahead': 82,\n",
       "         b'Gaffikin': 1,\n",
       "         b'James': 303,\n",
       "         b'Warwick': 1,\n",
       "         b'former': 96,\n",
       "         b'paratrooper': 1,\n",
       "         b'British': 277,\n",
       "         b'Army': 34,\n",
       "         b'local': 222,\n",
       "         b'dentis': 1,\n",
       "         b'Tales': 13,\n",
       "         b'Crypt': 7,\n",
       "         b'All': 391,\n",
       "         b'Through': 27,\n",
       "         b'House': 152,\n",
       "         b'starts': 354,\n",
       "         b'Christmas': 184,\n",
       "         b'Eve': 23,\n",
       "         b'Elizabeth': 37,\n",
       "         b'Mary': 130,\n",
       "         b'Ellen': 25,\n",
       "         b'Trainor': 3,\n",
       "         b'kills': 80,\n",
       "         b'Joseph': 54,\n",
       "         b'Marshall': 18,\n",
       "         b'Bell': 21,\n",
       "         b'drags': 25,\n",
       "         b'outside': 96,\n",
       "         b'ready': 57,\n",
       "         b'throw': 67,\n",
       "         b'well': 1803,\n",
       "         b'while': 733,\n",
       "         b'doing': 289,\n",
       "         b'misses': 28,\n",
       "         b'news': 77,\n",
       "         b'bulletin': 1,\n",
       "         b'radio': 48,\n",
       "         b'says': 185,\n",
       "         b'homicidal': 10,\n",
       "         b'maniac': 15,\n",
       "         b'thing': 956,\n",
       "         b'Jake': 32,\n",
       "         b'Speed': 19,\n",
       "         b\"I've\": 1337,\n",
       "         b'least': 613,\n",
       "         b'begins': 150,\n",
       "         b'Margaret': 23,\n",
       "         b'Karen': 36,\n",
       "         b'Kopins': 3,\n",
       "         b'trying': 480,\n",
       "         b'find': 851,\n",
       "         b'sister': 155,\n",
       "         b'kidnapped': 33,\n",
       "         b'Paris': 111,\n",
       "         b'family': 699,\n",
       "         b'heard': 435,\n",
       "         b'nothing': 796,\n",
       "         b'Along': 39,\n",
       "         b'Many': 101,\n",
       "         b'critics': 128,\n",
       "         b'offended': 28,\n",
       "         b'R': 105,\n",
       "         b'W': 78,\n",
       "         b'Fassbinder': 11,\n",
       "         b'portrayed': 87,\n",
       "         b'protagonist': 51,\n",
       "         b'Wilkie': 1,\n",
       "         b'Nazis': 17,\n",
       "         b'manner': 56,\n",
       "         b'Connoisseurs': 1,\n",
       "         b'will': 1573,\n",
       "         b'realize': 149,\n",
       "         b'Lili': 5,\n",
       "         b'Marleen': 2,\n",
       "         b'belongs': 17,\n",
       "         b\"Fassbinder's\": 2,\n",
       "         b'Marriage': 2,\n",
       "         b'Maria': 32,\n",
       "         b'tried': 210,\n",
       "         b'slasher': 145,\n",
       "         b'enjoy': 405,\n",
       "         b'mindless': 40,\n",
       "         b'slaying': 3,\n",
       "         b'mixed': 82,\n",
       "         b'nudity': 97,\n",
       "         b'suspense': 144,\n",
       "         b'wrong': 458,\n",
       "         b'But': 1478,\n",
       "         b'Unhinged': 11,\n",
       "         b'formula': 70,\n",
       "         b'main': 491,\n",
       "         b'issue': 53,\n",
       "         b'horrible': 360,\n",
       "         b'acting': 1904,\n",
       "         b'three': 505,\n",
       "         b'girls': 219,\n",
       "         b'landed': 15,\n",
       "         b'u': 77,\n",
       "         b'Humm': 1,\n",
       "         b'Italian': 150,\n",
       "         b'starred': 57,\n",
       "         b'hasselhoff': 1,\n",
       "         b'Linda': 25,\n",
       "         b'Blair': 44,\n",
       "         b'wasn': 7,\n",
       "         b'expecting': 271,\n",
       "         b'honest': 129,\n",
       "         b'took': 282,\n",
       "         b'less': 348,\n",
       "         b'than': 1938,\n",
       "         b'doesn': 6,\n",
       "         b'worse': 385,\n",
       "         b'things': 682,\n",
       "         b'far': 648,\n",
       "         b'Laurel': 32,\n",
       "         b'Hardy': 35,\n",
       "         b'cartoons': 67,\n",
       "         b'terrible': 519,\n",
       "         b'simple': 253,\n",
       "         b'ripoffs': 5,\n",
       "         b'Stan': 28,\n",
       "         b'Ollie': 16,\n",
       "         b'resurgence': 6,\n",
       "         b'New': 369,\n",
       "         b'audiences': 85,\n",
       "         b'had': 3121,\n",
       "         b'rediscovered': 4,\n",
       "         b\"pair's\": 1,\n",
       "         b'comedic': 69,\n",
       "         b'genius': 117,\n",
       "         b'mind': 399,\n",
       "         b'numbing': 9,\n",
       "         b'garbage': 134,\n",
       "         b'geared': 10,\n",
       "         b'cash': 47,\n",
       "         b\"children's\": 51,\n",
       "         b'review': 341,\n",
       "         b'IMDb': 213,\n",
       "         b'want': 676,\n",
       "         b'write': 191,\n",
       "         b'since': 728,\n",
       "         b'right': 645,\n",
       "         b'compelled': 30,\n",
       "         b'add': 133,\n",
       "         b\"i'm\": 61,\n",
       "         b'associated': 44,\n",
       "         b'makers': 110,\n",
       "         b'any': 1403,\n",
       "         b'often': 344,\n",
       "         b'before': 904,\n",
       "         b'FYI': 1,\n",
       "         b'late': 375,\n",
       "         b'FUTZ': 1,\n",
       "         b'show': 1561,\n",
       "         b'preserved': 4,\n",
       "         b'experimental': 15,\n",
       "         b'theatre': 84,\n",
       "         b'York': 232,\n",
       "         b'origins': 15,\n",
       "         b'Off': 9,\n",
       "         b'Broadway': 82,\n",
       "         b'Though': 129,\n",
       "         b'everyone': 391,\n",
       "         b'brilliant': 311,\n",
       "         b'darkly': 5,\n",
       "         b'deeply': 68,\n",
       "         b'disturbing': 100,\n",
       "         b'tale': 250,\n",
       "         b'sex': 313,\n",
       "         b'personal': 132,\n",
       "         b'liberty': 7,\n",
       "         b'revenge': 99,\n",
       "         b'serious': 233,\n",
       "         b'sweet': 116,\n",
       "         b'crossing': 12,\n",
       "         b'paths': 6,\n",
       "         b'prepare': 19,\n",
       "         b'weddings': 3,\n",
       "         b'ex': 122,\n",
       "         b'cop': 141,\n",
       "         b'writer': 256,\n",
       "         b'public': 106,\n",
       "         b'school': 416,\n",
       "         b'teacher': 66,\n",
       "         b'fall': 146,\n",
       "         b'each': 414,\n",
       "         b'new': 742,\n",
       "         b'york': 7,\n",
       "         b'setting': 127,\n",
       "         b'though': 757,\n",
       "         b'marrying': 5,\n",
       "         b'Maybe': 162,\n",
       "         b'trite': 45,\n",
       "         b'partners': 14,\n",
       "         b'type': 254,\n",
       "         b'personalities': 28,\n",
       "         b'teen': 98,\n",
       "         b'ager': 3,\n",
       "         b'best': 1756,\n",
       "         b'Bo': 40,\n",
       "         b'Derek': 31,\n",
       "         b'various': 108,\n",
       "         b'states': 24,\n",
       "         b'undress': 3,\n",
       "         b'However': 523,\n",
       "         b\"I'm\": 1364,\n",
       "         b'honestly': 99,\n",
       "         b'Mind': 13,\n",
       "         b'abs': 8,\n",
       "         b'Grieving': 1,\n",
       "         b'couple': 343,\n",
       "         b'cabin': 25,\n",
       "         b'mountain': 32,\n",
       "         b'loss': 38,\n",
       "         b'daughter': 185,\n",
       "         b'discovering': 20,\n",
       "         b'may': 651,\n",
       "         b'ghosts': 25,\n",
       "         b'haunting': 44,\n",
       "         b'restless': 7,\n",
       "         b'spirits': 16,\n",
       "         b'past': 305,\n",
       "         b'occupants': 2,\n",
       "         b'committed': 30,\n",
       "         b'suicide': 63,\n",
       "         b'Julie': 43,\n",
       "         b'Pyke': 1,\n",
       "         b'Cheri': 1,\n",
       "         b'Christian': 72,\n",
       "         b'blames': 9,\n",
       "         b'Greg': 24,\n",
       "         b'Thompson': 18,\n",
       "         b'death': 284,\n",
       "         b'du': 15,\n",
       "         b'Do': 97,\n",
       "         b'guys': 237,\n",
       "         b'wanna': 33,\n",
       "         b'secret': 90,\n",
       "         b'sucks': 83,\n",
       "         b\"don't\": 1610,\n",
       "         b'if': 1978,\n",
       "         b'allow': 43,\n",
       "         b'indulged': 3,\n",
       "         b'plagiarised': 2,\n",
       "         b'versions': 57,\n",
       "         b'perhaps': 243,\n",
       "         b'astounding': 13,\n",
       "         b'summer': 90,\n",
       "         b'mentally': 28,\n",
       "         b'challenged': 12,\n",
       "         b'girl': 540,\n",
       "         b'bright': 41,\n",
       "         b'yellow': 8,\n",
       "         b'sneakers': 1,\n",
       "         b'looking': 533,\n",
       "         b'skyward': 1,\n",
       "         b'Madrid': 6,\n",
       "         b'street': 82,\n",
       "         b'corner': 16,\n",
       "         b'spellbound': 9,\n",
       "         b'passing': 32,\n",
       "         b'plane': 57,\n",
       "         b'examines': 7,\n",
       "         b'life': 1402,\n",
       "         b'five': 211,\n",
       "         b'Adela': 2,\n",
       "         b'Leire': 1,\n",
       "         b'Maricarmen': 1,\n",
       "         b'Anita': 9,\n",
       "         b'Isabel': 7,\n",
       "         b'completely': 382,\n",
       "         b'choices': 28,\n",
       "         b'shoe': 8,\n",
       "         b'rented': 224,\n",
       "         b'yes': 165,\n",
       "         b'paid': 80,\n",
       "         b'money': 428,\n",
       "         b'OMG': 4,\n",
       "         b'reviewer': 67,\n",
       "         b'Ms': 67,\n",
       "         b'Colagrande': 2,\n",
       "         b'PLEASE': 14,\n",
       "         b'make': 1523,\n",
       "         b'appear': 100,\n",
       "         b'lady': 77,\n",
       "         b'charisma': 34,\n",
       "         b'cantaloupe': 1,\n",
       "         b'No': 410,\n",
       "         b\"that's\": 479,\n",
       "         b'fair': 72,\n",
       "         b'canta': 1,\n",
       "         b'An': 278,\n",
       "         b'allegorical': 3,\n",
       "         b'everything': 413,\n",
       "         b'Basically': 86,\n",
       "         b'coming': 208,\n",
       "         b'boy': 302,\n",
       "         b'thrust': 10,\n",
       "         b'position': 28,\n",
       "         b'having': 472,\n",
       "         b'save': 146,\n",
       "         b'world': 649,\n",
       "         b'He': 853,\n",
       "         b'meets': 145,\n",
       "         b'dazzling': 8,\n",
       "         b'array': 9,\n",
       "         b'heroes': 49,\n",
       "         b'villains': 39,\n",
       "         b'quite': 870,\n",
       "         b'telling': 118,\n",
       "         b'them': 1258,\n",
       "         b'apart': 100,\n",
       "         b'def': 7,\n",
       "         b'idea': 592,\n",
       "         b'created': 126,\n",
       "         b'sense': 418,\n",
       "         b'feels': 124,\n",
       "         b'travel': 55,\n",
       "         b'strong': 201,\n",
       "         b'Byron': 9,\n",
       "         b'juvenile': 19,\n",
       "         b'tad': 19,\n",
       "         b'annoying': 166,\n",
       "         b'Polidori': 1,\n",
       "         b'convincing': 97,\n",
       "         b'beaten': 28,\n",
       "         b'sycophant': 1,\n",
       "         b'lifelong': 5,\n",
       "         b'Dickens': 14,\n",
       "         b'invariably': 13,\n",
       "         b'been': 2336,\n",
       "         b'disappointed': 325,\n",
       "         b'adaptations': 27,\n",
       "         b'novels': 50,\n",
       "         b'Although': 357,\n",
       "         b'presented': 71,\n",
       "         b'extremely': 261,\n",
       "         b're': 234,\n",
       "         b'every': 867,\n",
       "         b'level': 153,\n",
       "         b'Victorian': 13,\n",
       "         b'Britain': 32,\n",
       "         b'pervasive': 4,\n",
       "         b'thread': 14,\n",
       "         b'humour': 102,\n",
       "         b'playful': 14,\n",
       "         b'sharp': 40,\n",
       "         b'discription': 1,\n",
       "         b'bubbling': 1,\n",
       "         b'dynamic': 17,\n",
       "         b'specialy': 1,\n",
       "         b'old': 1096,\n",
       "         b'experiences': 50,\n",
       "         b'gay': 115,\n",
       "         b'vacation': 36,\n",
       "         b'extremly': 1,\n",
       "         b'surrogated': 1,\n",
       "         b'sto': 9,\n",
       "         b'soul': 70,\n",
       "         b'provoking': 46,\n",
       "         b'living': 213,\n",
       "         b'such': 1060,\n",
       "         b'tribes': 6,\n",
       "         b'conditions': 15,\n",
       "         b'grandfather': 16,\n",
       "         b'You': 635,\n",
       "         b'today': 226,\n",
       "         b'side': 228,\n",
       "         b'baby': 93,\n",
       "         b'served': 20,\n",
       "         b'hi': 48,\n",
       "         b'depressing': 48,\n",
       "         b'thinking': 312,\n",
       "         b'upsets': 3,\n",
       "         b'hard': 630,\n",
       "         b'these': 775,\n",
       "         b'poor': 393,\n",
       "         b'crops': 3,\n",
       "         b'vital': 8,\n",
       "         b'Yes': 251,\n",
       "         b'take': 645,\n",
       "         b'o': 295,\n",
       "         b'LOVED': 25,\n",
       "         b'kid': 283,\n",
       "         b'cried': 33,\n",
       "         b'weird': 160,\n",
       "         ...})"
      ]
     },
     "execution_count": 21,
     "metadata": {},
     "output_type": "execute_result"
    }
   ],
   "source": [
    "vocabulary2"
   ]
  },
  {
   "cell_type": "code",
   "execution_count": 22,
   "id": "1b501e92",
   "metadata": {},
   "outputs": [
    {
     "data": {
      "text/plain": [
       "Counter({b'Just': 297,\n",
       "         b'because': 2072,\n",
       "         b'someone': 419,\n",
       "         b'is': 25719,\n",
       "         b'under': 248,\n",
       "         b'the': 61137,\n",
       "         b'age': 247,\n",
       "         b'of': 33983,\n",
       "         b'does': 962,\n",
       "         b'not': 6325,\n",
       "         b'mean': 405,\n",
       "         b'they': 3008,\n",
       "         b'are': 5665,\n",
       "         b'stupid': 395,\n",
       "         b'If': 1282,\n",
       "         b'your': 991,\n",
       "         b'child': 274,\n",
       "         b'likes': 98,\n",
       "         b'this': 18490,\n",
       "         b'film': 10668,\n",
       "         b\"you'd\": 71,\n",
       "         b'better': 1169,\n",
       "         b'have': 7031,\n",
       "         b'him': 952,\n",
       "         b'her': 2322,\n",
       "         b'tested': 5,\n",
       "         b'I': 27019,\n",
       "         b'am': 1094,\n",
       "         b'continually': 9,\n",
       "         b'amazed': 78,\n",
       "         b'at': 4814,\n",
       "         b'how': 1791,\n",
       "         b'so': 4521,\n",
       "         b'many': 1630,\n",
       "         b'people': 2086,\n",
       "         b'can': 2337,\n",
       "         b'be': 5888,\n",
       "         b'involved': 240,\n",
       "         b'in': 18966,\n",
       "         b'something': 979,\n",
       "         b'that': 14752,\n",
       "         b'turns': 185,\n",
       "         b'out': 3376,\n",
       "         b'bad': 2650,\n",
       "         b'This': 6672,\n",
       "         b'a': 38564,\n",
       "         b'showcase': 23,\n",
       "         b'for': 8660,\n",
       "         b'digital': 32,\n",
       "         b'wizardry': 2,\n",
       "         b'AND': 67,\n",
       "         b'NOTHING': 33,\n",
       "         b'ELSE': 3,\n",
       "         b'<pad>': 216205,\n",
       "         b'saw': 1676,\n",
       "         b'on': 7817,\n",
       "         b'True': 43,\n",
       "         b'Movies': 78,\n",
       "         b'which': 2178,\n",
       "         b'automatically': 20,\n",
       "         b'made': 2422,\n",
       "         b'me': 2923,\n",
       "         b'sceptical': 8,\n",
       "         b'but': 7724,\n",
       "         b'actually': 898,\n",
       "         b'it': 17690,\n",
       "         b'was': 14950,\n",
       "         b'good': 3727,\n",
       "         b'Why': 293,\n",
       "         b'Not': 550,\n",
       "         b'amazing': 343,\n",
       "         b'plot': 1979,\n",
       "         b'twists': 89,\n",
       "         b'or': 3302,\n",
       "         b'breathtaking': 36,\n",
       "         b'dialogue': 308,\n",
       "         b'there': 2107,\n",
       "         b'little': 1337,\n",
       "         b'despite': 159,\n",
       "         b'what': 2805,\n",
       "         b'say': 1569,\n",
       "         b'thought': 1269,\n",
       "         b'accurate': 90,\n",
       "         b\"it's\": 2476,\n",
       "         b'depiction': 47,\n",
       "         b'teenag': 1,\n",
       "         b'There': 1230,\n",
       "         b'our': 458,\n",
       "         b'lives': 285,\n",
       "         b'we': 1451,\n",
       "         b'meet': 121,\n",
       "         b'only': 2507,\n",
       "         b'once': 386,\n",
       "         b'lifetime': 29,\n",
       "         b'some': 3197,\n",
       "         b'reason': 543,\n",
       "         b'another': 768,\n",
       "         b'remember': 588,\n",
       "         b'those': 1035,\n",
       "         b'persons': 15,\n",
       "         b'rest': 245,\n",
       "         b'These': 118,\n",
       "         b'friendships': 8,\n",
       "         b'occur': 8,\n",
       "         b'between': 590,\n",
       "         b'with': 9073,\n",
       "         b'long': 802,\n",
       "         b'distances': 1,\n",
       "         b'and': 33431,\n",
       "         b'always': 753,\n",
       "         b'natural': 65,\n",
       "         b'reasons': 180,\n",
       "         b'why': 870,\n",
       "         b'do': 1593,\n",
       "         b'Several': 25,\n",
       "         b'young': 846,\n",
       "         b'Iranian': 17,\n",
       "         b'women': 355,\n",
       "         b'dress': 19,\n",
       "         b'as': 8578,\n",
       "         b'boys': 99,\n",
       "         b'try': 330,\n",
       "         b'to': 27707,\n",
       "         b'get': 1827,\n",
       "         b'into': 1794,\n",
       "         b'World': 142,\n",
       "         b'Cup': 8,\n",
       "         b'qualifying': 5,\n",
       "         b'match': 79,\n",
       "         b'Iran': 18,\n",
       "         b'Bahrain': 3,\n",
       "         b'When': 804,\n",
       "         b\"they're\": 147,\n",
       "         b'caught': 168,\n",
       "         b'penned': 10,\n",
       "         b'an': 5183,\n",
       "         b'area': 64,\n",
       "         b'where': 1117,\n",
       "         b'remains': 75,\n",
       "         b'within': 125,\n",
       "         b'earshot': 1,\n",
       "         b'sight': 53,\n",
       "         b'The': 11879,\n",
       "         b'prisoners': 18,\n",
       "         b'plead': 2,\n",
       "         b'let': 304,\n",
       "         b'go': 991,\n",
       "         b'rules': 37,\n",
       "         b'Given': 33,\n",
       "         b'pe': 23,\n",
       "         b'A': 2257,\n",
       "         b'very': 3571,\n",
       "         b'close': 241,\n",
       "         b'sharp': 40,\n",
       "         b'discription': 1,\n",
       "         b'bubbling': 1,\n",
       "         b'dynamic': 17,\n",
       "         b'emotional': 92,\n",
       "         b'world': 649,\n",
       "         b'specialy': 1,\n",
       "         b'one': 6475,\n",
       "         b'year': 733,\n",
       "         b'old': 1096,\n",
       "         b'guy': 486,\n",
       "         b'makes': 813,\n",
       "         b'his': 4625,\n",
       "         b'first': 2791,\n",
       "         b'experiences': 50,\n",
       "         b'gay': 115,\n",
       "         b'love': 1539,\n",
       "         b'other': 1709,\n",
       "         b'boy': 302,\n",
       "         b'during': 426,\n",
       "         b'vacation': 36,\n",
       "         b'part': 766,\n",
       "         b'family': 699,\n",
       "         b'liked': 503,\n",
       "         b'extremly': 1,\n",
       "         b'clear': 136,\n",
       "         b'surrogated': 1,\n",
       "         b'sto': 9,\n",
       "         b'Oh': 199,\n",
       "         b'yeah': 46,\n",
       "         b'Jenna': 16,\n",
       "         b'Jameson': 13,\n",
       "         b'did': 1349,\n",
       "         b'again': 772,\n",
       "         b'Yeah': 63,\n",
       "         b'Baby': 47,\n",
       "         b'movie': 14945,\n",
       "         b'rocks': 32,\n",
       "         b'It': 4038,\n",
       "         b'st': 128,\n",
       "         b'movies': 2754,\n",
       "         b'i': 2330,\n",
       "         b'And': 1063,\n",
       "         b'feel': 600,\n",
       "         b'she': 1277,\n",
       "         b'great': 2407,\n",
       "         b'move': 145,\n",
       "         b'Her': 130,\n",
       "         b'performance': 568,\n",
       "         b'outstanding': 108,\n",
       "         b'most': 2038,\n",
       "         b'scenery': 92,\n",
       "         b'wardrobe': 7,\n",
       "         b'you': 5500,\n",
       "         b'wonderfully': 78,\n",
       "         b'clever': 132,\n",
       "         b'entertaining': 418,\n",
       "         b'shall': 27,\n",
       "         b'never': 1416,\n",
       "         b'tire': 13,\n",
       "         b'watching': 1437,\n",
       "         b'times': 792,\n",
       "         b'casting': 148,\n",
       "         b'magnificent': 41,\n",
       "         b'matching': 5,\n",
       "         b'up': 2508,\n",
       "         b'older': 134,\n",
       "         b'characters': 1371,\n",
       "         b'us': 575,\n",
       "         b'here': 919,\n",
       "         b'who': 4266,\n",
       "         b'really': 2924,\n",
       "         b'appreciate': 118,\n",
       "         b'actors': 1087,\n",
       "         b'intelligent': 131,\n",
       "         b'story': 3211,\n",
       "         b'format': 50,\n",
       "         b'As': 850,\n",
       "         b'Judi': 6,\n",
       "         b'lifelong': 5,\n",
       "         b'fan': 818,\n",
       "         b'Dickens': 14,\n",
       "         b'invariably': 13,\n",
       "         b'been': 2336,\n",
       "         b'disappointed': 325,\n",
       "         b'by': 4717,\n",
       "         b'adaptations': 27,\n",
       "         b'novels': 50,\n",
       "         b'Although': 357,\n",
       "         b'works': 269,\n",
       "         b'presented': 71,\n",
       "         b'extremely': 261,\n",
       "         b're': 234,\n",
       "         b'telling': 118,\n",
       "         b'human': 265,\n",
       "         b'life': 1402,\n",
       "         b'every': 867,\n",
       "         b'level': 153,\n",
       "         b'Victorian': 13,\n",
       "         b'Britain': 32,\n",
       "         b'throughout': 235,\n",
       "         b'them': 1258,\n",
       "         b'all': 4655,\n",
       "         b'pervasive': 4,\n",
       "         b'thread': 14,\n",
       "         b'humour': 102,\n",
       "         b'could': 1658,\n",
       "         b'both': 575,\n",
       "         b'playful': 14,\n",
       "         b'Black': 126,\n",
       "         b'becomes': 200,\n",
       "         b'rich': 124,\n",
       "         b'white': 213,\n",
       "         b'seems': 668,\n",
       "         b'embrace': 8,\n",
       "         b'hip': 41,\n",
       "         b'hop': 26,\n",
       "         b'culture': 117,\n",
       "         b'funny': 1213,\n",
       "         b'moments': 284,\n",
       "         b'play': 489,\n",
       "         b'off': 1249,\n",
       "         b'problem': 299,\n",
       "         b\"doesn't\": 750,\n",
       "         b'work': 927,\n",
       "         b'almost': 632,\n",
       "         b'OK': 316,\n",
       "         b'no': 2305,\n",
       "         b'would': 2451,\n",
       "         b'expect': 320,\n",
       "         b'Lance': 11,\n",
       "         b'grab': 17,\n",
       "         b'body': 162,\n",
       "         b'like': 4428,\n",
       "         b'suddenly': 70,\n",
       "         b's': 1219,\n",
       "         b'Vanilla': 14,\n",
       "         b'Sky': 58,\n",
       "         b'remake': 225,\n",
       "         b'Abre': 4,\n",
       "         b'Los': 45,\n",
       "         b'Ojos': 4,\n",
       "         b'Open': 9,\n",
       "         b'Your': 41,\n",
       "         b'Eyes': 32,\n",
       "         b'my': 3662,\n",
       "         b'opinion': 246,\n",
       "         b'much': 2080,\n",
       "         b'more': 2436,\n",
       "         b'version': 571,\n",
       "         b'Tom': 212,\n",
       "         b'Cruise': 17,\n",
       "         b'plays': 560,\n",
       "         b'David': 264,\n",
       "         b'Aames': 3,\n",
       "         b'selfish': 12,\n",
       "         b'egomaniac': 1,\n",
       "         b'takes': 496,\n",
       "         b\"people's\": 25,\n",
       "         b'emotions': 65,\n",
       "         b'granted': 15,\n",
       "         b'thinks': 77,\n",
       "         b'himself': 292,\n",
       "         b'Jason': 93,\n",
       "         b'Lee': 181,\n",
       "         b'Brian': 89,\n",
       "         b'Shelby': 4,\n",
       "         b\"David'\": 1,\n",
       "         b'absolutely': 460,\n",
       "         b'LOVED': 25,\n",
       "         b'when': 2812,\n",
       "         b'kid': 283,\n",
       "         b'cried': 33,\n",
       "         b'time': 3126,\n",
       "         b'watched': 1124,\n",
       "         b\"wasn't\": 638,\n",
       "         b'weird': 160,\n",
       "         b'totally': 320,\n",
       "         b'identified': 6,\n",
       "         b'see': 2620,\n",
       "         b'hope': 199,\n",
       "         b'wont': 21,\n",
       "         b'Pufnstuf': 4,\n",
       "         b'drawn': 96,\n",
       "         b'fantasy': 153,\n",
       "         b'lo': 30,\n",
       "         b'Being': 95,\n",
       "         b'silent': 99,\n",
       "         b'films': 2121,\n",
       "         b'looked': 284,\n",
       "         b'forward': 174,\n",
       "         b'seeing': 604,\n",
       "         b'picture': 279,\n",
       "         b'pretty': 884,\n",
       "         b'has': 4178,\n",
       "         b'mentioned': 87,\n",
       "         b'commercial': 54,\n",
       "         b'Maxwell': 6,\n",
       "         b'automobile': 1,\n",
       "         b'Perhaps': 104,\n",
       "         b'if': 1978,\n",
       "         b'chase': 63,\n",
       "         b'scene': 683,\n",
       "         b'about': 4799,\n",
       "         b'half': 454,\n",
       "         b'length': 96,\n",
       "         b'Well': 573,\n",
       "         b'history': 339,\n",
       "         b'know': 1487,\n",
       "         b'important': 153,\n",
       "         b'piece': 442,\n",
       "         b'beautifully': 112,\n",
       "         b'executed': 42,\n",
       "         b'Julia': 44,\n",
       "         b'Stiles': 11,\n",
       "         b'became': 166,\n",
       "         b'favorite': 473,\n",
       "         b'actress': 258,\n",
       "         b'after': 1479,\n",
       "         b\"'\": 393,\n",
       "         b'own': 547,\n",
       "         b'video': 526,\n",
       "         b'box': 199,\n",
       "         b'suggest': 53,\n",
       "         b'l': 112,\n",
       "         b'De': 102,\n",
       "         b\"Palma's\": 6,\n",
       "         b'undeniable': 4,\n",
       "         b'virtuosity': 1,\n",
       "         b\"can't\": 843,\n",
       "         b'camouflage': 1,\n",
       "         b'fact': 736,\n",
       "         b'thinly': 7,\n",
       "         b'disguised': 12,\n",
       "         b'Psycho': 15,\n",
       "         b'carbon': 4,\n",
       "         b'copy': 140,\n",
       "         b'he': 3096,\n",
       "         b'provide': 52,\n",
       "         b'genuinely': 35,\n",
       "         b'terrifying': 29,\n",
       "         b'climax': 28,\n",
       "         b'His': 278,\n",
       "         b'Blow': 10,\n",
       "         b'Out': 42,\n",
       "         b'next': 230,\n",
       "         b'improvement': 21,\n",
       "         b'gave': 323,\n",
       "         b'understand': 413,\n",
       "         b'Ettore': 9,\n",
       "         b'Scola': 5,\n",
       "         b'greater': 25,\n",
       "         b'directors': 170,\n",
       "         b'Italian': 150,\n",
       "         b'cinema': 381,\n",
       "         b'ridiculous': 231,\n",
       "         b'All': 391,\n",
       "         b'stories': 296,\n",
       "         b'unsubstantial': 1,\n",
       "         b'boring': 501,\n",
       "         b'interesting': 832,\n",
       "         b'Too': 76,\n",
       "         b'too': 1352,\n",
       "         b'things': 682,\n",
       "         b'save': 146,\n",
       "         b'Friday': 72,\n",
       "         b'Apr': 1,\n",
       "         b'th': 634,\n",
       "         b\"didn't\": 1056,\n",
       "         b'last': 744,\n",
       "         b'cos': 8,\n",
       "         b'talking': 176,\n",
       "         b'bro': 4,\n",
       "         b'n': 95,\n",
       "         b'Mom': 16,\n",
       "         b'law': 56,\n",
       "         b'same': 829,\n",
       "         b'Anyone': 90,\n",
       "         b'tell': 374,\n",
       "         b'happened': 217,\n",
       "         b'slightly': 100,\n",
       "         b'husband': 192,\n",
       "         b'hearing': 49,\n",
       "         b'wife': 402,\n",
       "         b'bedroom': 14,\n",
       "         b'then': 1274,\n",
       "         b'opened': 42,\n",
       "         b'door': 45,\n",
       "         b'huge': 271,\n",
       "         b'Woody': 68,\n",
       "         b'Allen': 81,\n",
       "         b'playing': 291,\n",
       "         b\"couldn't\": 429,\n",
       "         b'help': 271,\n",
       "         b'myself': 369,\n",
       "         b'wanted': 403,\n",
       "         b'follow': 165,\n",
       "         b'Match': 13,\n",
       "         b'Point': 30,\n",
       "         b'shot': 378,\n",
       "         b'G': 98,\n",
       "         b'B': 327,\n",
       "         b'unique': 175,\n",
       "         b'among': 189,\n",
       "         b\"Allen's\": 19,\n",
       "         b'along': 323,\n",
       "         b'b': 322,\n",
       "         b'think': 1746,\n",
       "         b'idea': 592,\n",
       "         b'perfect': 345,\n",
       "         b'exploring': 18,\n",
       "         b'second': 429,\n",
       "         b'else': 349,\n",
       "         b'wrote': 198,\n",
       "         b'comment': 261,\n",
       "         b'implications': 4,\n",
       "         b'kind': 586,\n",
       "         b'relationships': 62,\n",
       "         b'incest': 14,\n",
       "         b'lesbianism': 4,\n",
       "         b'romanian': 2,\n",
       "         b'society': 112,\n",
       "         b'begin': 191,\n",
       "         b'Clark': 47,\n",
       "         b'Gable': 18,\n",
       "         b'con': 47,\n",
       "         b'man': 950,\n",
       "         b'busts': 3,\n",
       "         b'hard': 630,\n",
       "         b'boiled': 8,\n",
       "         b'dame': 5,\n",
       "         b'Jean': 109,\n",
       "         b'Harlow': 13,\n",
       "         b'He': 853,\n",
       "         b'tries': 228,\n",
       "         b'sucker': 24,\n",
       "         b'while': 733,\n",
       "         b'brushes': 2,\n",
       "         b'tough': 102,\n",
       "         b'gal': 12,\n",
       "         b'attitude': 29,\n",
       "         b'Despite': 117,\n",
       "         b'their': 1817,\n",
       "         b'cynicism': 7,\n",
       "         b'cons': 13,\n",
       "         b'fall': 146,\n",
       "         b'accidentally': 63,\n",
       "         b'kills': 80,\n",
       "         b'sting': 3,\n",
       "         b'runs': 85,\n",
       "         b'leaving': 87,\n",
       "         b'loyal': 10,\n",
       "         b'reviewer': 67,\n",
       "         b'wonderful': 482,\n",
       "         b'created': 126,\n",
       "         b'sense': 418,\n",
       "         b'era': 152,\n",
       "         b'feels': 124,\n",
       "         b'travel': 55,\n",
       "         b'truly': 397,\n",
       "         b'Mary': 130,\n",
       "         b'strong': 201,\n",
       "         b'Byron': 9,\n",
       "         b'Claire': 37,\n",
       "         b'juvenile': 19,\n",
       "         b'tad': 19,\n",
       "         b'annoying': 166,\n",
       "         b'Polidori': 1,\n",
       "         b'convincing': 97,\n",
       "         b'beaten': 28,\n",
       "         b'down': 684,\n",
       "         b'sycophant': 1,\n",
       "         b'By': 148,\n",
       "         b'Hook': 2,\n",
       "         b'Crook': 1,\n",
       "         b'tremendously': 10,\n",
       "         b'innovative': 31,\n",
       "         b'from': 4321,\n",
       "         b'pair': 45,\n",
       "         b'immensely': 23,\n",
       "         b'smart': 76,\n",
       "         b'talented': 141,\n",
       "         b'filmmakers': 100,\n",
       "         b'Harry': 80,\n",
       "         b'Dodge': 4,\n",
       "         b'Silas': 2,\n",
       "         b'Howard': 57,\n",
       "         b'They': 610,\n",
       "         b'manage': 37,\n",
       "         b'original': 933,\n",
       "         b'distinctive': 10,\n",
       "         b'cinematic': 120,\n",
       "         b'style': 301,\n",
       "         b'Ann': 49,\n",
       "         b'T': 173,\n",
       "         b'Rosetti': 1,\n",
       "         b'written': 436,\n",
       "         b'poetic': 24,\n",
       "         b'While': 396,\n",
       "         b'frustrated': 23,\n",
       "         b'distracted': 16,\n",
       "         b'end': 812,\n",
       "         b'give': 612,\n",
       "         b'solid': 121,\n",
       "         b'animation': 218,\n",
       "         b'random': 48,\n",
       "         b'over': 1295,\n",
       "         b'place': 446,\n",
       "         b'going': 938,\n",
       "         b'Even': 348,\n",
       "         b'D': 155,\n",
       "         b'keep': 260,\n",
       "         b'felt': 380,\n",
       "         b'slight': 31,\n",
       "         b'acid': 22,\n",
       "         b'trip': 114,\n",
       "         b'Everything': 92,\n",
       "         b'flat': 112,\n",
       "         b'being': 1269,\n",
       "         b'former': 96,\n",
       "         b'Moscovite': 1,\n",
       "         b'having': 472,\n",
       "         b'elastic': 1,\n",
       "         b'humor': 329,\n",
       "         b'prevents': 4,\n",
       "         b'tossing': 3,\n",
       "         b\"'arthouse\": 1,\n",
       "         b'festival': 83,\n",
       "         b\"crap'\": 1,\n",
       "         b'trashcan': 1,\n",
       "         b\"It's\": 1699,\n",
       "         b'greatest': 247,\n",
       "         b'nor': 124,\n",
       "         b'complete': 215,\n",
       "         b'garbage': 134,\n",
       "         b'just': 3636,\n",
       "         b'lot': 1025,\n",
       "         b'problems': 166,\n",
       "         b'also': 1157,\n",
       "         b'sincerely': 16,\n",
       "         b'doubt': 216,\n",
       "         b'banned': 30,\n",
       "         b'due': 207,\n",
       "         b\"haven't\": 216,\n",
       "         b'seen': 2562,\n",
       "         b'years': 1484,\n",
       "         b'knowledge': 59,\n",
       "         b'rusty': 5,\n",
       "         b'thinking': 312,\n",
       "         b'twice': 110,\n",
       "         b'Braveheart': 20,\n",
       "         b'simply': 394,\n",
       "         b'realistic': 180,\n",
       "         b'believable': 125,\n",
       "         b'Ridb': 1,\n",
       "         b'Roy': 50,\n",
       "         b'looks': 418,\n",
       "         b'imagine': 157,\n",
       "         b'Rob': 46,\n",
       "         b'look': 729,\n",
       "         b'messy': 9,\n",
       "         b'hair': 76,\n",
       "         b'beard': 4,\n",
       "         b'simple': 253,\n",
       "         b'clo': 6,\n",
       "         b'hardly': 114,\n",
       "         b'aware': 57,\n",
       "         b'depicted': 33,\n",
       "         b'Brazilian': 11,\n",
       "         b'black': 326,\n",
       "         b'comedy': 993,\n",
       "         b'however': 323,\n",
       "         b'accessible': 17,\n",
       "         b'set': 584,\n",
       "         b'century': 117,\n",
       "         b'Brazil': 18,\n",
       "         b'rival': 29,\n",
       "         b'French': 205,\n",
       "         b'Portuguese': 17,\n",
       "         b'settlers': 4,\n",
       "         b'exploiting': 3,\n",
       "         b'indigineous': 1,\n",
       "         b'co': 178,\n",
       "         b'indie': 55,\n",
       "         b'list': 164,\n",
       "         b'talent': 214,\n",
       "         b'silly': 217,\n",
       "         b'way': 1517,\n",
       "         b'reminded': 91,\n",
       "         b'churned': 5,\n",
       "         b'home': 376,\n",
       "         b'market': 47,\n",
       "         b\"'s\": 790,\n",
       "         b'given': 329,\n",
       "         b'were': 2481,\n",
       "         b'brief': 61,\n",
       "         b'straining': 5,\n",
       "         b't': 716,\n",
       "         b'What': 939,\n",
       "         b'F': 75,\n",
       "         b'Steven': 89,\n",
       "         b'STOP': 2,\n",
       "         b'Please': 70,\n",
       "         b'insatiably': 1,\n",
       "         b'In': 1423,\n",
       "         b'bizarre': 112,\n",
       "         b'departure': 10,\n",
       "         b'action': 762,\n",
       "         b'adventure': 144,\n",
       "         b'Mr': 272,\n",
       "         b'Seagal': 38,\n",
       "         b'now': 815,\n",
       "         b'fighting': 116,\n",
       "         b'obviously': 212,\n",
       "         b'wish': 189,\n",
       "         b'vampire': 80,\n",
       "         b\"'like'\": 2,\n",
       "         b'creatures': 32,\n",
       "         b'super': 104,\n",
       "         b'strength': 25,\n",
       "         b'eyes': 205,\n",
       "         b'blink': 4,\n",
       "         b'sideways': 4,\n",
       "         b'inspiring': 34,\n",
       "         b'anyone': 483,\n",
       "         b'jam': 8,\n",
       "         b'whether': 137,\n",
       "         b'financially': 7,\n",
       "         b'emotionally': 53,\n",
       "         b'You': 635,\n",
       "         b'will': 1573,\n",
       "         b'definitely': 310,\n",
       "         b'laugh': 324,\n",
       "         b'best': 1756,\n",
       "         b'medicine': 12,\n",
       "         b'Left': 27,\n",
       "         b'financial': 18,\n",
       "         b'situation': 79,\n",
       "         b'dies': 71,\n",
       "         b'Grace': 32,\n",
       "         b'find': 851,\n",
       "         b'new': 742,\n",
       "         b'make': 1523,\n",
       "         b'money': 428,\n",
       "         b'exactly': 214,\n",
       "         b'legal': 15,\n",
       "         b'Take': 45,\n",
       "         b'basic': 114,\n",
       "         b'Frankenstein': 16,\n",
       "         b'flick': 414,\n",
       "         b'inject': 6,\n",
       "         b'Reanimator': 1,\n",
       "         b'parts': 273,\n",
       "         b'Doctor': 26,\n",
       "         b'Hackenstein': 7,\n",
       "         b'Certainly': 29,\n",
       "         b'inspired': 77,\n",
       "         b'aforementioned': 11,\n",
       "         b'materializes': 2,\n",
       "         b'anything': 621,\n",
       "         b'special': 525,\n",
       "         b'its': 1701,\n",
       "         b'scientist': 86,\n",
       "         b'wh': 61,\n",
       "         b'tourist': 9,\n",
       "         b'season': 198,\n",
       "         b'ended': 131,\n",
       "         b'remote': 43,\n",
       "         b'island': 75,\n",
       "         b'coast': 12,\n",
       "         b'Scotland': 21,\n",
       "         b'winter': 25,\n",
       "         b'beginning': 368,\n",
       "         b'inhabitants': 11,\n",
       "         b'humans': 46,\n",
       "         b'sheep': 5,\n",
       "         b'alike': 32,\n",
       "         b'settling': 3,\n",
       "         b'quieter': 2,\n",
       "         b'ahead': 82,\n",
       "         b'Michael': 332,\n",
       "         b'Gaffikin': 1,\n",
       "         b'James': 303,\n",
       "         b'Warwick': 1,\n",
       "         b'paratrooper': 1,\n",
       "         b'British': 277,\n",
       "         b'Army': 34,\n",
       "         b'local': 222,\n",
       "         b'dentis': 1,\n",
       "         b'Another': 122,\n",
       "         b'example': 280,\n",
       "         b'talents': 57,\n",
       "         b'Cary': 34,\n",
       "         b'Grant': 51,\n",
       "         b'worthy': 76,\n",
       "         b'Oscar': 192,\n",
       "         b'consideration': 17,\n",
       "         b'yet': 502,\n",
       "         b'shunned': 3,\n",
       "         b'Academy': 83,\n",
       "         b'gamut': 5,\n",
       "         b'tender': 21,\n",
       "         b'marvelous': 46,\n",
       "         b'decides': 104,\n",
       "         b'big': 804,\n",
       "         b'city': 130,\n",
       "         b'pitfalls': 5,\n",
       "         b'building': 65,\n",
       "         b'wel': 10,\n",
       "         b'Might': 4,\n",
       "         b'consider': 136,\n",
       "         b'spoiler': 62,\n",
       "         b\"I'd\": 343,\n",
       "         b'rather': 456,\n",
       "         b'cautious': 5,\n",
       "         b'than': 1938,\n",
       "         b'careless': 5,\n",
       "         b'fell': 112,\n",
       "         b'three': 505,\n",
       "         b'daughter': 185,\n",
       "         b'watch': 1651,\n",
       "         b'For': 532,\n",
       "         b'acting': 1904,\n",
       "         b'Ilene': 2,\n",
       "         b'Woods': 25,\n",
       "         b'h': 161,\n",
       "         b'Many': 101,\n",
       "         b'critics': 128,\n",
       "         b'offended': 28,\n",
       "         b'R': 105,\n",
       "         b'W': 78,\n",
       "         b'Fassbinder': 11,\n",
       "         b'portrayed': 87,\n",
       "         b'protagonist': 51,\n",
       "         b'Wilkie': 1,\n",
       "         b'Nazis': 17,\n",
       "         b'manner': 56,\n",
       "         b'Connoisseurs': 1,\n",
       "         b'realize': 149,\n",
       "         b'Lili': 5,\n",
       "         b'Marleen': 2,\n",
       "         b'belongs': 17,\n",
       "         b\"Fassbinder's\": 2,\n",
       "         b'Marriage': 2,\n",
       "         b'Maria': 32,\n",
       "         b'thing': 956,\n",
       "         b'Jake': 32,\n",
       "         b'Speed': 19,\n",
       "         b\"I've\": 1337,\n",
       "         b'least': 613,\n",
       "         b'fun': 651,\n",
       "         b'ever': 2105,\n",
       "         b'begins': 150,\n",
       "         b'Margaret': 23,\n",
       "         b'Karen': 36,\n",
       "         b'Kopins': 3,\n",
       "         b'trying': 480,\n",
       "         b'sister': 155,\n",
       "         b'kidnapped': 33,\n",
       "         b'Paris': 111,\n",
       "         b'heard': 435,\n",
       "         b'nothing': 796,\n",
       "         b'Along': 39,\n",
       "         b'worst': 1101,\n",
       "         b'Vartan': 5,\n",
       "         b'hot': 122,\n",
       "         b'woman': 522,\n",
       "         b'awful': 597,\n",
       "         b'through': 1089,\n",
       "         b'whole': 621,\n",
       "         b'talk': 145,\n",
       "         b'monotone': 4,\n",
       "         b'voices': 29,\n",
       "         b'nooo': 1,\n",
       "         b'chemistry': 84,\n",
       "         b'cover': 165,\n",
       "         b'DVD': 697,\n",
       "         b'even': 2158,\n",
       "         b'remotely': 44,\n",
       "         b'come': 645,\n",
       "         b'depressing': 48,\n",
       "         b'upsets': 3,\n",
       "         b'these': 775,\n",
       "         b'poor': 393,\n",
       "         b'crops': 3,\n",
       "         b'vital': 8,\n",
       "         b'Yes': 251,\n",
       "         b'take': 645,\n",
       "         b'o': 295,\n",
       "         b'case': 337,\n",
       "         b'decent': 264,\n",
       "         b'betraying': 2,\n",
       "         b'quality': 323,\n",
       "         b'Rochon': 4,\n",
       "         b'serviceable': 5,\n",
       "         b'job': 424,\n",
       "         b'Damn': 12,\n",
       "         b'cast': 894,\n",
       "         b'looking': 533,\n",
       "         b'musclebound': 1,\n",
       "         b'guys': 237,\n",
       "         b'hang': 24,\n",
       "         b'together': 464,\n",
       "         b'regular': 44,\n",
       "         b'basis': 37,\n",
       "         b'Since': 107,\n",
       "         b'third': 146,\n",
       "         b'fourth': 40,\n",
       "         b'viewing': 196,\n",
       "         b'ago': 492,\n",
       "         b'abstained': 1,\n",
       "         b'La': 57,\n",
       "         b'Maman': 6,\n",
       "         b'et': 21,\n",
       "         b'la': 61,\n",
       "         b'putain': 3,\n",
       "         b'wait': 136,\n",
       "         b'meantime': 3,\n",
       "         b'read': 674,\n",
       "         b'french': 24,\n",
       "         b'screenplay': 167,\n",
       "         b'well': 1803,\n",
       "         b'Alain': 11,\n",
       "         b\"Philippon's\": 1,\n",
       "         b'monograph': 1,\n",
       "         b'Eustache': 6,\n",
       "         b'latter': 50,\n",
       "         b'ends': 135,\n",
       "         b'frustrating': 17,\n",
       "         b'filmography': 9,\n",
       "         b'eleven': 21,\n",
       "         b'fiction': 133,\n",
       "         b'doc': 9,\n",
       "         b'far': 648,\n",
       "         b'worse': 385,\n",
       "         b'Laurel': 32,\n",
       "         b'Hardy': 35,\n",
       "         b'cartoons': 67,\n",
       "         b'terrible': 519,\n",
       "         b'ripoffs': 5,\n",
       "         b'Stan': 28,\n",
       "         b'Ollie': 16,\n",
       "         b'resurgence': 6,\n",
       "         b'New': 369,\n",
       "         b'audiences': 85,\n",
       "         b'had': 3121,\n",
       "         b'rediscovered': 4,\n",
       "         b\"pair's\": 1,\n",
       "         b'comedic': 69,\n",
       "         b'genius': 117,\n",
       "         b'mind': 399,\n",
       "         b'numbing': 9,\n",
       "         b'geared': 10,\n",
       "         b'cash': 47,\n",
       "         b\"children's\": 51,\n",
       "         b'Humm': 1,\n",
       "         b'starred': 57,\n",
       "         b'hasselhoff': 1,\n",
       "         b'Linda': 25,\n",
       "         b'Blair': 44,\n",
       "         b'wasn': 7,\n",
       "         b'expecting': 271,\n",
       "         b'honest': 129,\n",
       "         b'took': 282,\n",
       "         b'less': 348,\n",
       "         b'doesn': 6,\n",
       "         b'soul': 70,\n",
       "         b'provoking': 46,\n",
       "         b'living': 213,\n",
       "         b'such': 1060,\n",
       "         b'tribes': 6,\n",
       "         b'conditions': 15,\n",
       "         b'grandfather': 16,\n",
       "         b'today': 226,\n",
       "         b'side': 228,\n",
       "         b'lady': 77,\n",
       "         b'baby': 93,\n",
       "         b'everything': 413,\n",
       "         b'served': 20,\n",
       "         b'hi': 48,\n",
       "         b'went': 477,\n",
       "         b'Hills': 32,\n",
       "         b'wanting': 60,\n",
       "         b'enjoyed': 483,\n",
       "         b'fairly': 145,\n",
       "         b'throw': 67,\n",
       "         b'around': 730,\n",
       "         b'Wes': 32,\n",
       "         b'Craven': 21,\n",
       "         b'effects': 523,\n",
       "         b'though': 757,\n",
       "         b'still': 1112,\n",
       "         b'prefer': 34,\n",
       "         b'Before': 116,\n",
       "         b'explain': 88,\n",
       "         b'Alias': 5,\n",
       "         b'Desert': 4,\n",
       "         b'Trail': 1,\n",
       "         b'standards': 64,\n",
       "         b'westerns': 41,\n",
       "         b'staring': 17,\n",
       "         b'Three': 69,\n",
       "         b'Stooges': 24,\n",
       "         b'features': 166,\n",
       "         b'Carmen': 19,\n",
       "         b'Laroux': 1,\n",
       "         b'semi': 52,\n",
       "         b'girl': 540,\n",
       "         b'Juanita': 1,\n",
       "         b'hear': 120,\n",
       "         b'Mexican': 43,\n",
       "         b'accent': 72,\n",
       "         b'immediately': 101,\n",
       "         b'recognize': 18,\n",
       "         b'Senorita': 2,\n",
       "         b'Rita': 13,\n",
       "         b'class': 223,\n",
       "         b'review': 341,\n",
       "         b'IMDb': 213,\n",
       "         b'want': 676,\n",
       "         b'write': 191,\n",
       "         b'since': 728,\n",
       "         b'right': 645,\n",
       "         b'compelled': 30,\n",
       "         b'add': 133,\n",
       "         b'perspective': 68,\n",
       "         b\"i'm\": 61,\n",
       "         b'associated': 44,\n",
       "         b'makers': 110,\n",
       "         b'any': 1403,\n",
       "         b'often': 344,\n",
       "         b'before': 904,\n",
       "         b'FYI': 1,\n",
       "         b'late': 375,\n",
       "         b'Great': 161,\n",
       "         b'friends': 426,\n",
       "         b'sneak': 23,\n",
       "         b'preview': 56,\n",
       "         b'We': 435,\n",
       "         b'came': 587,\n",
       "         b'different': 521,\n",
       "         b'minutes': 712,\n",
       "         b'wondering': 78,\n",
       "         b'heck': 33,\n",
       "         b'got': 1055,\n",
       "         b'ourselves': 16,\n",
       "         b'jokes': 260,\n",
       "         ...})"
      ]
     },
     "execution_count": 22,
     "metadata": {},
     "output_type": "execute_result"
    }
   ],
   "source": [
    "vocabulary"
   ]
  },
  {
   "cell_type": "code",
   "execution_count": 23,
   "id": "e0787a81",
   "metadata": {},
   "outputs": [
    {
     "data": {
      "text/plain": [
       "False"
      ]
     },
     "execution_count": 23,
     "metadata": {},
     "output_type": "execute_result"
    }
   ],
   "source": [
    "vocabulary2 == vocabulary"
   ]
  },
  {
   "cell_type": "code",
   "execution_count": 24,
   "id": "796c4b8c",
   "metadata": {},
   "outputs": [
    {
     "data": {
      "text/plain": [
       "(18490, 18490)"
      ]
     },
     "execution_count": 24,
     "metadata": {},
     "output_type": "execute_result"
    }
   ],
   "source": [
    "vocabulary[b\"this\"], vocabulary2[b\"this\"]"
   ]
  },
  {
   "cell_type": "code",
   "execution_count": 25,
   "id": "149cf3e5",
   "metadata": {},
   "outputs": [
    {
     "data": {
      "text/plain": [
       "(1282, 1282)"
      ]
     },
     "execution_count": 25,
     "metadata": {},
     "output_type": "execute_result"
    }
   ],
   "source": [
    "vocabulary[b\"If\"], vocabulary2[b\"If\"]"
   ]
  },
  {
   "cell_type": "code",
   "execution_count": 50,
   "id": "f95d5749",
   "metadata": {},
   "outputs": [
    {
     "data": {
      "text/plain": [
       "[(b'<pad>', 214309), (b'the', 61137), (b'a', 38564)]"
      ]
     },
     "execution_count": 50,
     "metadata": {},
     "output_type": "execute_result"
    }
   ],
   "source": [
    "vocabulary.most_common()[:3]"
   ]
  },
  {
   "cell_type": "markdown",
   "id": "539f5119",
   "metadata": {},
   "source": [
    "As expected, there should be a lot of `\"<pad>\"`."
   ]
  },
  {
   "cell_type": "code",
   "execution_count": null,
   "id": "9f582282",
   "metadata": {},
   "outputs": [],
   "source": []
  }
 ],
 "metadata": {
  "kernelspec": {
   "display_name": "Python 3",
   "language": "python",
   "name": "python3"
  },
  "language_info": {
   "codemirror_mode": {
    "name": "ipython",
    "version": 3
   },
   "file_extension": ".py",
   "mimetype": "text/x-python",
   "name": "python",
   "nbconvert_exporter": "python",
   "pygments_lexer": "ipython3",
   "version": "3.7.10"
  }
 },
 "nbformat": 4,
 "nbformat_minor": 5
}
