{
 "cells": [
  {
   "cell_type": "markdown",
   "id": "heavy-license",
   "metadata": {},
   "source": [
    "# Encoder-Decoder"
   ]
  },
  {
   "cell_type": "markdown",
   "id": "optimum-graduation",
   "metadata": {},
   "source": [
    "**(?)** 爲什麼訓練 encoder-decoder 的時候我們要把正確的 sequence 也塞給 decoder 當 input?  \n",
    "**(R)**\n",
    "如果你跟我一樣出生在 1970-1980 年代的臺灣, 或許你有看過 \"灌籃高手\", 裏頭有一句主角常說的話\n",
    "> \"_左手只是輔助_\"\n",
    "\n",
    "我想這裏是一樣的道理: 這樣做來輔助 model 更容易走到我們要它達到的狀態. **你可以試試看去掉這個 input 來看看表現如何**."
   ]
  },
  {
   "cell_type": "markdown",
   "id": "referenced-reason",
   "metadata": {},
   "source": [
    "### Exo: Make an encoder-decoder\n",
    "English to French Translation model in which the decoder is deprived of the target output as its input."
   ]
  },
  {
   "cell_type": "code",
   "execution_count": null,
   "id": "resistant-woman",
   "metadata": {},
   "outputs": [],
   "source": []
  },
  {
   "cell_type": "code",
   "execution_count": null,
   "id": "liked-durham",
   "metadata": {},
   "outputs": [],
   "source": []
  },
  {
   "cell_type": "code",
   "execution_count": null,
   "id": "external-accommodation",
   "metadata": {},
   "outputs": [],
   "source": []
  },
  {
   "cell_type": "code",
   "execution_count": null,
   "id": "expressed-friday",
   "metadata": {},
   "outputs": [],
   "source": []
  }
 ],
 "metadata": {
  "kernelspec": {
   "display_name": "Python 3",
   "language": "python",
   "name": "python3"
  },
  "language_info": {
   "codemirror_mode": {
    "name": "ipython",
    "version": 3
   },
   "file_extension": ".py",
   "mimetype": "text/x-python",
   "name": "python",
   "nbconvert_exporter": "python",
   "pygments_lexer": "ipython3",
   "version": "3.7.8"
  }
 },
 "nbformat": 4,
 "nbformat_minor": 5
}
