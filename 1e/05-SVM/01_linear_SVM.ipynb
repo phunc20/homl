{
 "cells": [
  {
   "cell_type": "markdown",
   "id": "isolated-indication",
   "metadata": {},
   "source": [
    "> _SVMs are particularly well suited for classification of complex but **small- or medium**-sized\n",
    "datasets._\n",
    "\n",
    "**(?1)** Why small- and medium-sized datasets only? Why is it better to use DL for large-sized\n",
    "dataset and how large does Mr. Geron mean by large?"
   ]
  },
  {
   "cell_type": "markdown",
   "id": "widespread-genome",
   "metadata": {},
   "source": [
    "**(?2)** Mr. Geron emphasized the importance of feature scaling before doing linear SVM.\n",
    "In Figure 5-1, we do see that the lines seem to have different slopes,\n",
    "but are they **_only so visually_** $\\;$ or $\\;$ **_numerically they are indeed of quite different slope values_**?"
   ]
  },
  {
   "cell_type": "code",
   "execution_count": null,
   "id": "opposed-eleven",
   "metadata": {},
   "outputs": [],
   "source": []
  }
 ],
 "metadata": {
  "kernelspec": {
   "display_name": "Python 3",
   "language": "python",
   "name": "python3"
  },
  "language_info": {
   "codemirror_mode": {
    "name": "ipython",
    "version": 3
   },
   "file_extension": ".py",
   "mimetype": "text/x-python",
   "name": "python",
   "nbconvert_exporter": "python",
   "pygments_lexer": "ipython3",
   "version": "3.7.3"
  }
 },
 "nbformat": 4,
 "nbformat_minor": 5
}
