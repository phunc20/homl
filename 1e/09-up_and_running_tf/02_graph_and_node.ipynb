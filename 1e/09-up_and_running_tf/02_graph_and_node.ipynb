{
 "cells": [
  {
   "cell_type": "markdown",
   "id": "deadly-victoria",
   "metadata": {},
   "source": [
    "# Graphs"
   ]
  },
  {
   "cell_type": "code",
   "execution_count": 1,
   "id": "answering-vulnerability",
   "metadata": {},
   "outputs": [
    {
     "name": "stderr",
     "output_type": "stream",
     "text": [
      "/home/phunc20/.config/miniconda3/envs/homl-1e/lib/python3.7/site-packages/tensorflow/python/framework/dtypes.py:526: FutureWarning: Passing (type, 1) or '1type' as a synonym of type is deprecated; in a future version of numpy, it will be understood as (type, (1,)) / '(1,)type'.\n",
      "  _np_qint8 = np.dtype([(\"qint8\", np.int8, 1)])\n",
      "/home/phunc20/.config/miniconda3/envs/homl-1e/lib/python3.7/site-packages/tensorflow/python/framework/dtypes.py:527: FutureWarning: Passing (type, 1) or '1type' as a synonym of type is deprecated; in a future version of numpy, it will be understood as (type, (1,)) / '(1,)type'.\n",
      "  _np_quint8 = np.dtype([(\"quint8\", np.uint8, 1)])\n",
      "/home/phunc20/.config/miniconda3/envs/homl-1e/lib/python3.7/site-packages/tensorflow/python/framework/dtypes.py:528: FutureWarning: Passing (type, 1) or '1type' as a synonym of type is deprecated; in a future version of numpy, it will be understood as (type, (1,)) / '(1,)type'.\n",
      "  _np_qint16 = np.dtype([(\"qint16\", np.int16, 1)])\n",
      "/home/phunc20/.config/miniconda3/envs/homl-1e/lib/python3.7/site-packages/tensorflow/python/framework/dtypes.py:529: FutureWarning: Passing (type, 1) or '1type' as a synonym of type is deprecated; in a future version of numpy, it will be understood as (type, (1,)) / '(1,)type'.\n",
      "  _np_quint16 = np.dtype([(\"quint16\", np.uint16, 1)])\n",
      "/home/phunc20/.config/miniconda3/envs/homl-1e/lib/python3.7/site-packages/tensorflow/python/framework/dtypes.py:530: FutureWarning: Passing (type, 1) or '1type' as a synonym of type is deprecated; in a future version of numpy, it will be understood as (type, (1,)) / '(1,)type'.\n",
      "  _np_qint32 = np.dtype([(\"qint32\", np.int32, 1)])\n",
      "/home/phunc20/.config/miniconda3/envs/homl-1e/lib/python3.7/site-packages/tensorflow/python/framework/dtypes.py:535: FutureWarning: Passing (type, 1) or '1type' as a synonym of type is deprecated; in a future version of numpy, it will be understood as (type, (1,)) / '(1,)type'.\n",
      "  np_resource = np.dtype([(\"resource\", np.ubyte, 1)])\n"
     ]
    }
   ],
   "source": [
    "import tensorflow as tf"
   ]
  },
  {
   "cell_type": "code",
   "execution_count": 2,
   "id": "alien-prediction",
   "metadata": {},
   "outputs": [
    {
     "name": "stdout",
     "output_type": "stream",
     "text": [
      "WARNING:tensorflow:From /home/phunc20/.config/miniconda3/envs/homl-1e/lib/python3.7/site-packages/tensorflow/python/framework/op_def_library.py:263: colocate_with (from tensorflow.python.framework.ops) is deprecated and will be removed in a future version.\n",
      "Instructions for updating:\n",
      "Colocations handled automatically by placer.\n"
     ]
    },
    {
     "data": {
      "text/plain": [
       "True"
      ]
     },
     "execution_count": 2,
     "metadata": {},
     "output_type": "execute_result"
    }
   ],
   "source": [
    "x1 = tf.Variable(1)\n",
    "x1.graph is tf.get_default_graph()"
   ]
  },
  {
   "cell_type": "code",
   "execution_count": 3,
   "id": "earlier-internet",
   "metadata": {},
   "outputs": [
    {
     "data": {
      "text/plain": [
       "False"
      ]
     },
     "execution_count": 3,
     "metadata": {},
     "output_type": "execute_result"
    }
   ],
   "source": [
    "graph = tf.Graph()\n",
    "with graph.as_default():\n",
    "    x2 = tf.Variable(2)\n",
    "\n",
    "x2.graph is tf.get_default_graph()"
   ]
  },
  {
   "cell_type": "code",
   "execution_count": 4,
   "id": "sunrise-decrease",
   "metadata": {},
   "outputs": [
    {
     "data": {
      "text/plain": [
       "True"
      ]
     },
     "execution_count": 4,
     "metadata": {},
     "output_type": "execute_result"
    }
   ],
   "source": [
    "x2.graph is graph"
   ]
  },
  {
   "cell_type": "markdown",
   "id": "alternate-absorption",
   "metadata": {},
   "source": [
    "**(?1)** Does `tf.Session` like `tf.Graph` also have `as_default()` method?<br>\n",
    "**(R1)** Yes."
   ]
  },
  {
   "cell_type": "raw",
   "id": "grave-channel",
   "metadata": {},
   "source": [
    "sess = tf.Session()\n",
    "g = x1 - x2\n",
    "with sess.as_default():\n",
    "    result = g.eval()\n",
    "    print(result)"
   ]
  },
  {
   "cell_type": "raw",
   "id": "attended-richardson",
   "metadata": {},
   "source": [
    "ValueError: Tensor(\"Variable:0\", shape=(), dtype=int32_ref) must be from the same graph as Tensor(\"Variable/read:0\", shape=(), dtype=int32)."
   ]
  },
  {
   "cell_type": "markdown",
   "id": "random-extreme",
   "metadata": {},
   "source": [
    "So nodes in diff graphs **cannot** interact with each other, or at least, not easily."
   ]
  },
  {
   "cell_type": "code",
   "execution_count": 5,
   "id": "disciplinary-sperm",
   "metadata": {},
   "outputs": [
    {
     "name": "stdout",
     "output_type": "stream",
     "text": [
      "-1\n"
     ]
    }
   ],
   "source": [
    "sess = tf.Session()\n",
    "g = x1 - 2\n",
    "with sess.as_default():\n",
    "    sess.run(x1.initializer)\n",
    "    result = g.eval()\n",
    "    print(result)"
   ]
  },
  {
   "cell_type": "markdown",
   "id": "promotional-savage",
   "metadata": {},
   "source": [
    "### Kind of like to visualize a graph inside Jupyter notebook...\n",
    "- [https://blog.jakuba.net/tensorboard-visualization/](https://blog.jakuba.net/tensorboard-visualization/)"
   ]
  },
  {
   "cell_type": "code",
   "execution_count": 6,
   "id": "outside-analyst",
   "metadata": {},
   "outputs": [],
   "source": [
    "from graphviz import Digraph"
   ]
  },
  {
   "cell_type": "markdown",
   "id": "failing-deployment",
   "metadata": {},
   "source": [
    "**(!1)** I don't know why but\n",
    "- `conda install graphviz` installs sth but doesn't work\n",
    "- `pip install graphviz` lại xài đc"
   ]
  },
  {
   "cell_type": "raw",
   "id": "complimentary-venue",
   "metadata": {},
   "source": [
    "!pip install graphviz"
   ]
  },
  {
   "cell_type": "code",
   "execution_count": 7,
   "id": "naked-madrid",
   "metadata": {},
   "outputs": [],
   "source": [
    "def tf_to_dot(graph):\n",
    "    dot = Digraph()\n",
    "    for n in g.as_graph_def().node:\n",
    "        dot.node(n.name, label=n.name)\n",
    "        for i in n.input:\n",
    "            dot.edge(i, n.name)\n",
    "\n",
    "    return dot"
   ]
  },
  {
   "cell_type": "raw",
   "id": "intelligent-ordinary",
   "metadata": {},
   "source": [
    "tf_to_dot(graph)"
   ]
  },
  {
   "cell_type": "raw",
   "id": "previous-image",
   "metadata": {},
   "source": [
    "---------------------------------------------------------------------------\n",
    "AttributeError                            Traceback (most recent call last)\n",
    "<ipython-input-16-93db1921cde9> in <module>\n",
    "----> 1 tf_to_dot(graph)\n",
    "\n",
    "<ipython-input-15-2ed9026d6ddb> in tf_to_dot(graph)\n",
    "      1 def tf_to_dot(graph):\n",
    "      2     dot = Digraph()\n",
    "----> 3     for n in g.as_graph_def().node:\n",
    "      4         dot.node(n.name, label=n.name)\n",
    "      5         for i in n.input:\n",
    "\n",
    "AttributeError: 'Tensor' object has no attribute 'as_graph_def'"
   ]
  },
  {
   "cell_type": "code",
   "execution_count": 8,
   "id": "intended-taste",
   "metadata": {},
   "outputs": [
    {
     "data": {
      "image/svg+xml": [
       "<?xml version=\"1.0\" encoding=\"UTF-8\" standalone=\"no\"?>\n",
       "<!DOCTYPE svg PUBLIC \"-//W3C//DTD SVG 1.1//EN\"\n",
       " \"http://www.w3.org/Graphics/SVG/1.1/DTD/svg11.dtd\">\n",
       "<!-- Generated by graphviz version 2.44.0 (0)\n",
       " -->\n",
       "<!-- Pages: 1 -->\n",
       "<svg width=\"134pt\" height=\"188pt\"\n",
       " viewBox=\"0.00 0.00 134.00 188.00\" xmlns=\"http://www.w3.org/2000/svg\" xmlns:xlink=\"http://www.w3.org/1999/xlink\">\n",
       "<g id=\"graph0\" class=\"graph\" transform=\"scale(1 1) rotate(0) translate(4 184)\">\n",
       "<polygon fill=\"white\" stroke=\"transparent\" points=\"-4,4 -4,-184 130,-184 130,4 -4,4\"/>\n",
       "<!-- pi -->\n",
       "<g id=\"node1\" class=\"node\">\n",
       "<title>pi</title>\n",
       "<ellipse fill=\"none\" stroke=\"black\" cx=\"27\" cy=\"-162\" rx=\"27\" ry=\"18\"/>\n",
       "<text text-anchor=\"middle\" x=\"27\" y=\"-158.3\" font-family=\"Times-Roman\" font-size=\"14.00\">pi</text>\n",
       "</g>\n",
       "<!-- mul -->\n",
       "<g id=\"node3\" class=\"node\">\n",
       "<title>mul</title>\n",
       "<ellipse fill=\"none\" stroke=\"black\" cx=\"43\" cy=\"-90\" rx=\"27.9\" ry=\"18\"/>\n",
       "<text text-anchor=\"middle\" x=\"43\" y=\"-86.3\" font-family=\"Times-Roman\" font-size=\"14.00\">mul</text>\n",
       "</g>\n",
       "<!-- pi&#45;&gt;mul -->\n",
       "<g id=\"edge1\" class=\"edge\">\n",
       "<title>pi&#45;&gt;mul</title>\n",
       "<path fill=\"none\" stroke=\"black\" d=\"M30.87,-144.05C32.65,-136.26 34.81,-126.82 36.81,-118.08\"/>\n",
       "<polygon fill=\"black\" stroke=\"black\" points=\"40.24,-118.8 39.05,-108.28 33.41,-117.24 40.24,-118.8\"/>\n",
       "</g>\n",
       "<!-- r -->\n",
       "<g id=\"node2\" class=\"node\">\n",
       "<title>r</title>\n",
       "<ellipse fill=\"none\" stroke=\"black\" cx=\"99\" cy=\"-162\" rx=\"27\" ry=\"18\"/>\n",
       "<text text-anchor=\"middle\" x=\"99\" y=\"-158.3\" font-family=\"Times-Roman\" font-size=\"14.00\">r</text>\n",
       "</g>\n",
       "<!-- r&#45;&gt;mul -->\n",
       "<g id=\"edge2\" class=\"edge\">\n",
       "<title>r&#45;&gt;mul</title>\n",
       "<path fill=\"none\" stroke=\"black\" d=\"M86.85,-145.81C79.54,-136.67 70.08,-124.85 61.82,-114.52\"/>\n",
       "<polygon fill=\"black\" stroke=\"black\" points=\"64.5,-112.27 55.52,-106.64 59.03,-116.64 64.5,-112.27\"/>\n",
       "</g>\n",
       "<!-- mul_1 -->\n",
       "<g id=\"node4\" class=\"node\">\n",
       "<title>mul_1</title>\n",
       "<ellipse fill=\"none\" stroke=\"black\" cx=\"71\" cy=\"-18\" rx=\"38.19\" ry=\"18\"/>\n",
       "<text text-anchor=\"middle\" x=\"71\" y=\"-14.3\" font-family=\"Times-Roman\" font-size=\"14.00\">mul_1</text>\n",
       "</g>\n",
       "<!-- r&#45;&gt;mul_1 -->\n",
       "<g id=\"edge4\" class=\"edge\">\n",
       "<title>r&#45;&gt;mul_1</title>\n",
       "<path fill=\"none\" stroke=\"black\" d=\"M95.62,-143.87C90.83,-119.56 82.01,-74.82 76.33,-46.01\"/>\n",
       "<polygon fill=\"black\" stroke=\"black\" points=\"79.76,-45.32 74.39,-36.19 72.89,-46.68 79.76,-45.32\"/>\n",
       "</g>\n",
       "<!-- mul&#45;&gt;mul_1 -->\n",
       "<g id=\"edge3\" class=\"edge\">\n",
       "<title>mul&#45;&gt;mul_1</title>\n",
       "<path fill=\"none\" stroke=\"black\" d=\"M49.64,-72.41C52.87,-64.34 56.83,-54.43 60.46,-45.35\"/>\n",
       "<polygon fill=\"black\" stroke=\"black\" points=\"63.75,-46.54 64.22,-35.96 57.25,-43.94 63.75,-46.54\"/>\n",
       "</g>\n",
       "</g>\n",
       "</svg>\n"
      ],
      "text/plain": [
       "<graphviz.dot.Digraph at 0x7f3987216ad0>"
      ]
     },
     "execution_count": 8,
     "metadata": {},
     "output_type": "execute_result"
    }
   ],
   "source": [
    "g = tf.Graph()\n",
    "with g.as_default():\n",
    "    pi = tf.constant(3.14, name=\"pi\")\n",
    "    r = tf.placeholder(tf.float32, name=\"r\")\n",
    "    y = pi * r * r\n",
    "\n",
    "tf_to_dot(g)"
   ]
  },
  {
   "cell_type": "markdown",
   "id": "federal-fifteen",
   "metadata": {},
   "source": [
    "### Nodes"
   ]
  },
  {
   "cell_type": "code",
   "execution_count": 9,
   "id": "regional-genius",
   "metadata": {},
   "outputs": [
    {
     "name": "stdout",
     "output_type": "stream",
     "text": [
      "10\n",
      "15\n"
     ]
    }
   ],
   "source": [
    "w = tf.constant(3)\n",
    "x = w + 2\n",
    "y = x + 5\n",
    "z = x * 3\n",
    "\n",
    "with tf.Session() as sess:\n",
    "    print(y.eval())\n",
    "    print(z.eval())"
   ]
  },
  {
   "cell_type": "markdown",
   "id": "alternative-standard",
   "metadata": {},
   "source": [
    "Both `y` and `z` depend on `x`, which further depends on `w`. The above code of evaluating `y` and `z` will have to separately evaluate `x` and `w`, i.e. `x` and `w` are evaluated twice, which is not very economic."
   ]
  },
  {
   "cell_type": "markdown",
   "id": "delayed-checklist",
   "metadata": {},
   "source": [
    "- All node values are dropped btw graph runs (except variable values)\n",
    "  - So, for example, the above code contains to graph runs, the first being `y.eval()`, the second `z.eval()`\n",
    "- If we want economy, we should evaluate both `y` and `z` **in a single graph run**. How? As follows."
   ]
  },
  {
   "cell_type": "code",
   "execution_count": 10,
   "id": "prompt-afternoon",
   "metadata": {},
   "outputs": [
    {
     "name": "stdout",
     "output_type": "stream",
     "text": [
      "10\n",
      "15\n"
     ]
    }
   ],
   "source": [
    "with tf.Session() as sess:\n",
    "    y_val, z_val = sess.run([y, z])\n",
    "    print(y_val)\n",
    "    print(z_val)"
   ]
  },
  {
   "cell_type": "markdown",
   "id": "young-tokyo",
   "metadata": {},
   "source": [
    "**(?)** Can parentheses replace square brackets above?<br>\n",
    "**(R)** Yes."
   ]
  },
  {
   "cell_type": "code",
   "execution_count": 11,
   "id": "inside-rwanda",
   "metadata": {},
   "outputs": [
    {
     "name": "stdout",
     "output_type": "stream",
     "text": [
      "10\n",
      "15\n"
     ]
    }
   ],
   "source": [
    "with tf.Session() as sess:\n",
    "    y_val, z_val = sess.run((y, z))\n",
    "    print(y_val)\n",
    "    print(z_val)"
   ]
  }
 ],
 "metadata": {
  "kernelspec": {
   "display_name": "Python 3",
   "language": "python",
   "name": "python3"
  },
  "language_info": {
   "codemirror_mode": {
    "name": "ipython",
    "version": 3
   },
   "file_extension": ".py",
   "mimetype": "text/x-python",
   "name": "python",
   "nbconvert_exporter": "python",
   "pygments_lexer": "ipython3",
   "version": "3.7.7"
  }
 },
 "nbformat": 4,
 "nbformat_minor": 5
}
