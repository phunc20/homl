{
 "cells": [
  {
   "cell_type": "code",
   "execution_count": 1,
   "id": "permanent-morning",
   "metadata": {},
   "outputs": [
    {
     "name": "stderr",
     "output_type": "stream",
     "text": [
      "/home/phunc20/.config/miniconda3/envs/homl-1e/lib/python3.7/site-packages/tensorflow/python/framework/dtypes.py:526: FutureWarning: Passing (type, 1) or '1type' as a synonym of type is deprecated; in a future version of numpy, it will be understood as (type, (1,)) / '(1,)type'.\n",
      "  _np_qint8 = np.dtype([(\"qint8\", np.int8, 1)])\n",
      "/home/phunc20/.config/miniconda3/envs/homl-1e/lib/python3.7/site-packages/tensorflow/python/framework/dtypes.py:527: FutureWarning: Passing (type, 1) or '1type' as a synonym of type is deprecated; in a future version of numpy, it will be understood as (type, (1,)) / '(1,)type'.\n",
      "  _np_quint8 = np.dtype([(\"quint8\", np.uint8, 1)])\n",
      "/home/phunc20/.config/miniconda3/envs/homl-1e/lib/python3.7/site-packages/tensorflow/python/framework/dtypes.py:528: FutureWarning: Passing (type, 1) or '1type' as a synonym of type is deprecated; in a future version of numpy, it will be understood as (type, (1,)) / '(1,)type'.\n",
      "  _np_qint16 = np.dtype([(\"qint16\", np.int16, 1)])\n",
      "/home/phunc20/.config/miniconda3/envs/homl-1e/lib/python3.7/site-packages/tensorflow/python/framework/dtypes.py:529: FutureWarning: Passing (type, 1) or '1type' as a synonym of type is deprecated; in a future version of numpy, it will be understood as (type, (1,)) / '(1,)type'.\n",
      "  _np_quint16 = np.dtype([(\"quint16\", np.uint16, 1)])\n",
      "/home/phunc20/.config/miniconda3/envs/homl-1e/lib/python3.7/site-packages/tensorflow/python/framework/dtypes.py:530: FutureWarning: Passing (type, 1) or '1type' as a synonym of type is deprecated; in a future version of numpy, it will be understood as (type, (1,)) / '(1,)type'.\n",
      "  _np_qint32 = np.dtype([(\"qint32\", np.int32, 1)])\n",
      "/home/phunc20/.config/miniconda3/envs/homl-1e/lib/python3.7/site-packages/tensorflow/python/framework/dtypes.py:535: FutureWarning: Passing (type, 1) or '1type' as a synonym of type is deprecated; in a future version of numpy, it will be understood as (type, (1,)) / '(1,)type'.\n",
      "  np_resource = np.dtype([(\"resource\", np.ubyte, 1)])\n"
     ]
    }
   ],
   "source": [
    "import tensorflow as tf"
   ]
  },
  {
   "cell_type": "code",
   "execution_count": 3,
   "id": "educational-folder",
   "metadata": {},
   "outputs": [
    {
     "data": {
      "text/plain": [
       "('1.13.1', '1.19.2')"
      ]
     },
     "execution_count": 3,
     "metadata": {},
     "output_type": "execute_result"
    }
   ],
   "source": [
    "import numpy as np\n",
    "tf.__version__, np.__version__"
   ]
  },
  {
   "cell_type": "code",
   "execution_count": 4,
   "id": "portuguese-killer",
   "metadata": {},
   "outputs": [
    {
     "name": "stdout",
     "output_type": "stream",
     "text": [
      "WARNING:tensorflow:From /home/phunc20/.config/miniconda3/envs/homl-1e/lib/python3.7/site-packages/tensorflow/python/framework/op_def_library.py:263: colocate_with (from tensorflow.python.framework.ops) is deprecated and will be removed in a future version.\n",
      "Instructions for updating:\n",
      "Colocations handled automatically by placer.\n"
     ]
    }
   ],
   "source": [
    "x = tf.Variable(3, name=\"x\")\n",
    "y = tf.Variable(4, name=\"y\")\n",
    "f = x*x*y + y + 2"
   ]
  },
  {
   "cell_type": "markdown",
   "id": "empty-photography",
   "metadata": {},
   "source": [
    "It's funny that `ageron` has again chosen the result of the computation to be `42`:"
   ]
  },
  {
   "cell_type": "code",
   "execution_count": 43,
   "id": "sensitive-publicity",
   "metadata": {},
   "outputs": [
    {
     "data": {
      "text/plain": [
       "42"
      ]
     },
     "execution_count": 43,
     "metadata": {},
     "output_type": "execute_result"
    }
   ],
   "source": [
    "3*3*4 + 4 + 2"
   ]
  },
  {
   "cell_type": "markdown",
   "id": "indonesian-peoples",
   "metadata": {},
   "source": [
    "**No computation being performed** yet. Only creates computation graph.\n",
    "\n",
    "To _evaluate_ this graph, we need to\n",
    "- Open a TensorFlow _session_\n",
    "- Use the session to initialize the variables and evaluate `f`\n",
    "\n",
    "A TensorFlow session takes care of placing the operations onto _devices_ such as CPUs and GPUs.\n"
   ]
  },
  {
   "cell_type": "code",
   "execution_count": 5,
   "id": "dedicated-serbia",
   "metadata": {},
   "outputs": [
    {
     "name": "stdout",
     "output_type": "stream",
     "text": [
      "42\n"
     ]
    }
   ],
   "source": [
    "sess = tf.Session()\n",
    "sess.run(x.initializer)\n",
    "sess.run(y.initializer)\n",
    "result = sess.run(f)\n",
    "print(result)\n",
    "# sess.close() frees up resources\n",
    "sess.close()"
   ]
  },
  {
   "cell_type": "markdown",
   "id": "million-barcelona",
   "metadata": {},
   "source": [
    "**(?1)** What'd happen if we run `sess.run()` after having closed the session?"
   ]
  },
  {
   "cell_type": "raw",
   "id": "indian-geology",
   "metadata": {},
   "source": [
    "g = x - y\n",
    "sess.run(g)"
   ]
  },
  {
   "cell_type": "raw",
   "id": "expressed-corporation",
   "metadata": {},
   "source": [
    "---------------------------------------------------------------------------\n",
    "RuntimeError                              Traceback (most recent call last)\n",
    "<ipython-input-6-066d589946de> in <module>\n",
    "      1 g = x - y\n",
    "----> 2 sess.run(g)\n",
    "\n",
    "~/.config/miniconda3/envs/homl-1e/lib/python3.7/site-packages/tensorflow/python/client/session.py in run(self, fetches, feed_dict, options, run_metadata)\n",
    "    927     try:\n",
    "    928       result = self._run(None, fetches, feed_dict, options_ptr,\n",
    "--> 929                          run_metadata_ptr)\n",
    "    930       if run_metadata:\n",
    "    931         proto_data = tf_session.TF_GetBuffer(run_metadata_ptr)\n",
    "\n",
    "~/.config/miniconda3/envs/homl-1e/lib/python3.7/site-packages/tensorflow/python/client/session.py in _run(self, handle, fetches, feed_dict, options, run_metadata)\n",
    "   1073     # Check session.\n",
    "   1074     if self._closed:\n",
    "-> 1075       raise RuntimeError('Attempted to use a closed Session.')\n",
    "   1076     if self.graph.version == 0:\n",
    "   1077       raise RuntimeError('The Session graph is empty.  Add operations to the '\n",
    "\n",
    "RuntimeError: Attempted to use a closed Session."
   ]
  },
  {
   "cell_type": "markdown",
   "id": "czech-return",
   "metadata": {},
   "source": [
    "**(R1)** We simply aren't allowed to do that."
   ]
  },
  {
   "cell_type": "code",
   "execution_count": 9,
   "id": "amazing-treat",
   "metadata": {},
   "outputs": [
    {
     "data": {
      "text/plain": [
       "(<tf.Tensor 'sub_3:0' shape=() dtype=int32>, -1)"
      ]
     },
     "execution_count": 9,
     "metadata": {},
     "output_type": "execute_result"
    }
   ],
   "source": [
    "g = x - y\n",
    "sess = tf.Session()\n",
    "sess.run(x.initializer)\n",
    "sess.run(y.initializer)\n",
    "result = sess.run(g)\n",
    "sess.close()\n",
    "g, result"
   ]
  },
  {
   "cell_type": "markdown",
   "id": "latest-folks",
   "metadata": {},
   "source": [
    "### `with` block does the same thing"
   ]
  },
  {
   "cell_type": "code",
   "execution_count": 10,
   "id": "administrative-contrary",
   "metadata": {},
   "outputs": [
    {
     "data": {
      "text/plain": [
       "42"
      ]
     },
     "execution_count": 10,
     "metadata": {},
     "output_type": "execute_result"
    }
   ],
   "source": [
    "with tf.Session() as sess:\n",
    "    x.initializer.run()\n",
    "    y.initializer.run()\n",
    "    result = f.eval()\n",
    "result"
   ]
  },
  {
   "cell_type": "raw",
   "id": "about-cattle",
   "metadata": {},
   "source": [
    "sess = tf.get_default_session()\n",
    "sess.run(x.initializer)\n",
    "sess.run(y.initializer)\n",
    "result = sess.run(f)\n",
    "result"
   ]
  },
  {
   "cell_type": "raw",
   "id": "induced-consequence",
   "metadata": {},
   "source": [
    "---------------------------------------------------------------------------\n",
    "AttributeError                            Traceback (most recent call last)\n",
    "<ipython-input-11-da4358c7ffc3> in <module>\n",
    "      1 sess = tf.get_default_session()\n",
    "----> 2 sess.run(x.initializer)\n",
    "      3 sess.run(y.initializer)\n",
    "      4 result = sess.run(f)\n",
    "      5 result\n",
    "\n",
    "AttributeError: 'NoneType' object has no attribute 'run'"
   ]
  },
  {
   "cell_type": "code",
   "execution_count": 12,
   "id": "tender-insurance",
   "metadata": {},
   "outputs": [
    {
     "data": {
      "text/plain": [
       "42"
      ]
     },
     "execution_count": 12,
     "metadata": {},
     "output_type": "execute_result"
    }
   ],
   "source": [
    "with tf.Session() as sess:\n",
    "    sess.run(x.initializer)\n",
    "    sess.run(y.initializer)\n",
    "    result = sess.run(f)\n",
    "result"
   ]
  },
  {
   "cell_type": "code",
   "execution_count": 14,
   "id": "exciting-bouquet",
   "metadata": {},
   "outputs": [
    {
     "data": {
      "text/plain": [
       "42"
      ]
     },
     "execution_count": 14,
     "metadata": {},
     "output_type": "execute_result"
    }
   ],
   "source": [
    "with tf.Session() as sess:\n",
    "    tf.get_default_session().run(x.initializer)\n",
    "    tf.get_default_session().run(y.initializer)\n",
    "    result = tf.get_default_session().run(f)\n",
    "result"
   ]
  },
  {
   "cell_type": "markdown",
   "id": "current-mayor",
   "metadata": {},
   "source": [
    "- `tf.get_default_session()` has to be used inside a `with tf.Session() as sess:` block\n",
    "- otherwise it will be just a `None`."
   ]
  },
  {
   "cell_type": "code",
   "execution_count": 20,
   "id": "desirable-breakfast",
   "metadata": {},
   "outputs": [
    {
     "name": "stdout",
     "output_type": "stream",
     "text": [
      "None\n"
     ]
    }
   ],
   "source": [
    "print(tf.get_default_session())"
   ]
  },
  {
   "cell_type": "code",
   "execution_count": 16,
   "id": "hourly-shaft",
   "metadata": {},
   "outputs": [
    {
     "data": {
      "text/plain": [
       "True"
      ]
     },
     "execution_count": 16,
     "metadata": {},
     "output_type": "execute_result"
    }
   ],
   "source": [
    "tf.get_default_session() is None"
   ]
  },
  {
   "cell_type": "code",
   "execution_count": 19,
   "id": "assisted-arnold",
   "metadata": {},
   "outputs": [
    {
     "name": "stdout",
     "output_type": "stream",
     "text": [
      "<tensorflow.python.client.session.Session object at 0x7f1940406a10>\n"
     ]
    }
   ],
   "source": [
    "with tf.Session() as sess:\n",
    "    print(tf.get_default_session())"
   ]
  },
  {
   "cell_type": "code",
   "execution_count": 22,
   "id": "satellite-truck",
   "metadata": {},
   "outputs": [
    {
     "name": "stdout",
     "output_type": "stream",
     "text": [
      "tf.get_default_session() is sess: True\n"
     ]
    }
   ],
   "source": [
    "with tf.Session() as sess:\n",
    "    print(\"tf.get_default_session() is sess:\", tf.get_default_session() is sess)"
   ]
  },
  {
   "cell_type": "markdown",
   "id": "diverse-alpha",
   "metadata": {},
   "source": [
    "### One more convenience function: `global_variables_initializer()`\n",
    "With this, we don't have to manually type `.initializer` each time. Note that it does not actually perform the initialization immediately; instead, it creates a node in the graph that will initialize all variables when it is run."
   ]
  },
  {
   "cell_type": "code",
   "execution_count": 37,
   "id": "sustainable-hazard",
   "metadata": {},
   "outputs": [
    {
     "data": {
      "text/plain": [
       "42"
      ]
     },
     "execution_count": 37,
     "metadata": {},
     "output_type": "execute_result"
    }
   ],
   "source": [
    "init = tf.global_variables_initializer()  # prepare an init node\n",
    "with tf.Session() as sess:\n",
    "    init.run()  # actually initialize all the variables\n",
    "    result = f.eval()\n",
    "result"
   ]
  },
  {
   "cell_type": "markdown",
   "id": "homeless-germany",
   "metadata": {},
   "source": [
    "### `tf.InteractiveSession()`\n",
    "is often used in `ipython` and Jupyter notebooks. It is similar to the `with` block above, but one has to remember to close it at the end."
   ]
  },
  {
   "cell_type": "code",
   "execution_count": 38,
   "id": "arbitrary-japan",
   "metadata": {},
   "outputs": [
    {
     "data": {
      "text/plain": [
       "True"
      ]
     },
     "execution_count": 38,
     "metadata": {},
     "output_type": "execute_result"
    }
   ],
   "source": [
    "\"init\" in locals()"
   ]
  },
  {
   "cell_type": "code",
   "execution_count": 39,
   "id": "transparent-retrieval",
   "metadata": {},
   "outputs": [],
   "source": [
    "if \"init\" in locals():\n",
    "    del init"
   ]
  },
  {
   "cell_type": "code",
   "execution_count": 40,
   "id": "engaging-equation",
   "metadata": {},
   "outputs": [
    {
     "data": {
      "text/plain": [
       "False"
      ]
     },
     "execution_count": 40,
     "metadata": {},
     "output_type": "execute_result"
    }
   ],
   "source": [
    "\"init\" in locals()"
   ]
  },
  {
   "cell_type": "code",
   "execution_count": 42,
   "id": "stopped-newman",
   "metadata": {},
   "outputs": [
    {
     "name": "stdout",
     "output_type": "stream",
     "text": [
      "42\n"
     ]
    }
   ],
   "source": [
    "init = tf.global_variables_initializer()  # prepare an init node\n",
    "sess = tf.InteractiveSession()\n",
    "init.run()\n",
    "result = f.eval()\n",
    "print(result)\n",
    "sess.close()"
   ]
  }
 ],
 "metadata": {
  "kernelspec": {
   "display_name": "Python 3",
   "language": "python",
   "name": "python3"
  },
  "language_info": {
   "codemirror_mode": {
    "name": "ipython",
    "version": 3
   },
   "file_extension": ".py",
   "mimetype": "text/x-python",
   "name": "python",
   "nbconvert_exporter": "python",
   "pygments_lexer": "ipython3",
   "version": "3.7.9"
  }
 },
 "nbformat": 4,
 "nbformat_minor": 5
}
