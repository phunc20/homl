{
 "cells": [
  {
   "cell_type": "code",
   "execution_count": 1,
   "id": "capable-financing",
   "metadata": {},
   "outputs": [
    {
     "name": "stderr",
     "output_type": "stream",
     "text": [
      "/home/phunc20/.config/miniconda3/envs/homl1e/lib/python3.7/site-packages/tensorflow/python/framework/dtypes.py:526: FutureWarning: Passing (type, 1) or '1type' as a synonym of type is deprecated; in a future version of numpy, it will be understood as (type, (1,)) / '(1,)type'.\n",
      "  _np_qint8 = np.dtype([(\"qint8\", np.int8, 1)])\n",
      "/home/phunc20/.config/miniconda3/envs/homl1e/lib/python3.7/site-packages/tensorflow/python/framework/dtypes.py:527: FutureWarning: Passing (type, 1) or '1type' as a synonym of type is deprecated; in a future version of numpy, it will be understood as (type, (1,)) / '(1,)type'.\n",
      "  _np_quint8 = np.dtype([(\"quint8\", np.uint8, 1)])\n",
      "/home/phunc20/.config/miniconda3/envs/homl1e/lib/python3.7/site-packages/tensorflow/python/framework/dtypes.py:528: FutureWarning: Passing (type, 1) or '1type' as a synonym of type is deprecated; in a future version of numpy, it will be understood as (type, (1,)) / '(1,)type'.\n",
      "  _np_qint16 = np.dtype([(\"qint16\", np.int16, 1)])\n",
      "/home/phunc20/.config/miniconda3/envs/homl1e/lib/python3.7/site-packages/tensorflow/python/framework/dtypes.py:529: FutureWarning: Passing (type, 1) or '1type' as a synonym of type is deprecated; in a future version of numpy, it will be understood as (type, (1,)) / '(1,)type'.\n",
      "  _np_quint16 = np.dtype([(\"quint16\", np.uint16, 1)])\n",
      "/home/phunc20/.config/miniconda3/envs/homl1e/lib/python3.7/site-packages/tensorflow/python/framework/dtypes.py:530: FutureWarning: Passing (type, 1) or '1type' as a synonym of type is deprecated; in a future version of numpy, it will be understood as (type, (1,)) / '(1,)type'.\n",
      "  _np_qint32 = np.dtype([(\"qint32\", np.int32, 1)])\n",
      "/home/phunc20/.config/miniconda3/envs/homl1e/lib/python3.7/site-packages/tensorflow/python/framework/dtypes.py:535: FutureWarning: Passing (type, 1) or '1type' as a synonym of type is deprecated; in a future version of numpy, it will be understood as (type, (1,)) / '(1,)type'.\n",
      "  np_resource = np.dtype([(\"resource\", np.ubyte, 1)])\n"
     ]
    }
   ],
   "source": [
    "import tensorflow as tf\n",
    "import numpy as np"
   ]
  },
  {
   "cell_type": "markdown",
   "id": "senior-witness",
   "metadata": {},
   "source": [
    "### Numerical Differentiation"
   ]
  },
  {
   "cell_type": "code",
   "execution_count": 2,
   "id": "dense-racing",
   "metadata": {},
   "outputs": [
    {
     "data": {
      "text/plain": [
       "(24.000039999805264, 10.000000000331966)"
      ]
     },
     "execution_count": 2,
     "metadata": {},
     "output_type": "execute_result"
    }
   ],
   "source": [
    "def f(x, y):\n",
    "    return x**2*y + y + 2\n",
    "\n",
    "def derivative(f, x, y, x_eps, y_eps):\n",
    "    return (f(x+x_eps, y+y_eps) - f(x, y)) / (x_eps + y_eps)\n",
    "\n",
    "eps = 0.00001\n",
    "df_dx = derivative(f, 3, 4, eps, 0)  # 2*x*y = 24\n",
    "df_dy = derivative(f, 3, 4, 0, eps)  # x**2 + 1 = 10\n",
    "df_dx, df_dy"
   ]
  },
  {
   "cell_type": "markdown",
   "id": "starting-development",
   "metadata": {},
   "source": [
    "> Note that we have to call `f` at least **three times** in order just to compute `df_dx` and `df_dy`.\n",
    "\n",
    "**(?1)** How many times would we have to call `f`, had we used\n",
    "- forward-mode autodiff?\n",
    "- backward-mode autodiff?"
   ]
  },
  {
   "cell_type": "markdown",
   "id": "increasing-warner",
   "metadata": {},
   "source": [
    "### `my_func()`, try to autodiff it"
   ]
  },
  {
   "cell_type": "code",
   "execution_count": 3,
   "id": "colonial-royal",
   "metadata": {},
   "outputs": [],
   "source": [
    "def my_func(a, b):\n",
    "    z = 0\n",
    "    for i in range(100):\n",
    "        z = a*np.cos(z+i) + z*np.sin(b-i)\n",
    "    return z"
   ]
  },
  {
   "cell_type": "markdown",
   "id": "acceptable-advertiser",
   "metadata": {},
   "source": [
    "Let's first build a graph for `my_func()`."
   ]
  },
  {
   "cell_type": "code",
   "execution_count": 4,
   "id": "sticky-lottery",
   "metadata": {},
   "outputs": [
    {
     "name": "stdout",
     "output_type": "stream",
     "text": [
      "WARNING:tensorflow:From /home/phunc20/.config/miniconda3/envs/homl1e/lib/python3.7/site-packages/tensorflow/python/framework/op_def_library.py:263: colocate_with (from tensorflow.python.framework.ops) is deprecated and will be removed in a future version.\n",
      "Instructions for updating:\n",
      "Colocations handled automatically by placer.\n"
     ]
    },
    {
     "data": {
      "text/plain": [
       "(<tf.Variable 'a:0' shape=() dtype=int32_ref>,\n",
       " <tf.Variable 'b:0' shape=() dtype=int32_ref>)"
      ]
     },
     "execution_count": 4,
     "metadata": {},
     "output_type": "execute_result"
    }
   ],
   "source": [
    "a = tf.Variable(0, name=\"a\")\n",
    "b = tf.Variable(0, name=\"b\")\n",
    "a, b"
   ]
  },
  {
   "cell_type": "markdown",
   "id": "collectible-variation",
   "metadata": {},
   "source": [
    "The `dtype` is not quite right."
   ]
  },
  {
   "cell_type": "code",
   "execution_count": 5,
   "id": "proud-manner",
   "metadata": {},
   "outputs": [],
   "source": [
    "tf.reset_default_graph()"
   ]
  },
  {
   "cell_type": "code",
   "execution_count": 6,
   "id": "functioning-evening",
   "metadata": {},
   "outputs": [
    {
     "data": {
      "text/plain": [
       "(<tf.Variable 'a:0' shape=() dtype=float32_ref>,\n",
       " <tf.Variable 'b:0' shape=() dtype=float32_ref>)"
      ]
     },
     "execution_count": 6,
     "metadata": {},
     "output_type": "execute_result"
    }
   ],
   "source": [
    "a = tf.Variable(0.0, name=\"a\")\n",
    "b = tf.Variable(0.0, name=\"b\")\n",
    "a, b"
   ]
  },
  {
   "cell_type": "markdown",
   "id": "later-despite",
   "metadata": {},
   "source": [
    "This time `dtype` is right, but let's try one more possibility."
   ]
  },
  {
   "cell_type": "code",
   "execution_count": 7,
   "id": "medium-kitty",
   "metadata": {},
   "outputs": [],
   "source": [
    "tf.reset_default_graph()"
   ]
  },
  {
   "cell_type": "code",
   "execution_count": 8,
   "id": "herbal-hampshire",
   "metadata": {},
   "outputs": [
    {
     "data": {
      "text/plain": [
       "(<tf.Variable 'a:0' shape=() dtype=float64_ref>,\n",
       " <tf.Variable 'b:0' shape=() dtype=float32_ref>)"
      ]
     },
     "execution_count": 8,
     "metadata": {},
     "output_type": "execute_result"
    }
   ],
   "source": [
    "a = tf.Variable(0, dtype=tf.float64, name=\"a\")\n",
    "b = tf.Variable(0, dtype=tf.float32, name=\"b\")\n",
    "a, b"
   ]
  },
  {
   "cell_type": "markdown",
   "id": "later-parliament",
   "metadata": {},
   "source": [
    "Ok, enough playing with `tf.Variable()`. Let's resume our construction of the graph."
   ]
  },
  {
   "cell_type": "code",
   "execution_count": 9,
   "id": "excessive-trace",
   "metadata": {},
   "outputs": [],
   "source": [
    "tf.reset_default_graph()\n",
    "a = tf.Variable(0.0, name=\"a\")\n",
    "b = tf.Variable(0.0, name=\"b\")"
   ]
  },
  {
   "cell_type": "markdown",
   "id": "alike-estimate",
   "metadata": {},
   "source": [
    "Note that `z`\n",
    "- should not be `tf.constant`\n",
    "- neither `tf.placeholder` either\n",
    "- should probably be `tf.Variable`"
   ]
  },
  {
   "cell_type": "code",
   "execution_count": 10,
   "id": "confidential-building",
   "metadata": {},
   "outputs": [
    {
     "data": {
      "text/plain": [
       "<tf.Tensor 'add_199:0' shape=() dtype=float32>"
      ]
     },
     "execution_count": 10,
     "metadata": {},
     "output_type": "execute_result"
    }
   ],
   "source": [
    "z = tf.Variable(0.0, name=\"z\")\n",
    "for i in range(100):\n",
    "    z = a*tf.cos(z+i) + z*tf.sin(b-i)\n",
    "z"
   ]
  },
  {
   "cell_type": "code",
   "execution_count": 11,
   "id": "presidential-senator",
   "metadata": {},
   "outputs": [
    {
     "data": {
      "text/plain": [
       "(<tf.Tensor 'gradients/AddN_99:0' shape=() dtype=float32>,\n",
       " <tf.Tensor 'gradients/AddN_100:0' shape=() dtype=float32>)"
      ]
     },
     "execution_count": 11,
     "metadata": {},
     "output_type": "execute_result"
    }
   ],
   "source": [
    "da, db = tf.gradients(z, [a, b])\n",
    "da, db"
   ]
  },
  {
   "cell_type": "markdown",
   "id": "comfortable-hostel",
   "metadata": {},
   "source": [
    "Now that the graph has been constructed, let's compute some numerical values."
   ]
  },
  {
   "cell_type": "code",
   "execution_count": 12,
   "id": "floating-promise",
   "metadata": {},
   "outputs": [],
   "source": [
    "init = tf.global_variables_initializer()\n",
    "with tf.Session() as sess:\n",
    "    init.run()\n",
    "    da_val, db_val = da.eval(), db.eval()"
   ]
  },
  {
   "cell_type": "code",
   "execution_count": 13,
   "id": "seasonal-practice",
   "metadata": {},
   "outputs": [
    {
     "data": {
      "text/plain": [
       "(-1.219198, 0.0)"
      ]
     },
     "execution_count": 13,
     "metadata": {},
     "output_type": "execute_result"
    }
   ],
   "source": [
    "da_val, db_val"
   ]
  },
  {
   "cell_type": "markdown",
   "id": "altered-software",
   "metadata": {},
   "source": [
    "Let's verify the partial derivatives calculated by autodiff with that calculated by numercial differentiation (We can reuse `derivative()`)."
   ]
  },
  {
   "cell_type": "code",
   "execution_count": 14,
   "id": "professional-victory",
   "metadata": {},
   "outputs": [
    {
     "data": {
      "text/plain": [
       "(-1.2192136268969398, 0.0)"
      ]
     },
     "execution_count": 14,
     "metadata": {},
     "output_type": "execute_result"
    }
   ],
   "source": [
    "derivative(my_func, 0, 0, eps, 0), derivative(my_func, 0, 0, 0, eps)"
   ]
  },
  {
   "cell_type": "markdown",
   "id": "molecular-tennessee",
   "metadata": {},
   "source": [
    "Looks about right. But this only proves for the point `(a, b) = (0, 0)`. Let's try some more pairs of values `(a, b)`."
   ]
  },
  {
   "cell_type": "code",
   "execution_count": 15,
   "id": "preceding-prospect",
   "metadata": {},
   "outputs": [],
   "source": [
    "a0, b0 = 1.0001, np.pi/2  # values picked randomly"
   ]
  },
  {
   "cell_type": "markdown",
   "id": "conscious-restoration",
   "metadata": {},
   "source": [
    "The previous computation took quite some time, here let's `%%time` it."
   ]
  },
  {
   "cell_type": "code",
   "execution_count": 16,
   "id": "assured-picnic",
   "metadata": {},
   "outputs": [
    {
     "name": "stdout",
     "output_type": "stream",
     "text": [
      "CPU times: user 14.4 s, sys: 36 ms, total: 14.5 s\n",
      "Wall time: 16 s\n"
     ]
    },
    {
     "data": {
      "text/plain": [
       "(-0.8145098, 0.46844184)"
      ]
     },
     "execution_count": 16,
     "metadata": {},
     "output_type": "execute_result"
    }
   ],
   "source": [
    "%%time\n",
    "with tf.Session() as sess:\n",
    "    init.run()\n",
    "    da_val, db_val = da.eval(feed_dict={a: a0, b: b0}), db.eval(feed_dict={a: a0, b: b0})\n",
    "    \n",
    "da_val, db_val"
   ]
  },
  {
   "cell_type": "code",
   "execution_count": 17,
   "id": "advised-decline",
   "metadata": {},
   "outputs": [
    {
     "name": "stdout",
     "output_type": "stream",
     "text": [
      "CPU times: user 6 µs, sys: 0 ns, total: 6 µs\n",
      "Wall time: 14.5 µs\n",
      "-0.8145009000704028 0.46847738059963\n"
     ]
    }
   ],
   "source": [
    "%time\n",
    "print(derivative(my_func, a0, b0, eps, 0), derivative(my_func, a0, b0, 0, eps))"
   ]
  },
  {
   "cell_type": "markdown",
   "id": "sexual-bracelet",
   "metadata": {},
   "source": [
    "Probably not the fault of `tf`, you've run the graph redundantly as describes (as a bad practice) **on p.235** of the book."
   ]
  },
  {
   "cell_type": "code",
   "execution_count": 18,
   "id": "terminal-cleaners",
   "metadata": {},
   "outputs": [
    {
     "name": "stdout",
     "output_type": "stream",
     "text": [
      "CPU times: user 8.69 s, sys: 22.4 ms, total: 8.71 s\n",
      "Wall time: 9.96 s\n"
     ]
    }
   ],
   "source": [
    "%%time\n",
    "with tf.Session() as sess:\n",
    "    init.run()\n",
    "    da_val, db_val = sess.run([da, db], feed_dict={a: a0, b: b0})"
   ]
  },
  {
   "cell_type": "markdown",
   "id": "unknown-petite",
   "metadata": {},
   "source": [
    "The speed got improved, but it seems that on the CPU of Thinkpad X200\n",
    "- `tf`'s autodiff is slower than the difference equation\n",
    "- `10 s` compared to `13 microsec`\n",
    "  - `tf` autodiff\n",
    "    ```\n",
    "    CPU times: user 8.41 s, sys: 27.3 ms, total: 8.43 s\n",
    "    Wall time: 10.3 s\n",
    "    ```\n",
    "  - difference equation\n",
    "    ```\n",
    "    CPU times: user 6 µs, sys: 0 ns, total: 6 µs\n",
    "    Wall time: 13.4 µs\n",
    "    ```"
   ]
  },
  {
   "cell_type": "code",
   "execution_count": 26,
   "id": "sunset-sight",
   "metadata": {},
   "outputs": [],
   "source": [
    "n_pairs = 7"
   ]
  },
  {
   "cell_type": "code",
   "execution_count": 27,
   "id": "comprehensive-filename",
   "metadata": {},
   "outputs": [
    {
     "data": {
      "text/plain": [
       "array([[ 5.48882283, -4.03498243],\n",
       "       [ 4.97594869,  0.49954073],\n",
       "       [ 3.28090671,  0.19872654],\n",
       "       [-0.38263577, -5.6707406 ],\n",
       "       [-4.05622641,  0.72108979]])"
      ]
     },
     "execution_count": 27,
     "metadata": {},
     "output_type": "execute_result"
    }
   ],
   "source": [
    "pairs = 5*np.random.randn(n_pairs,2)\n",
    "pairs[:7, :]"
   ]
  },
  {
   "cell_type": "code",
   "execution_count": 29,
   "id": "statewide-carnival",
   "metadata": {},
   "outputs": [
    {
     "name": "stdout",
     "output_type": "stream",
     "text": [
      "Results close?\n",
      "False\n",
      "    a0 = 5.48882, b = -4.03498\n",
      "    da_val = nan, a_diff = -183094.63255\n",
      "    db_val = nan, b_diff = -548495.18664\n",
      "False\n",
      "    a0 = 4.97595, b = 0.49954\n",
      "    da_val = inf, a_diff = 235678.67377\n",
      "    db_val = nan, b_diff = 367272.58085\n",
      "False\n",
      "    a0 = 3.28091, b = 0.19873\n",
      "    da_val = 23220513499233910784.00000, a_diff = 280116.16574\n",
      "    db_val = -45844546338445852672.00000, b_diff = 204862.42645\n",
      "True\n",
      "    a0 = -0.38264, b = -5.67074\n",
      "False\n",
      "    a0 = -4.05623, b = 0.72109\n",
      "    da_val = 168350438388777841053015212032.00000, a_diff = 952689.47727\n",
      "    db_val = 256345334268102908371330400256.00000, b_diff = 576703.14644\n",
      "False\n",
      "    a0 = 3.63915, b = 1.03750\n",
      "    da_val = -8638213570933621971574849536.00000, a_diff = 72467.12347\n",
      "    db_val = -9082337381252253136281665536.00000, b_diff = 44602.30422\n",
      "True\n",
      "    a0 = -0.47866, b = 2.60087\n"
     ]
    }
   ],
   "source": [
    "print(\"Results close?\")\n",
    "for (a0, b0) in pairs:\n",
    "    with tf.Session() as sess:\n",
    "        init.run()\n",
    "        da_val, db_val = sess.run([da, db], feed_dict={a: a0, b: b0})\n",
    "\n",
    "    a_diff, b_diff = derivative(my_func, a0, b0, eps, 0), derivative(my_func, a0, b0, 0, eps)\n",
    "    tol = 0.0001\n",
    "    close = np.abs(da_val - a_diff) < tol and np.abs(db_val - b_diff) < tol\n",
    "    print(close)\n",
    "    if not close:\n",
    "        print(f\"    a0 = {a0:.5f}, b = {b0:.5f}\")\n",
    "        print(f\"    da_val = {da_val:.5f}, a_diff = {a_diff:.5f}\")\n",
    "        print(f\"    db_val = {db_val:.5f}, b_diff = {b_diff:.5f}\")\n",
    "    else:\n",
    "        print(f\"    a0 = {a0:.5f}, b = {b0:.5f}\")"
   ]
  },
  {
   "cell_type": "markdown",
   "id": "wooden-discussion",
   "metadata": {},
   "source": [
    "**(?2)** Why in the inconsistent cases, there are times when the values concerned are not `nan`, the corresponding values differ so much?"
   ]
  },
  {
   "cell_type": "markdown",
   "id": "processed-microwave",
   "metadata": {},
   "source": [
    "**(?3)** Would it be because values in `pairs` are too big? Let's try with smaller values."
   ]
  },
  {
   "cell_type": "code",
   "execution_count": 32,
   "id": "ecological-suicide",
   "metadata": {},
   "outputs": [
    {
     "data": {
      "text/plain": [
       "array([[-0.2460409 ,  0.36686968],\n",
       "       [-0.04445912, -1.24266627],\n",
       "       [ 1.2505139 , -0.68945281],\n",
       "       [-1.20598045,  0.49846434],\n",
       "       [ 0.75836596, -1.29888354],\n",
       "       [-0.10022005,  1.05469486],\n",
       "       [-0.26667067, -0.10496438]])"
      ]
     },
     "execution_count": 32,
     "metadata": {},
     "output_type": "execute_result"
    }
   ],
   "source": [
    "pairs = np.random.randn(n_pairs,2)\n",
    "pairs[:7, :]"
   ]
  },
  {
   "cell_type": "code",
   "execution_count": 33,
   "id": "opposed-powder",
   "metadata": {},
   "outputs": [
    {
     "name": "stdout",
     "output_type": "stream",
     "text": [
      "Results close?\n",
      "True\n",
      "True\n",
      "False\n",
      "    a0 = 1.25051, b = -0.68945\n",
      "    da_val = 4.52261, a_diff = 4.52308\n",
      "    db_val = -4.21196, b_diff = -4.24646\n",
      "True\n",
      "True\n",
      "True\n",
      "True\n"
     ]
    }
   ],
   "source": [
    "print(\"Results close?\")\n",
    "for (a0, b0) in pairs:\n",
    "    with tf.Session() as sess:\n",
    "        init.run()\n",
    "        da_val, db_val = sess.run([da, db], feed_dict={a: a0, b: b0})\n",
    "\n",
    "    a_diff, b_diff = derivative(my_func, a0, b0, eps, 0), derivative(my_func, a0, b0, 0, eps)\n",
    "    tol = 0.0001\n",
    "    close = np.abs(da_val - a_diff) < tol and np.abs(db_val - b_diff) < tol\n",
    "    print(close)\n",
    "    if not close:\n",
    "        print(f\"    a0 = {a0:.5f}, b = {b0:.5f}\")\n",
    "        print(f\"    da_val = {da_val:.5f}, a_diff = {a_diff:.5f}\")\n",
    "        print(f\"    db_val = {db_val:.5f}, b_diff = {b_diff:.5f}\")"
   ]
  },
  {
   "cell_type": "code",
   "execution_count": null,
   "id": "still-instrument",
   "metadata": {},
   "outputs": [],
   "source": []
  }
 ],
 "metadata": {
  "kernelspec": {
   "display_name": "Python 3",
   "language": "python",
   "name": "python3"
  },
  "language_info": {
   "codemirror_mode": {
    "name": "ipython",
    "version": 3
   },
   "file_extension": ".py",
   "mimetype": "text/x-python",
   "name": "python",
   "nbconvert_exporter": "python",
   "pygments_lexer": "ipython3",
   "version": "3.7.9"
  }
 },
 "nbformat": 4,
 "nbformat_minor": 5
}
