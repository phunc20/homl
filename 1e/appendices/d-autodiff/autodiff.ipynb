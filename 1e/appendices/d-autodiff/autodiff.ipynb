{
 "cells": [
  {
   "cell_type": "code",
   "execution_count": 1,
   "id": "capable-financing",
   "metadata": {},
   "outputs": [
    {
     "name": "stderr",
     "output_type": "stream",
     "text": [
      "/home/phunc20/.config/miniconda3/envs/homl1e/lib/python3.7/site-packages/tensorflow/python/framework/dtypes.py:526: FutureWarning: Passing (type, 1) or '1type' as a synonym of type is deprecated; in a future version of numpy, it will be understood as (type, (1,)) / '(1,)type'.\n",
      "  _np_qint8 = np.dtype([(\"qint8\", np.int8, 1)])\n",
      "/home/phunc20/.config/miniconda3/envs/homl1e/lib/python3.7/site-packages/tensorflow/python/framework/dtypes.py:527: FutureWarning: Passing (type, 1) or '1type' as a synonym of type is deprecated; in a future version of numpy, it will be understood as (type, (1,)) / '(1,)type'.\n",
      "  _np_quint8 = np.dtype([(\"quint8\", np.uint8, 1)])\n",
      "/home/phunc20/.config/miniconda3/envs/homl1e/lib/python3.7/site-packages/tensorflow/python/framework/dtypes.py:528: FutureWarning: Passing (type, 1) or '1type' as a synonym of type is deprecated; in a future version of numpy, it will be understood as (type, (1,)) / '(1,)type'.\n",
      "  _np_qint16 = np.dtype([(\"qint16\", np.int16, 1)])\n",
      "/home/phunc20/.config/miniconda3/envs/homl1e/lib/python3.7/site-packages/tensorflow/python/framework/dtypes.py:529: FutureWarning: Passing (type, 1) or '1type' as a synonym of type is deprecated; in a future version of numpy, it will be understood as (type, (1,)) / '(1,)type'.\n",
      "  _np_quint16 = np.dtype([(\"quint16\", np.uint16, 1)])\n",
      "/home/phunc20/.config/miniconda3/envs/homl1e/lib/python3.7/site-packages/tensorflow/python/framework/dtypes.py:530: FutureWarning: Passing (type, 1) or '1type' as a synonym of type is deprecated; in a future version of numpy, it will be understood as (type, (1,)) / '(1,)type'.\n",
      "  _np_qint32 = np.dtype([(\"qint32\", np.int32, 1)])\n",
      "/home/phunc20/.config/miniconda3/envs/homl1e/lib/python3.7/site-packages/tensorflow/python/framework/dtypes.py:535: FutureWarning: Passing (type, 1) or '1type' as a synonym of type is deprecated; in a future version of numpy, it will be understood as (type, (1,)) / '(1,)type'.\n",
      "  np_resource = np.dtype([(\"resource\", np.ubyte, 1)])\n"
     ]
    }
   ],
   "source": [
    "import tensorflow as tf\n",
    "import numpy as np"
   ]
  },
  {
   "cell_type": "markdown",
   "id": "senior-witness",
   "metadata": {},
   "source": [
    "### Numerical Differentiation"
   ]
  },
  {
   "cell_type": "code",
   "execution_count": 2,
   "id": "dense-racing",
   "metadata": {},
   "outputs": [
    {
     "data": {
      "text/plain": [
       "(24.000039999805264, 10.000000000331966)"
      ]
     },
     "execution_count": 2,
     "metadata": {},
     "output_type": "execute_result"
    }
   ],
   "source": [
    "def f(x, y):\n",
    "    return x**2*y + y + 2\n",
    "\n",
    "def derivative(f, x, y, x_eps, y_eps):\n",
    "    return (f(x+x_eps, y+y_eps) - f(x, y)) / (x_eps + y_eps)\n",
    "\n",
    "eps = 0.00001\n",
    "df_dx = derivative(f, 3, 4, eps, 0)  # 2*x*y = 24\n",
    "df_dy = derivative(f, 3, 4, 0, eps)  # x**2 + 1 = 10\n",
    "df_dx, df_dy"
   ]
  },
  {
   "cell_type": "markdown",
   "id": "starting-development",
   "metadata": {},
   "source": [
    "> Note that we have to call `f` at least **three times** in order just to compute `df_dx` and `df_dy`.\n",
    "\n",
    "**(?1)** How many times would we have to call `f`, had we used\n",
    "- forward-mode autodiff?\n",
    "- backward-mode autodiff?"
   ]
  },
  {
   "cell_type": "markdown",
   "id": "increasing-warner",
   "metadata": {},
   "source": [
    "### `my_func()`, try to autodiff it"
   ]
  },
  {
   "cell_type": "code",
   "execution_count": 3,
   "id": "colonial-royal",
   "metadata": {},
   "outputs": [],
   "source": [
    "def my_func(a, b):\n",
    "    z = 0\n",
    "    for i in range(100):\n",
    "        z = a*np.cos(z+i) + z*np.sin(b-i)\n",
    "    return z"
   ]
  },
  {
   "cell_type": "markdown",
   "id": "acceptable-advertiser",
   "metadata": {},
   "source": [
    "Let's first build a graph for `my_func()`."
   ]
  },
  {
   "cell_type": "code",
   "execution_count": 4,
   "id": "sticky-lottery",
   "metadata": {},
   "outputs": [
    {
     "name": "stdout",
     "output_type": "stream",
     "text": [
      "WARNING:tensorflow:From /home/phunc20/.config/miniconda3/envs/homl1e/lib/python3.7/site-packages/tensorflow/python/framework/op_def_library.py:263: colocate_with (from tensorflow.python.framework.ops) is deprecated and will be removed in a future version.\n",
      "Instructions for updating:\n",
      "Colocations handled automatically by placer.\n"
     ]
    },
    {
     "data": {
      "text/plain": [
       "(<tf.Variable 'a:0' shape=() dtype=int32_ref>,\n",
       " <tf.Variable 'b:0' shape=() dtype=int32_ref>)"
      ]
     },
     "execution_count": 4,
     "metadata": {},
     "output_type": "execute_result"
    }
   ],
   "source": [
    "a = tf.Variable(0, name=\"a\")\n",
    "b = tf.Variable(0, name=\"b\")\n",
    "a, b"
   ]
  },
  {
   "cell_type": "markdown",
   "id": "collectible-variation",
   "metadata": {},
   "source": [
    "The `dtype` is not quite right."
   ]
  },
  {
   "cell_type": "code",
   "execution_count": 5,
   "id": "proud-manner",
   "metadata": {},
   "outputs": [],
   "source": [
    "tf.reset_default_graph()"
   ]
  },
  {
   "cell_type": "code",
   "execution_count": 6,
   "id": "functioning-evening",
   "metadata": {},
   "outputs": [
    {
     "data": {
      "text/plain": [
       "(<tf.Variable 'a:0' shape=() dtype=float32_ref>,\n",
       " <tf.Variable 'b:0' shape=() dtype=float32_ref>)"
      ]
     },
     "execution_count": 6,
     "metadata": {},
     "output_type": "execute_result"
    }
   ],
   "source": [
    "a = tf.Variable(0.0, name=\"a\")\n",
    "b = tf.Variable(0.0, name=\"b\")\n",
    "a, b"
   ]
  },
  {
   "cell_type": "markdown",
   "id": "later-despite",
   "metadata": {},
   "source": [
    "This time `dtype` is right, but let's try one more possibility."
   ]
  },
  {
   "cell_type": "code",
   "execution_count": 7,
   "id": "medium-kitty",
   "metadata": {},
   "outputs": [],
   "source": [
    "tf.reset_default_graph()"
   ]
  },
  {
   "cell_type": "code",
   "execution_count": 8,
   "id": "herbal-hampshire",
   "metadata": {},
   "outputs": [
    {
     "data": {
      "text/plain": [
       "(<tf.Variable 'a:0' shape=() dtype=float64_ref>,\n",
       " <tf.Variable 'b:0' shape=() dtype=float32_ref>)"
      ]
     },
     "execution_count": 8,
     "metadata": {},
     "output_type": "execute_result"
    }
   ],
   "source": [
    "a = tf.Variable(0, dtype=tf.float64, name=\"a\")\n",
    "b = tf.Variable(0, dtype=tf.float32, name=\"b\")\n",
    "a, b"
   ]
  },
  {
   "cell_type": "markdown",
   "id": "sunrise-austin",
   "metadata": {},
   "source": [
    "Ok, enough playing with `tf.Variable()`. Let's resume our construction of the graph."
   ]
  },
  {
   "cell_type": "code",
   "execution_count": 9,
   "id": "excessive-trace",
   "metadata": {},
   "outputs": [],
   "source": [
    "tf.reset_default_graph()\n",
    "a = tf.Variable(0.0, name=\"a\")\n",
    "b = tf.Variable(0.0, name=\"b\")"
   ]
  },
  {
   "cell_type": "markdown",
   "id": "alike-estimate",
   "metadata": {},
   "source": [
    "Note that `z`\n",
    "- should not be `tf.constant`\n",
    "- neither `tf.placeholder` either\n",
    "- should probably be `tf.Variable`"
   ]
  },
  {
   "cell_type": "code",
   "execution_count": 10,
   "id": "confidential-building",
   "metadata": {},
   "outputs": [
    {
     "data": {
      "text/plain": [
       "<tf.Tensor 'add_199:0' shape=() dtype=float32>"
      ]
     },
     "execution_count": 10,
     "metadata": {},
     "output_type": "execute_result"
    }
   ],
   "source": [
    "z = tf.Variable(0.0, name=\"z\")\n",
    "for i in range(100):\n",
    "    z = a*tf.cos(z+i) + z*tf.sin(b-i)\n",
    "z"
   ]
  },
  {
   "cell_type": "code",
   "execution_count": 11,
   "id": "presidential-senator",
   "metadata": {},
   "outputs": [
    {
     "data": {
      "text/plain": [
       "(<tf.Tensor 'gradients/AddN_99:0' shape=() dtype=float32>,\n",
       " <tf.Tensor 'gradients/AddN_100:0' shape=() dtype=float32>)"
      ]
     },
     "execution_count": 11,
     "metadata": {},
     "output_type": "execute_result"
    }
   ],
   "source": [
    "da, db = tf.gradients(z, [a, b])\n",
    "da, db"
   ]
  },
  {
   "cell_type": "markdown",
   "id": "otherwise-mechanism",
   "metadata": {},
   "source": [
    "Now that the graph has been constructed, let's compute some numerical values."
   ]
  },
  {
   "cell_type": "code",
   "execution_count": 12,
   "id": "floating-promise",
   "metadata": {},
   "outputs": [],
   "source": [
    "init = tf.global_variables_initializer()\n",
    "with tf.Session() as sess:\n",
    "    init.run()\n",
    "    da_val, db_val = da.eval(), db.eval()"
   ]
  },
  {
   "cell_type": "code",
   "execution_count": 13,
   "id": "seasonal-practice",
   "metadata": {},
   "outputs": [
    {
     "data": {
      "text/plain": [
       "(-1.219198, 0.0)"
      ]
     },
     "execution_count": 13,
     "metadata": {},
     "output_type": "execute_result"
    }
   ],
   "source": [
    "da_val, db_val"
   ]
  },
  {
   "cell_type": "markdown",
   "id": "altered-software",
   "metadata": {},
   "source": [
    "Let's verify the partial derivatives calculated by autodiff with that calculated by numercial differentiation (We can reuse `derivative()`)."
   ]
  },
  {
   "cell_type": "code",
   "execution_count": 14,
   "id": "professional-victory",
   "metadata": {},
   "outputs": [
    {
     "data": {
      "text/plain": [
       "(-1.2192136268969398, 0.0)"
      ]
     },
     "execution_count": 14,
     "metadata": {},
     "output_type": "execute_result"
    }
   ],
   "source": [
    "derivative(my_func, 0, 0, eps, 0), derivative(my_func, 0, 0, 0, eps)"
   ]
  },
  {
   "cell_type": "markdown",
   "id": "molecular-tennessee",
   "metadata": {},
   "source": [
    "Looks about right. But this only proves for the point `(a, b) = (0, 0)`. Let's try some more pairs of values `(a, b)`."
   ]
  },
  {
   "cell_type": "code",
   "execution_count": 15,
   "id": "preceding-prospect",
   "metadata": {},
   "outputs": [],
   "source": [
    "a0, b0 = 1.0001, np.pi/2  # values picked randomly"
   ]
  },
  {
   "cell_type": "markdown",
   "id": "conscious-restoration",
   "metadata": {},
   "source": [
    "The previous computation took quite some time, here let's `%%time` it."
   ]
  },
  {
   "cell_type": "code",
   "execution_count": 16,
   "id": "assured-picnic",
   "metadata": {},
   "outputs": [
    {
     "name": "stdout",
     "output_type": "stream",
     "text": [
      "CPU times: user 14.4 s, sys: 36 ms, total: 14.5 s\n",
      "Wall time: 16 s\n"
     ]
    },
    {
     "data": {
      "text/plain": [
       "(-0.8145098, 0.46844184)"
      ]
     },
     "execution_count": 16,
     "metadata": {},
     "output_type": "execute_result"
    }
   ],
   "source": [
    "%%time\n",
    "with tf.Session() as sess:\n",
    "    init.run()\n",
    "    da_val, db_val = da.eval(feed_dict={a: a0, b: b0}), db.eval(feed_dict={a: a0, b: b0})\n",
    "    \n",
    "da_val, db_val"
   ]
  },
  {
   "cell_type": "code",
   "execution_count": 17,
   "id": "elder-plaza",
   "metadata": {},
   "outputs": [
    {
     "name": "stdout",
     "output_type": "stream",
     "text": [
      "CPU times: user 6 µs, sys: 0 ns, total: 6 µs\n",
      "Wall time: 14.5 µs\n",
      "-0.8145009000704028 0.46847738059963\n"
     ]
    }
   ],
   "source": [
    "%time\n",
    "print(derivative(my_func, a0, b0, eps, 0), derivative(my_func, a0, b0, 0, eps))"
   ]
  },
  {
   "cell_type": "markdown",
   "id": "sexual-bracelet",
   "metadata": {},
   "source": [
    "Probably not the fault of `tf`, you've run the graph redundantly as describes (as a bad practice) **on p.235** of the book."
   ]
  },
  {
   "cell_type": "code",
   "execution_count": 18,
   "id": "terminal-cleaners",
   "metadata": {},
   "outputs": [
    {
     "name": "stdout",
     "output_type": "stream",
     "text": [
      "CPU times: user 8.69 s, sys: 22.4 ms, total: 8.71 s\n",
      "Wall time: 9.96 s\n"
     ]
    }
   ],
   "source": [
    "%%time\n",
    "with tf.Session() as sess:\n",
    "    init.run()\n",
    "    da_val, db_val = sess.run([da, db], feed_dict={a: a0, b: b0})"
   ]
  },
  {
   "cell_type": "markdown",
   "id": "controlled-assets",
   "metadata": {},
   "source": [
    "The speed got improved, but it seems that on the CPU of Thinkpad X200\n",
    "- `tf`'s autodiff is slower than the difference equation\n",
    "- `10 s` compared to `13 microsec`\n",
    "  - `tf` autodiff\n",
    "    ```\n",
    "    CPU times: user 8.41 s, sys: 27.3 ms, total: 8.43 s\n",
    "    Wall time: 10.3 s\n",
    "    ```\n",
    "  - difference equation\n",
    "    ```\n",
    "    CPU times: user 6 µs, sys: 0 ns, total: 6 µs\n",
    "    Wall time: 13.4 µs\n",
    "    ```"
   ]
  },
  {
   "cell_type": "code",
   "execution_count": 19,
   "id": "comprehensive-filename",
   "metadata": {},
   "outputs": [
    {
     "data": {
      "text/plain": [
       "array([[-4.07883256, -7.0119442 ],\n",
       "       [-2.15491725, -2.05600644],\n",
       "       [-4.06992019,  7.09839238],\n",
       "       [ 3.49044888,  3.15956598],\n",
       "       [-7.76573506, -1.76691284]])"
      ]
     },
     "execution_count": 19,
     "metadata": {},
     "output_type": "execute_result"
    }
   ],
   "source": [
    "n_pairs = 7\n",
    "pairs = 5*np.random.randn(n_pairs,2)\n",
    "pairs[:5, :]"
   ]
  },
  {
   "cell_type": "code",
   "execution_count": 20,
   "id": "sweet-personal",
   "metadata": {},
   "outputs": [
    {
     "name": "stdout",
     "output_type": "stream",
     "text": [
      "Results close?\n",
      "False\n",
      "    da_val = 5.735841670325692e+26, a_diff = 140488.98763337813\n",
      "    db_val = -7.140276413810176e+26, b_diff = -518714.92996997375\n",
      "False\n",
      "    da_val = 5260.302734375, a_diff = 523780.8002591688\n",
      "    db_val = -34811.5703125, b_diff = 510119.07707401155\n",
      "False\n",
      "    da_val = -6.710599615805372e+34, a_diff = -310357.8067077116\n",
      "    db_val = -2.9711620619522755e+35, b_diff = -988743.4583294552\n",
      "False\n",
      "    da_val = -3.793606245395612e+22, a_diff = 76394.21513547894\n",
      "    db_val = 1.7551478007384198e+22, b_diff = -17325.506971522595\n",
      "False\n",
      "    da_val = nan, a_diff = 203439.87159712816\n",
      "    db_val = nan, b_diff = -80437.83743913267\n",
      "True\n",
      "False\n",
      "    da_val = nan, a_diff = 773661.9051500382\n",
      "    db_val = nan, b_diff = 84981.7455674362\n"
     ]
    }
   ],
   "source": [
    "print(\"Results close?\")\n",
    "for (a0, b0) in pairs:\n",
    "    with tf.Session() as sess:\n",
    "        init.run()\n",
    "        da_val, db_val = sess.run([da, db], feed_dict={a: a0, b: b0})\n",
    "\n",
    "    a_diff, b_diff = derivative(my_func, a0, b0, eps, 0), derivative(my_func, a0, b0, 0, eps)\n",
    "    tol = 0.0001\n",
    "    close = np.abs(da_val - a_diff) < tol and np.abs(db_val - b_diff) < tol\n",
    "    print(close)\n",
    "    if not close:\n",
    "        print(f\"    da_val = {da_val}, a_diff = {a_diff}\")\n",
    "        print(f\"    db_val = {db_val}, b_diff = {b_diff}\")"
   ]
  },
  {
   "cell_type": "markdown",
   "id": "driving-stephen",
   "metadata": {},
   "source": [
    "**(?2)** Why in the inconsistent cases, there are times when the values concerned are not `nan`, the corresponding values differ so much?"
   ]
  },
  {
   "cell_type": "code",
   "execution_count": null,
   "id": "framed-geology",
   "metadata": {},
   "outputs": [],
   "source": []
  }
 ],
 "metadata": {
  "kernelspec": {
   "display_name": "Python 3",
   "language": "python",
   "name": "python3"
  },
  "language_info": {
   "codemirror_mode": {
    "name": "ipython",
    "version": 3
   },
   "file_extension": ".py",
   "mimetype": "text/x-python",
   "name": "python",
   "nbconvert_exporter": "python",
   "pygments_lexer": "ipython3",
   "version": "3.7.9"
  }
 },
 "nbformat": 4,
 "nbformat_minor": 5
}
