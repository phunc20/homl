{
 "cells": [
  {
   "cell_type": "code",
   "execution_count": 35,
   "id": "public-empty",
   "metadata": {},
   "outputs": [],
   "source": [
    "import tensorflow as tf\n",
    "import numpy as np"
   ]
  },
  {
   "cell_type": "markdown",
   "id": "senior-witness",
   "metadata": {},
   "source": [
    "### Numerical Differentiation"
   ]
  },
  {
   "cell_type": "code",
   "execution_count": 3,
   "id": "dense-racing",
   "metadata": {},
   "outputs": [
    {
     "data": {
      "text/plain": [
       "(24.000039999805264, 10.000000000331966)"
      ]
     },
     "execution_count": 3,
     "metadata": {},
     "output_type": "execute_result"
    }
   ],
   "source": [
    "def f(x, y):\n",
    "    return x**2*y + y + 2\n",
    "\n",
    "def derivative(f, x, y, x_eps, y_eps):\n",
    "    return (f(x+x_eps, y+y_eps) - f(x, y)) / (x_eps + y_eps)\n",
    "\n",
    "eps = 0.00001\n",
    "df_dx = derivative(f, 3, 4, eps, 0)  # 2*x*y = 24\n",
    "df_dy = derivative(f, 3, 4, 0, eps)  # x**2 + 1 = 10\n",
    "df_dx, df_dy"
   ]
  },
  {
   "cell_type": "markdown",
   "id": "starting-development",
   "metadata": {},
   "source": [
    "> Note that we have to call `f` at least **three times** in order just to compute `df_dx` and `df_dy`.\n",
    "\n",
    "**(?1)** How many times would be have to call `f`, had we used\n",
    "- forward-mode autodiff?\n",
    "- backward-mode autodiff?"
   ]
  },
  {
   "cell_type": "markdown",
   "id": "weird-sapphire",
   "metadata": {},
   "source": [
    "### `my_func()`, try to autodiff it"
   ]
  },
  {
   "cell_type": "code",
   "execution_count": 26,
   "id": "educated-actor",
   "metadata": {},
   "outputs": [],
   "source": [
    "def my_func(a, b):\n",
    "    z = 0\n",
    "    for i in range(100):\n",
    "        z = a*np.cos(z+i) + z*np.sin(b-i)\n",
    "    return z"
   ]
  },
  {
   "cell_type": "code",
   "execution_count": 22,
   "id": "fabulous-clause",
   "metadata": {},
   "outputs": [
    {
     "data": {
      "text/plain": [
       "<tf.Variable 'a:0' shape=() dtype=int32_ref>"
      ]
     },
     "execution_count": 22,
     "metadata": {},
     "output_type": "execute_result"
    }
   ],
   "source": [
    "a = tf.Variable(0, name=\"a\")\n",
    "b = tf.Variable(0, name=\"b\")\n",
    "a"
   ]
  },
  {
   "cell_type": "code",
   "execution_count": 23,
   "id": "rural-benefit",
   "metadata": {},
   "outputs": [],
   "source": [
    "tf.reset_default_graph()"
   ]
  },
  {
   "cell_type": "code",
   "execution_count": 24,
   "id": "varied-floating",
   "metadata": {},
   "outputs": [
    {
     "data": {
      "text/plain": [
       "<tf.Variable 'a:0' shape=() dtype=float32_ref>"
      ]
     },
     "execution_count": 24,
     "metadata": {},
     "output_type": "execute_result"
    }
   ],
   "source": [
    "a = tf.Variable(0.0, name=\"a\")\n",
    "b = tf.Variable(0.0, name=\"b\")\n",
    "a"
   ]
  },
  {
   "cell_type": "code",
   "execution_count": 25,
   "id": "vietnamese-observation",
   "metadata": {},
   "outputs": [
    {
     "data": {
      "text/plain": [
       "<tf.Tensor 'add_199:0' shape=() dtype=float32>"
      ]
     },
     "execution_count": 25,
     "metadata": {},
     "output_type": "execute_result"
    }
   ],
   "source": [
    "z = tf.Variable(0.0, name=\"z\")\n",
    "for i in range(100):\n",
    "    z = a*tf.cos(z+i) + z*tf.sin(b-i)\n",
    "z"
   ]
  },
  {
   "cell_type": "code",
   "execution_count": 29,
   "id": "desperate-adrian",
   "metadata": {},
   "outputs": [
    {
     "data": {
      "text/plain": [
       "<tf.Tensor 'gradients_1/AddN_99:0' shape=() dtype=float32>"
      ]
     },
     "execution_count": 29,
     "metadata": {},
     "output_type": "execute_result"
    }
   ],
   "source": [
    "dz_da, dz_db = tf.gradients(z, [a, b])\n",
    "dz_da"
   ]
  },
  {
   "cell_type": "code",
   "execution_count": 32,
   "id": "invisible-direction",
   "metadata": {},
   "outputs": [],
   "source": [
    "init = tf.global_variables_initializer()\n",
    "with tf.Session() as sess:\n",
    "    init.run()\n",
    "    da, db = dz_da.eval(), dz_db.eval()"
   ]
  },
  {
   "cell_type": "code",
   "execution_count": 33,
   "id": "variable-legend",
   "metadata": {},
   "outputs": [
    {
     "data": {
      "text/plain": [
       "(-1.219198, 0.0)"
      ]
     },
     "execution_count": 33,
     "metadata": {},
     "output_type": "execute_result"
    }
   ],
   "source": [
    "da, db"
   ]
  },
  {
   "cell_type": "markdown",
   "id": "oriented-family",
   "metadata": {},
   "source": [
    "Let's verify the partial derivatives calculated by autodiff with numercial differentiation."
   ]
  },
  {
   "cell_type": "code",
   "execution_count": 36,
   "id": "generous-fight",
   "metadata": {},
   "outputs": [
    {
     "data": {
      "text/plain": [
       "(-1.2192136268969398, 0.0)"
      ]
     },
     "execution_count": 36,
     "metadata": {},
     "output_type": "execute_result"
    }
   ],
   "source": [
    "derivative(my_func, 0, 0, eps, 0), derivative(my_func, 0, 0, 0, eps)"
   ]
  },
  {
   "cell_type": "markdown",
   "id": "lonely-anchor",
   "metadata": {},
   "source": [
    "Looks about right."
   ]
  },
  {
   "cell_type": "code",
   "execution_count": null,
   "id": "closed-gnome",
   "metadata": {},
   "outputs": [],
   "source": []
  }
 ],
 "metadata": {
  "kernelspec": {
   "display_name": "Python 3",
   "language": "python",
   "name": "python3"
  },
  "language_info": {
   "codemirror_mode": {
    "name": "ipython",
    "version": 3
   },
   "file_extension": ".py",
   "mimetype": "text/x-python",
   "name": "python",
   "nbconvert_exporter": "python",
   "pygments_lexer": "ipython3",
   "version": "3.7.9"
  }
 },
 "nbformat": 4,
 "nbformat_minor": 5
}
