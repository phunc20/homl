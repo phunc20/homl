{
 "cells": [
  {
   "cell_type": "markdown",
   "id": "recognized-swiss",
   "metadata": {},
   "source": [
    "## Luật Số Lớn"
   ]
  },
  {
   "cell_type": "markdown",
   "id": "right-measure",
   "metadata": {},
   "source": [
    "**(?)** Thử bỏ sung thêm về xác suất $75\\%$ và $97\\%$ khi tắc giả Aurélien Géron cho một analog về lý do tại sao ensemble learning của những weak learners được trở nên strong.\n",
    "\n",
    "**(R)** Neu minh co mot dong xu voi xac xuat ra Head la $51\\%$, va minh nen no $1,000$ lan, assuming ket qua independent, thi xac xuat minh duoc majority of Heads la\n",
    "$$\n",
    "  \\sum_{k=\\lceil \\frac{n}{2} \\rceil}^{n} (0.51)^{k} (0.49)^{n-k} \\begin{pmatrix} n \\\\ k \\end{pmatrix},\n",
    "$$\n",
    "where $n$ la `# tosses`."
   ]
  },
  {
   "cell_type": "code",
   "execution_count": 1,
   "id": "4f24f943",
   "metadata": {
    "scrolled": true
   },
   "outputs": [],
   "source": [
    "import math"
   ]
  },
  {
   "cell_type": "raw",
   "id": "ac37e8e5",
   "metadata": {},
   "source": [
    "import sys\n",
    "sys."
   ]
  },
  {
   "cell_type": "code",
   "execution_count": 2,
   "id": "d01d426f",
   "metadata": {},
   "outputs": [
    {
     "data": {
      "text/plain": [
       "210"
      ]
     },
     "execution_count": 2,
     "metadata": {},
     "output_type": "execute_result"
    }
   ],
   "source": [
    "from functools import reduce\n",
    "reduce(lambda x, y: x*y, range(5, 8))"
   ]
  },
  {
   "cell_type": "code",
   "execution_count": 3,
   "id": "05b8fe8a",
   "metadata": {},
   "outputs": [],
   "source": [
    "import math\n",
    "\n",
    "proba_head = 0.51\n",
    "proba_tail = 1 - proba_head\n",
    "\n",
    "def my_comb(n, k):\n",
    "    assert n >= k, \"n must be >= k\"\n",
    "    mul = lambda x, y: x*y\n",
    "    denominator = reduce(mul, range(1, k+1))\n",
    "    numerator   = reduce(mul, range(n-(k-1), n+1))\n",
    "    return numerator // denominator \n",
    "    \n",
    "def proba_majority_head_after(n_tosses):\n",
    "    majority = n_tosses // 2\n",
    "    if n_tosses % 2 == 0:\n",
    "        majority += 1\n",
    "    return sum(\n",
    "        #math.comb(n_tosses, k) * proba_head**k * proba_tail**(n_tosses - k)\n",
    "        my_comb(n_tosses, k) * proba_head**k * proba_tail**(n_tosses - k)\n",
    "        for k in range(majority, n_tosses+1))"
   ]
  },
  {
   "cell_type": "code",
   "execution_count": 4,
   "id": "f350801d",
   "metadata": {},
   "outputs": [
    {
     "data": {
      "text/plain": [
       "0.7260985557305037"
      ]
     },
     "execution_count": 4,
     "metadata": {},
     "output_type": "execute_result"
    }
   ],
   "source": [
    "proba_majority_head_after(1_000)"
   ]
  },
  {
   "cell_type": "markdown",
   "id": "52535e31",
   "metadata": {},
   "source": [
    "Tot, nhu tac gia Aurelien Geron noi, xac xuat nay gan voi $75\\%$.\n",
    "Minh chay thu xem voi `10_000` tosses, co phai xac xuat se toi co $97\\%$ khong."
   ]
  },
  {
   "cell_type": "code",
   "execution_count": 38,
   "id": "b88c45b5",
   "metadata": {},
   "outputs": [
    {
     "ename": "OverflowError",
     "evalue": "int too large to convert to float",
     "output_type": "error",
     "traceback": [
      "\u001b[0;31m---------------------------------------------------------------------------\u001b[0m",
      "\u001b[0;31mOverflowError\u001b[0m                             Traceback (most recent call last)",
      "\u001b[0;32m<ipython-input-38-ee2e5e6ed658>\u001b[0m in \u001b[0;36m<module>\u001b[0;34m\u001b[0m\n\u001b[0;32m----> 1\u001b[0;31m \u001b[0mproba_majority_head_after\u001b[0m\u001b[0;34m(\u001b[0m\u001b[0;36m10_000\u001b[0m\u001b[0;34m)\u001b[0m\u001b[0;34m\u001b[0m\u001b[0;34m\u001b[0m\u001b[0m\n\u001b[0m",
      "\u001b[0;32m<ipython-input-23-e9f3625e4efc>\u001b[0m in \u001b[0;36mproba_majority_head_after\u001b[0;34m(n_tosses)\u001b[0m\n\u001b[1;32m     18\u001b[0m         \u001b[0;31m#math.comb(n_tosses, k) * proba_head**k * proba_tail**(n_tosses - k)\u001b[0m\u001b[0;34m\u001b[0m\u001b[0;34m\u001b[0m\u001b[0;34m\u001b[0m\u001b[0m\n\u001b[1;32m     19\u001b[0m         \u001b[0mmy_comb\u001b[0m\u001b[0;34m(\u001b[0m\u001b[0mn_tosses\u001b[0m\u001b[0;34m,\u001b[0m \u001b[0mk\u001b[0m\u001b[0;34m)\u001b[0m \u001b[0;34m*\u001b[0m \u001b[0mproba_head\u001b[0m\u001b[0;34m**\u001b[0m\u001b[0mk\u001b[0m \u001b[0;34m*\u001b[0m \u001b[0mproba_tail\u001b[0m\u001b[0;34m**\u001b[0m\u001b[0;34m(\u001b[0m\u001b[0mn_tosses\u001b[0m \u001b[0;34m-\u001b[0m \u001b[0mk\u001b[0m\u001b[0;34m)\u001b[0m\u001b[0;34m\u001b[0m\u001b[0;34m\u001b[0m\u001b[0m\n\u001b[0;32m---> 20\u001b[0;31m         for k in range(majority, n_tosses+1))\n\u001b[0m",
      "\u001b[0;32m<ipython-input-23-e9f3625e4efc>\u001b[0m in \u001b[0;36m<genexpr>\u001b[0;34m(.0)\u001b[0m\n\u001b[1;32m     18\u001b[0m         \u001b[0;31m#math.comb(n_tosses, k) * proba_head**k * proba_tail**(n_tosses - k)\u001b[0m\u001b[0;34m\u001b[0m\u001b[0;34m\u001b[0m\u001b[0;34m\u001b[0m\u001b[0m\n\u001b[1;32m     19\u001b[0m         \u001b[0mmy_comb\u001b[0m\u001b[0;34m(\u001b[0m\u001b[0mn_tosses\u001b[0m\u001b[0;34m,\u001b[0m \u001b[0mk\u001b[0m\u001b[0;34m)\u001b[0m \u001b[0;34m*\u001b[0m \u001b[0mproba_head\u001b[0m\u001b[0;34m**\u001b[0m\u001b[0mk\u001b[0m \u001b[0;34m*\u001b[0m \u001b[0mproba_tail\u001b[0m\u001b[0;34m**\u001b[0m\u001b[0;34m(\u001b[0m\u001b[0mn_tosses\u001b[0m \u001b[0;34m-\u001b[0m \u001b[0mk\u001b[0m\u001b[0;34m)\u001b[0m\u001b[0;34m\u001b[0m\u001b[0;34m\u001b[0m\u001b[0m\n\u001b[0;32m---> 20\u001b[0;31m         for k in range(majority, n_tosses+1))\n\u001b[0m",
      "\u001b[0;31mOverflowError\u001b[0m: int too large to convert to float"
     ]
    }
   ],
   "source": [
    "proba_majority_head_after(10_000)"
   ]
  },
  {
   "cell_type": "code",
   "execution_count": 5,
   "id": "993ba2b1",
   "metadata": {},
   "outputs": [
    {
     "name": "stdout",
     "output_type": "stream",
     "text": [
      "OverflowError: int too large to convert to float\n"
     ]
    }
   ],
   "source": [
    "try:\n",
    "    proba_majority_head_after(10_000)\n",
    "except OverflowError as e:\n",
    "    #print(dir(e))\n",
    "    print(f\"OverflowError: {e}\")"
   ]
  },
  {
   "cell_type": "code",
   "execution_count": 6,
   "id": "f18420d0",
   "metadata": {},
   "outputs": [],
   "source": [
    "from decimal import Decimal\n",
    "    \n",
    "def proba_majority_head_after(n_tosses):\n",
    "    majority = n_tosses // 2\n",
    "    if n_tosses % 2 == 0:\n",
    "        majority += 1\n",
    "    return sum(\n",
    "        #math.comb(n_tosses, k) * proba_head**k * proba_tail**(n_tosses - k)\n",
    "        Decimal(my_comb(n_tosses, k)) * Decimal(proba_head**k) * Decimal(proba_tail**(n_tosses - k))\n",
    "        for k in range(majority, n_tosses+1))"
   ]
  },
  {
   "cell_type": "code",
   "execution_count": 44,
   "id": "01abcc22",
   "metadata": {},
   "outputs": [
    {
     "data": {
      "text/plain": [
       "Decimal('0E-1074')"
      ]
     },
     "execution_count": 44,
     "metadata": {},
     "output_type": "execute_result"
    }
   ],
   "source": [
    "proba_majority_head_after(10_000)"
   ]
  },
  {
   "cell_type": "code",
   "execution_count": 46,
   "id": "23111299",
   "metadata": {},
   "outputs": [
    {
     "ename": "OverflowError",
     "evalue": "int too large to convert to float",
     "output_type": "error",
     "traceback": [
      "\u001b[0;31m---------------------------------------------------------------------------\u001b[0m",
      "\u001b[0;31mOverflowError\u001b[0m                             Traceback (most recent call last)",
      "\u001b[0;32m<ipython-input-46-81d16675a87a>\u001b[0m in \u001b[0;36m<module>\u001b[0;34m\u001b[0m\n\u001b[0;32m----> 1\u001b[0;31m \u001b[0mmy_comb\u001b[0m\u001b[0;34m(\u001b[0m\u001b[0;36m10_000\u001b[0m\u001b[0;34m,\u001b[0m \u001b[0;36m5_000\u001b[0m\u001b[0;34m)\u001b[0m \u001b[0;34m*\u001b[0m \u001b[0mproba_head\u001b[0m\u001b[0;34m**\u001b[0m\u001b[0;36m5_001\u001b[0m\u001b[0;34m\u001b[0m\u001b[0;34m\u001b[0m\u001b[0m\n\u001b[0m",
      "\u001b[0;31mOverflowError\u001b[0m: int too large to convert to float"
     ]
    }
   ],
   "source": [
    "my_comb(10_000, 5_000) * proba_head**5_001"
   ]
  },
  {
   "cell_type": "code",
   "execution_count": 47,
   "id": "ad02693e",
   "metadata": {
    "scrolled": false
   },
   "outputs": [
    {
     "ename": "OverflowError",
     "evalue": "int too large to convert to float",
     "output_type": "error",
     "traceback": [
      "\u001b[0;31m---------------------------------------------------------------------------\u001b[0m",
      "\u001b[0;31mOverflowError\u001b[0m                             Traceback (most recent call last)",
      "\u001b[0;32m<ipython-input-47-00efdfe63876>\u001b[0m in \u001b[0;36m<module>\u001b[0;34m\u001b[0m\n\u001b[0;32m----> 1\u001b[0;31m \u001b[0mfloat\u001b[0m\u001b[0;34m(\u001b[0m\u001b[0mmy_comb\u001b[0m\u001b[0;34m(\u001b[0m\u001b[0;36m10_000\u001b[0m\u001b[0;34m,\u001b[0m \u001b[0;36m5_000\u001b[0m\u001b[0;34m)\u001b[0m\u001b[0;34m)\u001b[0m\u001b[0;34m\u001b[0m\u001b[0;34m\u001b[0m\u001b[0m\n\u001b[0m",
      "\u001b[0;31mOverflowError\u001b[0m: int too large to convert to float"
     ]
    }
   ],
   "source": [
    "float(my_comb(10_000, 5_000))"
   ]
  },
  {
   "cell_type": "code",
   "execution_count": 7,
   "id": "a817aedf",
   "metadata": {},
   "outputs": [],
   "source": [
    "import numpy as np"
   ]
  },
  {
   "cell_type": "code",
   "execution_count": 8,
   "id": "48972f3f",
   "metadata": {},
   "outputs": [],
   "source": [
    "def binomial_term(n, k, a, b):\n",
    "    mul = lambda x, y: x*y\n",
    "    A = reduce(mul, a * np.arange(n-(k-1), n+1))\n",
    "    B = reduce(mul, b / np.arange(1, k+1))\n",
    "    return A * B\n",
    "\n",
    "def proba_majorite_face_apres(n_tosses):\n",
    "    majority = n_tosses // 2\n",
    "    if n_tosses % 2 == 0:\n",
    "        majority += 1\n",
    "    return sum(binomial_term(n_tosses, k, proba_head, proba_tail)\n",
    "               for k in range(majority, n_tosses+1))"
   ]
  },
  {
   "cell_type": "code",
   "execution_count": 9,
   "id": "cbd0776c",
   "metadata": {},
   "outputs": [
    {
     "name": "stderr",
     "output_type": "stream",
     "text": [
      "/home/phunc20/.local/bin/miniconda3/envs/homl1/lib/python3.7/site-packages/ipykernel_launcher.py:2: RuntimeWarning: overflow encountered in double_scalars\n",
      "  \n",
      "/home/phunc20/.local/bin/miniconda3/envs/homl1/lib/python3.7/site-packages/ipykernel_launcher.py:5: RuntimeWarning: invalid value encountered in double_scalars\n",
      "  \"\"\"\n"
     ]
    },
    {
     "data": {
      "text/plain": [
       "nan"
      ]
     },
     "execution_count": 9,
     "metadata": {},
     "output_type": "execute_result"
    }
   ],
   "source": [
    "proba_majorite_face_apres(10_000)"
   ]
  },
  {
   "cell_type": "markdown",
   "id": "4e56ab65",
   "metadata": {},
   "source": [
    "Con so van con lon qua, cach sap xep nhu vay ro rang chua du."
   ]
  },
  {
   "cell_type": "code",
   "execution_count": 12,
   "id": "34a9949b",
   "metadata": {},
   "outputs": [
    {
     "data": {
      "text/plain": [
       "array([1, 2, 3, 4, 5, 6, 7])"
      ]
     },
     "execution_count": 12,
     "metadata": {},
     "output_type": "execute_result"
    }
   ],
   "source": [
    "np.concatenate(([1,2,3], [4,5,6,7]))"
   ]
  },
  {
   "cell_type": "code",
   "execution_count": 13,
   "id": "fa10e203",
   "metadata": {},
   "outputs": [],
   "source": [
    "def my_comb_float(n, k):\n",
    "    mul = lambda x, y: x*y\n",
    "    numerator_factors = np.arange(1, n+1)\n",
    "    denominator_factors = np.concatenate((np.arange(1, k+1), np.arange(1, n-k+1)))\n",
    "    return reduce(mul, numerator_factors/denominator_factors)"
   ]
  },
  {
   "cell_type": "code",
   "execution_count": 17,
   "id": "d50d5673",
   "metadata": {},
   "outputs": [
    {
     "name": "stderr",
     "output_type": "stream",
     "text": [
      "/home/phunc20/.local/bin/miniconda3/envs/homl1/lib/python3.7/site-packages/ipykernel_launcher.py:2: RuntimeWarning: overflow encountered in double_scalars\n",
      "  \n"
     ]
    },
    {
     "data": {
      "text/plain": [
       "inf"
      ]
     },
     "execution_count": 17,
     "metadata": {},
     "output_type": "execute_result"
    }
   ],
   "source": [
    "float(my_comb_float(10_000, 5_000))"
   ]
  },
  {
   "cell_type": "code",
   "execution_count": 19,
   "id": "11c46180",
   "metadata": {},
   "outputs": [
    {
     "name": "stdout",
     "output_type": "stream",
     "text": [
      "19.7 µs ± 3.51 µs per loop (mean ± std. dev. of 7 runs, 10000 loops each)\n"
     ]
    }
   ],
   "source": [
    "%timeit np.full(shape=(10_000,), fill_value=proba_head)"
   ]
  },
  {
   "cell_type": "code",
   "execution_count": 20,
   "id": "061469e3",
   "metadata": {},
   "outputs": [
    {
     "name": "stdout",
     "output_type": "stream",
     "text": [
      "38.8 µs ± 1.8 µs per loop (mean ± std. dev. of 7 runs, 10000 loops each)\n"
     ]
    }
   ],
   "source": [
    "%timeit np.ones((10_000,)) * proba_head"
   ]
  },
  {
   "cell_type": "code",
   "execution_count": 39,
   "id": "0870d4a7",
   "metadata": {},
   "outputs": [],
   "source": [
    "def binomial_term(n, k, a, b):\n",
    "    mul = lambda x, y: x*y\n",
    "    numerator_factors = np.arange(1, n+1) * np.concatenate((\n",
    "        np.full(shape=(k,), fill_value=proba_head),\n",
    "        np.full(shape=(n-k,), fill_value=proba_tail)\n",
    "        ))\n",
    "    print(numerator_factors)\n",
    "    denominator_factors = np.concatenate((np.arange(1, k+1), np.arange(1, n-k+1)))\n",
    "    print(denominator_factors)\n",
    "    #return reduce(mul, numerator_factors/denominator_factors)\n",
    "    #print((numerator_factors/denominator_factors)[5_000:5_500])\n",
    "    #print(list(numerator_factors/denominator_factors))\n",
    "    #ans = reduce(mul, numerator_factors/denominator_factors)\n",
    "    ans = reduce(mul, list(numerator_factors/denominator_factors), 1)\n",
    "    #return ans"
   ]
  },
  {
   "cell_type": "code",
   "execution_count": 41,
   "id": "aa0038f5",
   "metadata": {},
   "outputs": [],
   "source": [
    "np.repeat?"
   ]
  },
  {
   "cell_type": "code",
   "execution_count": 49,
   "id": "8cf3c20e",
   "metadata": {},
   "outputs": [],
   "source": [
    "def binomial_term(n, k, a, b):\n",
    "    mul = lambda x, y: x*y\n",
    "    numerator_factors = np.arange(1, n+1) * np.concatenate((\n",
    "        np.full(shape=(k,), fill_value=proba_head),\n",
    "        np.full(shape=(n-k,), fill_value=proba_tail)\n",
    "        ))\n",
    "    #print(numerator_factors)\n",
    "    #denominator_factors = np.concatenate((np.arange(1, k+1), np.arange(1, n-k+1)))\n",
    "    small, big = (k, n-k) if k < n-k else (n-k, k)\n",
    "    denominator_factors = np.concatenate((\n",
    "        np.repeat(np.arange(1, small+1), 2),\n",
    "        np.arange(small+1, big+1),\n",
    "    ))\n",
    "    #print(denominator_factors)\n",
    "    #return reduce(mul, numerator_factors/denominator_factors)\n",
    "    #print((numerator_factors/denominator_factors)[5_000:5_500])\n",
    "    #print(list(numerator_factors/denominator_factors))\n",
    "    #ans = reduce(mul, numerator_factors/denominator_factors)\n",
    "    ans = reduce(mul, list(numerator_factors/denominator_factors), 1)\n",
    "    return ans"
   ]
  },
  {
   "cell_type": "code",
   "execution_count": 50,
   "id": "d192fea2",
   "metadata": {},
   "outputs": [
    {
     "data": {
      "text/plain": [
       "0.001079360389389472"
      ]
     },
     "execution_count": 50,
     "metadata": {},
     "output_type": "execute_result"
    }
   ],
   "source": [
    "binomial_term(10_000, 5_000, proba_head, proba_tail)"
   ]
  },
  {
   "cell_type": "code",
   "execution_count": 51,
   "id": "73faaaf4",
   "metadata": {},
   "outputs": [
    {
     "data": {
      "text/plain": [
       "0.9767182874807251"
      ]
     },
     "execution_count": 51,
     "metadata": {},
     "output_type": "execute_result"
    }
   ],
   "source": [
    "proba_majorite_face_apres(10_000)"
   ]
  },
  {
   "cell_type": "code",
   "execution_count": 56,
   "id": "c256d689",
   "metadata": {},
   "outputs": [
    {
     "data": {
      "application/vnd.jupyter.widget-view+json": {
       "model_id": "4a8b1340ede4437ca9022e9307aa1e68",
       "version_major": 2,
       "version_minor": 0
      },
      "text/plain": [
       "  0%|          | 0/5000 [00:00<?, ?it/s]"
      ]
     },
     "metadata": {},
     "output_type": "display_data"
    },
    {
     "data": {
      "text/plain": [
       "0.9767182874807251"
      ]
     },
     "execution_count": 56,
     "metadata": {},
     "output_type": "execute_result"
    }
   ],
   "source": [
    "from tqdm.notebook import tqdm\n",
    "\n",
    "def proba_majorite_face_apres(n_tosses):\n",
    "    majority = n_tosses // 2\n",
    "    if n_tosses % 2 == 0:\n",
    "        majority += 1\n",
    "    return sum(binomial_term(n_tosses, k, proba_head, proba_tail)\n",
    "               for k in tqdm(range(majority, n_tosses+1)))\n",
    "\n",
    "proba_majorite_face_apres(10_000)"
   ]
  },
  {
   "cell_type": "code",
   "execution_count": null,
   "id": "86bf14f9",
   "metadata": {},
   "outputs": [],
   "source": []
  },
  {
   "cell_type": "code",
   "execution_count": null,
   "id": "6a04bb88",
   "metadata": {},
   "outputs": [],
   "source": []
  },
  {
   "cell_type": "code",
   "execution_count": 1,
   "id": "piano-object",
   "metadata": {},
   "outputs": [],
   "source": [
    "from sklearn.datasets import make_moons"
   ]
  },
  {
   "cell_type": "code",
   "execution_count": 5,
   "id": "regulation-influence",
   "metadata": {},
   "outputs": [
    {
     "data": {
      "text/plain": [
       "((10000, 2), (10000,))"
      ]
     },
     "execution_count": 5,
     "metadata": {},
     "output_type": "execute_result"
    }
   ],
   "source": [
    "X, y = make_moons(n_samples=10_000, random_state=42)\n",
    "X.shape, y.shape"
   ]
  },
  {
   "cell_type": "raw",
   "id": "engaged-huntington",
   "metadata": {},
   "source": [
    "help(train_test_split)"
   ]
  },
  {
   "cell_type": "raw",
   "id": "special-incentive",
   "metadata": {},
   "source": [
    "help(make_moons)"
   ]
  },
  {
   "cell_type": "code",
   "execution_count": 6,
   "id": "varying-terry",
   "metadata": {},
   "outputs": [],
   "source": [
    "from sklearn.model_selection import train_test_split"
   ]
  },
  {
   "cell_type": "code",
   "execution_count": 8,
   "id": "higher-friendly",
   "metadata": {},
   "outputs": [
    {
     "data": {
      "text/plain": [
       "((8000, 2), (2000,))"
      ]
     },
     "execution_count": 8,
     "metadata": {},
     "output_type": "execute_result"
    }
   ],
   "source": [
    "X_train, X_test, y_train, y_test = train_test_split(X, y, \n",
    "                                                    test_size=0.2,\n",
    "                                                    random_state=42)\n",
    "X_train.shape, y_test.shape"
   ]
  },
  {
   "cell_type": "code",
   "execution_count": 9,
   "id": "numerous-continent",
   "metadata": {},
   "outputs": [],
   "source": [
    "from sklearn.ensemble import RandomForestClassifier\n",
    "from sklearn.ensemble import VotingClassifier\n",
    "from sklearn.linear_model import LogisticRegression\n",
    "from sklearn.svm import SVC\n",
    "\n",
    "log_clf = LogisticRegression()\n",
    "rnd_clf = RandomForestClassifier()\n",
    "svm_clf = SVC()\n",
    "\n",
    "voting_clf = VotingClassifier(\n",
    "        estimators=[(\"lr\", log_clf), (\"rf\", rnd_clf), (\"svc\", svm_clf)],\n",
    "        voting=\"hard\",\n",
    ")"
   ]
  },
  {
   "cell_type": "code",
   "execution_count": 10,
   "id": "favorite-titanium",
   "metadata": {},
   "outputs": [
    {
     "name": "stdout",
     "output_type": "stream",
     "text": [
      "LogisticRegression 0.91\n",
      "RandomForestClassifier 1.00\n",
      "SVC            1.00\n",
      "VotingClassifier 1.00\n"
     ]
    }
   ],
   "source": [
    "from sklearn.metrics import accuracy_score\n",
    "for clf in (log_clf, rnd_clf, svm_clf, voting_clf):\n",
    "    clf.fit(X_train, y_train)\n",
    "    y_pred = clf.predict(X_test)\n",
    "    print(f\"{clf.__class__.__name__:14s} {accuracy_score(y_test, y_pred):.2f}\")"
   ]
  },
  {
   "cell_type": "code",
   "execution_count": null,
   "id": "incomplete-rings",
   "metadata": {},
   "outputs": [],
   "source": []
  }
 ],
 "metadata": {
  "kernelspec": {
   "display_name": "Python 3",
   "language": "python",
   "name": "python3"
  },
  "language_info": {
   "codemirror_mode": {
    "name": "ipython",
    "version": 3
   },
   "file_extension": ".py",
   "mimetype": "text/x-python",
   "name": "python",
   "nbconvert_exporter": "python",
   "pygments_lexer": "ipython3",
   "version": "3.7.10"
  }
 },
 "nbformat": 4,
 "nbformat_minor": 5
}
