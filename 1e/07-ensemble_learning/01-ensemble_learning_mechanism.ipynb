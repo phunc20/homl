{
 "cells": [
  {
   "cell_type": "markdown",
   "id": "strong-saturday",
   "metadata": {},
   "source": [
    "## Luật Số Lớn"
   ]
  },
  {
   "cell_type": "markdown",
   "id": "ceramic-election",
   "metadata": {},
   "source": [
    "**(?)** Thử bỏ sung thêm về xác suất $75\\%$ và $97\\%$ khi ông Aurélien Géron cho một analog về lý do tại sao ensemble learning của những weak learners được trở nên strong. \n"
   ]
  },
  {
   "cell_type": "code",
   "execution_count": 2,
   "id": "younger-document",
   "metadata": {},
   "outputs": [
    {
     "name": "stderr",
     "output_type": "stream",
     "text": [
      "\u001b[32m\u001b[1m   Updating\u001b[22m\u001b[39m registry at `~/.julia/registries/General`\n",
      "######################################################################### 100.0%\n",
      "\u001b[32m\u001b[1m  Resolving\u001b[22m\u001b[39m package versions...\n",
      "\u001b[32m\u001b[1m  Installed\u001b[22m\u001b[39m Qt_jll ─ v5.15.2+3\n",
      "\u001b[32m\u001b[1m  Installed\u001b[22m\u001b[39m PyCall ─ v1.92.3\n",
      "\u001b[32m\u001b[1mUpdating\u001b[22m\u001b[39m `~/.julia/environments/v1.5/Project.toml`\n",
      " \u001b[90m [438e738f] \u001b[39m\u001b[92m+ PyCall v1.92.3\u001b[39m\n",
      "\u001b[32m\u001b[1mUpdating\u001b[22m\u001b[39m `~/.julia/environments/v1.5/Manifest.toml`\n",
      " \u001b[90m [438e738f] \u001b[39m\u001b[93m↑ PyCall v1.92.2 ⇒ v1.92.3\u001b[39m\n",
      " \u001b[90m [ede63266] \u001b[39m\u001b[93m↑ Qt_jll v5.15.2+2 ⇒ v5.15.2+3\u001b[39m\n",
      "\u001b[32m\u001b[1m   Building\u001b[22m\u001b[39m PyCall → `~/.julia/packages/PyCall/BD546/deps/build.log`\n"
     ]
    }
   ],
   "source": [
    "]add PyCall"
   ]
  },
  {
   "cell_type": "code",
   "execution_count": 3,
   "id": "institutional-crash",
   "metadata": {},
   "outputs": [
    {
     "name": "stderr",
     "output_type": "stream",
     "text": [
      "┌ Info: Precompiling PyCall [438e738f-606a-5dbb-bf0a-cddfbfd45ab0]\n",
      "└ @ Base loading.jl:1278\n"
     ]
    }
   ],
   "source": [
    "using PyCall"
   ]
  },
  {
   "cell_type": "code",
   "execution_count": 11,
   "id": "private-herald",
   "metadata": {},
   "outputs": [
    {
     "data": {
      "text/plain": [
       "PyObject <function make_moons at 0x7f06d58a8550>"
      ]
     },
     "execution_count": 11,
     "metadata": {},
     "output_type": "execute_result"
    }
   ],
   "source": [
    "make_moons = pyimport(\"sklearn.datasets\").make_moons"
   ]
  },
  {
   "cell_type": "code",
   "execution_count": 12,
   "id": "homeless-warner",
   "metadata": {},
   "outputs": [
    {
     "data": {
      "text/plain": [
       "([0.8713187041233894 0.49071755200393785; 1.2845275866310324 -0.4586678530366607; … ; 0.7614459583691344 0.6482283953077884; -0.991790013823246 0.1278771616845065], [0, 1, 1, 0, 1, 1, 0, 0, 0, 1  …  1, 0, 1, 1, 0, 1, 1, 1, 0, 0])"
      ]
     },
     "execution_count": 12,
     "metadata": {},
     "output_type": "execute_result"
    }
   ],
   "source": [
    "make_moons()"
   ]
  },
  {
   "cell_type": "code",
   "execution_count": 9,
   "id": "manufactured-valley",
   "metadata": {},
   "outputs": [
    {
     "ename": "LoadError",
     "evalue": "PyError (PyImport_ImportModule\n\nThe Python package sklearn.datasets.make_moons could not be imported by pyimport. Usually this means\nthat you did not install sklearn.datasets.make_moons in the Python version being used by PyCall.\n\nPyCall is currently configured to use the Python version at:\n\n/home/phunc20/.config/miniconda3/envs/pDL/bin/python3\n\nand you should use whatever mechanism you usually use (apt-get, pip, conda,\netcetera) to install the Python package containing the sklearn.datasets.make_moons module.\n\nOne alternative is to re-configure PyCall to use a different Python\nversion on your system: set ENV[\"PYTHON\"] to the path/name of the python\nexecutable you want to use, run Pkg.build(\"PyCall\"), and re-launch Julia.\n\nAnother alternative is to configure PyCall to use a Julia-specific Python\ndistribution via the Conda.jl package (which installs a private Anaconda\nPython distribution), which has the advantage that packages can be installed\nand kept up-to-date via Julia.  As explained in the PyCall documentation,\nset ENV[\"PYTHON\"]=\"\", run Pkg.build(\"PyCall\"), and re-launch Julia. Then,\nTo install the sklearn.datasets.make_moons module, you can use `pyimport_conda(\"sklearn.datasets.make_moons\", PKG)`,\nwhere PKG is the Anaconda package that contains the module sklearn.datasets.make_moons,\nor alternatively you can use the Conda package directly (via\n`using Conda` followed by `Conda.add` etcetera).\n\n) <class 'ModuleNotFoundError'>\nModuleNotFoundError(\"No module named 'sklearn.datasets.make_moons'\")\n",
     "output_type": "error",
     "traceback": [
      "PyError (PyImport_ImportModule\n\nThe Python package sklearn.datasets.make_moons could not be imported by pyimport. Usually this means\nthat you did not install sklearn.datasets.make_moons in the Python version being used by PyCall.\n\nPyCall is currently configured to use the Python version at:\n\n/home/phunc20/.config/miniconda3/envs/pDL/bin/python3\n\nand you should use whatever mechanism you usually use (apt-get, pip, conda,\netcetera) to install the Python package containing the sklearn.datasets.make_moons module.\n\nOne alternative is to re-configure PyCall to use a different Python\nversion on your system: set ENV[\"PYTHON\"] to the path/name of the python\nexecutable you want to use, run Pkg.build(\"PyCall\"), and re-launch Julia.\n\nAnother alternative is to configure PyCall to use a Julia-specific Python\ndistribution via the Conda.jl package (which installs a private Anaconda\nPython distribution), which has the advantage that packages can be installed\nand kept up-to-date via Julia.  As explained in the PyCall documentation,\nset ENV[\"PYTHON\"]=\"\", run Pkg.build(\"PyCall\"), and re-launch Julia. Then,\nTo install the sklearn.datasets.make_moons module, you can use `pyimport_conda(\"sklearn.datasets.make_moons\", PKG)`,\nwhere PKG is the Anaconda package that contains the module sklearn.datasets.make_moons,\nor alternatively you can use the Conda package directly (via\n`using Conda` followed by `Conda.add` etcetera).\n\n) <class 'ModuleNotFoundError'>\nModuleNotFoundError(\"No module named 'sklearn.datasets.make_moons'\")\n",
      "",
      "Stacktrace:",
      " [1] pyimport(::String) at /home/phunc20/.julia/packages/PyCall/BD546/src/PyCall.jl:550",
      " [2] top-level scope at In[9]:1",
      " [3] include_string(::Function, ::Module, ::String, ::String) at ./loading.jl:1091",
      " [4] execute_code(::String, ::String) at /home/phunc20/.julia/packages/IJulia/a1SNk/src/execute_request.jl:27",
      " [5] execute_request(::ZMQ.Socket, ::IJulia.Msg) at /home/phunc20/.julia/packages/IJulia/a1SNk/src/execute_request.jl:86",
      " [6] #invokelatest#1 at ./essentials.jl:710 [inlined]",
      " [7] invokelatest at ./essentials.jl:709 [inlined]",
      " [8] eventloop(::ZMQ.Socket) at /home/phunc20/.julia/packages/IJulia/a1SNk/src/eventloop.jl:8",
      " [9] (::IJulia.var\"#15#18\")() at ./task.jl:356"
     ]
    }
   ],
   "source": [
    "make_moons = pyimport(\"sklearn.datasets.make_moons\")"
   ]
  },
  {
   "cell_type": "code",
   "execution_count": 5,
   "id": "macro-deviation",
   "metadata": {},
   "outputs": [],
   "source": [
    "py\"\"\"\n",
    "from sklearn.datasets import make_moons\n",
    "\n",
    "\"\"\""
   ]
  },
  {
   "cell_type": "code",
   "execution_count": 8,
   "id": "according-production",
   "metadata": {},
   "outputs": [],
   "source": [
    "py\"\"\"\n",
    "import sys\n",
    "print(dir(sys))\n",
    "dir_sys = dir(sys)\n",
    "dir_sys\n",
    "\"\"\""
   ]
  },
  {
   "cell_type": "code",
   "execution_count": null,
   "id": "departmental-filter",
   "metadata": {},
   "outputs": [],
   "source": []
  },
  {
   "cell_type": "code",
   "execution_count": null,
   "id": "federal-samba",
   "metadata": {},
   "outputs": [],
   "source": []
  },
  {
   "cell_type": "code",
   "execution_count": null,
   "id": "dominican-investing",
   "metadata": {},
   "outputs": [],
   "source": []
  }
 ],
 "metadata": {
  "kernelspec": {
   "display_name": "Julia 1.5.2",
   "language": "julia",
   "name": "julia-1.5"
  },
  "language_info": {
   "file_extension": ".jl",
   "mimetype": "application/julia",
   "name": "julia",
   "version": "1.5.2"
  }
 },
 "nbformat": 4,
 "nbformat_minor": 5
}
