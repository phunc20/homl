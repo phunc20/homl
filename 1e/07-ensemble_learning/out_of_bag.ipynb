{
 "cells": [
  {
   "cell_type": "markdown",
   "id": "ea6c9975",
   "metadata": {},
   "source": [
    "**(?)** Why bagging leaves an out-of-bag ratio of $37\\%$? I mean, where comes the number of $37$?\n",
    "\n",
    "Before trying to answer this mathematically, let's try to verify it programmatically."
   ]
  },
  {
   "cell_type": "code",
   "execution_count": 1,
   "id": "f9e2cde6",
   "metadata": {},
   "outputs": [],
   "source": [
    "import random"
   ]
  },
  {
   "cell_type": "markdown",
   "id": "59a787dc",
   "metadata": {},
   "source": [
    "### Sampling With Replacement"
   ]
  },
  {
   "cell_type": "raw",
   "id": "53558392",
   "metadata": {},
   "source": [
    "help(random.choices)"
   ]
  },
  {
   "cell_type": "raw",
   "id": "b8142e6c",
   "metadata": {},
   "source": [
    "help(random.choice)"
   ]
  },
  {
   "cell_type": "markdown",
   "id": "ecace8b6",
   "metadata": {},
   "source": [
    "`choices` and `choice` all sample with replacement."
   ]
  },
  {
   "cell_type": "code",
   "execution_count": 8,
   "id": "a592a6dd",
   "metadata": {},
   "outputs": [
    {
     "data": {
      "text/plain": [
       "[3, 4, 4, 3, 7, 6, 2, 7, 2, 8]"
      ]
     },
     "execution_count": 8,
     "metadata": {},
     "output_type": "execute_result"
    }
   ],
   "source": [
    "random.choices(range(10), k=10)"
   ]
  },
  {
   "cell_type": "code",
   "execution_count": 13,
   "id": "45316524",
   "metadata": {},
   "outputs": [
    {
     "data": {
      "text/plain": [
       "[0, 8, 8, 8, 1, 0, 6, 9, 4, 0]"
      ]
     },
     "execution_count": 13,
     "metadata": {},
     "output_type": "execute_result"
    }
   ],
   "source": [
    "[random.choice(range(10)) for _ in range(10)]"
   ]
  },
  {
   "cell_type": "code",
   "execution_count": 12,
   "id": "47cb4804",
   "metadata": {},
   "outputs": [
    {
     "name": "stdout",
     "output_type": "stream",
     "text": [
      "len(bagging) / len(S) = 0.63\n",
      "len(bagging) / len(S) = 0.63\n",
      "len(bagging) / len(S) = 0.63\n",
      "len(bagging) / len(S) = 0.63\n",
      "len(bagging) / len(S) = 0.63\n",
      "len(bagging) / len(S) = 0.63\n",
      "len(bagging) / len(S) = 0.63\n",
      "len(bagging) / len(S) = 0.63\n",
      "len(bagging) / len(S) = 0.63\n",
      "len(bagging) / len(S) = 0.64\n",
      "len(bagging) / len(S) = 0.63\n",
      "len(bagging) / len(S) = 0.63\n",
      "len(bagging) / len(S) = 0.63\n",
      "len(bagging) / len(S) = 0.64\n",
      "len(bagging) / len(S) = 0.63\n",
      "len(bagging) / len(S) = 0.63\n",
      "len(bagging) / len(S) = 0.63\n",
      "len(bagging) / len(S) = 0.63\n",
      "len(bagging) / len(S) = 0.64\n",
      "len(bagging) / len(S) = 0.63\n"
     ]
    }
   ],
   "source": [
    "n_integers = 10_000\n",
    "S = range(n_integers)\n",
    "for _ in range(20):\n",
    "    bagging = set(random.choices(S, k=n_integers))\n",
    "    print(f\"len(bagging) / len(S) = {len(bagging) / len(S):.2f}\")"
   ]
  },
  {
   "cell_type": "markdown",
   "id": "6641d419",
   "metadata": {},
   "source": [
    "We kind of see how we could formulate the question:  \n",
    "Taking a concret example, say in a ice cream shop having $n$ flavours, and a weird rule for\n",
    "ordering ice cream: Each customer must order $n$ balls of ice cream, each ball being chosen\n",
    "at random with replacement.\n",
    "\n",
    "Result: Each customer will get around $0.63 n$ of distinct flavours. This result get more and more precise as $n$ increases.\n",
    "\n",
    "So far, the only idea I got was to let $X$ be the random variable of final number of distinct flavours.\n",
    "And compute the expected value of $X$ as\n",
    "$$\n",
    "  E(X) = \\sum_{k=1}^{n} k p_{k}\\,,\n",
    "$$\n",
    "where $p_{k}$ denotes the probability of obtaining exactly $k$ flavours.\n",
    "\n",
    "However, even if later on we switch to statistics and say that the confidence interval of the mean of $X$ is closely around $0.63n\\,,$ the whole story still seems not convincing to me because\n",
    "> what we have seen in the above cell is value of $X$ itself being $0.63n$ instead of its mean.\n",
    "\n",
    "**(?)** There must be a better formulation for this $0.63n$ phenomenon."
   ]
  },
  {
   "cell_type": "markdown",
   "id": "419c5953",
   "metadata": {},
   "source": [
    "Let's modify the number of samples (`k`):"
   ]
  },
  {
   "cell_type": "code",
   "execution_count": 15,
   "id": "0db0236e",
   "metadata": {},
   "outputs": [
    {
     "name": "stdout",
     "output_type": "stream",
     "text": [
      "len(bagging) / len(S) = 0.87\n",
      "len(bagging) / len(S) = 0.86\n",
      "len(bagging) / len(S) = 0.86\n",
      "len(bagging) / len(S) = 0.86\n",
      "len(bagging) / len(S) = 0.87\n",
      "len(bagging) / len(S) = 0.87\n",
      "len(bagging) / len(S) = 0.87\n",
      "len(bagging) / len(S) = 0.87\n",
      "len(bagging) / len(S) = 0.87\n",
      "len(bagging) / len(S) = 0.86\n",
      "len(bagging) / len(S) = 0.87\n",
      "len(bagging) / len(S) = 0.86\n",
      "len(bagging) / len(S) = 0.86\n",
      "len(bagging) / len(S) = 0.86\n",
      "len(bagging) / len(S) = 0.87\n",
      "len(bagging) / len(S) = 0.87\n",
      "len(bagging) / len(S) = 0.87\n",
      "len(bagging) / len(S) = 0.87\n",
      "len(bagging) / len(S) = 0.86\n",
      "len(bagging) / len(S) = 0.86\n"
     ]
    }
   ],
   "source": [
    "n_integers = 10_000\n",
    "S = range(n_integers)\n",
    "for _ in range(20):\n",
    "    bagging = set(random.choices(S, k=n_integers * 2))\n",
    "    print(f\"len(bagging) / len(S) = {len(bagging) / len(S):.2f}\")"
   ]
  },
  {
   "cell_type": "code",
   "execution_count": 16,
   "id": "01424db8",
   "metadata": {},
   "outputs": [
    {
     "name": "stdout",
     "output_type": "stream",
     "text": [
      "len(bagging) / len(S) = 0.40\n",
      "len(bagging) / len(S) = 0.40\n",
      "len(bagging) / len(S) = 0.39\n",
      "len(bagging) / len(S) = 0.40\n",
      "len(bagging) / len(S) = 0.39\n",
      "len(bagging) / len(S) = 0.39\n",
      "len(bagging) / len(S) = 0.40\n",
      "len(bagging) / len(S) = 0.39\n",
      "len(bagging) / len(S) = 0.39\n",
      "len(bagging) / len(S) = 0.40\n",
      "len(bagging) / len(S) = 0.39\n",
      "len(bagging) / len(S) = 0.39\n",
      "len(bagging) / len(S) = 0.40\n",
      "len(bagging) / len(S) = 0.40\n",
      "len(bagging) / len(S) = 0.39\n",
      "len(bagging) / len(S) = 0.39\n",
      "len(bagging) / len(S) = 0.40\n",
      "len(bagging) / len(S) = 0.40\n",
      "len(bagging) / len(S) = 0.40\n",
      "len(bagging) / len(S) = 0.39\n"
     ]
    }
   ],
   "source": [
    "n_integers = 10_000\n",
    "S = range(n_integers)\n",
    "for _ in range(20):\n",
    "    bagging = set(random.choices(S, k=n_integers // 2))\n",
    "    print(f\"len(bagging) / len(S) = {len(bagging) / len(S):.2f}\")"
   ]
  },
  {
   "cell_type": "markdown",
   "id": "ef22320c",
   "metadata": {},
   "source": [
    "If we decrease `n_integers`: The bigger `n_integers` is, the closer the result to `0.63`."
   ]
  },
  {
   "cell_type": "code",
   "execution_count": 17,
   "id": "318b2271",
   "metadata": {},
   "outputs": [
    {
     "name": "stdout",
     "output_type": "stream",
     "text": [
      "len(bagging) / len(S) = 0.50\n",
      "len(bagging) / len(S) = 0.60\n",
      "len(bagging) / len(S) = 0.60\n",
      "len(bagging) / len(S) = 0.60\n",
      "len(bagging) / len(S) = 0.70\n",
      "len(bagging) / len(S) = 0.60\n",
      "len(bagging) / len(S) = 0.80\n",
      "len(bagging) / len(S) = 0.60\n",
      "len(bagging) / len(S) = 0.70\n",
      "len(bagging) / len(S) = 0.80\n",
      "len(bagging) / len(S) = 0.70\n",
      "len(bagging) / len(S) = 0.50\n",
      "len(bagging) / len(S) = 0.70\n",
      "len(bagging) / len(S) = 0.40\n",
      "len(bagging) / len(S) = 0.70\n",
      "len(bagging) / len(S) = 0.70\n",
      "len(bagging) / len(S) = 0.60\n",
      "len(bagging) / len(S) = 0.70\n",
      "len(bagging) / len(S) = 0.60\n",
      "len(bagging) / len(S) = 0.60\n"
     ]
    }
   ],
   "source": [
    "n_integers = 10\n",
    "S = range(n_integers)\n",
    "for _ in range(20):\n",
    "    bagging = set(random.choices(S, k=n_integers))\n",
    "    print(f\"len(bagging) / len(S) = {len(bagging) / len(S):.2f}\")"
   ]
  },
  {
   "cell_type": "code",
   "execution_count": 18,
   "id": "45179178",
   "metadata": {},
   "outputs": [
    {
     "name": "stdout",
     "output_type": "stream",
     "text": [
      "len(bagging) / len(S) = 0.63\n",
      "len(bagging) / len(S) = 0.68\n",
      "len(bagging) / len(S) = 0.59\n",
      "len(bagging) / len(S) = 0.67\n",
      "len(bagging) / len(S) = 0.61\n",
      "len(bagging) / len(S) = 0.58\n",
      "len(bagging) / len(S) = 0.64\n",
      "len(bagging) / len(S) = 0.68\n",
      "len(bagging) / len(S) = 0.66\n",
      "len(bagging) / len(S) = 0.65\n",
      "len(bagging) / len(S) = 0.63\n",
      "len(bagging) / len(S) = 0.63\n",
      "len(bagging) / len(S) = 0.61\n",
      "len(bagging) / len(S) = 0.64\n",
      "len(bagging) / len(S) = 0.63\n",
      "len(bagging) / len(S) = 0.62\n",
      "len(bagging) / len(S) = 0.62\n",
      "len(bagging) / len(S) = 0.64\n",
      "len(bagging) / len(S) = 0.68\n",
      "len(bagging) / len(S) = 0.58\n"
     ]
    }
   ],
   "source": [
    "n_integers = 100\n",
    "S = range(n_integers)\n",
    "for _ in range(20):\n",
    "    bagging = set(random.choices(S, k=n_integers))\n",
    "    print(f\"len(bagging) / len(S) = {len(bagging) / len(S):.2f}\")"
   ]
  },
  {
   "cell_type": "code",
   "execution_count": 19,
   "id": "99d5e26a",
   "metadata": {},
   "outputs": [
    {
     "name": "stdout",
     "output_type": "stream",
     "text": [
      "len(bagging) / len(S) = 0.65\n",
      "len(bagging) / len(S) = 0.62\n",
      "len(bagging) / len(S) = 0.64\n",
      "len(bagging) / len(S) = 0.64\n",
      "len(bagging) / len(S) = 0.62\n",
      "len(bagging) / len(S) = 0.61\n",
      "len(bagging) / len(S) = 0.63\n",
      "len(bagging) / len(S) = 0.63\n",
      "len(bagging) / len(S) = 0.61\n",
      "len(bagging) / len(S) = 0.63\n",
      "len(bagging) / len(S) = 0.65\n",
      "len(bagging) / len(S) = 0.63\n",
      "len(bagging) / len(S) = 0.64\n",
      "len(bagging) / len(S) = 0.63\n",
      "len(bagging) / len(S) = 0.62\n",
      "len(bagging) / len(S) = 0.64\n",
      "len(bagging) / len(S) = 0.62\n",
      "len(bagging) / len(S) = 0.62\n",
      "len(bagging) / len(S) = 0.62\n",
      "len(bagging) / len(S) = 0.63\n"
     ]
    }
   ],
   "source": [
    "n_integers = 1000\n",
    "S = range(n_integers)\n",
    "for _ in range(20):\n",
    "    bagging = set(random.choices(S, k=n_integers))\n",
    "    print(f\"len(bagging) / len(S) = {len(bagging) / len(S):.2f}\")"
   ]
  },
  {
   "cell_type": "code",
   "execution_count": null,
   "id": "d44453fc",
   "metadata": {},
   "outputs": [],
   "source": []
  }
 ],
 "metadata": {
  "kernelspec": {
   "display_name": "Python 3",
   "language": "python",
   "name": "python3"
  },
  "language_info": {
   "codemirror_mode": {
    "name": "ipython",
    "version": 3
   },
   "file_extension": ".py",
   "mimetype": "text/x-python",
   "name": "python",
   "nbconvert_exporter": "python",
   "pygments_lexer": "ipython3",
   "version": "3.7.10"
  }
 },
 "nbformat": 4,
 "nbformat_minor": 5
}
