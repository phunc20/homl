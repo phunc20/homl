{
 "cells": [
  {
   "cell_type": "markdown",
   "id": "b682c35e",
   "metadata": {},
   "source": [
    "**(?)** Why bagging leaves an out-of-bag ratio of $37\\%$? I mean, where comes the number of $37$?\n",
    "\n",
    "Before trying to answer this mathematically, let's try to verify it programmatically."
   ]
  },
  {
   "cell_type": "code",
   "execution_count": 1,
   "id": "4787fdff",
   "metadata": {},
   "outputs": [],
   "source": [
    "import random"
   ]
  },
  {
   "cell_type": "markdown",
   "id": "e183e0d2",
   "metadata": {},
   "source": [
    "### Sampling With Replacement"
   ]
  },
  {
   "cell_type": "raw",
   "id": "1a5789e4",
   "metadata": {},
   "source": [
    "help(random.choices)"
   ]
  },
  {
   "cell_type": "raw",
   "id": "866ee154",
   "metadata": {},
   "source": [
    "help(random.choice)"
   ]
  },
  {
   "cell_type": "markdown",
   "id": "a4724e37",
   "metadata": {},
   "source": [
    "`choices` and `choice` all sample with replacement."
   ]
  },
  {
   "cell_type": "code",
   "execution_count": 8,
   "id": "0fe71a17",
   "metadata": {},
   "outputs": [
    {
     "data": {
      "text/plain": [
       "[3, 4, 4, 3, 7, 6, 2, 7, 2, 8]"
      ]
     },
     "execution_count": 8,
     "metadata": {},
     "output_type": "execute_result"
    }
   ],
   "source": [
    "random.choices(range(10), k=10)"
   ]
  },
  {
   "cell_type": "code",
   "execution_count": 13,
   "id": "4b6d1882",
   "metadata": {},
   "outputs": [
    {
     "data": {
      "text/plain": [
       "[0, 8, 8, 8, 1, 0, 6, 9, 4, 0]"
      ]
     },
     "execution_count": 13,
     "metadata": {},
     "output_type": "execute_result"
    }
   ],
   "source": [
    "[random.choice(range(10)) for _ in range(10)]"
   ]
  },
  {
   "cell_type": "code",
   "execution_count": 26,
   "id": "ce35bb80",
   "metadata": {},
   "outputs": [
    {
     "name": "stdout",
     "output_type": "stream",
     "text": [
      "len(bagging) / len(S) = 63.48%\n",
      "len(bagging) / len(S) = 63.44%\n",
      "len(bagging) / len(S) = 63.39%\n",
      "len(bagging) / len(S) = 63.52%\n",
      "len(bagging) / len(S) = 63.32%\n",
      "len(bagging) / len(S) = 63.51%\n",
      "len(bagging) / len(S) = 62.98%\n",
      "len(bagging) / len(S) = 62.96%\n",
      "len(bagging) / len(S) = 62.95%\n",
      "len(bagging) / len(S) = 62.97%\n",
      "len(bagging) / len(S) = 62.87%\n",
      "len(bagging) / len(S) = 62.94%\n",
      "len(bagging) / len(S) = 62.84%\n",
      "len(bagging) / len(S) = 62.90%\n",
      "len(bagging) / len(S) = 62.94%\n",
      "len(bagging) / len(S) = 63.45%\n",
      "len(bagging) / len(S) = 63.19%\n",
      "len(bagging) / len(S) = 63.16%\n",
      "len(bagging) / len(S) = 63.50%\n",
      "len(bagging) / len(S) = 62.99%\n"
     ]
    }
   ],
   "source": [
    "n_integers = 10_000\n",
    "S = range(n_integers)\n",
    "for _ in range(20):\n",
    "    bagging = set(random.choices(S, k=n_integers))\n",
    "    print(f\"len(bagging) / len(S) = {len(bagging) / len(S) * 100:.2f}%\")"
   ]
  },
  {
   "cell_type": "markdown",
   "id": "ecaa22db",
   "metadata": {},
   "source": [
    "We kind of see how we could formulate the question:  \n",
    "Taking a concret example, say in a ice cream shop having $n$ flavours, and a weird rule for\n",
    "ordering ice cream: Each customer must order $n$ balls of ice cream, each ball being chosen\n",
    "at random with replacement.\n",
    "\n",
    "Result: Each customer will get around $0.63 n$ of distinct flavours. This result get more and more precise as $n$ increases.\n",
    "\n",
    "So far, the only idea I got was to let $X$ be the random variable of final number of distinct flavours.\n",
    "And compute the expected value of $X$ as\n",
    "$$\n",
    "  \\mathbb{E}(X) = \\sum_{k=1}^{n} k p_{k}\\,,\n",
    "$$\n",
    "where $p_{k}$ denotes the probability of obtaining exactly $k$ flavours.\n",
    "\n",
    "However, even if later on we switch to statistics and say that the confidence interval of the mean of $X$ is closely around $0.63n\\,,$ the whole story still seems not convincing to me because\n",
    "> what we have seen in the above cell is value of $X$ itself being $0.63n$ instead of its mean.\n",
    "\n",
    "**(?)** There must be a better formulation for this $0.63n$ phenomenon. Maybe we should let the number of samples (`k` in the code cell above) vary?"
   ]
  },
  {
   "cell_type": "markdown",
   "id": "7432486f",
   "metadata": {},
   "source": [
    "Let's modify the number of samples (`k`):"
   ]
  },
  {
   "cell_type": "code",
   "execution_count": 27,
   "id": "eda23fb0",
   "metadata": {},
   "outputs": [
    {
     "name": "stdout",
     "output_type": "stream",
     "text": [
      "len(bagging) / len(S) = 85.83%\n",
      "len(bagging) / len(S) = 85.83%\n",
      "len(bagging) / len(S) = 86.30%\n",
      "len(bagging) / len(S) = 86.76%\n",
      "len(bagging) / len(S) = 86.55%\n",
      "len(bagging) / len(S) = 86.87%\n",
      "len(bagging) / len(S) = 86.65%\n",
      "len(bagging) / len(S) = 86.69%\n",
      "len(bagging) / len(S) = 86.10%\n",
      "len(bagging) / len(S) = 86.64%\n",
      "len(bagging) / len(S) = 86.49%\n",
      "len(bagging) / len(S) = 86.36%\n",
      "len(bagging) / len(S) = 86.92%\n",
      "len(bagging) / len(S) = 86.63%\n",
      "len(bagging) / len(S) = 86.73%\n",
      "len(bagging) / len(S) = 86.50%\n",
      "len(bagging) / len(S) = 86.32%\n",
      "len(bagging) / len(S) = 86.66%\n",
      "len(bagging) / len(S) = 86.83%\n",
      "len(bagging) / len(S) = 86.52%\n"
     ]
    }
   ],
   "source": [
    "n_integers = 10_000\n",
    "S = range(n_integers)\n",
    "for _ in range(20):\n",
    "    bagging = set(random.choices(S, k=n_integers * 2))\n",
    "    #print(f\"len(bagging) / len(S) = {len(bagging) / len(S):.2f}\")\n",
    "    print(f\"len(bagging) / len(S) = {len(bagging) / len(S) * 100:.2f}%\")"
   ]
  },
  {
   "cell_type": "code",
   "execution_count": 29,
   "id": "ee76184e",
   "metadata": {},
   "outputs": [
    {
     "name": "stdout",
     "output_type": "stream",
     "text": [
      "len(bagging) / len(S) = 39.62%\n",
      "len(bagging) / len(S) = 39.49%\n",
      "len(bagging) / len(S) = 39.13%\n",
      "len(bagging) / len(S) = 39.62%\n",
      "len(bagging) / len(S) = 39.16%\n",
      "len(bagging) / len(S) = 39.19%\n",
      "len(bagging) / len(S) = 39.71%\n",
      "len(bagging) / len(S) = 38.92%\n",
      "len(bagging) / len(S) = 39.48%\n",
      "len(bagging) / len(S) = 39.14%\n",
      "len(bagging) / len(S) = 39.49%\n",
      "len(bagging) / len(S) = 39.39%\n",
      "len(bagging) / len(S) = 39.50%\n",
      "len(bagging) / len(S) = 39.32%\n",
      "len(bagging) / len(S) = 39.08%\n",
      "len(bagging) / len(S) = 39.22%\n",
      "len(bagging) / len(S) = 39.34%\n",
      "len(bagging) / len(S) = 39.08%\n",
      "len(bagging) / len(S) = 39.14%\n",
      "len(bagging) / len(S) = 39.41%\n"
     ]
    }
   ],
   "source": [
    "n_integers = 10_000\n",
    "S = range(n_integers)\n",
    "for _ in range(20):\n",
    "    bagging = set(random.choices(S, k=n_integers // 2))\n",
    "    #print(f\"len(bagging) / len(S) = {len(bagging) / len(S):.2f}\")\n",
    "    print(f\"len(bagging) / len(S) = {len(bagging) / len(S) * 100:.2f}%\")"
   ]
  },
  {
   "cell_type": "markdown",
   "id": "b9a0d9c7",
   "metadata": {},
   "source": [
    "If we decrease `n_integers`: The bigger `n_integers` is, the closer the result to `0.63`."
   ]
  },
  {
   "cell_type": "code",
   "execution_count": 30,
   "id": "e5bb2871",
   "metadata": {},
   "outputs": [
    {
     "name": "stdout",
     "output_type": "stream",
     "text": [
      "len(bagging) / len(S) = 50.00%\n",
      "len(bagging) / len(S) = 70.00%\n",
      "len(bagging) / len(S) = 70.00%\n",
      "len(bagging) / len(S) = 60.00%\n",
      "len(bagging) / len(S) = 50.00%\n",
      "len(bagging) / len(S) = 60.00%\n",
      "len(bagging) / len(S) = 70.00%\n",
      "len(bagging) / len(S) = 50.00%\n",
      "len(bagging) / len(S) = 70.00%\n",
      "len(bagging) / len(S) = 80.00%\n",
      "len(bagging) / len(S) = 60.00%\n",
      "len(bagging) / len(S) = 80.00%\n",
      "len(bagging) / len(S) = 60.00%\n",
      "len(bagging) / len(S) = 60.00%\n",
      "len(bagging) / len(S) = 70.00%\n",
      "len(bagging) / len(S) = 70.00%\n",
      "len(bagging) / len(S) = 60.00%\n",
      "len(bagging) / len(S) = 60.00%\n",
      "len(bagging) / len(S) = 70.00%\n",
      "len(bagging) / len(S) = 60.00%\n"
     ]
    }
   ],
   "source": [
    "n_integers = 10\n",
    "S = range(n_integers)\n",
    "for _ in range(20):\n",
    "    bagging = set(random.choices(S, k=n_integers))\n",
    "    #print(f\"len(bagging) / len(S) = {len(bagging) / len(S):.2f}\")\n",
    "    print(f\"len(bagging) / len(S) = {len(bagging) / len(S) * 100:.2f}%\")"
   ]
  },
  {
   "cell_type": "code",
   "execution_count": 31,
   "id": "b93aa659",
   "metadata": {},
   "outputs": [
    {
     "name": "stdout",
     "output_type": "stream",
     "text": [
      "len(bagging) / len(S) = 65.00%\n",
      "len(bagging) / len(S) = 65.00%\n",
      "len(bagging) / len(S) = 62.00%\n",
      "len(bagging) / len(S) = 64.00%\n",
      "len(bagging) / len(S) = 67.00%\n",
      "len(bagging) / len(S) = 61.00%\n",
      "len(bagging) / len(S) = 64.00%\n",
      "len(bagging) / len(S) = 63.00%\n",
      "len(bagging) / len(S) = 63.00%\n",
      "len(bagging) / len(S) = 68.00%\n",
      "len(bagging) / len(S) = 69.00%\n",
      "len(bagging) / len(S) = 65.00%\n",
      "len(bagging) / len(S) = 63.00%\n",
      "len(bagging) / len(S) = 65.00%\n",
      "len(bagging) / len(S) = 61.00%\n",
      "len(bagging) / len(S) = 62.00%\n",
      "len(bagging) / len(S) = 63.00%\n",
      "len(bagging) / len(S) = 64.00%\n",
      "len(bagging) / len(S) = 64.00%\n",
      "len(bagging) / len(S) = 61.00%\n"
     ]
    }
   ],
   "source": [
    "n_integers = 100\n",
    "S = range(n_integers)\n",
    "for _ in range(20):\n",
    "    bagging = set(random.choices(S, k=n_integers))\n",
    "    #print(f\"len(bagging) / len(S) = {len(bagging) / len(S):.2f}\")\n",
    "    print(f\"len(bagging) / len(S) = {len(bagging) / len(S) * 100:.2f}%\")"
   ]
  },
  {
   "cell_type": "code",
   "execution_count": 32,
   "id": "945d56f1",
   "metadata": {},
   "outputs": [
    {
     "name": "stdout",
     "output_type": "stream",
     "text": [
      "len(bagging) / len(S) = 63.40%\n",
      "len(bagging) / len(S) = 62.90%\n",
      "len(bagging) / len(S) = 63.10%\n",
      "len(bagging) / len(S) = 62.90%\n",
      "len(bagging) / len(S) = 63.60%\n",
      "len(bagging) / len(S) = 63.10%\n",
      "len(bagging) / len(S) = 64.00%\n",
      "len(bagging) / len(S) = 62.30%\n",
      "len(bagging) / len(S) = 62.40%\n",
      "len(bagging) / len(S) = 62.90%\n",
      "len(bagging) / len(S) = 63.40%\n",
      "len(bagging) / len(S) = 63.60%\n",
      "len(bagging) / len(S) = 63.00%\n",
      "len(bagging) / len(S) = 64.40%\n",
      "len(bagging) / len(S) = 61.90%\n",
      "len(bagging) / len(S) = 62.80%\n",
      "len(bagging) / len(S) = 62.30%\n",
      "len(bagging) / len(S) = 61.80%\n",
      "len(bagging) / len(S) = 62.20%\n",
      "len(bagging) / len(S) = 64.40%\n"
     ]
    }
   ],
   "source": [
    "n_integers = 1000\n",
    "S = range(n_integers)\n",
    "for _ in range(20):\n",
    "    bagging = set(random.choices(S, k=n_integers))\n",
    "    #print(f\"len(bagging) / len(S) = {len(bagging) / len(S):.2f}\")\n",
    "    print(f\"len(bagging) / len(S) = {len(bagging) / len(S) * 100:.2f}%\")"
   ]
  },
  {
   "cell_type": "markdown",
   "id": "35d9211a",
   "metadata": {},
   "source": [
    "### $(1 - \\frac{1}{n})^n \\to e^{-1}$\n",
    "On the Internet, people says that, when considering a particular flavour in the above ice cream example, the probabiliy of not sampling that flavour in $n$ samples equals\n",
    "$$\n",
    "  (1 - \\frac{1}{n})^n\\,.\n",
    "$$\n",
    "\n",
    "We have $\\lim_{n\\to \\infty} (1 - \\frac{1}{n})^n = e^{-1} \\approx 0.368,.$ That is to say, the probability that that flavour exists in $n$ samples equals approximately $0.632$. So there should be around $0.632 n$ flavours each time we take $n$ samples with replacement.\n",
    "\n",
    "I have this thought which I don't think will work. Let $X_{i},\\, i \\in \\{1,2,3,\\ldots, n\\}$ be a random variable such that\n",
    "$$\n",
    "\\begin{align}\n",
    "  &X_i = 0\\quad \\text{if the $i$-th flavour is not in the $n$ samples}\\\\\n",
    "  &X_i = 1\\quad \\text{if the $i$-th flavour is in the $n$ samples}\\,.\n",
    "\\end{align}\n",
    "$$\n",
    "Then $X$ is a Bernoulli r.v. and $X$, the random variable of numbers of flavours, equals to the sum of these Bernoulli r.v.:\n",
    "$$\n",
    "  X = \\sum_{i=1}^{n} X_{i}\\,.\n",
    "$$\n",
    "The looks not so bad as a starting point, but the $X_{i}$'s are independent, making the discussion a little difficult to precede. Besides, I haven't seen how we could get to a conclusion that it is predictable and normal for the Python codes to produce numbers close to $63\\%\\,.$"
   ]
  },
  {
   "cell_type": "code",
   "execution_count": 33,
   "id": "2eda3068",
   "metadata": {},
   "outputs": [],
   "source": [
    "import math"
   ]
  },
  {
   "cell_type": "code",
   "execution_count": 36,
   "id": "e6aeec2c",
   "metadata": {},
   "outputs": [
    {
     "data": {
      "text/plain": [
       "0.36787944117144233"
      ]
     },
     "execution_count": 36,
     "metadata": {},
     "output_type": "execute_result"
    }
   ],
   "source": [
    "1 / math.e"
   ]
  },
  {
   "cell_type": "code",
   "execution_count": 25,
   "id": "c9e383d7",
   "metadata": {},
   "outputs": [
    {
     "data": {
      "text/plain": [
       "[0.0,\n",
       " 0.25,\n",
       " 0.2962962962962964,\n",
       " 0.31640625,\n",
       " 0.3276800000000001,\n",
       " 0.3348979766803842,\n",
       " 0.33991667708911394,\n",
       " 0.34360891580581665,\n",
       " 0.34643941611461837,\n",
       " 0.3486784401000001,\n",
       " 0.35049389948139237,\n",
       " 0.3519956280141369,\n",
       " 0.3532584984711608,\n",
       " 0.35433531021985903,\n",
       " 0.3552643664941443,\n",
       " 0.3560741304517928,\n",
       " 0.35678619474629275,\n",
       " 0.3574172367946634,\n",
       " 0.35798034220346403,\n",
       " 0.3584859224085419,\n",
       " 0.35894236464095264,\n",
       " 0.35935650109560646,\n",
       " 0.35973395338014197,\n",
       " 0.36007938928552263,\n",
       " 0.360396716858018,\n",
       " 0.36068923293650434,\n",
       " 0.3609597381509142,\n",
       " 0.36121062689684225,\n",
       " 0.3614439584169954]"
      ]
     },
     "execution_count": 25,
     "metadata": {},
     "output_type": "execute_result"
    }
   ],
   "source": [
    "[(1 - 1/n)**n for n in range(1, 30)]"
   ]
  },
  {
   "cell_type": "code",
   "execution_count": null,
   "id": "d53a78a4",
   "metadata": {},
   "outputs": [],
   "source": []
  }
 ],
 "metadata": {
  "kernelspec": {
   "display_name": "Python 3",
   "language": "python",
   "name": "python3"
  },
  "language_info": {
   "codemirror_mode": {
    "name": "ipython",
    "version": 3
   },
   "file_extension": ".py",
   "mimetype": "text/x-python",
   "name": "python",
   "nbconvert_exporter": "python",
   "pygments_lexer": "ipython3",
   "version": "3.7.10"
  }
 },
 "nbformat": 4,
 "nbformat_minor": 5
}
