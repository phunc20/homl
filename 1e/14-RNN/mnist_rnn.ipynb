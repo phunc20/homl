{
 "cells": [
  {
   "cell_type": "code",
   "execution_count": 1,
   "id": "hired-banana",
   "metadata": {},
   "outputs": [
    {
     "name": "stderr",
     "output_type": "stream",
     "text": [
      "/home/phunc20/.config/miniconda3/envs/homl1e/lib/python3.7/site-packages/tensorflow/python/framework/dtypes.py:526: FutureWarning: Passing (type, 1) or '1type' as a synonym of type is deprecated; in a future version of numpy, it will be understood as (type, (1,)) / '(1,)type'.\n",
      "  _np_qint8 = np.dtype([(\"qint8\", np.int8, 1)])\n",
      "/home/phunc20/.config/miniconda3/envs/homl1e/lib/python3.7/site-packages/tensorflow/python/framework/dtypes.py:527: FutureWarning: Passing (type, 1) or '1type' as a synonym of type is deprecated; in a future version of numpy, it will be understood as (type, (1,)) / '(1,)type'.\n",
      "  _np_quint8 = np.dtype([(\"quint8\", np.uint8, 1)])\n",
      "/home/phunc20/.config/miniconda3/envs/homl1e/lib/python3.7/site-packages/tensorflow/python/framework/dtypes.py:528: FutureWarning: Passing (type, 1) or '1type' as a synonym of type is deprecated; in a future version of numpy, it will be understood as (type, (1,)) / '(1,)type'.\n",
      "  _np_qint16 = np.dtype([(\"qint16\", np.int16, 1)])\n",
      "/home/phunc20/.config/miniconda3/envs/homl1e/lib/python3.7/site-packages/tensorflow/python/framework/dtypes.py:529: FutureWarning: Passing (type, 1) or '1type' as a synonym of type is deprecated; in a future version of numpy, it will be understood as (type, (1,)) / '(1,)type'.\n",
      "  _np_quint16 = np.dtype([(\"quint16\", np.uint16, 1)])\n",
      "/home/phunc20/.config/miniconda3/envs/homl1e/lib/python3.7/site-packages/tensorflow/python/framework/dtypes.py:530: FutureWarning: Passing (type, 1) or '1type' as a synonym of type is deprecated; in a future version of numpy, it will be understood as (type, (1,)) / '(1,)type'.\n",
      "  _np_qint32 = np.dtype([(\"qint32\", np.int32, 1)])\n",
      "/home/phunc20/.config/miniconda3/envs/homl1e/lib/python3.7/site-packages/tensorflow/python/framework/dtypes.py:535: FutureWarning: Passing (type, 1) or '1type' as a synonym of type is deprecated; in a future version of numpy, it will be understood as (type, (1,)) / '(1,)type'.\n",
      "  np_resource = np.dtype([(\"resource\", np.ubyte, 1)])\n"
     ]
    }
   ],
   "source": [
    "import tensorflow as tf"
   ]
  },
  {
   "cell_type": "code",
   "execution_count": 104,
   "id": "opened-klein",
   "metadata": {},
   "outputs": [],
   "source": [
    "n_steps = 28\n",
    "n_inputs = 28\n",
    "n_neurons = 150\n",
    "n_outputs = 10\n",
    "learning_rate = 0.001"
   ]
  },
  {
   "cell_type": "code",
   "execution_count": 105,
   "id": "nutritional-announcement",
   "metadata": {},
   "outputs": [],
   "source": [
    "tf.reset_default_graph()"
   ]
  },
  {
   "cell_type": "code",
   "execution_count": 106,
   "id": "communist-porter",
   "metadata": {},
   "outputs": [],
   "source": [
    "X = tf.placeholder(tf.float32, [None, n_steps, n_inputs])\n",
    "y = tf.placeholder(tf.int32, [None])"
   ]
  },
  {
   "cell_type": "code",
   "execution_count": 107,
   "id": "lesser-stock",
   "metadata": {},
   "outputs": [
    {
     "data": {
      "text/plain": [
       "(tensorflow.python.ops.rnn_cell_impl.BasicRNNCell,\n",
       " tensorflow.python.ops.rnn_cell_impl.BasicRNNCell)"
      ]
     },
     "execution_count": 107,
     "metadata": {},
     "output_type": "execute_result"
    }
   ],
   "source": [
    "tf.contrib.rnn.BasicRNNCell, tf.nn.rnn_cell.BasicRNNCell"
   ]
  },
  {
   "cell_type": "code",
   "execution_count": 108,
   "id": "protected-friendship",
   "metadata": {},
   "outputs": [],
   "source": [
    "basic_cell = tf.nn.rnn_cell.BasicRNNCell(num_units=n_neurons)\n",
    "outputs, states = tf.nn.dynamic_rnn(basic_cell, X, dtype=tf.float32)"
   ]
  },
  {
   "cell_type": "code",
   "execution_count": 109,
   "id": "alien-basketball",
   "metadata": {},
   "outputs": [],
   "source": [
    "logits = tf.layers.dense(states, n_outputs)\n",
    "xentropy = tf.nn.sparse_softmax_cross_entropy_with_logits(labels=y,\n",
    "                                                          logits=logits)"
   ]
  },
  {
   "cell_type": "code",
   "execution_count": 110,
   "id": "plain-quick",
   "metadata": {},
   "outputs": [],
   "source": [
    "loss = tf.reduce_mean(xentropy)\n",
    "optimizer = tf.train.AdamOptimizer(learning_rate=learning_rate)\n",
    "training_op = optimizer.minimize(loss)\n",
    "correct = tf.nn.in_top_k(logits, y, 1)\n",
    "accuracy = tf.reduce_mean(tf.cast(correct, tf.float32))"
   ]
  },
  {
   "cell_type": "code",
   "execution_count": 111,
   "id": "engaged-burton",
   "metadata": {},
   "outputs": [],
   "source": [
    "init = tf.global_variables_initializer()"
   ]
  },
  {
   "cell_type": "code",
   "execution_count": 17,
   "id": "wired-essex",
   "metadata": {},
   "outputs": [
    {
     "name": "stdout",
     "output_type": "stream",
     "text": [
      "WARNING:tensorflow:From <ipython-input-17-48baa149a563>:3: read_data_sets (from tensorflow.contrib.learn.python.learn.datasets.mnist) is deprecated and will be removed in a future version.\n",
      "Instructions for updating:\n",
      "Please use alternatives such as official/mnist/dataset.py from tensorflow/models.\n",
      "WARNING:tensorflow:From /home/phunc20/.config/miniconda3/envs/homl1e/lib/python3.7/site-packages/tensorflow/contrib/learn/python/learn/datasets/mnist.py:260: maybe_download (from tensorflow.contrib.learn.python.learn.datasets.base) is deprecated and will be removed in a future version.\n",
      "Instructions for updating:\n",
      "Please write your own downloading logic.\n",
      "WARNING:tensorflow:From /home/phunc20/.config/miniconda3/envs/homl1e/lib/python3.7/site-packages/tensorflow/contrib/learn/python/learn/datasets/base.py:252: _internal_retry.<locals>.wrap.<locals>.wrapped_fn (from tensorflow.contrib.learn.python.learn.datasets.base) is deprecated and will be removed in a future version.\n",
      "Instructions for updating:\n",
      "Please use urllib or similar directly.\n",
      "Successfully downloaded train-images-idx3-ubyte.gz 9912422 bytes.\n",
      "WARNING:tensorflow:From /home/phunc20/.config/miniconda3/envs/homl1e/lib/python3.7/site-packages/tensorflow/contrib/learn/python/learn/datasets/mnist.py:262: extract_images (from tensorflow.contrib.learn.python.learn.datasets.mnist) is deprecated and will be removed in a future version.\n",
      "Instructions for updating:\n",
      "Please use tf.data to implement this functionality.\n",
      "Extracting /tmp/data/train-images-idx3-ubyte.gz\n",
      "Successfully downloaded train-labels-idx1-ubyte.gz 28881 bytes.\n",
      "WARNING:tensorflow:From /home/phunc20/.config/miniconda3/envs/homl1e/lib/python3.7/site-packages/tensorflow/contrib/learn/python/learn/datasets/mnist.py:267: extract_labels (from tensorflow.contrib.learn.python.learn.datasets.mnist) is deprecated and will be removed in a future version.\n",
      "Instructions for updating:\n",
      "Please use tf.data to implement this functionality.\n",
      "Extracting /tmp/data/train-labels-idx1-ubyte.gz\n",
      "Successfully downloaded t10k-images-idx3-ubyte.gz 1648877 bytes.\n",
      "Extracting /tmp/data/t10k-images-idx3-ubyte.gz\n",
      "Successfully downloaded t10k-labels-idx1-ubyte.gz 4542 bytes.\n",
      "Extracting /tmp/data/t10k-labels-idx1-ubyte.gz\n",
      "WARNING:tensorflow:From /home/phunc20/.config/miniconda3/envs/homl1e/lib/python3.7/site-packages/tensorflow/contrib/learn/python/learn/datasets/mnist.py:290: DataSet.__init__ (from tensorflow.contrib.learn.python.learn.datasets.mnist) is deprecated and will be removed in a future version.\n",
      "Instructions for updating:\n",
      "Please use alternatives such as official/mnist/dataset.py from tensorflow/models.\n"
     ]
    }
   ],
   "source": [
    "from tensorflow.examples.tutorials.mnist import input_data\n",
    "\n",
    "mnist = input_data.read_data_sets(\"/tmp/data\")\n",
    "X_test = mnist.test.images.reshape((-1, n_steps, n_inputs))\n",
    "y_test = mnist.test.labels"
   ]
  },
  {
   "cell_type": "code",
   "execution_count": 83,
   "id": "skilled-deposit",
   "metadata": {},
   "outputs": [
    {
     "data": {
      "text/plain": [
       "Datasets(train=<tensorflow.contrib.learn.python.learn.datasets.mnist.DataSet object at 0x7f1a25aede90>, validation=<tensorflow.contrib.learn.python.learn.datasets.mnist.DataSet object at 0x7f1a25a5e610>, test=<tensorflow.contrib.learn.python.learn.datasets.mnist.DataSet object at 0x7f1a25375d10>)"
      ]
     },
     "execution_count": 83,
     "metadata": {},
     "output_type": "execute_result"
    }
   ],
   "source": [
    "mnist"
   ]
  },
  {
   "cell_type": "code",
   "execution_count": 84,
   "id": "national-python",
   "metadata": {},
   "outputs": [
    {
     "name": "stdout",
     "output_type": "stream",
     "text": [
      "t10k-images-idx3-ubyte.gz  train-images-idx3-ubyte.gz\r\n",
      "t10k-labels-idx1-ubyte.gz  train-labels-idx1-ubyte.gz\r\n"
     ]
    }
   ],
   "source": [
    "!ls -A /tmp/data"
   ]
  },
  {
   "cell_type": "code",
   "execution_count": 86,
   "id": "black-affiliate",
   "metadata": {},
   "outputs": [
    {
     "name": "stdout",
     "output_type": "stream",
     "text": [
      "8.0K\t/tmp/data/t10k-labels-idx1-ubyte.gz\r\n",
      "32K\t/tmp/data/train-labels-idx1-ubyte.gz\r\n",
      "1.6M\t/tmp/data/t10k-images-idx3-ubyte.gz\r\n",
      "9.5M\t/tmp/data/train-images-idx3-ubyte.gz\r\n"
     ]
    }
   ],
   "source": [
    "!du -hsx /tmp/data/* | sort -h"
   ]
  },
  {
   "cell_type": "code",
   "execution_count": 92,
   "id": "excessive-meaning",
   "metadata": {},
   "outputs": [
    {
     "data": {
      "text/plain": [
       "((10000, 28, 28), (10000,))"
      ]
     },
     "execution_count": 92,
     "metadata": {},
     "output_type": "execute_result"
    }
   ],
   "source": [
    "X_test.shape, y_test.shape"
   ]
  },
  {
   "cell_type": "code",
   "execution_count": 93,
   "id": "quick-andorra",
   "metadata": {},
   "outputs": [],
   "source": [
    "%matplotlib inline\n",
    "import matplotlib.pyplot as plt\n",
    "import numpy as np"
   ]
  },
  {
   "cell_type": "raw",
   "id": "hourly-aspect",
   "metadata": {},
   "source": [
    "help(plt.imshow)"
   ]
  },
  {
   "cell_type": "code",
   "execution_count": 94,
   "id": "controlling-introduction",
   "metadata": {},
   "outputs": [
    {
     "data": {
      "image/png": "[encoded data removed]",
      "text/plain": [
       "<Figure size 432x288 with 1 Axes>"
      ]
     },
     "metadata": {
      "needs_background": "light"
     },
     "output_type": "display_data"
    }
   ],
   "source": [
    "i = np.random.randint(X_test.shape[0])\n",
    "plt.imshow(X_test[i], cmap='gray')\n",
    "plt.title(f\"X_test[{i}] = {y_test[i]}\\n\")\n",
    "plt.axis(\"off\");"
   ]
  },
  {
   "cell_type": "code",
   "execution_count": 95,
   "id": "native-logging",
   "metadata": {},
   "outputs": [
    {
     "data": {
      "text/plain": [
       "55000"
      ]
     },
     "execution_count": 95,
     "metadata": {},
     "output_type": "execute_result"
    }
   ],
   "source": [
    "mnist.train.num_examples"
   ]
  },
  {
   "cell_type": "raw",
   "id": "hidden-riverside",
   "metadata": {},
   "source": [
    "n_epochs = 100\n",
    "batch_size = 150\n",
    "\n",
    "with tf.Session() as sess:\n",
    "    init.run()\n",
    "    for epoch in range(n_epochs):\n",
    "        for iteration in range(mnist.train.num_examples // batch_size):\n",
    "            X_batch, y_batch = mnist.train.next_batch(batch_size)\n",
    "            X_batch = X_batch.reshape((-1, n_steps, n_inputs))\n",
    "            sess.run(training_op, feed_dict={X: X_batch, y: y_batch})\n",
    "        # The training accuracy is evaluated on the last batch only.\n",
    "        acc_train = accuracy.eval(feed_dict={X: X_batch, y: y_batch})\n",
    "        acc_test = accuracy.eval(feed_dict={X: X_test, y: y_test})\n",
    "        print(\"(%03d) acc_train = %.4f  acc_test = %.4f\" % (epoch, acc_train, acc_test))"
   ]
  },
  {
   "cell_type": "raw",
   "id": "diagnostic-publicity",
   "metadata": {},
   "source": [
    "InvalidArgumentError: You must feed a value for placeholder tensor 'Placeholder' with dtype float and shape [?,28,28]\n",
    "\t [[{{node Placeholder}}]]\n",
    "\n",
    "During handling of the above exception, another exception occurred:\n",
    "\n",
    "InvalidArgumentError                      Traceback (most recent call last)\n",
    "<ipython-input-100-8681c84f2c03> in <module>\n",
    "      8             X_batch, y_batch = mnist.train.next_batch(batch_size)\n",
    "      9             X_batch = X_batch.reshape((-1, n_steps, n_inputs))\n",
    "---> 10             sess.run(training_op, feed_dict={X: X_batch, y: y_batch})\n",
    "     11         # The training accuracy is evaluated on the last batch only.\n",
    "     12         acc_train = accuracy.eval(feed_dict={X: X_batch, y: y_batch})"
   ]
  },
  {
   "cell_type": "code",
   "execution_count": 112,
   "id": "saved-craps",
   "metadata": {},
   "outputs": [
    {
     "data": {
      "text/plain": [
       "numpy.ndarray"
      ]
     },
     "execution_count": 112,
     "metadata": {},
     "output_type": "execute_result"
    }
   ],
   "source": [
    "X_batch, y_batch = mnist.train.next_batch(batch_size)\n",
    "type(X_batch)"
   ]
  },
  {
   "cell_type": "code",
   "execution_count": 113,
   "id": "double-consumer",
   "metadata": {},
   "outputs": [
    {
     "data": {
      "text/plain": [
       "((150, 784), dtype('float32'))"
      ]
     },
     "execution_count": 113,
     "metadata": {},
     "output_type": "execute_result"
    }
   ],
   "source": [
    "X_batch.shape, X_batch.dtype"
   ]
  },
  {
   "cell_type": "code",
   "execution_count": 114,
   "id": "cooperative-alliance",
   "metadata": {},
   "outputs": [
    {
     "data": {
      "text/plain": [
       "(dtype('uint8'), (150,))"
      ]
     },
     "execution_count": 114,
     "metadata": {},
     "output_type": "execute_result"
    }
   ],
   "source": [
    "y_batch.dtype, y_batch.shape"
   ]
  },
  {
   "cell_type": "code",
   "execution_count": 119,
   "id": "higher-lawrence",
   "metadata": {},
   "outputs": [
    {
     "name": "stdout",
     "output_type": "stream",
     "text": [
      "(epoch 001/100) acc_train = 0.9467  acc_test = 0.9170\n",
      "(epoch 002/100) acc_train = 0.9533  acc_test = 0.9428\n",
      "(epoch 003/100) acc_train = 0.9600  acc_test = 0.9479\n",
      "(epoch 004/100) acc_train = 0.9800  acc_test = 0.9620\n",
      "(epoch 005/100) acc_train = 0.9333  acc_test = 0.9550\n",
      "(epoch 006/100) acc_train = 0.9867  acc_test = 0.9660\n",
      "(epoch 007/100) acc_train = 0.9800  acc_test = 0.9713\n",
      "(epoch 008/100) acc_train = 0.9733  acc_test = 0.9643\n",
      "(epoch 009/100) acc_train = 0.9867  acc_test = 0.9695\n",
      "(epoch 010/100) acc_train = 0.9933  acc_test = 0.9692\n",
      "(epoch 011/100) acc_train = 0.9733  acc_test = 0.9711\n",
      "(epoch 012/100) acc_train = 0.9733  acc_test = 0.9697\n",
      "(epoch 013/100) acc_train = 0.9867  acc_test = 0.9709\n",
      "(epoch 014/100) acc_train = 0.9800  acc_test = 0.9739\n",
      "(epoch 015/100) acc_train = 0.9600  acc_test = 0.9739\n",
      "(epoch 016/100) acc_train = 0.9933  acc_test = 0.9735\n",
      "(epoch 017/100) acc_train = 0.9800  acc_test = 0.9738\n",
      "(epoch 018/100) acc_train = 1.0000  acc_test = 0.9716\n",
      "(epoch 019/100) acc_train = 1.0000  acc_test = 0.9775\n",
      "(epoch 020/100) acc_train = 0.9733  acc_test = 0.9766\n",
      "(epoch 021/100) acc_train = 0.9933  acc_test = 0.9753\n",
      "(epoch 022/100) acc_train = 0.9933  acc_test = 0.9752\n",
      "(epoch 023/100) acc_train = 0.9800  acc_test = 0.9754\n",
      "(epoch 024/100) acc_train = 0.9867  acc_test = 0.9758\n",
      "(epoch 025/100) acc_train = 0.9933  acc_test = 0.9743\n",
      "(epoch 026/100) acc_train = 0.9733  acc_test = 0.9728\n",
      "(epoch 027/100) acc_train = 0.9867  acc_test = 0.9742\n",
      "(epoch 028/100) acc_train = 0.9933  acc_test = 0.9751\n",
      "(epoch 029/100) acc_train = 0.9933  acc_test = 0.9777\n",
      "(epoch 030/100) acc_train = 0.9933  acc_test = 0.9790\n",
      "(epoch 031/100) acc_train = 0.9867  acc_test = 0.9784\n",
      "(epoch 032/100) acc_train = 0.9933  acc_test = 0.9778\n",
      "(epoch 033/100) acc_train = 0.9933  acc_test = 0.9782\n",
      "(epoch 034/100) acc_train = 0.9867  acc_test = 0.9747\n",
      "(epoch 035/100) acc_train = 0.9800  acc_test = 0.9767\n",
      "(epoch 036/100) acc_train = 1.0000  acc_test = 0.9792\n",
      "(epoch 037/100) acc_train = 0.9867  acc_test = 0.9791\n",
      "(epoch 038/100) acc_train = 0.9800  acc_test = 0.9773\n",
      "(epoch 039/100) acc_train = 1.0000  acc_test = 0.9771\n",
      "(epoch 040/100) acc_train = 0.9933  acc_test = 0.9768\n",
      "(epoch 041/100) acc_train = 0.9867  acc_test = 0.9788\n",
      "(epoch 042/100) acc_train = 1.0000  acc_test = 0.9796\n",
      "(epoch 043/100) acc_train = 1.0000  acc_test = 0.9789\n",
      "(epoch 044/100) acc_train = 0.9867  acc_test = 0.9774\n",
      "(epoch 045/100) acc_train = 0.9867  acc_test = 0.9717\n",
      "(epoch 046/100) acc_train = 0.9933  acc_test = 0.9802\n",
      "(epoch 047/100) acc_train = 1.0000  acc_test = 0.9790\n",
      "(epoch 048/100) acc_train = 0.9867  acc_test = 0.9789\n",
      "(epoch 049/100) acc_train = 1.0000  acc_test = 0.9754\n",
      "(epoch 050/100) acc_train = 0.9867  acc_test = 0.9788\n",
      "(epoch 051/100) acc_train = 0.9933  acc_test = 0.9780\n",
      "(epoch 052/100) acc_train = 0.9867  acc_test = 0.9794\n",
      "(epoch 053/100) acc_train = 0.9933  acc_test = 0.9797\n",
      "(epoch 054/100) acc_train = 1.0000  acc_test = 0.9787\n",
      "(epoch 055/100) acc_train = 1.0000  acc_test = 0.9808\n",
      "(epoch 056/100) acc_train = 0.9933  acc_test = 0.9800\n",
      "(epoch 057/100) acc_train = 0.9867  acc_test = 0.9757\n",
      "(epoch 058/100) acc_train = 0.9867  acc_test = 0.9737\n",
      "(epoch 059/100) acc_train = 0.9867  acc_test = 0.9812\n",
      "(epoch 060/100) acc_train = 0.9933  acc_test = 0.9788\n",
      "(epoch 061/100) acc_train = 0.9800  acc_test = 0.9768\n",
      "(epoch 062/100) acc_train = 0.9933  acc_test = 0.9719\n",
      "(epoch 063/100) acc_train = 0.9933  acc_test = 0.9807\n",
      "(epoch 064/100) acc_train = 0.9933  acc_test = 0.9795\n",
      "(epoch 065/100) acc_train = 0.9867  acc_test = 0.9722\n",
      "(epoch 066/100) acc_train = 1.0000  acc_test = 0.9790\n",
      "(epoch 067/100) acc_train = 1.0000  acc_test = 0.9713\n",
      "(epoch 068/100) acc_train = 0.9800  acc_test = 0.9784\n",
      "(epoch 069/100) acc_train = 1.0000  acc_test = 0.9808\n",
      "(epoch 070/100) acc_train = 0.9933  acc_test = 0.9781\n",
      "(epoch 071/100) acc_train = 0.9800  acc_test = 0.9766\n",
      "(epoch 072/100) acc_train = 0.9933  acc_test = 0.9758\n",
      "(epoch 073/100) acc_train = 1.0000  acc_test = 0.9782\n",
      "(epoch 074/100) acc_train = 1.0000  acc_test = 0.9771\n",
      "(epoch 075/100) acc_train = 0.9867  acc_test = 0.9746\n",
      "(epoch 076/100) acc_train = 0.9867  acc_test = 0.9745\n",
      "(epoch 077/100) acc_train = 1.0000  acc_test = 0.9780\n",
      "(epoch 078/100) acc_train = 0.9867  acc_test = 0.9798\n",
      "(epoch 079/100) acc_train = 1.0000  acc_test = 0.9755\n",
      "(epoch 080/100) acc_train = 0.9933  acc_test = 0.9769\n",
      "(epoch 081/100) acc_train = 1.0000  acc_test = 0.9784\n",
      "(epoch 082/100) acc_train = 0.9867  acc_test = 0.9778\n",
      "(epoch 083/100) acc_train = 0.9933  acc_test = 0.9775\n",
      "(epoch 084/100) acc_train = 0.9933  acc_test = 0.9764\n",
      "(epoch 085/100) acc_train = 0.9800  acc_test = 0.9739\n",
      "(epoch 086/100) acc_train = 0.9933  acc_test = 0.9779\n",
      "(epoch 087/100) acc_train = 1.0000  acc_test = 0.9791\n",
      "(epoch 088/100) acc_train = 0.9933  acc_test = 0.9778\n",
      "(epoch 089/100) acc_train = 0.9933  acc_test = 0.9746\n",
      "(epoch 090/100) acc_train = 1.0000  acc_test = 0.9765\n",
      "(epoch 091/100) acc_train = 0.9933  acc_test = 0.9776\n",
      "(epoch 092/100) acc_train = 0.9867  acc_test = 0.9777\n",
      "(epoch 093/100) acc_train = 0.9933  acc_test = 0.9796\n",
      "(epoch 094/100) acc_train = 0.9933  acc_test = 0.9804\n",
      "(epoch 095/100) acc_train = 0.9800  acc_test = 0.9743\n",
      "(epoch 096/100) acc_train = 1.0000  acc_test = 0.9782\n",
      "(epoch 097/100) acc_train = 0.9800  acc_test = 0.9777\n",
      "(epoch 098/100) acc_train = 0.9867  acc_test = 0.9643\n",
      "(epoch 099/100) acc_train = 1.0000  acc_test = 0.9732\n",
      "(epoch 100/100) acc_train = 0.9933  acc_test = 0.9775\n"
     ]
    }
   ],
   "source": [
    "n_epochs = 100\n",
    "batch_size = 150\n",
    "n_iterations = mnist.train.num_examples // batch_size\n",
    "\n",
    "with tf.Session() as sess:\n",
    "    init.run()\n",
    "    for epoch in range(n_epochs):\n",
    "        for iteration in range(n_iterations):\n",
    "            X_batch, y_batch = mnist.train.next_batch(batch_size)\n",
    "            X_batch = X_batch.reshape((-1, n_steps, n_inputs))\n",
    "            print(f\"epoch={epoch+1}/{n_epochs}, iteration={iteration+1}/{n_iterations}\", end=\"\\r\")\n",
    "            # Debug purpose: next line\n",
    "            #print(f\"X_batch.shape, X_batch.dtype = {X_batch.shape, X_batch.dtype}\")\n",
    "            sess.run(training_op, feed_dict={X: X_batch, y: y_batch})\n",
    "        # The training accuracy is evaluated on the last batch only.\n",
    "        acc_train = accuracy.eval(feed_dict={X: X_batch, y: y_batch})\n",
    "        acc_test = accuracy.eval(feed_dict={X: X_test, y: y_test})\n",
    "        print(\"(epoch %03d/%03d) acc_train = %.4f  acc_test = %.4f\" % (epoch+1, n_epochs, acc_train, acc_test))"
   ]
  },
  {
   "cell_type": "code",
   "execution_count": null,
   "id": "protected-aluminum",
   "metadata": {},
   "outputs": [],
   "source": []
  }
 ],
 "metadata": {
  "kernelspec": {
   "display_name": "Python 3",
   "language": "python",
   "name": "python3"
  },
  "language_info": {
   "codemirror_mode": {
    "name": "ipython",
    "version": 3
   },
   "file_extension": ".py",
   "mimetype": "text/x-python",
   "name": "python",
   "nbconvert_exporter": "python",
   "pygments_lexer": "ipython3",
   "version": "3.7.9"
  }
 },
 "nbformat": 4,
 "nbformat_minor": 5
}
