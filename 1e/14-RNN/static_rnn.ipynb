{
 "cells": [
  {
   "cell_type": "code",
   "execution_count": 1,
   "id": "suitable-mentor",
   "metadata": {},
   "outputs": [
    {
     "name": "stderr",
     "output_type": "stream",
     "text": [
      "/home/phunc20/.config/miniconda3/envs/homl1e/lib/python3.7/site-packages/tensorflow/python/framework/dtypes.py:526: FutureWarning: Passing (type, 1) or '1type' as a synonym of type is deprecated; in a future version of numpy, it will be understood as (type, (1,)) / '(1,)type'.\n",
      "  _np_qint8 = np.dtype([(\"qint8\", np.int8, 1)])\n",
      "/home/phunc20/.config/miniconda3/envs/homl1e/lib/python3.7/site-packages/tensorflow/python/framework/dtypes.py:527: FutureWarning: Passing (type, 1) or '1type' as a synonym of type is deprecated; in a future version of numpy, it will be understood as (type, (1,)) / '(1,)type'.\n",
      "  _np_quint8 = np.dtype([(\"quint8\", np.uint8, 1)])\n",
      "/home/phunc20/.config/miniconda3/envs/homl1e/lib/python3.7/site-packages/tensorflow/python/framework/dtypes.py:528: FutureWarning: Passing (type, 1) or '1type' as a synonym of type is deprecated; in a future version of numpy, it will be understood as (type, (1,)) / '(1,)type'.\n",
      "  _np_qint16 = np.dtype([(\"qint16\", np.int16, 1)])\n",
      "/home/phunc20/.config/miniconda3/envs/homl1e/lib/python3.7/site-packages/tensorflow/python/framework/dtypes.py:529: FutureWarning: Passing (type, 1) or '1type' as a synonym of type is deprecated; in a future version of numpy, it will be understood as (type, (1,)) / '(1,)type'.\n",
      "  _np_quint16 = np.dtype([(\"quint16\", np.uint16, 1)])\n",
      "/home/phunc20/.config/miniconda3/envs/homl1e/lib/python3.7/site-packages/tensorflow/python/framework/dtypes.py:530: FutureWarning: Passing (type, 1) or '1type' as a synonym of type is deprecated; in a future version of numpy, it will be understood as (type, (1,)) / '(1,)type'.\n",
      "  _np_qint32 = np.dtype([(\"qint32\", np.int32, 1)])\n",
      "/home/phunc20/.config/miniconda3/envs/homl1e/lib/python3.7/site-packages/tensorflow/python/framework/dtypes.py:535: FutureWarning: Passing (type, 1) or '1type' as a synonym of type is deprecated; in a future version of numpy, it will be understood as (type, (1,)) / '(1,)type'.\n",
      "  np_resource = np.dtype([(\"resource\", np.ubyte, 1)])\n"
     ]
    }
   ],
   "source": [
    "import tensorflow as tf"
   ]
  },
  {
   "cell_type": "code",
   "execution_count": 2,
   "id": "corporate-winning",
   "metadata": {},
   "outputs": [],
   "source": [
    "n_inputs = 3   # This is the k in recurrent-neurons.pdf\n",
    "n_neurons = 5  # This is the l in recurrent-neurons.pdf"
   ]
  },
  {
   "cell_type": "markdown",
   "id": "hazardous-reader",
   "metadata": {},
   "source": [
    "### RNN manually"
   ]
  },
  {
   "cell_type": "code",
   "execution_count": 3,
   "id": "internal-engine",
   "metadata": {},
   "outputs": [
    {
     "name": "stdout",
     "output_type": "stream",
     "text": [
      "WARNING:tensorflow:From /home/phunc20/.config/miniconda3/envs/homl1e/lib/python3.7/site-packages/tensorflow/python/framework/op_def_library.py:263: colocate_with (from tensorflow.python.framework.ops) is deprecated and will be removed in a future version.\n",
      "Instructions for updating:\n",
      "Colocations handled automatically by placer.\n"
     ]
    }
   ],
   "source": [
    "X0 = tf.placeholder(tf.float32, [None, n_inputs])\n",
    "X1 = tf.placeholder(tf.float32, [None, n_inputs])\n",
    "\n",
    "#Wx = tf.Variable(tf.random_normal(shape=[k,l], dtype=tf.float32))\n",
    "Wx = tf.Variable(tf.random_normal(shape=[n_inputs, n_neurons], dtype=tf.float32))\n",
    "#Wy = tf.Variable(tf.random_normal(shape=[l,l], dtype=tf.float32))\n",
    "Wy = tf.Variable(tf.random_normal(shape=[n_neurons, n_neurons], dtype=tf.float32))\n",
    "#b = tf.Variable(tf.zeros(shape=[1,l], dtype=tf.float32))\n",
    "b = tf.Variable(tf.zeros(shape=[1, n_neurons], dtype=tf.float32))"
   ]
  },
  {
   "cell_type": "code",
   "execution_count": 4,
   "id": "physical-rescue",
   "metadata": {},
   "outputs": [],
   "source": [
    "Y0 = tf.tanh(X0 @ Wx + b)\n",
    "#Y0 = tf.tanh(tf.matmul(X0, Wx) + b)\n",
    "Y1 = tf.tanh(X1 @ Wx + Y0 @ Wy + b)\n",
    "#Y1 = tf.tanh(tf.matmul(X1, Wx) + tf.matmul(Y0, Wy) + b)"
   ]
  },
  {
   "cell_type": "code",
   "execution_count": 5,
   "id": "natural-violin",
   "metadata": {},
   "outputs": [
    {
     "data": {
      "text/plain": [
       "(<tf.Tensor 'Tanh:0' shape=(?, 5) dtype=float32>,\n",
       " <tf.Tensor 'Tanh_1:0' shape=(?, 5) dtype=float32>)"
      ]
     },
     "execution_count": 5,
     "metadata": {},
     "output_type": "execute_result"
    }
   ],
   "source": [
    "Y0, Y1"
   ]
  },
  {
   "cell_type": "code",
   "execution_count": 6,
   "id": "ranking-attitude",
   "metadata": {},
   "outputs": [],
   "source": [
    "init = tf.global_variables_initializer()"
   ]
  },
  {
   "cell_type": "code",
   "execution_count": 7,
   "id": "necessary-economics",
   "metadata": {},
   "outputs": [],
   "source": [
    "import numpy as np\n",
    "# batch size: 4\n",
    "# mini-batch:        instance0, instance1, instance2, instance3\n",
    "X0_batch = np.array([[0,1,2],   [3,4,5],   [6,7,8],   [9,0,1],])  # t = 0\n",
    "X1_batch = np.array([[9,8,7],   [0,0,0],   [6,5,4],   [3,2,1],])  # t = 1"
   ]
  },
  {
   "cell_type": "code",
   "execution_count": 8,
   "id": "quick-lotus",
   "metadata": {},
   "outputs": [],
   "source": [
    "with tf.Session() as sess:\n",
    "    init.run()\n",
    "    Y0_val, Y1_val = sess.run([Y0, Y1], feed_dict={X0: X0_batch, X1: X1_batch})"
   ]
  },
  {
   "cell_type": "code",
   "execution_count": 11,
   "id": "informative-sound",
   "metadata": {},
   "outputs": [
    {
     "name": "stdout",
     "output_type": "stream",
     "text": [
      "Y0_val =\n",
      "[[-0.9904115  -0.99931055  0.6659969   0.9933008  -0.82816523]\n",
      " [-1.         -1.         -0.9993631   1.          0.9887699 ]\n",
      " [-1.         -1.         -0.99999994  1.          0.99999404]\n",
      " [-1.          0.35226482 -1.          1.          1.        ]]\n",
      "\n",
      "Y1_val =\n",
      "[[-1.         -1.         -1.          1.          1.        ]\n",
      " [-0.7602829  -0.6828733   0.98884517  0.4828381   0.99999297]\n",
      " [-1.         -1.         -0.9999997   1.          1.        ]\n",
      " [-0.9999988  -0.99993604 -0.9997792   0.99985635  1.        ]]\n"
     ]
    }
   ],
   "source": [
    "print(f\"Y0_val =\\n{Y0_val}\")\n",
    "print()\n",
    "print(f\"Y1_val =\\n{Y1_val}\")"
   ]
  },
  {
   "cell_type": "markdown",
   "id": "ready-wright",
   "metadata": {},
   "source": [
    "The output numerical values like above have little meaning in this notebook, so don't pay too much attention to them."
   ]
  },
  {
   "cell_type": "markdown",
   "id": "compact-browser",
   "metadata": {},
   "source": [
    "### `static_rnn()`\n",
    "The `static_rnn()` function creates an unrolled RNN network by chaining cells. The following\n",
    "code creates the exact same model as the previous one."
   ]
  },
  {
   "cell_type": "code",
   "execution_count": 17,
   "id": "christian-intersection",
   "metadata": {},
   "outputs": [],
   "source": [
    "tf.reset_default_graph()\n",
    "\n",
    "X0 = tf.placeholder(tf.float32, [None, n_inputs])\n",
    "X1 = tf.placeholder(tf.float32, [None, n_inputs])\n",
    "\n",
    "basic_cell = tf.contrib.rnn.BasicRNNCell(num_units=n_neurons)\n",
    "output_seqs, states = tf.contrib.rnn.static_rnn(basic_cell, [X0, X1], dtype=tf.float32)\n",
    "Y0, Y1 = output_seqs\n",
    "\n",
    "init = tf.global_variables_initializer()"
   ]
  },
  {
   "cell_type": "code",
   "execution_count": 18,
   "id": "adequate-bennett",
   "metadata": {},
   "outputs": [],
   "source": [
    "with tf.Session() as sess:\n",
    "    init.run()\n",
    "    Y0_val, Y1_val = sess.run([Y0, Y1], feed_dict={X0: X0_batch, X1: X1_batch})"
   ]
  },
  {
   "cell_type": "code",
   "execution_count": 19,
   "id": "supreme-patrol",
   "metadata": {},
   "outputs": [
    {
     "name": "stdout",
     "output_type": "stream",
     "text": [
      "Y0_val =\n",
      "[[-0.2637325   0.4074781   0.59535986 -0.1350736   0.83629495]\n",
      " [-0.9872699  -0.73377454  0.9968244  -0.6706742   0.9810802 ]\n",
      " [-0.9998592  -0.98034304  0.99998003 -0.9029616   0.9979559 ]\n",
      " [-0.9998874  -0.9988469   0.99991506 -0.6895312  -0.9998323 ]]\n",
      "\n",
      "Y1_val =\n",
      "[[-0.9999928  -0.9996412   0.9999988  -0.92684174  0.9397128 ]\n",
      " [ 0.7526528   0.8308104   0.6872208   0.70348865  0.11825394]\n",
      " [-0.9959175  -0.958328    0.99994886 -0.20495862  0.86012644]\n",
      " [-0.94188434 -0.38022158  0.982755    0.46705097  0.36510664]]\n"
     ]
    }
   ],
   "source": [
    "print(f\"Y0_val =\\n{Y0_val}\")\n",
    "print()\n",
    "print(f\"Y1_val =\\n{Y1_val}\")"
   ]
  },
  {
   "cell_type": "markdown",
   "id": "conservative-dancing",
   "metadata": {},
   "source": [
    "What was shown next on the book was the use of\n",
    "- `tf.unstack()`\n",
    "  - `tf.stack()`\n",
    "- `tf.transpose()`\n",
    "to allow input of a different (but equivalent) shape.\n",
    "\n",
    "Note that the code and shape of tensors in `BasicRNNCell()` and in `static_rnn()` remains identical\n",
    "to previously."
   ]
  },
  {
   "cell_type": "code",
   "execution_count": 22,
   "id": "beneficial-attraction",
   "metadata": {},
   "outputs": [],
   "source": [
    "n_steps = 2\n",
    "tf.reset_default_graph()\n",
    "X = tf.placeholder(tf.float32, [None, n_steps, n_inputs])\n",
    "X_seqs = tf.unstack(tf.transpose(X, perm=[1,0,2]))\n",
    "basic_cell = tf.contrib.rnn.BasicRNNCell(num_units=n_neurons)\n",
    "output_seqs, states = tf.contrib.rnn.static_rnn(basic_cell, X_seqs, dtype=tf.float32)\n",
    "# At this stage, shape(output_seqs) = (n_steps, None, n_inputs) (or at least approximately)\n",
    "# But we'd like to have sth of shape (None, n_steps, n_inputs)\n",
    "outputs = tf.transpose(tf.stack(output_seqs), perm=[1,0,2])"
   ]
  },
  {
   "cell_type": "code",
   "execution_count": 23,
   "id": "light-union",
   "metadata": {},
   "outputs": [],
   "source": [
    "init = tf.global_variables_initializer()\n",
    "X_batch = np.array([\n",
    "    # t = 0\n",
    "    [[0,1,2], [9,8,7]],\n",
    "    [[3,4,5], [0,0,0]],\n",
    "    [[6,7,8], [6,5,4]],\n",
    "    [[9,0,1], [3,2,1]],\n",
    "])"
   ]
  },
  {
   "cell_type": "code",
   "execution_count": 24,
   "id": "athletic-supervision",
   "metadata": {},
   "outputs": [
    {
     "data": {
      "text/plain": [
       "array([[[ 0.8824959 ,  0.47511262, -0.72453445, -0.5547652 ,\n",
       "          0.8765556 ],\n",
       "        [ 0.9999982 ,  0.9980418 ,  0.27721155,  0.00250062,\n",
       "          0.99999994]],\n",
       "\n",
       "       [[ 0.99962145,  0.9369851 , -0.7670588 , -0.454684  ,\n",
       "          0.9998627 ],\n",
       "        [-0.5213208 ,  0.28629366, -0.29050636, -0.7909661 ,\n",
       "         -0.02074875]],\n",
       "\n",
       "       [[ 0.9999988 ,  0.9940689 , -0.80376554, -0.34163246,\n",
       "          0.9999999 ],\n",
       "        [ 0.9989311 ,  0.9724046 ,  0.4400794 , -0.14415829,\n",
       "          0.9999684 ]],\n",
       "\n",
       "       [[ 0.03162497, -0.37233666,  0.9994967 ,  0.99834436,\n",
       "          0.9964416 ],\n",
       "        [ 0.86975074,  0.6934972 ,  0.76061445,  0.716446  ,\n",
       "          0.9819747 ]]], dtype=float32)"
      ]
     },
     "execution_count": 24,
     "metadata": {},
     "output_type": "execute_result"
    }
   ],
   "source": [
    "sess = tf.InteractiveSession()\n",
    "init.run()\n",
    "outputs_val = outputs.eval(feed_dict={X: X_batch})\n",
    "sess.close()\n",
    "outputs_val"
   ]
  },
  {
   "cell_type": "markdown",
   "id": "advance-feature",
   "metadata": {},
   "source": [
    "### OOM (Out-of-memory) error\n",
    "**(?)** I don't quite understand oom here. Does it mean that `dynamic_rnn()` won't suffer from oom?"
   ]
  },
  {
   "cell_type": "code",
   "execution_count": null,
   "id": "particular-clear",
   "metadata": {},
   "outputs": [],
   "source": []
  }
 ],
 "metadata": {
  "kernelspec": {
   "display_name": "Python 3",
   "language": "python",
   "name": "python3"
  },
  "language_info": {
   "codemirror_mode": {
    "name": "ipython",
    "version": 3
   },
   "file_extension": ".py",
   "mimetype": "text/x-python",
   "name": "python",
   "nbconvert_exporter": "python",
   "pygments_lexer": "ipython3",
   "version": "3.7.9"
  }
 },
 "nbformat": 4,
 "nbformat_minor": 5
}
