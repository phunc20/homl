{
 "cells": [
  {
   "cell_type": "code",
   "execution_count": 1,
   "id": "suitable-mentor",
   "metadata": {},
   "outputs": [
    {
     "name": "stderr",
     "output_type": "stream",
     "text": [
      "/home/phunc20/.virtualenvs/homl1e/lib/python3.7/site-packages/tensorflow/python/framework/dtypes.py:526: FutureWarning: Passing (type, 1) or '1type' as a synonym of type is deprecated; in a future version of numpy, it will be understood as (type, (1,)) / '(1,)type'.\n",
      "  _np_qint8 = np.dtype([(\"qint8\", np.int8, 1)])\n",
      "/home/phunc20/.virtualenvs/homl1e/lib/python3.7/site-packages/tensorflow/python/framework/dtypes.py:527: FutureWarning: Passing (type, 1) or '1type' as a synonym of type is deprecated; in a future version of numpy, it will be understood as (type, (1,)) / '(1,)type'.\n",
      "  _np_quint8 = np.dtype([(\"quint8\", np.uint8, 1)])\n",
      "/home/phunc20/.virtualenvs/homl1e/lib/python3.7/site-packages/tensorflow/python/framework/dtypes.py:528: FutureWarning: Passing (type, 1) or '1type' as a synonym of type is deprecated; in a future version of numpy, it will be understood as (type, (1,)) / '(1,)type'.\n",
      "  _np_qint16 = np.dtype([(\"qint16\", np.int16, 1)])\n",
      "/home/phunc20/.virtualenvs/homl1e/lib/python3.7/site-packages/tensorflow/python/framework/dtypes.py:529: FutureWarning: Passing (type, 1) or '1type' as a synonym of type is deprecated; in a future version of numpy, it will be understood as (type, (1,)) / '(1,)type'.\n",
      "  _np_quint16 = np.dtype([(\"quint16\", np.uint16, 1)])\n",
      "/home/phunc20/.virtualenvs/homl1e/lib/python3.7/site-packages/tensorflow/python/framework/dtypes.py:530: FutureWarning: Passing (type, 1) or '1type' as a synonym of type is deprecated; in a future version of numpy, it will be understood as (type, (1,)) / '(1,)type'.\n",
      "  _np_qint32 = np.dtype([(\"qint32\", np.int32, 1)])\n",
      "/home/phunc20/.virtualenvs/homl1e/lib/python3.7/site-packages/tensorflow/python/framework/dtypes.py:535: FutureWarning: Passing (type, 1) or '1type' as a synonym of type is deprecated; in a future version of numpy, it will be understood as (type, (1,)) / '(1,)type'.\n",
      "  np_resource = np.dtype([(\"resource\", np.ubyte, 1)])\n"
     ]
    }
   ],
   "source": [
    "import tensorflow as tf"
   ]
  },
  {
   "cell_type": "code",
   "execution_count": 2,
   "id": "corporate-winning",
   "metadata": {},
   "outputs": [],
   "source": [
    "n_inputs = 3   # This is the k in recurrent-neurons.pdf\n",
    "n_neurons = 5  # This is the l in recurrent-neurons.pdf"
   ]
  },
  {
   "cell_type": "markdown",
   "id": "hazardous-reader",
   "metadata": {},
   "source": [
    "### RNN manually"
   ]
  },
  {
   "cell_type": "code",
   "execution_count": 3,
   "id": "internal-engine",
   "metadata": {},
   "outputs": [
    {
     "name": "stdout",
     "output_type": "stream",
     "text": [
      "WARNING:tensorflow:From /home/phunc20/.virtualenvs/homl1e/lib/python3.7/site-packages/tensorflow/python/framework/op_def_library.py:263: colocate_with (from tensorflow.python.framework.ops) is deprecated and will be removed in a future version.\n",
      "Instructions for updating:\n",
      "Colocations handled automatically by placer.\n"
     ]
    }
   ],
   "source": [
    "X0 = tf.placeholder(tf.float32, [None, n_inputs])\n",
    "X1 = tf.placeholder(tf.float32, [None, n_inputs])\n",
    "\n",
    "#Wx = tf.Variable(tf.random_normal(shape=[k,l], dtype=tf.float32))\n",
    "Wx = tf.Variable(tf.random_normal(shape=[n_inputs, n_neurons], dtype=tf.float32))\n",
    "#Wy = tf.Variable(tf.random_normal(shape=[l,l], dtype=tf.float32))\n",
    "Wy = tf.Variable(tf.random_normal(shape=[n_neurons, n_neurons], dtype=tf.float32))\n",
    "#b = tf.Variable(tf.zeros(shape=[1,l], dtype=tf.float32))\n",
    "b = tf.Variable(tf.zeros(shape=[1, n_neurons], dtype=tf.float32))"
   ]
  },
  {
   "cell_type": "code",
   "execution_count": 4,
   "id": "physical-rescue",
   "metadata": {},
   "outputs": [],
   "source": [
    "Y0 = tf.tanh(X0 @ Wx + b)\n",
    "#Y0 = tf.tanh(tf.matmul(X0, Wx) + b)\n",
    "Y1 = tf.tanh(X1 @ Wx + Y0 @ Wy + b)\n",
    "#Y1 = tf.tanh(tf.matmul(X1, Wx) + tf.matmul(Y0, Wy) + b)"
   ]
  },
  {
   "cell_type": "code",
   "execution_count": 5,
   "id": "natural-violin",
   "metadata": {},
   "outputs": [
    {
     "data": {
      "text/plain": [
       "(<tf.Tensor 'Tanh:0' shape=(?, 5) dtype=float32>,\n",
       " <tf.Tensor 'Tanh_1:0' shape=(?, 5) dtype=float32>)"
      ]
     },
     "execution_count": 5,
     "metadata": {},
     "output_type": "execute_result"
    }
   ],
   "source": [
    "Y0, Y1"
   ]
  },
  {
   "cell_type": "code",
   "execution_count": 6,
   "id": "ranking-attitude",
   "metadata": {},
   "outputs": [],
   "source": [
    "init = tf.global_variables_initializer()"
   ]
  },
  {
   "cell_type": "code",
   "execution_count": 7,
   "id": "necessary-economics",
   "metadata": {},
   "outputs": [],
   "source": [
    "import numpy as np\n",
    "# batch size: 4\n",
    "# mini-batch:        instance0, instance1, instance2, instance3\n",
    "X0_batch = np.array([[0,1,2],   [3,4,5],   [6,7,8],   [9,0,1],])  # t = 0\n",
    "X1_batch = np.array([[9,8,7],   [0,0,0],   [6,5,4],   [3,2,1],])  # t = 1"
   ]
  },
  {
   "cell_type": "code",
   "execution_count": 8,
   "id": "quick-lotus",
   "metadata": {},
   "outputs": [],
   "source": [
    "with tf.Session() as sess:\n",
    "    init.run()\n",
    "    Y0_val, Y1_val = sess.run([Y0, Y1], feed_dict={X0: X0_batch, X1: X1_batch})"
   ]
  },
  {
   "cell_type": "code",
   "execution_count": 9,
   "id": "informative-sound",
   "metadata": {},
   "outputs": [
    {
     "name": "stdout",
     "output_type": "stream",
     "text": [
      "Y0_val =\n",
      "[[ 0.16864021 -0.9980501  -0.12999508  0.5956525   0.58439237]\n",
      " [-0.80643463 -0.99999803 -0.6358939   0.9998137   0.99734855]\n",
      " [-0.98379624 -1.         -0.87909365  0.9999999   0.99998665]\n",
      " [ 0.76022303  0.99999976  0.55756396  0.99981666  0.996303  ]]\n",
      "\n",
      "Y1_val =\n",
      "[[-0.99979436 -0.9999987  -0.36007643  1.          1.        ]\n",
      " [-0.8384599   0.49807075  0.99434614  0.9998125   0.99435616]\n",
      " [-0.99952406 -0.9930898   0.9662427   1.          0.9999995 ]\n",
      " [-0.97035104 -0.84122384 -0.8353216   0.99982643  0.9801899 ]]\n"
     ]
    }
   ],
   "source": [
    "print(f\"Y0_val =\\n{Y0_val}\")\n",
    "print()\n",
    "print(f\"Y1_val =\\n{Y1_val}\")"
   ]
  },
  {
   "cell_type": "markdown",
   "id": "ready-wright",
   "metadata": {},
   "source": [
    "The output numerical values like above have little meaning in this notebook, so don't pay too much attention to them."
   ]
  },
  {
   "cell_type": "markdown",
   "id": "compact-browser",
   "metadata": {},
   "source": [
    "### `static_rnn()`\n",
    "The `static_rnn()` function creates an unrolled RNN network by chaining cells. The following\n",
    "code creates the exact same model as the previous one."
   ]
  },
  {
   "cell_type": "code",
   "execution_count": 10,
   "id": "christian-intersection",
   "metadata": {},
   "outputs": [
    {
     "name": "stdout",
     "output_type": "stream",
     "text": [
      "\n",
      "WARNING: The TensorFlow contrib module will not be included in TensorFlow 2.0.\n",
      "For more information, please see:\n",
      "  * https://github.com/tensorflow/community/blob/master/rfcs/20180907-contrib-sunset.md\n",
      "  * https://github.com/tensorflow/addons\n",
      "If you depend on functionality not listed there, please file an issue.\n",
      "\n",
      "WARNING:tensorflow:From <ipython-input-10-d03fdfe030dd>:6: BasicRNNCell.__init__ (from tensorflow.python.ops.rnn_cell_impl) is deprecated and will be removed in a future version.\n",
      "Instructions for updating:\n",
      "This class is equivalent as tf.keras.layers.SimpleRNNCell, and will be replaced by that in Tensorflow 2.0.\n",
      "WARNING:tensorflow:From <ipython-input-10-d03fdfe030dd>:7: static_rnn (from tensorflow.python.ops.rnn) is deprecated and will be removed in a future version.\n",
      "Instructions for updating:\n",
      "Please use `keras.layers.RNN(cell, unroll=True)`, which is equivalent to this API\n"
     ]
    }
   ],
   "source": [
    "tf.reset_default_graph()\n",
    "\n",
    "X0 = tf.placeholder(tf.float32, [None, n_inputs])\n",
    "X1 = tf.placeholder(tf.float32, [None, n_inputs])\n",
    "\n",
    "basic_cell = tf.contrib.rnn.BasicRNNCell(num_units=n_neurons)\n",
    "output_seqs, states = tf.contrib.rnn.static_rnn(basic_cell, [X0, X1], dtype=tf.float32)\n",
    "Y0, Y1 = output_seqs\n",
    "\n",
    "init = tf.global_variables_initializer()"
   ]
  },
  {
   "cell_type": "markdown",
   "id": "human-indianapolis",
   "metadata": {},
   "source": [
    "**(?)** From **manually** doing RNN to **`static_rnn()`**, what do we gain?<br>\n",
    "**(R)**<br>\n",
    "- We don't have to create `tf.Variable`'s by ourselves anymore, saving some work like creating them, initializing them, etc."
   ]
  },
  {
   "cell_type": "code",
   "execution_count": 11,
   "id": "adequate-bennett",
   "metadata": {},
   "outputs": [],
   "source": [
    "with tf.Session() as sess:\n",
    "    init.run()\n",
    "    Y0_val, Y1_val = sess.run([Y0, Y1], feed_dict={X0: X0_batch, X1: X1_batch})"
   ]
  },
  {
   "cell_type": "code",
   "execution_count": 12,
   "id": "supreme-patrol",
   "metadata": {},
   "outputs": [
    {
     "name": "stdout",
     "output_type": "stream",
     "text": [
      "Y0_val =\n",
      "[[-0.93096346 -0.7259365  -0.7300388   0.22798158  0.38557476]\n",
      " [-0.998821   -0.98619145 -0.99990207 -0.6016948  -0.9113301 ]\n",
      " [-0.99998057 -0.99939144 -1.         -0.9251532  -0.99809295]\n",
      " [ 0.9989888  -0.9424999  -0.9999802  -0.9504026  -0.99992627]]\n",
      "\n",
      "Y1_val =\n",
      "[[-0.9995659  -0.99981296 -1.         -0.99927443 -0.99998605]\n",
      " [ 0.5346995  -0.5864016  -0.5589596  -0.93255424  0.44668883]\n",
      " [-0.92909604 -0.9942717  -0.99999976 -0.9993018  -0.99867207]\n",
      " [-0.5831156  -0.18158859 -0.99908304 -0.95810765 -0.96227044]]\n"
     ]
    }
   ],
   "source": [
    "print(f\"Y0_val =\\n{Y0_val}\")\n",
    "print()\n",
    "print(f\"Y1_val =\\n{Y1_val}\")"
   ]
  },
  {
   "cell_type": "markdown",
   "id": "conservative-dancing",
   "metadata": {},
   "source": [
    "What was shown next on the book was the use of\n",
    "- `tf.unstack()`\n",
    "  - `tf.stack()`\n",
    "- `tf.transpose()`\n",
    "to allow input of a different (but equivalent) shape.\n",
    "\n",
    "Note that the code and shape of tensors in `BasicRNNCell()` and in `static_rnn()` remains\n",
    "identical to previously. We just tried to modify the model's input and output shape."
   ]
  },
  {
   "cell_type": "code",
   "execution_count": 13,
   "id": "beneficial-attraction",
   "metadata": {},
   "outputs": [],
   "source": [
    "n_steps = 2\n",
    "tf.reset_default_graph()\n",
    "X = tf.placeholder(tf.float32, [None, n_steps, n_inputs])\n",
    "X_seqs = tf.unstack(tf.transpose(X, perm=[1,0,2]))\n",
    "basic_cell = tf.contrib.rnn.BasicRNNCell(num_units=n_neurons)\n",
    "output_seqs, states = tf.contrib.rnn.static_rnn(basic_cell, X_seqs, dtype=tf.float32)\n",
    "# At this stage, shape(output_seqs) = (n_steps, None, n_inputs) (or at least approximately)\n",
    "# But we'd like to have sth of shape (None, n_steps, n_inputs)\n",
    "outputs = tf.transpose(tf.stack(output_seqs), perm=[1,0,2])"
   ]
  },
  {
   "cell_type": "code",
   "execution_count": 14,
   "id": "light-union",
   "metadata": {},
   "outputs": [],
   "source": [
    "init = tf.global_variables_initializer()\n",
    "X_batch = np.array([\n",
    "    # t = 0    t = 1\n",
    "    [[0,1,2], [9,8,7]],  # instance 0\n",
    "    [[3,4,5], [0,0,0]],  # instance 1\n",
    "    [[6,7,8], [6,5,4]],  # instance 2\n",
    "    [[9,0,1], [3,2,1]],  # instance 3\n",
    "])"
   ]
  },
  {
   "cell_type": "code",
   "execution_count": 15,
   "id": "athletic-supervision",
   "metadata": {},
   "outputs": [
    {
     "data": {
      "text/plain": [
       "array([[[-0.73817766,  0.20324594,  0.88626933,  0.6419878 ,\n",
       "         -0.902788  ],\n",
       "        [-0.99449295,  0.9989233 ,  1.        ,  0.9540346 ,\n",
       "         -1.        ]],\n",
       "\n",
       "       [[-0.97996455,  0.9323643 ,  0.99990714,  0.8636019 ,\n",
       "         -0.9999784 ],\n",
       "        [ 0.13735573, -0.7017959 ,  0.4060293 ,  0.888072  ,\n",
       "          0.38207084]],\n",
       "\n",
       "       [[-0.99864125,  0.99630654,  0.9999999 ,  0.95204085,\n",
       "         -1.        ],\n",
       "        [-0.9315469 ,  0.952682  ,  0.9999921 ,  0.9472138 ,\n",
       "         -0.9999964 ]],\n",
       "\n",
       "       [[-0.24839847,  0.9999641 ,  0.97042406,  0.8664661 ,\n",
       "         -0.9990241 ],\n",
       "        [-0.06951729,  0.596474  ,  0.99385506,  0.8481856 ,\n",
       "         -0.9929457 ]]], dtype=float32)"
      ]
     },
     "execution_count": 15,
     "metadata": {},
     "output_type": "execute_result"
    }
   ],
   "source": [
    "sess = tf.InteractiveSession()\n",
    "init.run()\n",
    "outputs_val = outputs.eval(feed_dict={X: X_batch})\n",
    "sess.close()\n",
    "outputs_val"
   ]
  },
  {
   "cell_type": "markdown",
   "id": "advance-feature",
   "metadata": {},
   "source": [
    "### OOM (Out-of-memory) error\n",
    "**(?)** I don't quite understand the oom here. Does it mean that `dynamic_rnn()` won't suffer from oom?"
   ]
  },
  {
   "cell_type": "markdown",
   "id": "occasional-county",
   "metadata": {},
   "source": [
    "**(R)** `dynamic_rnn()`'s main purpose is not to prevent from OOM errors, although it is capable of that. By using `dynamic_rnn()`,\n",
    "- we can have the convenient input and output shapes as above **without** having to `unstack()`, `transpose()`, etc.\n",
    "- we can set `swap_memory=True` to swap GPU's memory to CPU's memory to prevent OOM errors\n",
    "- we can handle variable length input sequences, i.e. `n_steps` may be different for each instance"
   ]
  },
  {
   "cell_type": "code",
   "execution_count": 16,
   "id": "particular-clear",
   "metadata": {},
   "outputs": [
    {
     "name": "stdout",
     "output_type": "stream",
     "text": [
      "WARNING:tensorflow:From <ipython-input-16-27a8efa081b8>:8: dynamic_rnn (from tensorflow.python.ops.rnn) is deprecated and will be removed in a future version.\n",
      "Instructions for updating:\n",
      "Please use `keras.layers.RNN(cell)`, which is equivalent to this API\n"
     ]
    },
    {
     "data": {
      "text/plain": [
       "(<tf.Tensor 'rnn/transpose_1:0' shape=(?, 2, 5) dtype=float32>,\n",
       " <tf.Tensor 'rnn/while/Exit_3:0' shape=(?, 5) dtype=float32>)"
      ]
     },
     "execution_count": 16,
     "metadata": {},
     "output_type": "execute_result"
    }
   ],
   "source": [
    "n_inputs = 3 \n",
    "n_steps = 2\n",
    "n_neurons = 5\n",
    "tf.reset_default_graph()\n",
    "X = tf.placeholder(tf.float32, [None, n_steps, n_inputs])\n",
    "#X_seqs = tf.unstack(tf.transpose(X, perm=[1,0,2]))\n",
    "basic_cell = tf.contrib.rnn.BasicRNNCell(num_units=n_neurons)\n",
    "outputs, states = tf.nn.dynamic_rnn(basic_cell, X, dtype=tf.float32)\n",
    "outputs, states"
   ]
  },
  {
   "cell_type": "code",
   "execution_count": 17,
   "id": "cubic-association",
   "metadata": {},
   "outputs": [
    {
     "data": {
      "text/plain": [
       "array([[[ 0.61623365,  0.82570535,  0.40422666,  0.5780889 ,\n",
       "          0.45100054],\n",
       "        [-0.98775417,  0.98486006,  0.36937082, -0.876407  ,\n",
       "          1.        ]],\n",
       "\n",
       "       [[ 0.07657859,  0.98531246,  0.5585418 ,  0.56603247,\n",
       "          0.99931467],\n",
       "        [-0.14702493, -0.68977165,  0.5135126 , -0.8336407 ,\n",
       "         -0.5706824 ]],\n",
       "\n",
       "       [[-0.51201165,  0.9988539 ,  0.68194014,  0.5537288 ,\n",
       "          0.9999996 ],\n",
       "        [-0.9840562 ,  0.27693594,  0.63996565, -0.9733648 ,\n",
       "          0.9999914 ]],\n",
       "\n",
       "       [[-0.99996537, -0.9982177 , -0.9996932 ,  0.28515962,\n",
       "          0.99995023],\n",
       "        [-0.97963065, -0.67000806, -0.34270397, -0.5824971 ,\n",
       "          0.9984212 ]]], dtype=float32)"
      ]
     },
     "execution_count": 17,
     "metadata": {},
     "output_type": "execute_result"
    }
   ],
   "source": [
    "init = tf.global_variables_initializer()\n",
    "X_batch = np.array([\n",
    "    # t = 0    t = 1\n",
    "    [[0,1,2], [9,8,7]],  # instance 0\n",
    "    [[3,4,5], [0,0,0]],  # instance 1\n",
    "    [[6,7,8], [6,5,4]],  # instance 2\n",
    "    [[9,0,1], [3,2,1]],  # instance 3\n",
    "])\n",
    "\n",
    "sess = tf.InteractiveSession()\n",
    "init.run()\n",
    "outputs_val = outputs.eval(feed_dict={X: X_batch})\n",
    "sess.close()\n",
    "outputs_val"
   ]
  },
  {
   "cell_type": "markdown",
   "id": "binding-fifteen",
   "metadata": {},
   "source": [
    "#### Handling variable length input sequences"
   ]
  },
  {
   "cell_type": "code",
   "execution_count": 18,
   "id": "union-stanford",
   "metadata": {},
   "outputs": [
    {
     "name": "stdout",
     "output_type": "stream",
     "text": [
      "WARNING:tensorflow:From /home/phunc20/.virtualenvs/homl1e/lib/python3.7/site-packages/tensorflow/python/ops/rnn.py:626: to_int32 (from tensorflow.python.ops.math_ops) is deprecated and will be removed in a future version.\n",
      "Instructions for updating:\n",
      "Use tf.cast instead.\n"
     ]
    },
    {
     "data": {
      "text/plain": [
       "(<tf.Tensor 'rnn/transpose_1:0' shape=(?, 3, 5) dtype=float32>,\n",
       " <tf.Tensor 'rnn/while/Exit_3:0' shape=(?, 5) dtype=float32>)"
      ]
     },
     "execution_count": 18,
     "metadata": {},
     "output_type": "execute_result"
    }
   ],
   "source": [
    "n_inputs = 3 \n",
    "n_steps = 3\n",
    "n_neurons = 5\n",
    "tf.reset_default_graph()\n",
    "seq_length = tf.placeholder(tf.int32, [None])\n",
    "X = tf.placeholder(tf.float32, [None, n_steps, n_inputs])\n",
    "#X_seqs = tf.unstack(tf.transpose(X, perm=[1,0,2]))\n",
    "basic_cell = tf.contrib.rnn.BasicRNNCell(num_units=n_neurons)\n",
    "outputs, states = tf.nn.dynamic_rnn(basic_cell, X, dtype=tf.float32,\n",
    "                                    sequence_length=seq_length)\n",
    "outputs, states"
   ]
  },
  {
   "cell_type": "code",
   "execution_count": 19,
   "id": "tender-problem",
   "metadata": {},
   "outputs": [],
   "source": [
    "init = tf.global_variables_initializer()\n",
    "X_batch = np.array([\n",
    "    # t = 0    t = 1\n",
    "    [[0,1,2], [9,8,7], [0,0,0]],  # instance 0 (length 2, padded with 0's)\n",
    "    [[3,4,5], [0,0,0], [0,0,0]],  # instance 1 (length 1)\n",
    "    [[6,7,8], [6,5,4], [0,0,0]],  # instance 2 (length 3, the last happens to be 0's)\n",
    "    [[9,0,1], [3,2,1], [4,5,6]],  # instance 3 (length 3)\n",
    "])\n",
    "seq_length_batch = [2,1,3,3]"
   ]
  },
  {
   "cell_type": "code",
   "execution_count": 20,
   "id": "insured-burden",
   "metadata": {},
   "outputs": [
    {
     "data": {
      "text/plain": [
       "array([[[ 0.45970207,  0.5309875 ,  0.25191087, -0.29899323,\n",
       "          0.6064514 ],\n",
       "        [ 0.81458396,  0.95972246, -0.7108613 , -0.9919086 ,\n",
       "          0.7231157 ],\n",
       "        [ 0.        ,  0.        ,  0.        ,  0.        ,\n",
       "          0.        ]],\n",
       "\n",
       "       [[ 0.82482606,  0.90868115, -0.06679729, -0.8551859 ,\n",
       "          0.86663973],\n",
       "        [ 0.        ,  0.        ,  0.        ,  0.        ,\n",
       "          0.        ],\n",
       "        [ 0.        ,  0.        ,  0.        ,  0.        ,\n",
       "          0.        ]],\n",
       "\n",
       "       [[ 0.95141786,  0.9851668 , -0.37243372, -0.97767013,\n",
       "          0.9591799 ],\n",
       "        [ 0.25544474,  0.839287  , -0.12022333, -0.9667628 ,\n",
       "          0.23046581],\n",
       "        [-0.16154294, -0.49780732,  0.5405249 , -0.26665965,\n",
       "         -0.12828113]],\n",
       "\n",
       "       [[-0.99302036,  0.99774855, -0.99991006, -0.9985037 ,\n",
       "          0.49413767],\n",
       "        [-0.04516888, -0.48170552, -0.02056463, -0.522182  ,\n",
       "         -0.20978336],\n",
       "        [ 0.8796154 ,  0.958476  , -0.21074432, -0.9573855 ,\n",
       "          0.9144974 ]]], dtype=float32)"
      ]
     },
     "execution_count": 20,
     "metadata": {},
     "output_type": "execute_result"
    }
   ],
   "source": [
    "sess = tf.InteractiveSession()\n",
    "init.run()\n",
    "outputs_val, states_val = sess.run([outputs, states], feed_dict={X: X_batch, seq_length: seq_length_batch})\n",
    "sess.close()\n",
    "outputs_val"
   ]
  },
  {
   "cell_type": "code",
   "execution_count": 21,
   "id": "theoretical-organ",
   "metadata": {},
   "outputs": [
    {
     "data": {
      "text/plain": [
       "array([[ 0.81458396,  0.95972246, -0.7108613 , -0.9919086 ,  0.7231157 ],\n",
       "       [ 0.82482606,  0.90868115, -0.06679729, -0.8551859 ,  0.86663973],\n",
       "       [-0.16154294, -0.49780732,  0.5405249 , -0.26665965, -0.12828113],\n",
       "       [ 0.8796154 ,  0.958476  , -0.21074432, -0.9573855 ,  0.9144974 ]],\n",
       "      dtype=float32)"
      ]
     },
     "execution_count": 21,
     "metadata": {},
     "output_type": "execute_result"
    }
   ],
   "source": [
    "states_val"
   ]
  },
  {
   "cell_type": "markdown",
   "id": "straight-difference",
   "metadata": {},
   "source": [
    "Note that `states_val` records the last non-zero output from each instances."
   ]
  },
  {
   "cell_type": "code",
   "execution_count": null,
   "id": "medical-slide",
   "metadata": {},
   "outputs": [],
   "source": []
  }
 ],
 "metadata": {
  "kernelspec": {
   "display_name": "Python 3",
   "language": "python",
   "name": "python3"
  },
  "language_info": {
   "codemirror_mode": {
    "name": "ipython",
    "version": 3
   },
   "file_extension": ".py",
   "mimetype": "text/x-python",
   "name": "python",
   "nbconvert_exporter": "python",
   "pygments_lexer": "ipython3",
   "version": "3.7.8"
  }
 },
 "nbformat": 4,
 "nbformat_minor": 5
}
